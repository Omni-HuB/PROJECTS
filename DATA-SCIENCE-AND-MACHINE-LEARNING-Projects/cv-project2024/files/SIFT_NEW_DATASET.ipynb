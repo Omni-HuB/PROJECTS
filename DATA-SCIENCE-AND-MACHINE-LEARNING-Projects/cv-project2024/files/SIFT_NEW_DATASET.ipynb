{
  "cells": [
    {
      "cell_type": "code",
      "execution_count": null,
      "metadata": {
        "colab": {
          "base_uri": "https://localhost:8080/"
        },
        "id": "xnpxqIVkxhgy",
        "outputId": "1bf9c152-6d82-48c5-cc5a-e3ca6c1da8ec"
      },
      "outputs": [
        {
          "output_type": "stream",
          "name": "stdout",
          "text": [
            "Collecting wildlife-datasets\n",
            "  Downloading wildlife_datasets-1.0.3-py3-none-any.whl (43 kB)\n",
            "\u001b[?25l     \u001b[90m━━━━━━━━━━━━━━━━━━━━━━━━━━━━━━━━━━━━━━━━\u001b[0m \u001b[32m0.0/43.3 kB\u001b[0m \u001b[31m?\u001b[0m eta \u001b[36m-:--:--\u001b[0m\r\u001b[2K     \u001b[90m━━━━━━━━━━━━━━━━━━━━━━━━━━━━━━━━━━━━━━━━\u001b[0m \u001b[32m43.3/43.3 kB\u001b[0m \u001b[31m1.5 MB/s\u001b[0m eta \u001b[36m0:00:00\u001b[0m\n",
            "\u001b[?25hRequirement already satisfied: numpy>=1.19.4 in /usr/local/lib/python3.10/dist-packages (from wildlife-datasets) (1.25.2)\n",
            "Requirement already satisfied: pandas>=1.1.4 in /usr/local/lib/python3.10/dist-packages (from wildlife-datasets) (2.0.3)\n",
            "Requirement already satisfied: tqdm>=4.62.3 in /usr/local/lib/python3.10/dist-packages (from wildlife-datasets) (4.66.4)\n",
            "Requirement already satisfied: opencv-python>=4.5.5.62 in /usr/local/lib/python3.10/dist-packages (from wildlife-datasets) (4.8.0.76)\n",
            "Requirement already satisfied: Pillow>=7.1.2 in /usr/local/lib/python3.10/dist-packages (from wildlife-datasets) (9.4.0)\n",
            "Requirement already satisfied: scikit-learn>=1.0.1 in /usr/local/lib/python3.10/dist-packages (from wildlife-datasets) (1.2.2)\n",
            "Requirement already satisfied: matplotlib>=3.5.1 in /usr/local/lib/python3.10/dist-packages (from wildlife-datasets) (3.7.1)\n",
            "Requirement already satisfied: gdown in /usr/local/lib/python3.10/dist-packages (from wildlife-datasets) (5.1.0)\n",
            "Requirement already satisfied: kaggle in /usr/local/lib/python3.10/dist-packages (from wildlife-datasets) (1.6.12)\n",
            "Requirement already satisfied: contourpy>=1.0.1 in /usr/local/lib/python3.10/dist-packages (from matplotlib>=3.5.1->wildlife-datasets) (1.2.1)\n",
            "Requirement already satisfied: cycler>=0.10 in /usr/local/lib/python3.10/dist-packages (from matplotlib>=3.5.1->wildlife-datasets) (0.12.1)\n",
            "Requirement already satisfied: fonttools>=4.22.0 in /usr/local/lib/python3.10/dist-packages (from matplotlib>=3.5.1->wildlife-datasets) (4.51.0)\n",
            "Requirement already satisfied: kiwisolver>=1.0.1 in /usr/local/lib/python3.10/dist-packages (from matplotlib>=3.5.1->wildlife-datasets) (1.4.5)\n",
            "Requirement already satisfied: packaging>=20.0 in /usr/local/lib/python3.10/dist-packages (from matplotlib>=3.5.1->wildlife-datasets) (24.0)\n",
            "Requirement already satisfied: pyparsing>=2.3.1 in /usr/local/lib/python3.10/dist-packages (from matplotlib>=3.5.1->wildlife-datasets) (3.1.2)\n",
            "Requirement already satisfied: python-dateutil>=2.7 in /usr/local/lib/python3.10/dist-packages (from matplotlib>=3.5.1->wildlife-datasets) (2.8.2)\n",
            "Requirement already satisfied: pytz>=2020.1 in /usr/local/lib/python3.10/dist-packages (from pandas>=1.1.4->wildlife-datasets) (2023.4)\n",
            "Requirement already satisfied: tzdata>=2022.1 in /usr/local/lib/python3.10/dist-packages (from pandas>=1.1.4->wildlife-datasets) (2024.1)\n",
            "Requirement already satisfied: scipy>=1.3.2 in /usr/local/lib/python3.10/dist-packages (from scikit-learn>=1.0.1->wildlife-datasets) (1.11.4)\n",
            "Requirement already satisfied: joblib>=1.1.1 in /usr/local/lib/python3.10/dist-packages (from scikit-learn>=1.0.1->wildlife-datasets) (1.4.2)\n",
            "Requirement already satisfied: threadpoolctl>=2.0.0 in /usr/local/lib/python3.10/dist-packages (from scikit-learn>=1.0.1->wildlife-datasets) (3.5.0)\n",
            "Requirement already satisfied: beautifulsoup4 in /usr/local/lib/python3.10/dist-packages (from gdown->wildlife-datasets) (4.12.3)\n",
            "Requirement already satisfied: filelock in /usr/local/lib/python3.10/dist-packages (from gdown->wildlife-datasets) (3.14.0)\n",
            "Requirement already satisfied: requests[socks] in /usr/local/lib/python3.10/dist-packages (from gdown->wildlife-datasets) (2.31.0)\n",
            "Requirement already satisfied: six>=1.10 in /usr/local/lib/python3.10/dist-packages (from kaggle->wildlife-datasets) (1.16.0)\n",
            "Requirement already satisfied: certifi>=2023.7.22 in /usr/local/lib/python3.10/dist-packages (from kaggle->wildlife-datasets) (2024.2.2)\n",
            "Requirement already satisfied: python-slugify in /usr/local/lib/python3.10/dist-packages (from kaggle->wildlife-datasets) (8.0.4)\n",
            "Requirement already satisfied: urllib3 in /usr/local/lib/python3.10/dist-packages (from kaggle->wildlife-datasets) (2.0.7)\n",
            "Requirement already satisfied: bleach in /usr/local/lib/python3.10/dist-packages (from kaggle->wildlife-datasets) (6.1.0)\n",
            "Requirement already satisfied: soupsieve>1.2 in /usr/local/lib/python3.10/dist-packages (from beautifulsoup4->gdown->wildlife-datasets) (2.5)\n",
            "Requirement already satisfied: webencodings in /usr/local/lib/python3.10/dist-packages (from bleach->kaggle->wildlife-datasets) (0.5.1)\n",
            "Requirement already satisfied: text-unidecode>=1.3 in /usr/local/lib/python3.10/dist-packages (from python-slugify->kaggle->wildlife-datasets) (1.3)\n",
            "Requirement already satisfied: charset-normalizer<4,>=2 in /usr/local/lib/python3.10/dist-packages (from requests[socks]->gdown->wildlife-datasets) (3.3.2)\n",
            "Requirement already satisfied: idna<4,>=2.5 in /usr/local/lib/python3.10/dist-packages (from requests[socks]->gdown->wildlife-datasets) (3.7)\n",
            "Requirement already satisfied: PySocks!=1.5.7,>=1.5.6 in /usr/local/lib/python3.10/dist-packages (from requests[socks]->gdown->wildlife-datasets) (1.7.1)\n",
            "Installing collected packages: wildlife-datasets\n",
            "Successfully installed wildlife-datasets-1.0.3\n"
          ]
        }
      ],
      "source": [
        "pip install wildlife-datasets"
      ]
    },
    {
      "cell_type": "code",
      "source": [
        "pip install wildlife-tools"
      ],
      "metadata": {
        "colab": {
          "base_uri": "https://localhost:8080/"
        },
        "id": "ymOorYH2XpQB",
        "outputId": "6a4961d0-db2f-4fff-af26-483afcee9971"
      },
      "execution_count": null,
      "outputs": [
        {
          "output_type": "stream",
          "name": "stdout",
          "text": [
            "Collecting wildlife-tools\n",
            "  Downloading wildlife_tools-0.0.9-py3-none-any.whl (25 kB)\n",
            "Requirement already satisfied: torch>=2.0.1 in /usr/local/lib/python3.10/dist-packages (from wildlife-tools) (2.2.1+cu121)\n",
            "Collecting timm>=0.9.2 (from wildlife-tools)\n",
            "  Downloading timm-0.9.16-py3-none-any.whl (2.2 MB)\n",
            "\u001b[2K     \u001b[90m━━━━━━━━━━━━━━━━━━━━━━━━━━━━━━━━━━━━━━━━\u001b[0m \u001b[32m2.2/2.2 MB\u001b[0m \u001b[31m9.5 MB/s\u001b[0m eta \u001b[36m0:00:00\u001b[0m\n",
            "\u001b[?25hRequirement already satisfied: numpy>=1.19.4 in /usr/local/lib/python3.10/dist-packages (from wildlife-tools) (1.25.2)\n",
            "Requirement already satisfied: pandas>=1.1.4 in /usr/local/lib/python3.10/dist-packages (from wildlife-tools) (2.0.3)\n",
            "Requirement already satisfied: tqdm>=4.62.3 in /usr/local/lib/python3.10/dist-packages (from wildlife-tools) (4.66.4)\n",
            "Requirement already satisfied: opencv-python>=4.5.5.62 in /usr/local/lib/python3.10/dist-packages (from wildlife-tools) (4.8.0.76)\n",
            "Requirement already satisfied: Pillow>=7.1.2 in /usr/local/lib/python3.10/dist-packages (from wildlife-tools) (9.4.0)\n",
            "Requirement already satisfied: scikit-learn>=1.0.1 in /usr/local/lib/python3.10/dist-packages (from wildlife-tools) (1.2.2)\n",
            "Requirement already satisfied: pycocotools in /usr/local/lib/python3.10/dist-packages (from wildlife-tools) (2.0.7)\n",
            "Requirement already satisfied: tensorboard in /usr/local/lib/python3.10/dist-packages (from wildlife-tools) (2.15.2)\n",
            "Collecting pytorch-metric-learning (from wildlife-tools)\n",
            "  Downloading pytorch_metric_learning-2.5.0-py3-none-any.whl (119 kB)\n",
            "\u001b[2K     \u001b[90m━━━━━━━━━━━━━━━━━━━━━━━━━━━━━━━━━━━━━━━━\u001b[0m \u001b[32m119.1/119.1 kB\u001b[0m \u001b[31m14.5 MB/s\u001b[0m eta \u001b[36m0:00:00\u001b[0m\n",
            "\u001b[?25hRequirement already satisfied: transformers>=4.30.2 in /usr/local/lib/python3.10/dist-packages (from wildlife-tools) (4.40.2)\n",
            "Requirement already satisfied: wildlife-datasets>=0.3.4 in /usr/local/lib/python3.10/dist-packages (from wildlife-tools) (1.0.3)\n",
            "Collecting kornia>=0.6.12 (from wildlife-tools)\n",
            "  Downloading kornia-0.7.2-py2.py3-none-any.whl (825 kB)\n",
            "\u001b[2K     \u001b[90m━━━━━━━━━━━━━━━━━━━━━━━━━━━━━━━━━━━━━━━━\u001b[0m \u001b[32m825.4/825.4 kB\u001b[0m \u001b[31m14.0 MB/s\u001b[0m eta \u001b[36m0:00:00\u001b[0m\n",
            "\u001b[?25hCollecting faiss-gpu (from wildlife-tools)\n",
            "  Downloading faiss_gpu-1.7.2-cp310-cp310-manylinux_2_17_x86_64.manylinux2014_x86_64.whl (85.5 MB)\n",
            "\u001b[2K     \u001b[90m━━━━━━━━━━━━━━━━━━━━━━━━━━━━━━━━━━━━━━━━\u001b[0m \u001b[32m85.5/85.5 MB\u001b[0m \u001b[31m6.4 MB/s\u001b[0m eta \u001b[36m0:00:00\u001b[0m\n",
            "\u001b[?25hCollecting kornia-rs>=0.1.0 (from kornia>=0.6.12->wildlife-tools)\n",
            "  Downloading kornia_rs-0.1.3-cp310-cp310-manylinux_2_17_x86_64.manylinux2014_x86_64.whl (2.4 MB)\n",
            "\u001b[2K     \u001b[90m━━━━━━━━━━━━━━━━━━━━━━━━━━━━━━━━━━━━━━━━\u001b[0m \u001b[32m2.4/2.4 MB\u001b[0m \u001b[31m48.3 MB/s\u001b[0m eta \u001b[36m0:00:00\u001b[0m\n",
            "\u001b[?25hRequirement already satisfied: packaging in /usr/local/lib/python3.10/dist-packages (from kornia>=0.6.12->wildlife-tools) (24.0)\n",
            "Requirement already satisfied: python-dateutil>=2.8.2 in /usr/local/lib/python3.10/dist-packages (from pandas>=1.1.4->wildlife-tools) (2.8.2)\n",
            "Requirement already satisfied: pytz>=2020.1 in /usr/local/lib/python3.10/dist-packages (from pandas>=1.1.4->wildlife-tools) (2023.4)\n",
            "Requirement already satisfied: tzdata>=2022.1 in /usr/local/lib/python3.10/dist-packages (from pandas>=1.1.4->wildlife-tools) (2024.1)\n",
            "Requirement already satisfied: scipy>=1.3.2 in /usr/local/lib/python3.10/dist-packages (from scikit-learn>=1.0.1->wildlife-tools) (1.11.4)\n",
            "Requirement already satisfied: joblib>=1.1.1 in /usr/local/lib/python3.10/dist-packages (from scikit-learn>=1.0.1->wildlife-tools) (1.4.2)\n",
            "Requirement already satisfied: threadpoolctl>=2.0.0 in /usr/local/lib/python3.10/dist-packages (from scikit-learn>=1.0.1->wildlife-tools) (3.5.0)\n",
            "Requirement already satisfied: torchvision in /usr/local/lib/python3.10/dist-packages (from timm>=0.9.2->wildlife-tools) (0.17.1+cu121)\n",
            "Requirement already satisfied: pyyaml in /usr/local/lib/python3.10/dist-packages (from timm>=0.9.2->wildlife-tools) (6.0.1)\n",
            "Requirement already satisfied: huggingface_hub in /usr/local/lib/python3.10/dist-packages (from timm>=0.9.2->wildlife-tools) (0.20.3)\n",
            "Requirement already satisfied: safetensors in /usr/local/lib/python3.10/dist-packages (from timm>=0.9.2->wildlife-tools) (0.4.3)\n",
            "Requirement already satisfied: filelock in /usr/local/lib/python3.10/dist-packages (from torch>=2.0.1->wildlife-tools) (3.14.0)\n",
            "Requirement already satisfied: typing-extensions>=4.8.0 in /usr/local/lib/python3.10/dist-packages (from torch>=2.0.1->wildlife-tools) (4.11.0)\n",
            "Requirement already satisfied: sympy in /usr/local/lib/python3.10/dist-packages (from torch>=2.0.1->wildlife-tools) (1.12)\n",
            "Requirement already satisfied: networkx in /usr/local/lib/python3.10/dist-packages (from torch>=2.0.1->wildlife-tools) (3.3)\n",
            "Requirement already satisfied: jinja2 in /usr/local/lib/python3.10/dist-packages (from torch>=2.0.1->wildlife-tools) (3.1.4)\n",
            "Requirement already satisfied: fsspec in /usr/local/lib/python3.10/dist-packages (from torch>=2.0.1->wildlife-tools) (2023.6.0)\n",
            "Collecting nvidia-cuda-nvrtc-cu12==12.1.105 (from torch>=2.0.1->wildlife-tools)\n",
            "  Using cached nvidia_cuda_nvrtc_cu12-12.1.105-py3-none-manylinux1_x86_64.whl (23.7 MB)\n",
            "Collecting nvidia-cuda-runtime-cu12==12.1.105 (from torch>=2.0.1->wildlife-tools)\n",
            "  Using cached nvidia_cuda_runtime_cu12-12.1.105-py3-none-manylinux1_x86_64.whl (823 kB)\n",
            "Collecting nvidia-cuda-cupti-cu12==12.1.105 (from torch>=2.0.1->wildlife-tools)\n",
            "  Using cached nvidia_cuda_cupti_cu12-12.1.105-py3-none-manylinux1_x86_64.whl (14.1 MB)\n",
            "Collecting nvidia-cudnn-cu12==8.9.2.26 (from torch>=2.0.1->wildlife-tools)\n",
            "  Using cached nvidia_cudnn_cu12-8.9.2.26-py3-none-manylinux1_x86_64.whl (731.7 MB)\n",
            "Collecting nvidia-cublas-cu12==12.1.3.1 (from torch>=2.0.1->wildlife-tools)\n",
            "  Using cached nvidia_cublas_cu12-12.1.3.1-py3-none-manylinux1_x86_64.whl (410.6 MB)\n",
            "Collecting nvidia-cufft-cu12==11.0.2.54 (from torch>=2.0.1->wildlife-tools)\n",
            "  Using cached nvidia_cufft_cu12-11.0.2.54-py3-none-manylinux1_x86_64.whl (121.6 MB)\n",
            "Collecting nvidia-curand-cu12==10.3.2.106 (from torch>=2.0.1->wildlife-tools)\n",
            "  Using cached nvidia_curand_cu12-10.3.2.106-py3-none-manylinux1_x86_64.whl (56.5 MB)\n",
            "Collecting nvidia-cusolver-cu12==11.4.5.107 (from torch>=2.0.1->wildlife-tools)\n",
            "  Using cached nvidia_cusolver_cu12-11.4.5.107-py3-none-manylinux1_x86_64.whl (124.2 MB)\n",
            "Collecting nvidia-cusparse-cu12==12.1.0.106 (from torch>=2.0.1->wildlife-tools)\n",
            "  Using cached nvidia_cusparse_cu12-12.1.0.106-py3-none-manylinux1_x86_64.whl (196.0 MB)\n",
            "Collecting nvidia-nccl-cu12==2.19.3 (from torch>=2.0.1->wildlife-tools)\n",
            "  Using cached nvidia_nccl_cu12-2.19.3-py3-none-manylinux1_x86_64.whl (166.0 MB)\n",
            "Collecting nvidia-nvtx-cu12==12.1.105 (from torch>=2.0.1->wildlife-tools)\n",
            "  Using cached nvidia_nvtx_cu12-12.1.105-py3-none-manylinux1_x86_64.whl (99 kB)\n",
            "Requirement already satisfied: triton==2.2.0 in /usr/local/lib/python3.10/dist-packages (from torch>=2.0.1->wildlife-tools) (2.2.0)\n",
            "Collecting nvidia-nvjitlink-cu12 (from nvidia-cusolver-cu12==11.4.5.107->torch>=2.0.1->wildlife-tools)\n",
            "  Using cached nvidia_nvjitlink_cu12-12.4.127-py3-none-manylinux2014_x86_64.whl (21.1 MB)\n",
            "Requirement already satisfied: regex!=2019.12.17 in /usr/local/lib/python3.10/dist-packages (from transformers>=4.30.2->wildlife-tools) (2023.12.25)\n",
            "Requirement already satisfied: requests in /usr/local/lib/python3.10/dist-packages (from transformers>=4.30.2->wildlife-tools) (2.31.0)\n",
            "Requirement already satisfied: tokenizers<0.20,>=0.19 in /usr/local/lib/python3.10/dist-packages (from transformers>=4.30.2->wildlife-tools) (0.19.1)\n",
            "Requirement already satisfied: matplotlib>=3.5.1 in /usr/local/lib/python3.10/dist-packages (from wildlife-datasets>=0.3.4->wildlife-tools) (3.7.1)\n",
            "Requirement already satisfied: gdown in /usr/local/lib/python3.10/dist-packages (from wildlife-datasets>=0.3.4->wildlife-tools) (5.1.0)\n",
            "Requirement already satisfied: kaggle in /usr/local/lib/python3.10/dist-packages (from wildlife-datasets>=0.3.4->wildlife-tools) (1.6.12)\n",
            "Requirement already satisfied: absl-py>=0.4 in /usr/local/lib/python3.10/dist-packages (from tensorboard->wildlife-tools) (1.4.0)\n",
            "Requirement already satisfied: grpcio>=1.48.2 in /usr/local/lib/python3.10/dist-packages (from tensorboard->wildlife-tools) (1.63.0)\n",
            "Requirement already satisfied: google-auth<3,>=1.6.3 in /usr/local/lib/python3.10/dist-packages (from tensorboard->wildlife-tools) (2.27.0)\n",
            "Requirement already satisfied: google-auth-oauthlib<2,>=0.5 in /usr/local/lib/python3.10/dist-packages (from tensorboard->wildlife-tools) (1.2.0)\n",
            "Requirement already satisfied: markdown>=2.6.8 in /usr/local/lib/python3.10/dist-packages (from tensorboard->wildlife-tools) (3.6)\n",
            "Requirement already satisfied: protobuf!=4.24.0,>=3.19.6 in /usr/local/lib/python3.10/dist-packages (from tensorboard->wildlife-tools) (3.20.3)\n",
            "Requirement already satisfied: setuptools>=41.0.0 in /usr/local/lib/python3.10/dist-packages (from tensorboard->wildlife-tools) (67.7.2)\n",
            "Requirement already satisfied: six>1.9 in /usr/local/lib/python3.10/dist-packages (from tensorboard->wildlife-tools) (1.16.0)\n",
            "Requirement already satisfied: tensorboard-data-server<0.8.0,>=0.7.0 in /usr/local/lib/python3.10/dist-packages (from tensorboard->wildlife-tools) (0.7.2)\n",
            "Requirement already satisfied: werkzeug>=1.0.1 in /usr/local/lib/python3.10/dist-packages (from tensorboard->wildlife-tools) (3.0.3)\n",
            "Requirement already satisfied: cachetools<6.0,>=2.0.0 in /usr/local/lib/python3.10/dist-packages (from google-auth<3,>=1.6.3->tensorboard->wildlife-tools) (5.3.3)\n",
            "Requirement already satisfied: pyasn1-modules>=0.2.1 in /usr/local/lib/python3.10/dist-packages (from google-auth<3,>=1.6.3->tensorboard->wildlife-tools) (0.4.0)\n",
            "Requirement already satisfied: rsa<5,>=3.1.4 in /usr/local/lib/python3.10/dist-packages (from google-auth<3,>=1.6.3->tensorboard->wildlife-tools) (4.9)\n",
            "Requirement already satisfied: requests-oauthlib>=0.7.0 in /usr/local/lib/python3.10/dist-packages (from google-auth-oauthlib<2,>=0.5->tensorboard->wildlife-tools) (1.3.1)\n",
            "Requirement already satisfied: contourpy>=1.0.1 in /usr/local/lib/python3.10/dist-packages (from matplotlib>=3.5.1->wildlife-datasets>=0.3.4->wildlife-tools) (1.2.1)\n",
            "Requirement already satisfied: cycler>=0.10 in /usr/local/lib/python3.10/dist-packages (from matplotlib>=3.5.1->wildlife-datasets>=0.3.4->wildlife-tools) (0.12.1)\n",
            "Requirement already satisfied: fonttools>=4.22.0 in /usr/local/lib/python3.10/dist-packages (from matplotlib>=3.5.1->wildlife-datasets>=0.3.4->wildlife-tools) (4.51.0)\n",
            "Requirement already satisfied: kiwisolver>=1.0.1 in /usr/local/lib/python3.10/dist-packages (from matplotlib>=3.5.1->wildlife-datasets>=0.3.4->wildlife-tools) (1.4.5)\n",
            "Requirement already satisfied: pyparsing>=2.3.1 in /usr/local/lib/python3.10/dist-packages (from matplotlib>=3.5.1->wildlife-datasets>=0.3.4->wildlife-tools) (3.1.2)\n",
            "Requirement already satisfied: charset-normalizer<4,>=2 in /usr/local/lib/python3.10/dist-packages (from requests->transformers>=4.30.2->wildlife-tools) (3.3.2)\n",
            "Requirement already satisfied: idna<4,>=2.5 in /usr/local/lib/python3.10/dist-packages (from requests->transformers>=4.30.2->wildlife-tools) (3.7)\n",
            "Requirement already satisfied: urllib3<3,>=1.21.1 in /usr/local/lib/python3.10/dist-packages (from requests->transformers>=4.30.2->wildlife-tools) (2.0.7)\n",
            "Requirement already satisfied: certifi>=2017.4.17 in /usr/local/lib/python3.10/dist-packages (from requests->transformers>=4.30.2->wildlife-tools) (2024.2.2)\n",
            "Requirement already satisfied: MarkupSafe>=2.1.1 in /usr/local/lib/python3.10/dist-packages (from werkzeug>=1.0.1->tensorboard->wildlife-tools) (2.1.5)\n",
            "Requirement already satisfied: beautifulsoup4 in /usr/local/lib/python3.10/dist-packages (from gdown->wildlife-datasets>=0.3.4->wildlife-tools) (4.12.3)\n",
            "Requirement already satisfied: python-slugify in /usr/local/lib/python3.10/dist-packages (from kaggle->wildlife-datasets>=0.3.4->wildlife-tools) (8.0.4)\n",
            "Requirement already satisfied: bleach in /usr/local/lib/python3.10/dist-packages (from kaggle->wildlife-datasets>=0.3.4->wildlife-tools) (6.1.0)\n",
            "Requirement already satisfied: mpmath>=0.19 in /usr/local/lib/python3.10/dist-packages (from sympy->torch>=2.0.1->wildlife-tools) (1.3.0)\n",
            "Requirement already satisfied: pyasn1<0.7.0,>=0.4.6 in /usr/local/lib/python3.10/dist-packages (from pyasn1-modules>=0.2.1->google-auth<3,>=1.6.3->tensorboard->wildlife-tools) (0.6.0)\n",
            "Requirement already satisfied: oauthlib>=3.0.0 in /usr/local/lib/python3.10/dist-packages (from requests-oauthlib>=0.7.0->google-auth-oauthlib<2,>=0.5->tensorboard->wildlife-tools) (3.2.2)\n",
            "Requirement already satisfied: soupsieve>1.2 in /usr/local/lib/python3.10/dist-packages (from beautifulsoup4->gdown->wildlife-datasets>=0.3.4->wildlife-tools) (2.5)\n",
            "Requirement already satisfied: webencodings in /usr/local/lib/python3.10/dist-packages (from bleach->kaggle->wildlife-datasets>=0.3.4->wildlife-tools) (0.5.1)\n",
            "Requirement already satisfied: text-unidecode>=1.3 in /usr/local/lib/python3.10/dist-packages (from python-slugify->kaggle->wildlife-datasets>=0.3.4->wildlife-tools) (1.3)\n",
            "Requirement already satisfied: PySocks!=1.5.7,>=1.5.6 in /usr/local/lib/python3.10/dist-packages (from requests->transformers>=4.30.2->wildlife-tools) (1.7.1)\n",
            "Installing collected packages: faiss-gpu, nvidia-nvtx-cu12, nvidia-nvjitlink-cu12, nvidia-nccl-cu12, nvidia-curand-cu12, nvidia-cufft-cu12, nvidia-cuda-runtime-cu12, nvidia-cuda-nvrtc-cu12, nvidia-cuda-cupti-cu12, nvidia-cublas-cu12, kornia-rs, nvidia-cusparse-cu12, nvidia-cudnn-cu12, nvidia-cusolver-cu12, pytorch-metric-learning, kornia, timm, wildlife-tools\n",
            "Successfully installed faiss-gpu-1.7.2 kornia-0.7.2 kornia-rs-0.1.3 nvidia-cublas-cu12-12.1.3.1 nvidia-cuda-cupti-cu12-12.1.105 nvidia-cuda-nvrtc-cu12-12.1.105 nvidia-cuda-runtime-cu12-12.1.105 nvidia-cudnn-cu12-8.9.2.26 nvidia-cufft-cu12-11.0.2.54 nvidia-curand-cu12-10.3.2.106 nvidia-cusolver-cu12-11.4.5.107 nvidia-cusparse-cu12-12.1.0.106 nvidia-nccl-cu12-2.19.3 nvidia-nvjitlink-cu12-12.4.127 nvidia-nvtx-cu12-12.1.105 pytorch-metric-learning-2.5.0 timm-0.9.16 wildlife-tools-0.0.9\n"
          ]
        }
      ]
    },
    {
      "cell_type": "code",
      "source": [
        "pip install timm"
      ],
      "metadata": {
        "colab": {
          "base_uri": "https://localhost:8080/"
        },
        "id": "OfItgSzpR435",
        "outputId": "eacfebcc-f708-484b-a0ad-6e2208c9f881"
      },
      "execution_count": null,
      "outputs": [
        {
          "output_type": "stream",
          "name": "stdout",
          "text": [
            "Requirement already satisfied: timm in /usr/local/lib/python3.10/dist-packages (0.9.16)\n",
            "Requirement already satisfied: torch in /usr/local/lib/python3.10/dist-packages (from timm) (2.2.1+cu121)\n",
            "Requirement already satisfied: torchvision in /usr/local/lib/python3.10/dist-packages (from timm) (0.17.1+cu121)\n",
            "Requirement already satisfied: pyyaml in /usr/local/lib/python3.10/dist-packages (from timm) (6.0.1)\n",
            "Requirement already satisfied: huggingface_hub in /usr/local/lib/python3.10/dist-packages (from timm) (0.20.3)\n",
            "Requirement already satisfied: safetensors in /usr/local/lib/python3.10/dist-packages (from timm) (0.4.3)\n",
            "Requirement already satisfied: filelock in /usr/local/lib/python3.10/dist-packages (from huggingface_hub->timm) (3.14.0)\n",
            "Requirement already satisfied: fsspec>=2023.5.0 in /usr/local/lib/python3.10/dist-packages (from huggingface_hub->timm) (2023.6.0)\n",
            "Requirement already satisfied: requests in /usr/local/lib/python3.10/dist-packages (from huggingface_hub->timm) (2.31.0)\n",
            "Requirement already satisfied: tqdm>=4.42.1 in /usr/local/lib/python3.10/dist-packages (from huggingface_hub->timm) (4.66.4)\n",
            "Requirement already satisfied: typing-extensions>=3.7.4.3 in /usr/local/lib/python3.10/dist-packages (from huggingface_hub->timm) (4.11.0)\n",
            "Requirement already satisfied: packaging>=20.9 in /usr/local/lib/python3.10/dist-packages (from huggingface_hub->timm) (24.0)\n",
            "Requirement already satisfied: sympy in /usr/local/lib/python3.10/dist-packages (from torch->timm) (1.12)\n",
            "Requirement already satisfied: networkx in /usr/local/lib/python3.10/dist-packages (from torch->timm) (3.3)\n",
            "Requirement already satisfied: jinja2 in /usr/local/lib/python3.10/dist-packages (from torch->timm) (3.1.4)\n",
            "Requirement already satisfied: nvidia-cuda-nvrtc-cu12==12.1.105 in /usr/local/lib/python3.10/dist-packages (from torch->timm) (12.1.105)\n",
            "Requirement already satisfied: nvidia-cuda-runtime-cu12==12.1.105 in /usr/local/lib/python3.10/dist-packages (from torch->timm) (12.1.105)\n",
            "Requirement already satisfied: nvidia-cuda-cupti-cu12==12.1.105 in /usr/local/lib/python3.10/dist-packages (from torch->timm) (12.1.105)\n",
            "Requirement already satisfied: nvidia-cudnn-cu12==8.9.2.26 in /usr/local/lib/python3.10/dist-packages (from torch->timm) (8.9.2.26)\n",
            "Requirement already satisfied: nvidia-cublas-cu12==12.1.3.1 in /usr/local/lib/python3.10/dist-packages (from torch->timm) (12.1.3.1)\n",
            "Requirement already satisfied: nvidia-cufft-cu12==11.0.2.54 in /usr/local/lib/python3.10/dist-packages (from torch->timm) (11.0.2.54)\n",
            "Requirement already satisfied: nvidia-curand-cu12==10.3.2.106 in /usr/local/lib/python3.10/dist-packages (from torch->timm) (10.3.2.106)\n",
            "Requirement already satisfied: nvidia-cusolver-cu12==11.4.5.107 in /usr/local/lib/python3.10/dist-packages (from torch->timm) (11.4.5.107)\n",
            "Requirement already satisfied: nvidia-cusparse-cu12==12.1.0.106 in /usr/local/lib/python3.10/dist-packages (from torch->timm) (12.1.0.106)\n",
            "Requirement already satisfied: nvidia-nccl-cu12==2.19.3 in /usr/local/lib/python3.10/dist-packages (from torch->timm) (2.19.3)\n",
            "Requirement already satisfied: nvidia-nvtx-cu12==12.1.105 in /usr/local/lib/python3.10/dist-packages (from torch->timm) (12.1.105)\n",
            "Requirement already satisfied: triton==2.2.0 in /usr/local/lib/python3.10/dist-packages (from torch->timm) (2.2.0)\n",
            "Requirement already satisfied: nvidia-nvjitlink-cu12 in /usr/local/lib/python3.10/dist-packages (from nvidia-cusolver-cu12==11.4.5.107->torch->timm) (12.4.127)\n",
            "Requirement already satisfied: numpy in /usr/local/lib/python3.10/dist-packages (from torchvision->timm) (1.25.2)\n",
            "Requirement already satisfied: pillow!=8.3.*,>=5.3.0 in /usr/local/lib/python3.10/dist-packages (from torchvision->timm) (9.4.0)\n",
            "Requirement already satisfied: MarkupSafe>=2.0 in /usr/local/lib/python3.10/dist-packages (from jinja2->torch->timm) (2.1.5)\n",
            "Requirement already satisfied: charset-normalizer<4,>=2 in /usr/local/lib/python3.10/dist-packages (from requests->huggingface_hub->timm) (3.3.2)\n",
            "Requirement already satisfied: idna<4,>=2.5 in /usr/local/lib/python3.10/dist-packages (from requests->huggingface_hub->timm) (3.7)\n",
            "Requirement already satisfied: urllib3<3,>=1.21.1 in /usr/local/lib/python3.10/dist-packages (from requests->huggingface_hub->timm) (2.0.7)\n",
            "Requirement already satisfied: certifi>=2017.4.17 in /usr/local/lib/python3.10/dist-packages (from requests->huggingface_hub->timm) (2024.2.2)\n",
            "Requirement already satisfied: mpmath>=0.19 in /usr/local/lib/python3.10/dist-packages (from sympy->torch->timm) (1.3.0)\n"
          ]
        }
      ]
    },
    {
      "cell_type": "markdown",
      "source": [
        "**Importing Wildlife data set and Wildlife tools**\n",
        "\n"
      ],
      "metadata": {
        "id": "gPGd4yapYVsT"
      }
    },
    {
      "cell_type": "code",
      "source": [
        "import timm\n",
        "import numpy as np\n",
        "from wildlife_datasets.datasets import MacaqueFaces\n",
        "from wildlife_tools.data import WildlifeDataset\n",
        "import torchvision.transforms as T\n",
        "from wildlife_datasets import datasets, splits\n",
        "from wildlife_tools.features import DeepFeatures\n",
        "from wildlife_tools.similarity import CosineSimilarity\n",
        "from wildlife_tools.inference import KnnClassifier\n",
        "from sklearn.metrics import precision_score, recall_score, f1_score"
      ],
      "metadata": {
        "id": "8XfftqyQWm58"
      },
      "execution_count": null,
      "outputs": []
    },
    {
      "cell_type": "markdown",
      "source": [
        "**Same Data set use for Fine tuning**"
      ],
      "metadata": {
        "id": "fjifj0p4D3zQ"
      }
    },
    {
      "cell_type": "markdown",
      "source": [
        "**MacaqueFaces Dataset**"
      ],
      "metadata": {
        "id": "mM_PNdZtZycu"
      }
    },
    {
      "cell_type": "code",
      "source": [
        "# Download dataset (if not already downloaded)\n",
        "datasets.MacaqueFaces.get_data('../data/MacaqueFaces')\n",
        "\n",
        "# Load dataset metadata\n",
        "metadata_MacaqueFaces = datasets.MacaqueFaces('../data/MacaqueFaces')\n",
        "transform = T.Compose([T.Resize([224, 224]), T.ToTensor(), T.Normalize(mean=(0.485, 0.456, 0.406), std=(0.229, 0.224, 0.225))])\n",
        "dataset_MacaqueFaces = WildlifeDataset(metadata_MacaqueFaces.df, metadata_MacaqueFaces.root, transform=transform)"
      ],
      "metadata": {
        "colab": {
          "base_uri": "https://localhost:8080/"
        },
        "id": "P7TwSvfxYmWg",
        "outputId": "0ecc62e3-ffd3-4d0f-8d58-91f27cbf6c61"
      },
      "execution_count": null,
      "outputs": [
        {
          "output_type": "stream",
          "name": "stdout",
          "text": [
            "DATASET MacaqueFaces: DOWNLOADING STARTED.\n",
            "You are trying to download an already downloaded dataset.\n",
            "        This message may have happened to due interrupted download or extract.\n",
            "        To force the download use the `force=True` keyword such as\n",
            "        get_data(..., force=True) or download(..., force=True).\n",
            "        \n"
          ]
        }
      ]
    },
    {
      "cell_type": "code",
      "execution_count": null,
      "metadata": {
        "id": "RGS3aZZKx7gt"
      },
      "outputs": [],
      "source": [
        "dataset_database_MacaqueFaces = WildlifeDataset(metadata_MacaqueFaces.df.iloc[100:,:], metadata_MacaqueFaces.root, transform=transform)\n",
        "dataset_query_MacaqueFaces = WildlifeDataset(metadata_MacaqueFaces.df.iloc[:100,:], metadata_MacaqueFaces.root, transform=transform)"
      ]
    },
    {
      "cell_type": "markdown",
      "source": [
        "**Importing the pretrain Model**"
      ],
      "metadata": {
        "id": "0DwHb3asXy0c"
      }
    },
    {
      "cell_type": "code",
      "source": [
        "name = 'hf-hub:BVRA/MegaDescriptor-T-224'\n",
        "extractor_MacaqueFaces = DeepFeatures(timm.create_model(name, num_classes=0, pretrained=True))\n",
        "query_MacaqueFaces, database_MacaqueFaces = extractor_MacaqueFaces(dataset_query_MacaqueFaces), extractor_MacaqueFaces(dataset_database_MacaqueFaces)"
      ],
      "metadata": {
        "colab": {
          "base_uri": "https://localhost:8080/",
          "height": 275,
          "referenced_widgets": [
            "7bb4d1c6b7904e9cbf50f5ebbae81147",
            "060a237164cd4212815ba4a1ab8a1957",
            "e7439600dec34a8292734b2b9defd8ba",
            "b62cf52205ee440cb1b720b3ca850e74",
            "c302ae2cff1b434c8b4a37210bc4867e",
            "dd484c5723864cc6ac84cd5bb7de82a2",
            "05b00a44abf54494bcc0133b15c6c14e",
            "1758726103354555afeb83a7ac7380a7",
            "a481ae0617694f7c9b2b95830ada18bf",
            "1402fa59c8c24db699227602f03ee3ca",
            "fb3845646d7b4c57aa5a25aa3307012a",
            "3ab965ec35a844009a036337ecb5e3c8",
            "39c60bbe979d4ae5847f11a0d16d0194",
            "033246e211e94ea2b27d64639556ce19",
            "a87edb45ca644810a8f905b567b93a74",
            "6e6864ef881a49b88c3a94c74c57a80b",
            "c436c98065604768b0643bcd4da7f577",
            "dc608a3dfa974b549f1657f0b154af31",
            "b5b9a3b5e9e649db9f0519a349dcb44f",
            "22615ba557904ef1bf0948f939a52c9f",
            "83f4843ebcd744fbbb74291a830c637f",
            "722fe5c7625142478f57337678c835a9"
          ]
        },
        "id": "u1t_Q09FW6Xg",
        "outputId": "079d0b01-409b-4c38-f39a-1561d5c70acb"
      },
      "execution_count": null,
      "outputs": [
        {
          "output_type": "stream",
          "name": "stderr",
          "text": [
            "/usr/local/lib/python3.10/dist-packages/huggingface_hub/utils/_token.py:88: UserWarning: \n",
            "The secret `HF_TOKEN` does not exist in your Colab secrets.\n",
            "To authenticate with the Hugging Face Hub, create a token in your settings tab (https://huggingface.co/settings/tokens), set it as secret in your Google Colab and restart your session.\n",
            "You will be able to reuse this secret in all of your notebooks.\n",
            "Please note that authentication is recommended but still optional to access public models or datasets.\n",
            "  warnings.warn(\n"
          ]
        },
        {
          "output_type": "display_data",
          "data": {
            "text/plain": [
              "config.json:   0%|          | 0.00/609 [00:00<?, ?B/s]"
            ],
            "application/vnd.jupyter.widget-view+json": {
              "version_major": 2,
              "version_minor": 0,
              "model_id": "7bb4d1c6b7904e9cbf50f5ebbae81147"
            }
          },
          "metadata": {}
        },
        {
          "output_type": "display_data",
          "data": {
            "text/plain": [
              "pytorch_model.bin:   0%|          | 0.00/204M [00:00<?, ?B/s]"
            ],
            "application/vnd.jupyter.widget-view+json": {
              "version_major": 2,
              "version_minor": 0,
              "model_id": "3ab965ec35a844009a036337ecb5e3c8"
            }
          },
          "metadata": {}
        },
        {
          "output_type": "stream",
          "name": "stderr",
          "text": [
            "\r  0%|                                                                         | 0/1 [00:00<?, ?it/s]/usr/lib/python3.10/multiprocessing/popen_fork.py:66: RuntimeWarning: os.fork() was called. os.fork() is incompatible with multithreaded code, and JAX is multithreaded, so this will likely lead to a deadlock.\n",
            "  self.pid = os.fork()\n",
            "100%|█████████████████████████████████████████████████████████████████| 1/1 [00:42<00:00, 42.02s/it]\n",
            " 94%|███████████████████████████████████████████████████████████▏   | 46/49 [43:23<02:29, 49.91s/it]"
          ]
        }
      ]
    },
    {
      "cell_type": "code",
      "execution_count": null,
      "metadata": {
        "colab": {
          "base_uri": "https://localhost:8080/"
        },
        "id": "Q48ly6P-yQby",
        "outputId": "9bfc4267-9a90-4645-e90d-b537b9df4b90"
      },
      "outputs": [
        {
          "output_type": "stream",
          "name": "stdout",
          "text": [
            "{'cosine': array([[0.93894947, 0.97903377, 0.9748248 , ..., 0.06067665, 0.0604975 ,\n",
            "        0.07648014],\n",
            "       [0.94975156, 0.9809722 , 0.9829178 , ..., 0.08857712, 0.08899386,\n",
            "        0.10716249],\n",
            "       [0.9368558 , 0.97414136, 0.9836564 , ..., 0.08185371, 0.08442868,\n",
            "        0.10064524],\n",
            "       ...,\n",
            "       [0.9431046 , 0.985183  , 0.98194647, ..., 0.08535906, 0.08368647,\n",
            "        0.10288547],\n",
            "       [0.92794454, 0.98648065, 0.97138005, ..., 0.06948385, 0.06463583,\n",
            "        0.08578961],\n",
            "       [0.958699  , 0.9781159 , 0.9700406 , ..., 0.11579873, 0.11533174,\n",
            "        0.13037327]], dtype=float32)}\n"
          ]
        }
      ],
      "source": [
        "similarity_function = CosineSimilarity()\n",
        "similarity_MacaqueFaces = similarity_function(query_MacaqueFaces, database_MacaqueFaces)\n",
        "print(similarity_MacaqueFaces)"
      ]
    },
    {
      "cell_type": "code",
      "source": [
        "classifier_MacaqueFaces = KnnClassifier(k=1, database_labels=dataset_database_MacaqueFaces.labels_string)\n",
        "predictions_MacaqueFaces = classifier_MacaqueFaces(similarity_MacaqueFaces['cosine'])\n",
        "print(\"Predictions for 100 test Images:-\\n\",predictions_MacaqueFaces)\n",
        "accuracy_MacaqueFaces = np.mean(dataset_query_MacaqueFaces.labels_string == predictions_MacaqueFaces)\n",
        "print(\"Accuracy on MacaqueFaces data: {:.2f}%\".format(accuracy_MacaqueFaces * 100))\n",
        "# precision\n",
        "precision_MacaqueFaces = precision_score(dataset_query_MacaqueFaces.labels_string, predictions_MacaqueFaces, average='weighted')\n",
        "# recall\n",
        "recall_MacaqueFaces = recall_score(dataset_query_MacaqueFaces.labels_string, predictions_MacaqueFaces, average='weighted')\n",
        "# F1 score\n",
        "f1_MacaqueFaces = f1_score(dataset_query_MacaqueFaces.labels_string, predictions_MacaqueFaces, average='weighted')\n",
        "print(\"Precision:\", precision_MacaqueFaces)\n",
        "print(\"Recall:\", recall_MacaqueFaces)\n",
        "print(\"F1 Score:\", f1_MacaqueFaces)"
      ],
      "metadata": {
        "colab": {
          "base_uri": "https://localhost:8080/"
        },
        "id": "tFRpGqxTab03",
        "outputId": "f91ea988-ecf0-457b-d2ba-3cd1964e3357"
      },
      "execution_count": null,
      "outputs": [
        {
          "output_type": "stream",
          "name": "stdout",
          "text": [
            "Predictions for 100 test Images:-\n",
            " ['Dan' 'Dan' 'Dan' 'Dan' 'Dan' 'Dan' 'Dan' 'Dan' 'Dan' 'Dan' 'Dan' 'Dan'\n",
            " 'Dan' 'Dan' 'Dan' 'Dan' 'Dan' 'Dan' 'Dan' 'Dan' 'Dan' 'Dan' 'Dan' 'Dan'\n",
            " 'Dan' 'Dan' 'Dan' 'Dan' 'Dan' 'Dan' 'Dan' 'Dan' 'Dan' 'Dan' 'Dan' 'Dan'\n",
            " 'Dan' 'Dan' 'Dan' 'Dan' 'Dan' 'Dan' 'Dan' 'Dan' 'Dan' 'Dan' 'Dan' 'Dan'\n",
            " 'Dan' 'Dan' 'Dan' 'Dan' 'Dan' 'Dan' 'Dan' 'Dan' 'Dan' 'Dan' 'Dan' 'Dan'\n",
            " 'Dan' 'Dan' 'Dan' 'Dan' 'Dan' 'Dan' 'Dan' 'Dan' 'Dan' 'Dan' 'Dan' 'Dan'\n",
            " 'Dan' 'Dan' 'Dan' 'Dan' 'Dan' 'Dan' 'Dan' 'Dan' 'Dan' 'Dan' 'Dan' 'Dan'\n",
            " 'Dan' 'Dan' 'Dan' 'Dan' 'Dan' 'Dan' 'Dan' 'Dan' 'Dan' 'Dan' 'Dan' 'Dan'\n",
            " 'Dan' 'Dan' 'Dan' 'Dan']\n",
            "Accuracy on MacaqueFaces data: 100.00%\n"
          ]
        }
      ]
    },
    {
      "cell_type": "markdown",
      "source": [
        "**LionData Dateset**"
      ],
      "metadata": {
        "id": "x8WIYP4jzI6y"
      }
    },
    {
      "cell_type": "code",
      "source": [
        "# Download dataset (if not already downloaded)\n",
        "datasets.LionData.get_data('../data/LionData')\n",
        "\n",
        "# Load dataset metadata\n",
        "metadata_LionData = datasets.LionData('../data/LionData')\n",
        "transform = T.Compose([T.Resize([224, 224]), T.ToTensor(), T.Normalize(mean=(0.485, 0.456, 0.406), std=(0.229, 0.224, 0.225))])\n",
        "dataset_LionData = WildlifeDataset(metadata_LionData.df, metadata_LionData.root, transform=transform)"
      ],
      "metadata": {
        "colab": {
          "base_uri": "https://localhost:8080/"
        },
        "id": "rrO6dLzDzPDa",
        "outputId": "b7758238-4b1a-4707-e7d7-c17e8bfe46d0"
      },
      "execution_count": null,
      "outputs": [
        {
          "output_type": "stream",
          "name": "stdout",
          "text": [
            "DATASET LionData: DOWNLOADING STARTED.\n",
            "You are trying to download an already downloaded dataset.\n",
            "        This message may have happened to due interrupted download or extract.\n",
            "        To force the download use the `force=True` keyword such as\n",
            "        get_data(..., force=True) or download(..., force=True).\n",
            "        \n"
          ]
        }
      ]
    },
    {
      "cell_type": "code",
      "source": [
        "dataset_database_LionData = WildlifeDataset(metadata_LionData.df.iloc[100:,:], metadata_LionData.root, transform=transform)\n",
        "dataset_query_LionData = WildlifeDataset(metadata_LionData.df.iloc[:100,:], metadata_LionData.root, transform=transform)"
      ],
      "metadata": {
        "id": "Nj1rVBcP0quR"
      },
      "execution_count": null,
      "outputs": []
    },
    {
      "cell_type": "code",
      "source": [
        "name = 'hf-hub:BVRA/MegaDescriptor-T-224'\n",
        "extractor_LionData = DeepFeatures(timm.create_model(name, num_classes=0, pretrained=True))\n",
        "query_LionData, database_LionData = extractor_LionData(dataset_query_LionData), extractor_LionData(dataset_database_LionData)"
      ],
      "metadata": {
        "colab": {
          "base_uri": "https://localhost:8080/"
        },
        "id": "DpZt2GKa0uZ8",
        "outputId": "bb99c456-c9e3-434c-ac9d-f850b9d08182"
      },
      "execution_count": null,
      "outputs": [
        {
          "output_type": "stream",
          "name": "stderr",
          "text": [
            "\r  0%|                                                                         | 0/1 [00:00<?, ?it/s]/usr/lib/python3.10/multiprocessing/popen_fork.py:66: RuntimeWarning: os.fork() was called. os.fork() is incompatible with multithreaded code, and JAX is multithreaded, so this will likely lead to a deadlock.\n",
            "  self.pid = os.fork()\n",
            "100%|█████████████████████████████████████████████████████████████████| 1/1 [00:32<00:00, 32.69s/it]/usr/lib/python3.10/multiprocessing/popen_fork.py:66: RuntimeWarning: os.fork() was called. os.fork() is incompatible with multithreaded code, and JAX is multithreaded, so this will likely lead to a deadlock.\n",
            "  self.pid = os.fork()\n",
            "100%|█████████████████████████████████████████████████████████████████| 1/1 [00:32<00:00, 32.85s/it]\n",
            "100%|█████████████████████████████████████████████████████████████████| 5/5 [03:30<00:00, 42.13s/it]\n"
          ]
        }
      ]
    },
    {
      "cell_type": "code",
      "source": [
        "similarity_function = CosineSimilarity()\n",
        "similarity_LionData = similarity_function(query_LionData, database_LionData)\n",
        "print(similarity_LionData)"
      ],
      "metadata": {
        "colab": {
          "base_uri": "https://localhost:8080/"
        },
        "id": "z73QR_5D44kw",
        "outputId": "4bae13ee-5ecd-404f-82e2-68773f9cb720"
      },
      "execution_count": null,
      "outputs": [
        {
          "output_type": "stream",
          "name": "stdout",
          "text": [
            "{'cosine': array([[0.86896247, 0.69942033, 0.8777389 , ..., 0.829781  , 0.8954884 ,\n",
            "        0.86451447],\n",
            "       [0.9500992 , 0.7055931 , 0.9380013 , ..., 0.7477597 , 0.9478767 ,\n",
            "        0.89982736],\n",
            "       [0.87242615, 0.6950849 , 0.89943147, ..., 0.75892425, 0.91286826,\n",
            "        0.9114601 ],\n",
            "       ...,\n",
            "       [0.8723602 , 0.7832219 , 0.9014683 , ..., 0.8094394 , 0.9129671 ,\n",
            "        0.9049461 ],\n",
            "       [0.8919123 , 0.73857903, 0.92439425, ..., 0.7845442 , 0.9392824 ,\n",
            "        0.9575528 ],\n",
            "       [0.89837366, 0.75758326, 0.91506803, ..., 0.80790067, 0.9342222 ,\n",
            "        0.93150544]], dtype=float32)}\n"
          ]
        }
      ]
    },
    {
      "cell_type": "code",
      "source": [
        "# Predictions\n",
        "classifier_LionData = KnnClassifier(k=1, database_labels=dataset_database_LionData.labels_string)\n",
        "predictions_LionData = classifier_LionData(similarity_LionData['cosine'])\n",
        "print(\"Predictions for 100 test Images:-\\n\",predictions_LionData)\n",
        "# Accuracy\n",
        "accuracy_LionData = np.mean(dataset_query_LionData.labels_string == predictions_LionData)\n",
        "print(\"Accuracy on Lion data: {:.2f}%\".format(accuracy_LionData * 100))\n",
        "# F1 score,recall and precision\n",
        "precision = precision_score(dataset_query_LionData.labels_string, predictions_LionData, average='weighted')\n",
        "recall = recall_score(dataset_query_LionData.labels_string, predictions_LionData, average='weighted')\n",
        "f1 = f1_score(dataset_query_LionData.labels_string, predictions_LionData, average='weighted')\n",
        "print(\"Precision:\", precision)\n",
        "print(\"Recall:\", recall)\n",
        "print(\"F1 Score:\", f1)"
      ],
      "metadata": {
        "colab": {
          "base_uri": "https://localhost:8080/"
        },
        "id": "pqHIJW025EOL",
        "outputId": "c6d8ae7d-841c-439f-c84e-dc817aaa2ea6"
      },
      "execution_count": null,
      "outputs": [
        {
          "output_type": "stream",
          "name": "stdout",
          "text": [
            "Predictions for 100 test Images:-\n",
            " ['Sebastian' 'Saba' 'Etana' 'Tigisi' 'Sebastian' 'Moswen' 'Naape'\n",
            " 'Simaloi' 'Autumn' 'Lolparpit' 'Maskio' 'Chaimu' 'Naape' 'Saba' 'Saitoti'\n",
            " 'Esiriwua' 'Sadala' 'Etana' 'Enderoni' 'Kinna' 'Lucinda' 'Enkume' 'Joy'\n",
            " 'Lemuanik' 'Naibor' 'Shambe' 'Siti' 'Selenkay' 'Sadala' 'Manzy' 'Moswen'\n",
            " 'Napi' 'Ngare' 'Naimina' 'Napi' 'Cleopatra' 'Moswen' 'Kioni' 'Chaimu'\n",
            " 'Engiyaa' 'Enderoni' 'Jamal' 'Leia' 'Sebastian' 'Nuru' 'Maskio' 'Mooza'\n",
            " 'Moswen' 'Kibibi' 'Tigisi' 'Enderoni' 'Lucinda' 'Moswen' 'Kioni'\n",
            " 'Sebastian' 'Mashavu' 'Mickey' 'Mama-Kali' 'Kioni' 'Ngare' 'Nashipai'\n",
            " 'Sikio-Kali' 'Ngare' 'Amber' 'Olonyori' 'Lemuanik' 'Kibibi' 'Ngare'\n",
            " 'Saimutie' 'Amber' 'Shemsa' 'Olonyori' 'Mickey' 'Esiriwua' 'Nashipai'\n",
            " 'Enderoni' 'Summer' 'Nuru' 'Mickey' 'Joy' 'Cleopatra' 'Tigisi' 'Mooza'\n",
            " 'Saitoti' 'Kioni' 'Naini' 'Rescue' 'Sikio-Kali' 'Empurra' 'Enadalut'\n",
            " 'Lemayian' 'Rescue' 'Enadalut' 'Esiriwua' 'Enkume' 'Senteu' 'Doto'\n",
            " 'Enkume' 'Nakato' 'Enderoni']\n",
            "Accuracy on Lion data: 8.00%\n"
          ]
        }
      ]
    },
    {
      "cell_type": "markdown",
      "source": [
        "**NyalaDataSet**"
      ],
      "metadata": {
        "id": "8BVColWW5peR"
      }
    },
    {
      "cell_type": "code",
      "source": [
        "# Download dataset (if not already downloaded)\n",
        "datasets.NyalaData.get_data('../data/NyalaData')\n",
        "\n",
        "# Load dataset metadata\n",
        "metadata_N = datasets.NyalaData('../data/NyalaData')\n",
        "transform = T.Compose([T.Resize([224, 224]), T.ToTensor(), T.Normalize(mean=(0.485, 0.456, 0.406), std=(0.229, 0.224, 0.225))])\n",
        "dataset_N = WildlifeDataset(metadata_N.df, metadata_N.root, transform=transform)"
      ],
      "metadata": {
        "colab": {
          "base_uri": "https://localhost:8080/"
        },
        "id": "lrsdGDje5obt",
        "outputId": "c56de32a-a03f-4bdc-fd3b-9c445b69436f"
      },
      "execution_count": null,
      "outputs": [
        {
          "output_type": "stream",
          "name": "stdout",
          "text": [
            "DATASET NyalaData: DOWNLOADING STARTED.\n",
            "You are trying to download an already downloaded dataset.\n",
            "        This message may have happened to due interrupted download or extract.\n",
            "        To force the download use the `force=True` keyword such as\n",
            "        get_data(..., force=True) or download(..., force=True).\n",
            "        \n"
          ]
        }
      ]
    },
    {
      "cell_type": "code",
      "source": [
        "dataset_database_N = WildlifeDataset(metadata_N.df.iloc[100:,:], metadata_N.root, transform=transform)\n",
        "dataset_query_N = WildlifeDataset(metadata_N.df.iloc[:100,:], metadata_N.root, transform=transform)"
      ],
      "metadata": {
        "id": "Gt-66g7v6MsJ"
      },
      "execution_count": null,
      "outputs": []
    },
    {
      "cell_type": "code",
      "source": [
        "query_N, database_N = extractor_N(dataset_query_N), extractor_N(dataset_database_N)"
      ],
      "metadata": {
        "colab": {
          "base_uri": "https://localhost:8080/"
        },
        "id": "1hmLnsoN6Oey",
        "outputId": "4350be6b-b87e-40ea-e051-6e15ed8e96c1"
      },
      "execution_count": null,
      "outputs": [
        {
          "output_type": "stream",
          "name": "stderr",
          "text": [
            "\r  0%|                                                                         | 0/1 [00:00<?, ?it/s]/usr/lib/python3.10/multiprocessing/popen_fork.py:66: RuntimeWarning: os.fork() was called. os.fork() is incompatible with multithreaded code, and JAX is multithreaded, so this will likely lead to a deadlock.\n",
            "  self.pid = os.fork()\n",
            "100%|█████████████████████████████████████████████████████████████████| 1/1 [00:37<00:00, 37.40s/it]\n",
            "100%|███████████████████████████████████████████████████████████████| 15/15 [10:46<00:00, 43.08s/it]\n"
          ]
        }
      ]
    },
    {
      "cell_type": "code",
      "source": [
        "similarity_function = CosineSimilarity()\n",
        "similarity_N = similarity_function(query_N, database_N)\n",
        "print(similarity_N)"
      ],
      "metadata": {
        "colab": {
          "base_uri": "https://localhost:8080/"
        },
        "id": "rzYBhZBM9MH0",
        "outputId": "125c97f8-2d14-40ea-d442-bee69d41bfd9"
      },
      "execution_count": null,
      "outputs": [
        {
          "output_type": "stream",
          "name": "stdout",
          "text": [
            "{'cosine': array([[0.8619583 , 0.01217471, 0.05642469, ..., 0.6895717 , 0.03031028,\n",
            "        0.898418  ],\n",
            "       [0.25952083, 0.918558  , 0.785017  , ..., 0.5010886 , 0.82998675,\n",
            "        0.1797384 ],\n",
            "       [0.71705055, 0.4680481 , 0.5621629 , ..., 0.962554  , 0.5190879 ,\n",
            "        0.7367308 ],\n",
            "       ...,\n",
            "       [0.2627344 , 0.9283303 , 0.7531287 , ..., 0.4816041 , 0.80183464,\n",
            "        0.17906114],\n",
            "       [0.84421116, 0.0514888 , 0.10151841, ..., 0.7681327 , 0.0811858 ,\n",
            "        0.9342401 ],\n",
            "       [0.07699895, 0.7878246 , 0.9208322 , ..., 0.38661018, 0.9427093 ,\n",
            "        0.07355451]], dtype=float32)}\n"
          ]
        }
      ]
    },
    {
      "cell_type": "code",
      "source": [
        "# Predictions\n",
        "classifier_N = KnnClassifier(k=1, database_labels=dataset_database_N.labels_string)\n",
        "predictions_N = classifier_N(similarity_N['cosine'])\n",
        "print(\"Predictions for 100 test Images:-\\n\",predictions_N)\n",
        "# Accuracy\n",
        "accuracy_N = np.mean(dataset_query_N.labels_string == predictions_N)\n",
        "print(\"Accuracy on NyalaData data: {:.2f}%\".format(accuracy_N * 100))\n",
        "# precision,recall and F1 score\n",
        "precision_N = precision_score(dataset_query_N.labels_string, predictions_N, average='weighted')\n",
        "recall_N = recall_score(dataset_query_N.labels_string, predictions_N, average='weighted')\n",
        "f1_N = f1_score(dataset_query_N.labels_string, predictions_N, average='weighted')\n",
        "print(\"Precision:\", precision_N)\n",
        "print(\"Recall:\", recall_N)\n",
        "print(\"F1 Score:\", f1_N)"
      ],
      "metadata": {
        "colab": {
          "base_uri": "https://localhost:8080/"
        },
        "id": "SjsH9Edm9RI-",
        "outputId": "ee3c9e4d-fc32-45e8-d8e4-f3f191e34121"
      },
      "execution_count": null,
      "outputs": [
        {
          "output_type": "stream",
          "name": "stdout",
          "text": [
            "Predictions for 100 test Images:-\n",
            " ['166' '10' '57' '89' '58' '179' '55' '58' '149' '71' '87' '125' '56'\n",
            " '144' '131' '8' '36' '150' '131' '11' '116' '19' '20' '86' '260' '165'\n",
            " '140' '11' '246' '41' '140' '197' '9' '131' '24' '48' '41' '11' '48'\n",
            " '131' '272' '47' '21' '46' '8' '241' '114' '62' '21' '48' '252' '151'\n",
            " '27' '108' '82' '51' '101' '85' '32' '58' '46' '139' '63' '85' '9' '181'\n",
            " '65' '242' '43' '144' '142' '12' '60' '5' '127' '166' '56' '21' '27' '36'\n",
            " '20' '188' '51' '51' '42' '20' '111' '62' '165' '68' '104' '174' '48'\n",
            " '217' '144' '6' '50' '91' '105' '140']\n",
            "Accuracy on NyalaData data: 11.00%\n"
          ]
        }
      ]
    },
    {
      "cell_type": "markdown",
      "source": [
        "**StripeSpotter Dataset**"
      ],
      "metadata": {
        "id": "TggFYlC7-Q7Y"
      }
    },
    {
      "cell_type": "code",
      "source": [
        "# Download dataset (if not already downloaded)\n",
        "datasets.StripeSpotter.get_data('../data/StripeSpotter')\n",
        "# Load dataset metadata\n",
        "metadata = datasets.StripeSpotter('../data/StripeSpotter')\n",
        "transform = T.Compose([T.Resize([224, 224]), T.ToTensor(), T.Normalize(mean=(0.485, 0.456, 0.406), std=(0.229, 0.224, 0.225))])\n",
        "dataset = WildlifeDataset(metadata.df, metadata.root, transform=transform)"
      ],
      "metadata": {
        "colab": {
          "base_uri": "https://localhost:8080/"
        },
        "id": "37C8D2y9-WIy",
        "outputId": "cf764223-9a8c-4237-be24-0b833490cfe1"
      },
      "execution_count": null,
      "outputs": [
        {
          "output_type": "stream",
          "name": "stdout",
          "text": [
            "DATASET StripeSpotter: DOWNLOADING STARTED.\n",
            "You are trying to download an already downloaded dataset.\n",
            "        This message may have happened to due interrupted download or extract.\n",
            "        To force the download use the `force=True` keyword such as\n",
            "        get_data(..., force=True) or download(..., force=True).\n",
            "        \n"
          ]
        }
      ]
    },
    {
      "cell_type": "code",
      "source": [
        "dataset_database = WildlifeDataset(metadata.df.iloc[100:,:], metadata.root, transform=transform)\n",
        "dataset_query = WildlifeDataset(metadata.df.iloc[:100,:], metadata.root, transform=transform)"
      ],
      "metadata": {
        "id": "hddjZQpyGSZC"
      },
      "execution_count": null,
      "outputs": []
    },
    {
      "cell_type": "code",
      "source": [
        "query, database = extractor(dataset_query), extractor(dataset_database)"
      ],
      "metadata": {
        "colab": {
          "base_uri": "https://localhost:8080/"
        },
        "id": "GLTVw6LtGeDr",
        "outputId": "c951cf06-2b39-45e7-aebb-599f662b3db2"
      },
      "execution_count": null,
      "outputs": [
        {
          "output_type": "stream",
          "name": "stderr",
          "text": [
            "\r  0%|                                                                         | 0/1 [00:00<?, ?it/s]/usr/lib/python3.10/multiprocessing/popen_fork.py:66: RuntimeWarning: os.fork() was called. os.fork() is incompatible with multithreaded code, and JAX is multithreaded, so this will likely lead to a deadlock.\n",
            "  self.pid = os.fork()\n",
            "100%|█████████████████████████████████████████████████████████████████| 1/1 [00:37<00:00, 37.88s/it]/usr/lib/python3.10/multiprocessing/popen_fork.py:66: RuntimeWarning: os.fork() was called. os.fork() is incompatible with multithreaded code, and JAX is multithreaded, so this will likely lead to a deadlock.\n",
            "  self.pid = os.fork()\n",
            "100%|█████████████████████████████████████████████████████████████████| 1/1 [00:38<00:00, 38.07s/it]\n",
            "100%|█████████████████████████████████████████████████████████████████| 6/6 [04:25<00:00, 44.30s/it]\n"
          ]
        }
      ]
    },
    {
      "cell_type": "code",
      "source": [
        "similarity_function = CosineSimilarity()\n",
        "similarity = similarity_function(query, database)\n",
        "print(similarity)"
      ],
      "metadata": {
        "colab": {
          "base_uri": "https://localhost:8080/"
        },
        "id": "_E_O6trCIY_p",
        "outputId": "59e9b194-008c-4f05-ea45-2d49bac003a9"
      },
      "execution_count": null,
      "outputs": [
        {
          "output_type": "stream",
          "name": "stdout",
          "text": [
            "{'cosine': array([[0.2130194 , 0.588757  , 0.65936303, ..., 0.4394258 , 0.44544154,\n",
            "        0.621335  ],\n",
            "       [0.17780262, 0.38624054, 0.40102234, ..., 0.7090034 , 0.20244715,\n",
            "        0.2846234 ],\n",
            "       [0.6676848 , 0.43850845, 0.34033626, ..., 0.2868997 , 0.39746365,\n",
            "        0.36011013],\n",
            "       ...,\n",
            "       [0.60642976, 0.23701996, 0.21666232, ..., 0.41781956, 0.32831538,\n",
            "        0.35214955],\n",
            "       [0.51512223, 0.2798951 , 0.32729602, ..., 0.53868353, 0.39507398,\n",
            "        0.28750026],\n",
            "       [0.17924337, 0.24542159, 0.3013066 , ..., 0.58145046, 0.2895743 ,\n",
            "        0.35858634]], dtype=float32)}\n"
          ]
        }
      ]
    },
    {
      "cell_type": "code",
      "source": [
        "classifier = KnnClassifier(k=1, database_labels=dataset_database.labels_string)\n",
        "predictions = classifier(similarity['cosine'])\n",
        "print(\"Predictions for 100 test Images:-\\n\",predictions)\n",
        "accuracy = np.mean(dataset_query.labels_string == predictions)\n",
        "print(\"Accuracy on StripeSpotter data: {:.2f}%\".format(accuracy * 100))\n",
        "# precision\n",
        "precision = precision_score(dataset_query.labels_string, predictions, average='weighted')\n",
        "# recall\n",
        "recall = recall_score(dataset_query.labels_string, predictions, average='weighted')\n",
        "# F1 score\n",
        "f1 = f1_score(dataset_query.labels_string, predictions, average='weighted')\n",
        "\n",
        "print(\"Precision:\", precision)\n",
        "print(\"Recall:\", recall)\n",
        "print(\"F1 Score:\", f1)"
      ],
      "metadata": {
        "colab": {
          "base_uri": "https://localhost:8080/"
        },
        "id": "rJItxeuOIhQT",
        "outputId": "0a243fa3-b587-4a44-9cb1-a6efc6d2eb24"
      },
      "execution_count": null,
      "outputs": [
        {
          "output_type": "stream",
          "name": "stdout",
          "text": [
            "Predictions for 100 test Images:-\n",
            " ['09_212' 'S09_161' '08_085' '08_100' '09_200' 'OP05_625' '09_212'\n",
            " '02_149' '01_579' '08_034' '01_679' '08_078' '01_460' '10_002' '01_136'\n",
            " '09_212' '09_200' 'S09_111' '02_149' 'S09_069' '08_100' '01_363' '01_363'\n",
            " '08_078' '08_034' '01_805' '09_355' '08_085' 'OP05_546' '09_212' '08_100'\n",
            " 'S09_088' '09_182' 'S09_215' '02_162' '01_230' '08_085' '01_661'\n",
            " '02_1026' '09_185' '01_136' '01_661' '01_661' '02_161' '01_165' '02_161'\n",
            " 'S09_174' 'S09_067' '08_100' 'OP04_225' '02_149' 'S09_067' '09_200'\n",
            " '04_008' '01_661' '09_182' '01_805' '02_161' '10_002' '01_036' '02_149'\n",
            " '01_165' '09_212' 'S09_211' 'S09_215' '03_045' '01_579' 'OP04_225'\n",
            " '08_100' '08_100' '04_008' '09_212' 'OP05_625' 'OP05_625' '02_149'\n",
            " '01_230' '09_200' 'OP05_625' '01_661' 'OP04_225' '01_661' '01_661'\n",
            " 'S09_174' '01_679' '01_661' 'S09_067' 'S09_111' 'S09_112' '09_212'\n",
            " 'OP04_225' '02_161' '09_185' '04_008' '08_100' '01_460' '01_679'\n",
            " 'S09_111' '01_679' '01_036' 'S09_067']\n",
            "Accuracy on StripeSpotter data: 98.00%\n"
          ]
        }
      ]
    },
    {
      "cell_type": "markdown",
      "source": [
        "**IPanda50 Dataset**"
      ],
      "metadata": {
        "id": "ekpRAxgNIvDu"
      }
    },
    {
      "cell_type": "code",
      "source": [
        "# Download dataset (if not already downloaded)\n",
        "datasets.IPanda50.get_data('../data/IPanda50')\n",
        "# Load dataset metadata\n",
        "metadata = datasets.IPanda50('../data/IPanda50')\n",
        "transform = T.Compose([T.Resize([224, 224]), T.ToTensor(), T.Normalize(mean=(0.485, 0.456, 0.406), std=(0.229, 0.224, 0.225))])\n",
        "dataset = WildlifeDataset(metadata.df, metadata.root, transform=transform)"
      ],
      "metadata": {
        "colab": {
          "base_uri": "https://localhost:8080/"
        },
        "id": "0cmTPCjII07F",
        "outputId": "c2661e2a-7999-4463-88f7-06d1aba47ef3"
      },
      "execution_count": null,
      "outputs": [
        {
          "output_type": "stream",
          "name": "stdout",
          "text": [
            "DATASET IPanda50: DOWNLOADING STARTED.\n"
          ]
        },
        {
          "output_type": "stream",
          "name": "stderr",
          "text": [
            "Downloading...\n",
            "From (original): https://drive.google.com/uc?id=1nkh-g6a8JvWy-XsMaZqrN2AXoPlaXuFg\n",
            "From (redirected): https://drive.google.com/uc?id=1nkh-g6a8JvWy-XsMaZqrN2AXoPlaXuFg&confirm=t&uuid=174954f6-d2bd-4289-b1ed-6c990eb70713\n",
            "To: /data/IPanda50/iPanda50-images.zip\n",
            "100%|██████████| 926M/926M [00:15<00:00, 59.5MB/s]\n",
            "Downloading...\n",
            "From: https://drive.google.com/uc?id=1gVREtFWkNec4xwqOyKkpuIQIyWU_Y_Ob\n",
            "To: /data/IPanda50/iPanda50-split.zip\n",
            "100%|██████████| 140k/140k [00:00<00:00, 3.27MB/s]\n",
            "Downloading...\n",
            "From: https://drive.google.com/uc?id=1jdACN98uOxedZDT-6X3rpbooLAAUEbNY\n",
            "To: /data/IPanda50/iPanda50-eyes-labels.zip\n",
            "100%|██████████| 2.55M/2.55M [00:00<00:00, 21.5MB/s]\n"
          ]
        },
        {
          "output_type": "stream",
          "name": "stdout",
          "text": [
            "DATASET IPanda50: EXTRACTING STARTED.\n",
            "DATASET IPanda50: FINISHED.\n",
            "\n"
          ]
        }
      ]
    },
    {
      "cell_type": "code",
      "source": [
        "dataset_database = WildlifeDataset(metadata.df.iloc[100:,:], metadata.root, transform=transform)\n",
        "dataset_query = WildlifeDataset(metadata.df.iloc[:100,:], metadata.root, transform=transform)"
      ],
      "metadata": {
        "id": "uI4Yr7QLLrMO"
      },
      "execution_count": null,
      "outputs": []
    },
    {
      "cell_type": "code",
      "source": [
        "query, database = extractor(dataset_query), extractor(dataset_database)"
      ],
      "metadata": {
        "colab": {
          "base_uri": "https://localhost:8080/"
        },
        "id": "E-4AJbLMLuOv",
        "outputId": "c538f2f2-bb8f-4f71-a915-097798915cd4"
      },
      "execution_count": null,
      "outputs": [
        {
          "output_type": "stream",
          "name": "stderr",
          "text": [
            "\r  0%|                                                                         | 0/1 [00:00<?, ?it/s]/usr/lib/python3.10/multiprocessing/popen_fork.py:66: RuntimeWarning: os.fork() was called. os.fork() is incompatible with multithreaded code, and JAX is multithreaded, so this will likely lead to a deadlock.\n",
            "  self.pid = os.fork()\n",
            "100%|█████████████████████████████████████████████████████████████████| 1/1 [00:38<00:00, 38.09s/it]/usr/lib/python3.10/multiprocessing/popen_fork.py:66: RuntimeWarning: os.fork() was called. os.fork() is incompatible with multithreaded code, and JAX is multithreaded, so this will likely lead to a deadlock.\n",
            "  self.pid = os.fork()\n",
            "100%|█████████████████████████████████████████████████████████████████| 1/1 [00:38<00:00, 38.20s/it]\n",
            "100%|███████████████████████████████████████████████████████████████| 53/53 [38:16<00:00, 43.33s/it]\n"
          ]
        }
      ]
    },
    {
      "cell_type": "code",
      "source": [
        "similarity_function = CosineSimilarity()\n",
        "similarity = similarity_function(query, database)\n",
        "print(similarity)"
      ],
      "metadata": {
        "colab": {
          "base_uri": "https://localhost:8080/"
        },
        "id": "Ztg2VL79WglN",
        "outputId": "04d810bb-059b-4a38-aa9f-580f8b91788e"
      },
      "execution_count": null,
      "outputs": [
        {
          "output_type": "stream",
          "name": "stdout",
          "text": [
            "{'cosine': array([[ 0.02714637,  0.53501487,  0.14056858, ...,  0.38829625,\n",
            "         0.43481827, -0.07561179],\n",
            "       [ 0.08373775,  0.5616951 ,  0.03785922, ...,  0.3602667 ,\n",
            "         0.6493416 , -0.1295084 ],\n",
            "       [ 0.01190435,  0.4141855 ,  0.23542283, ...,  0.45754877,\n",
            "         0.5449476 , -0.1335805 ],\n",
            "       ...,\n",
            "       [ 0.0320384 ,  0.12872331, -0.14140168, ...,  0.02448   ,\n",
            "         0.22118227, -0.17661369],\n",
            "       [-0.08624166,  0.16572046,  0.07199848, ...,  0.14675027,\n",
            "         0.23473434, -0.02312863],\n",
            "       [ 0.01022829,  0.06892081,  0.7597883 , ...,  0.4224525 ,\n",
            "         0.10611828, -0.04714176]], dtype=float32)}\n"
          ]
        }
      ]
    },
    {
      "cell_type": "code",
      "source": [
        "classifier = KnnClassifier(k=1, database_labels=dataset_database.labels_string)\n",
        "predictions = classifier(similarity['cosine'])\n",
        "print(\"Predictions for 100 test Images:-\\n\",predictions)\n",
        "accuracy = np.mean(dataset_query.labels_string == predictions)\n",
        "print(\"Accuracy on IPanda50 data: {:.2f}%\".format(accuracy * 100))"
      ],
      "metadata": {
        "colab": {
          "base_uri": "https://localhost:8080/"
        },
        "id": "tyqid4CXWnJc",
        "outputId": "b47f9961-0262-4d2b-bdf4-a1f1f6bc1266"
      },
      "execution_count": null,
      "outputs": [
        {
          "output_type": "stream",
          "name": "stdout",
          "text": [
            "Predictions for 100 test Images:-\n",
            " ['10_hexing' '37_xinger' '01_aoliao' '33_wuyi' '47_yingying' '15_maosun'\n",
            " '09_fushun' '10_hexing' '36_xingda' '19_nannan' '08_fulai' '31_shurong'\n",
            " '44_yayi' '39_xinghui' '37_xinger' '14_maodou' '14_maodou' '00_aibang'\n",
            " '21_nina' '35_xilan' '19_nannan' '33_wuyi' '47_yingying' '49_yuanrun'\n",
            " '38_xingfan' '04_chengdui' '16_maotao' '48_yongbang' '11_jiaoao'\n",
            " '49_yuanrun' '24_qixi' '10_hexing' '35_xilan' '35_xilan' '02_baolan'\n",
            " '31_shurong' '31_shurong' '02_baolan' '23_qiubang' '26_qiyuan'\n",
            " '04_chengdui' '35_xilan' '08_fulai' '00_aibang' '10_hexing'\n",
            " '29_shuangxiong' '11_jiaoao' '44_yayi' '14_maodou' '30_shuqing'\n",
            " '36_xingda' '39_xinghui' '33_wuyi' '10_hexing' '10_hexing' '00_aibang'\n",
            " '49_yuanrun' '35_xilan' '04_chengdui' '10_hexing' '39_xinghui' '44_yayi'\n",
            " '10_hexing' '36_xingda' '16_maotao' '22_nini' '00_aibang' '39_xinghui'\n",
            " '10_hexing' '17_meibang' '00_aibang' '46_yazhu' '14_maodou' '15_maosun'\n",
            " '32_susu' '26_qiyuan' '27_rourou' '23_qiubang' '18_miaomiao'\n",
            " '48_yongbang' '45_yayun' '16_maotao' '33_wuyi' '13_jingliang'\n",
            " '41_xingxiao' '39_xinghui' '09_fushun' '46_yazhu' '22_nini' '49_yuanrun'\n",
            " '09_fushun' '28_sa' '48_yongbang' '47_yingying' '28_sa' '15_maosun'\n",
            " '39_xinghui' '20_nike' '43_yaxing' '47_yingying']\n",
            "Accuracy on IPanda50 data: 85.00%\n"
          ]
        }
      ]
    },
    {
      "cell_type": "code",
      "source": [],
      "metadata": {
        "id": "JZWRBA_upqLH"
      },
      "execution_count": null,
      "outputs": []
    },
    {
      "cell_type": "markdown",
      "source": [
        "CZoo Dataset"
      ],
      "metadata": {
        "id": "A17qmo9_d7TE"
      }
    },
    {
      "cell_type": "code",
      "source": [
        "# Download dataset (if not already downloaded)\n",
        "datasets.CZoo.get_data('../data/CZoo')\n",
        "\n",
        "# Load dataset metadata\n",
        "metadata_CZoo = datasets.CZoo('../data/CZoo')\n",
        "transform = T.Compose([T.Resize([224, 224]), T.ToTensor(), T.Normalize(mean=(0.485, 0.456, 0.406), std=(0.229, 0.224, 0.225))])\n",
        "dataset = WildlifeDataset(metadata_CZoo.df, metadata_CZoo.root, transform=transform)"
      ],
      "metadata": {
        "colab": {
          "base_uri": "https://localhost:8080/"
        },
        "id": "VmYHIzw4Zjv6",
        "outputId": "c3ccca60-ce55-4b09-9476-b21e9beb92dd"
      },
      "execution_count": null,
      "outputs": [
        {
          "output_type": "stream",
          "name": "stdout",
          "text": [
            "DATASET CZoo: DOWNLOADING STARTED.\n",
            "You are trying to download an already downloaded dataset.\n",
            "        This message may have happened to due interrupted download or extract.\n",
            "        To force the download use the `force=True` keyword such as\n",
            "        get_data(..., force=True) or download(..., force=True).\n",
            "        \n"
          ]
        }
      ]
    },
    {
      "cell_type": "code",
      "source": [
        "dataset_database = WildlifeDataset(metadata.df.iloc[100:,:], metadata.root, transform=transform)\n",
        "dataset_query = WildlifeDataset(metadata.df.iloc[:100,:], metadata.root, transform=transform)"
      ],
      "metadata": {
        "id": "pyu8Ze_se5y_"
      },
      "execution_count": null,
      "outputs": []
    },
    {
      "cell_type": "code",
      "source": [
        "query, database = extractor(dataset_query), extractor(dataset_database)"
      ],
      "metadata": {
        "colab": {
          "base_uri": "https://localhost:8080/"
        },
        "id": "iuM3AcuBfA_6",
        "outputId": "7ba6c082-b6dd-49d1-8630-08c2e11e6a48"
      },
      "execution_count": null,
      "outputs": [
        {
          "output_type": "stream",
          "name": "stderr",
          "text": [
            "\r  0%|                                                                         | 0/1 [00:00<?, ?it/s]/usr/lib/python3.10/multiprocessing/popen_fork.py:66: RuntimeWarning: os.fork() was called. os.fork() is incompatible with multithreaded code, and JAX is multithreaded, so this will likely lead to a deadlock.\n",
            "  self.pid = os.fork()\n",
            "100%|█████████████████████████████████████████████████████████████████| 1/1 [00:35<00:00, 35.28s/it]/usr/lib/python3.10/multiprocessing/popen_fork.py:66: RuntimeWarning: os.fork() was called. os.fork() is incompatible with multithreaded code, and JAX is multithreaded, so this will likely lead to a deadlock.\n",
            "  self.pid = os.fork()\n",
            "100%|█████████████████████████████████████████████████████████████████| 1/1 [00:35<00:00, 35.45s/it]\n",
            "100%|███████████████████████████████████████████████████████████████| 16/16 [10:51<00:00, 40.69s/it]\n"
          ]
        }
      ]
    },
    {
      "cell_type": "code",
      "source": [
        "similarity_function = CosineSimilarity()\n",
        "similarity = similarity_function(query, database)\n",
        "print(similarity)"
      ],
      "metadata": {
        "colab": {
          "base_uri": "https://localhost:8080/"
        },
        "id": "y0MDSts6iG-o",
        "outputId": "6c9c9fcf-e256-4bad-c91e-35dabe8f7015"
      },
      "execution_count": null,
      "outputs": [
        {
          "output_type": "stream",
          "name": "stdout",
          "text": [
            "{'cosine': array([[ 9.0549982e-01,  8.9250720e-01,  8.9013600e-01, ...,\n",
            "        -2.4628341e-02, -1.9136328e-02,  2.0032311e-02],\n",
            "       [ 9.1913915e-01,  9.1288275e-01,  9.0220594e-01, ...,\n",
            "        -1.2885875e-02, -3.0940475e-02, -7.5778235e-03],\n",
            "       [ 9.3326151e-01,  9.2265338e-01,  9.1522133e-01, ...,\n",
            "        -3.5657752e-02, -1.6588740e-02,  1.8029639e-02],\n",
            "       ...,\n",
            "       [ 9.4986129e-01,  9.6489835e-01,  9.4513679e-01, ...,\n",
            "        -5.2607138e-02, -3.3724420e-03, -1.1571882e-02],\n",
            "       [ 9.5598102e-01,  9.6259630e-01,  9.4699091e-01, ...,\n",
            "        -4.5473136e-02, -1.4542699e-02, -3.2175947e-03],\n",
            "       [ 9.4659024e-01,  9.6087039e-01,  9.4981194e-01, ...,\n",
            "        -4.7210053e-02, -3.1141117e-03, -8.7950751e-04]], dtype=float32)}\n"
          ]
        }
      ]
    },
    {
      "cell_type": "code",
      "source": [
        "classifier = KnnClassifier(k=1, database_labels=dataset_database.labels_string)\n",
        "predictions = classifier(similarity['cosine'])\n",
        "print(\"Predictions for 100 test Images:-\\n\",predictions)\n",
        "accuracy = np.mean(dataset_query.labels_string == predictions)\n",
        "print(\"Accuracy on CZoo data: {:.2f}%\".format(accuracy * 100))"
      ],
      "metadata": {
        "colab": {
          "base_uri": "https://localhost:8080/"
        },
        "id": "ntU0cfOIiMIJ",
        "outputId": "4bba856a-2a4d-41f6-96be-9a31d9bc9b76"
      },
      "execution_count": null,
      "outputs": [
        {
          "output_type": "stream",
          "name": "stdout",
          "text": [
            "Predictions for 100 test Images:-\n",
            " ['Alex' 'Alex' 'Alex' 'Jahaga' 'Jahaga' 'Alex' 'Alex' 'Jahaga' 'Alex'\n",
            " 'Jahaga' 'Alex' 'Alex' 'Alex' 'Alex' 'Alex' 'Alex' 'Alex' 'Alex' 'Alex'\n",
            " 'Alex' 'Alex' 'Alex' 'Alexandra' 'Alexandra' 'Alexandra' 'Alexandra'\n",
            " 'Alexandra' 'Alexandra' 'Alexandra' 'Alexandra' 'Alexandra' 'Alexandra'\n",
            " 'Alexandra' 'Gertrudia' 'Gertrudia' 'Gertrudia' 'Alexandra' 'Alexandra'\n",
            " 'Alexandra' 'Alexandra' 'Alexandra' 'Alexandra' 'Alexandra' 'Alexandra'\n",
            " 'Alexandra' 'Annett' 'Annett' 'Alexandra' 'Alexandra' 'Alexandra'\n",
            " 'Alexandra' 'Alexandra' 'Alexandra' 'Alexandra' 'Alexandra' 'Alexandra'\n",
            " 'Alexandra' 'Alexandra' 'Alexandra' 'Alexandra' 'Alexandra' 'Alexandra'\n",
            " 'Alexandra' 'Alexandra' 'Alexandra' 'Alexandra' 'Alexandra' 'Alexandra'\n",
            " 'Alexandra' 'Alexandra' 'Alexandra' 'Alexandra' 'Alexandra' 'Alexandra'\n",
            " 'Alexandra' 'Alexandra' 'Alexandra' 'Alexandra' 'Alexandra' 'Alexandra'\n",
            " 'Alexandra' 'Alexandra' 'Alexandra' 'Alexandra' 'Alexandra' 'Alexandra'\n",
            " 'Alexandra' 'Alexandra' 'Alexandra' 'Alexandra' 'Alexandra' 'Alexandra'\n",
            " 'Alexandra' 'Alexandra' 'Alex' 'Alex' 'Alex' 'Alex' 'Alex' 'Alex']\n",
            "Accuracy on CZoo data: 100.00%\n"
          ]
        }
      ]
    },
    {
      "cell_type": "code",
      "source": [
        "from sklearn.metrics import precision_score, recall_score, f1_score\n",
        "\n",
        "# Calculate precision\n",
        "precision = precision_score(dataset_query.labels_string, predictions, average='weighted')\n",
        "\n",
        "# Calculate recall\n",
        "recall = recall_score(dataset_query.labels_string, predictions, average='weighted')\n",
        "\n",
        "# Calculate F1 score\n",
        "f1 = f1_score(dataset_query.labels_string, predictions, average='weighted')\n",
        "\n",
        "print(\"Precision:\", precision)\n",
        "print(\"Recall:\", recall)\n",
        "print(\"F1 Score:\", f1)\n"
      ],
      "metadata": {
        "id": "fQakimDkoJdy",
        "outputId": "9cd56199-0503-4644-9f8c-d3a32e1f52f1",
        "colab": {
          "base_uri": "https://localhost:8080/",
          "height": 211
        }
      },
      "execution_count": null,
      "outputs": [
        {
          "output_type": "error",
          "ename": "NameError",
          "evalue": "name 'dataset_query' is not defined",
          "traceback": [
            "\u001b[0;31m---------------------------------------------------------------------------\u001b[0m",
            "\u001b[0;31mNameError\u001b[0m                                 Traceback (most recent call last)",
            "\u001b[0;32m<ipython-input-2-758cb542f2c7>\u001b[0m in \u001b[0;36m<cell line: 4>\u001b[0;34m()\u001b[0m\n\u001b[1;32m      2\u001b[0m \u001b[0;34m\u001b[0m\u001b[0m\n\u001b[1;32m      3\u001b[0m \u001b[0;31m# Calculate precision\u001b[0m\u001b[0;34m\u001b[0m\u001b[0;34m\u001b[0m\u001b[0m\n\u001b[0;32m----> 4\u001b[0;31m \u001b[0mprecision\u001b[0m \u001b[0;34m=\u001b[0m \u001b[0mprecision_score\u001b[0m\u001b[0;34m(\u001b[0m\u001b[0mdataset_query\u001b[0m\u001b[0;34m.\u001b[0m\u001b[0mlabels_string\u001b[0m\u001b[0;34m,\u001b[0m \u001b[0mpredictions\u001b[0m\u001b[0;34m,\u001b[0m \u001b[0maverage\u001b[0m\u001b[0;34m=\u001b[0m\u001b[0;34m'weighted'\u001b[0m\u001b[0;34m)\u001b[0m\u001b[0;34m\u001b[0m\u001b[0;34m\u001b[0m\u001b[0m\n\u001b[0m\u001b[1;32m      5\u001b[0m \u001b[0;34m\u001b[0m\u001b[0m\n\u001b[1;32m      6\u001b[0m \u001b[0;31m# Calculate recall\u001b[0m\u001b[0;34m\u001b[0m\u001b[0;34m\u001b[0m\u001b[0m\n",
            "\u001b[0;31mNameError\u001b[0m: name 'dataset_query' is not defined"
          ]
        }
      ]
    },
    {
      "cell_type": "code",
      "source": [
        "\n",
        "# Download dataset (if not already downloaded)\n",
        "datasets.CowDataset.get_data('../data/CowDataset')\n",
        "\n",
        "# Load dataset metadata\n",
        "metadata_CZoo = datasets.CowDataset('../data/CowDataset')\n",
        "transform = T.Compose([T.Resize([224, 224]), T.ToTensor(), T.Normalize(mean=(0.485, 0.456, 0.406), std=(0.229, 0.224, 0.225))])\n",
        "dataset = WildlifeDataset(metadata_CZoo.df, metadata_CZoo.root, transform=transform)"
      ],
      "metadata": {
        "colab": {
          "base_uri": "https://localhost:8080/"
        },
        "id": "0zyUBQ9yEkLB",
        "outputId": "641bae96-299e-482c-93ae-77375f0c9705"
      },
      "execution_count": null,
      "outputs": [
        {
          "output_type": "stream",
          "name": "stdout",
          "text": [
            "DATASET CowDataset: DOWNLOADING STARTED.\n"
          ]
        },
        {
          "output_type": "stream",
          "name": "stderr",
          "text": [
            "31210192: 4.45GB [02:29, 29.8MB/s]                            \n"
          ]
        },
        {
          "output_type": "stream",
          "name": "stdout",
          "text": [
            "DATASET CowDataset: EXTRACTING STARTED.\n",
            "DATASET CowDataset: FINISHED.\n",
            "\n"
          ]
        }
      ]
    },
    {
      "cell_type": "code",
      "source": [],
      "metadata": {
        "colab": {
          "base_uri": "https://localhost:8080/"
        },
        "id": "9qg-IvCXIsAc",
        "outputId": "22b29297-a717-4c43-9bba-0ec62bc10379"
      },
      "execution_count": null,
      "outputs": [
        {
          "output_type": "stream",
          "name": "stdout",
          "text": [
            "1485\n"
          ]
        }
      ]
    },
    {
      "cell_type": "code",
      "source": [],
      "metadata": {
        "id": "NIHmQS9TVLqK"
      },
      "execution_count": null,
      "outputs": []
    },
    {
      "cell_type": "markdown",
      "source": [
        "# ***SIFT***"
      ],
      "metadata": {
        "id": "NdYTgLgOVMJV"
      }
    },
    {
      "cell_type": "code",
      "source": [
        "pip install timm"
      ],
      "metadata": {
        "colab": {
          "base_uri": "https://localhost:8080/"
        },
        "id": "QzUC7wQ0XmcK",
        "outputId": "d7198e5d-4b09-4966-a9e3-7a21631050a5"
      },
      "execution_count": 1,
      "outputs": [
        {
          "output_type": "stream",
          "name": "stdout",
          "text": [
            "Collecting timm\n",
            "  Downloading timm-0.9.16-py3-none-any.whl (2.2 MB)\n",
            "\u001b[?25l     \u001b[90m━━━━━━━━━━━━━━━━━━━━━━━━━━━━━━━━━━━━━━━━\u001b[0m \u001b[32m0.0/2.2 MB\u001b[0m \u001b[31m?\u001b[0m eta \u001b[36m-:--:--\u001b[0m\r\u001b[2K     \u001b[91m━━━━━\u001b[0m\u001b[91m╸\u001b[0m\u001b[90m━━━━━━━━━━━━━━━━━━━━━━━━━━━━━━━━━━\u001b[0m \u001b[32m0.3/2.2 MB\u001b[0m \u001b[31m9.7 MB/s\u001b[0m eta \u001b[36m0:00:01\u001b[0m\r\u001b[2K     \u001b[91m━━━━━━━━━━━━━━━━━━━━━━━━━━━━━━━━━━━━━━━\u001b[0m\u001b[91m╸\u001b[0m \u001b[32m2.2/2.2 MB\u001b[0m \u001b[31m42.9 MB/s\u001b[0m eta \u001b[36m0:00:01\u001b[0m\r\u001b[2K     \u001b[90m━━━━━━━━━━━━━━━━━━━━━━━━━━━━━━━━━━━━━━━━\u001b[0m \u001b[32m2.2/2.2 MB\u001b[0m \u001b[31m30.9 MB/s\u001b[0m eta \u001b[36m0:00:00\u001b[0m\n",
            "\u001b[?25hRequirement already satisfied: torch in /usr/local/lib/python3.10/dist-packages (from timm) (2.2.1+cu121)\n",
            "Requirement already satisfied: torchvision in /usr/local/lib/python3.10/dist-packages (from timm) (0.17.1+cu121)\n",
            "Requirement already satisfied: pyyaml in /usr/local/lib/python3.10/dist-packages (from timm) (6.0.1)\n",
            "Requirement already satisfied: huggingface_hub in /usr/local/lib/python3.10/dist-packages (from timm) (0.20.3)\n",
            "Requirement already satisfied: safetensors in /usr/local/lib/python3.10/dist-packages (from timm) (0.4.3)\n",
            "Requirement already satisfied: filelock in /usr/local/lib/python3.10/dist-packages (from huggingface_hub->timm) (3.14.0)\n",
            "Requirement already satisfied: fsspec>=2023.5.0 in /usr/local/lib/python3.10/dist-packages (from huggingface_hub->timm) (2023.6.0)\n",
            "Requirement already satisfied: requests in /usr/local/lib/python3.10/dist-packages (from huggingface_hub->timm) (2.31.0)\n",
            "Requirement already satisfied: tqdm>=4.42.1 in /usr/local/lib/python3.10/dist-packages (from huggingface_hub->timm) (4.66.4)\n",
            "Requirement already satisfied: typing-extensions>=3.7.4.3 in /usr/local/lib/python3.10/dist-packages (from huggingface_hub->timm) (4.11.0)\n",
            "Requirement already satisfied: packaging>=20.9 in /usr/local/lib/python3.10/dist-packages (from huggingface_hub->timm) (24.0)\n",
            "Requirement already satisfied: sympy in /usr/local/lib/python3.10/dist-packages (from torch->timm) (1.12)\n",
            "Requirement already satisfied: networkx in /usr/local/lib/python3.10/dist-packages (from torch->timm) (3.3)\n",
            "Requirement already satisfied: jinja2 in /usr/local/lib/python3.10/dist-packages (from torch->timm) (3.1.4)\n",
            "Collecting nvidia-cuda-nvrtc-cu12==12.1.105 (from torch->timm)\n",
            "  Using cached nvidia_cuda_nvrtc_cu12-12.1.105-py3-none-manylinux1_x86_64.whl (23.7 MB)\n",
            "Collecting nvidia-cuda-runtime-cu12==12.1.105 (from torch->timm)\n",
            "  Using cached nvidia_cuda_runtime_cu12-12.1.105-py3-none-manylinux1_x86_64.whl (823 kB)\n",
            "Collecting nvidia-cuda-cupti-cu12==12.1.105 (from torch->timm)\n",
            "  Using cached nvidia_cuda_cupti_cu12-12.1.105-py3-none-manylinux1_x86_64.whl (14.1 MB)\n",
            "Collecting nvidia-cudnn-cu12==8.9.2.26 (from torch->timm)\n",
            "  Using cached nvidia_cudnn_cu12-8.9.2.26-py3-none-manylinux1_x86_64.whl (731.7 MB)\n",
            "Collecting nvidia-cublas-cu12==12.1.3.1 (from torch->timm)\n",
            "  Using cached nvidia_cublas_cu12-12.1.3.1-py3-none-manylinux1_x86_64.whl (410.6 MB)\n",
            "Collecting nvidia-cufft-cu12==11.0.2.54 (from torch->timm)\n",
            "  Using cached nvidia_cufft_cu12-11.0.2.54-py3-none-manylinux1_x86_64.whl (121.6 MB)\n",
            "Collecting nvidia-curand-cu12==10.3.2.106 (from torch->timm)\n",
            "  Using cached nvidia_curand_cu12-10.3.2.106-py3-none-manylinux1_x86_64.whl (56.5 MB)\n",
            "Collecting nvidia-cusolver-cu12==11.4.5.107 (from torch->timm)\n",
            "  Using cached nvidia_cusolver_cu12-11.4.5.107-py3-none-manylinux1_x86_64.whl (124.2 MB)\n",
            "Collecting nvidia-cusparse-cu12==12.1.0.106 (from torch->timm)\n",
            "  Using cached nvidia_cusparse_cu12-12.1.0.106-py3-none-manylinux1_x86_64.whl (196.0 MB)\n",
            "Collecting nvidia-nccl-cu12==2.19.3 (from torch->timm)\n",
            "  Using cached nvidia_nccl_cu12-2.19.3-py3-none-manylinux1_x86_64.whl (166.0 MB)\n",
            "Collecting nvidia-nvtx-cu12==12.1.105 (from torch->timm)\n",
            "  Using cached nvidia_nvtx_cu12-12.1.105-py3-none-manylinux1_x86_64.whl (99 kB)\n",
            "Requirement already satisfied: triton==2.2.0 in /usr/local/lib/python3.10/dist-packages (from torch->timm) (2.2.0)\n",
            "Collecting nvidia-nvjitlink-cu12 (from nvidia-cusolver-cu12==11.4.5.107->torch->timm)\n",
            "  Using cached nvidia_nvjitlink_cu12-12.4.127-py3-none-manylinux2014_x86_64.whl (21.1 MB)\n",
            "Requirement already satisfied: numpy in /usr/local/lib/python3.10/dist-packages (from torchvision->timm) (1.25.2)\n",
            "Requirement already satisfied: pillow!=8.3.*,>=5.3.0 in /usr/local/lib/python3.10/dist-packages (from torchvision->timm) (9.4.0)\n",
            "Requirement already satisfied: MarkupSafe>=2.0 in /usr/local/lib/python3.10/dist-packages (from jinja2->torch->timm) (2.1.5)\n",
            "Requirement already satisfied: charset-normalizer<4,>=2 in /usr/local/lib/python3.10/dist-packages (from requests->huggingface_hub->timm) (3.3.2)\n",
            "Requirement already satisfied: idna<4,>=2.5 in /usr/local/lib/python3.10/dist-packages (from requests->huggingface_hub->timm) (3.7)\n",
            "Requirement already satisfied: urllib3<3,>=1.21.1 in /usr/local/lib/python3.10/dist-packages (from requests->huggingface_hub->timm) (2.0.7)\n",
            "Requirement already satisfied: certifi>=2017.4.17 in /usr/local/lib/python3.10/dist-packages (from requests->huggingface_hub->timm) (2024.2.2)\n",
            "Requirement already satisfied: mpmath>=0.19 in /usr/local/lib/python3.10/dist-packages (from sympy->torch->timm) (1.3.0)\n",
            "Installing collected packages: nvidia-nvtx-cu12, nvidia-nvjitlink-cu12, nvidia-nccl-cu12, nvidia-curand-cu12, nvidia-cufft-cu12, nvidia-cuda-runtime-cu12, nvidia-cuda-nvrtc-cu12, nvidia-cuda-cupti-cu12, nvidia-cublas-cu12, nvidia-cusparse-cu12, nvidia-cudnn-cu12, nvidia-cusolver-cu12, timm\n",
            "Successfully installed nvidia-cublas-cu12-12.1.3.1 nvidia-cuda-cupti-cu12-12.1.105 nvidia-cuda-nvrtc-cu12-12.1.105 nvidia-cuda-runtime-cu12-12.1.105 nvidia-cudnn-cu12-8.9.2.26 nvidia-cufft-cu12-11.0.2.54 nvidia-curand-cu12-10.3.2.106 nvidia-cusolver-cu12-11.4.5.107 nvidia-cusparse-cu12-12.1.0.106 nvidia-nccl-cu12-2.19.3 nvidia-nvjitlink-cu12-12.4.127 nvidia-nvtx-cu12-12.1.105 timm-0.9.16\n"
          ]
        }
      ]
    },
    {
      "cell_type": "code",
      "source": [
        "pip install wildlife-datasets\n"
      ],
      "metadata": {
        "colab": {
          "base_uri": "https://localhost:8080/"
        },
        "id": "0HeEgHykYMoD",
        "outputId": "a82fd671-7bba-435d-ef8a-8373604af5db"
      },
      "execution_count": 2,
      "outputs": [
        {
          "output_type": "stream",
          "name": "stdout",
          "text": [
            "Collecting wildlife-datasets\n",
            "  Downloading wildlife_datasets-1.0.3-py3-none-any.whl (43 kB)\n",
            "\u001b[2K     \u001b[90m━━━━━━━━━━━━━━━━━━━━━━━━━━━━━━━━━━━━━━━━\u001b[0m \u001b[32m43.3/43.3 kB\u001b[0m \u001b[31m862.3 kB/s\u001b[0m eta \u001b[36m0:00:00\u001b[0m\n",
            "\u001b[?25hRequirement already satisfied: numpy>=1.19.4 in /usr/local/lib/python3.10/dist-packages (from wildlife-datasets) (1.25.2)\n",
            "Requirement already satisfied: pandas>=1.1.4 in /usr/local/lib/python3.10/dist-packages (from wildlife-datasets) (2.0.3)\n",
            "Requirement already satisfied: tqdm>=4.62.3 in /usr/local/lib/python3.10/dist-packages (from wildlife-datasets) (4.66.4)\n",
            "Requirement already satisfied: opencv-python>=4.5.5.62 in /usr/local/lib/python3.10/dist-packages (from wildlife-datasets) (4.8.0.76)\n",
            "Requirement already satisfied: Pillow>=7.1.2 in /usr/local/lib/python3.10/dist-packages (from wildlife-datasets) (9.4.0)\n",
            "Requirement already satisfied: scikit-learn>=1.0.1 in /usr/local/lib/python3.10/dist-packages (from wildlife-datasets) (1.2.2)\n",
            "Requirement already satisfied: matplotlib>=3.5.1 in /usr/local/lib/python3.10/dist-packages (from wildlife-datasets) (3.7.1)\n",
            "Requirement already satisfied: gdown in /usr/local/lib/python3.10/dist-packages (from wildlife-datasets) (5.1.0)\n",
            "Requirement already satisfied: kaggle in /usr/local/lib/python3.10/dist-packages (from wildlife-datasets) (1.6.12)\n",
            "Requirement already satisfied: contourpy>=1.0.1 in /usr/local/lib/python3.10/dist-packages (from matplotlib>=3.5.1->wildlife-datasets) (1.2.1)\n",
            "Requirement already satisfied: cycler>=0.10 in /usr/local/lib/python3.10/dist-packages (from matplotlib>=3.5.1->wildlife-datasets) (0.12.1)\n",
            "Requirement already satisfied: fonttools>=4.22.0 in /usr/local/lib/python3.10/dist-packages (from matplotlib>=3.5.1->wildlife-datasets) (4.51.0)\n",
            "Requirement already satisfied: kiwisolver>=1.0.1 in /usr/local/lib/python3.10/dist-packages (from matplotlib>=3.5.1->wildlife-datasets) (1.4.5)\n",
            "Requirement already satisfied: packaging>=20.0 in /usr/local/lib/python3.10/dist-packages (from matplotlib>=3.5.1->wildlife-datasets) (24.0)\n",
            "Requirement already satisfied: pyparsing>=2.3.1 in /usr/local/lib/python3.10/dist-packages (from matplotlib>=3.5.1->wildlife-datasets) (3.1.2)\n",
            "Requirement already satisfied: python-dateutil>=2.7 in /usr/local/lib/python3.10/dist-packages (from matplotlib>=3.5.1->wildlife-datasets) (2.8.2)\n",
            "Requirement already satisfied: pytz>=2020.1 in /usr/local/lib/python3.10/dist-packages (from pandas>=1.1.4->wildlife-datasets) (2023.4)\n",
            "Requirement already satisfied: tzdata>=2022.1 in /usr/local/lib/python3.10/dist-packages (from pandas>=1.1.4->wildlife-datasets) (2024.1)\n",
            "Requirement already satisfied: scipy>=1.3.2 in /usr/local/lib/python3.10/dist-packages (from scikit-learn>=1.0.1->wildlife-datasets) (1.11.4)\n",
            "Requirement already satisfied: joblib>=1.1.1 in /usr/local/lib/python3.10/dist-packages (from scikit-learn>=1.0.1->wildlife-datasets) (1.4.2)\n",
            "Requirement already satisfied: threadpoolctl>=2.0.0 in /usr/local/lib/python3.10/dist-packages (from scikit-learn>=1.0.1->wildlife-datasets) (3.5.0)\n",
            "Requirement already satisfied: beautifulsoup4 in /usr/local/lib/python3.10/dist-packages (from gdown->wildlife-datasets) (4.12.3)\n",
            "Requirement already satisfied: filelock in /usr/local/lib/python3.10/dist-packages (from gdown->wildlife-datasets) (3.14.0)\n",
            "Requirement already satisfied: requests[socks] in /usr/local/lib/python3.10/dist-packages (from gdown->wildlife-datasets) (2.31.0)\n",
            "Requirement already satisfied: six>=1.10 in /usr/local/lib/python3.10/dist-packages (from kaggle->wildlife-datasets) (1.16.0)\n",
            "Requirement already satisfied: certifi>=2023.7.22 in /usr/local/lib/python3.10/dist-packages (from kaggle->wildlife-datasets) (2024.2.2)\n",
            "Requirement already satisfied: python-slugify in /usr/local/lib/python3.10/dist-packages (from kaggle->wildlife-datasets) (8.0.4)\n",
            "Requirement already satisfied: urllib3 in /usr/local/lib/python3.10/dist-packages (from kaggle->wildlife-datasets) (2.0.7)\n",
            "Requirement already satisfied: bleach in /usr/local/lib/python3.10/dist-packages (from kaggle->wildlife-datasets) (6.1.0)\n",
            "Requirement already satisfied: soupsieve>1.2 in /usr/local/lib/python3.10/dist-packages (from beautifulsoup4->gdown->wildlife-datasets) (2.5)\n",
            "Requirement already satisfied: webencodings in /usr/local/lib/python3.10/dist-packages (from bleach->kaggle->wildlife-datasets) (0.5.1)\n",
            "Requirement already satisfied: text-unidecode>=1.3 in /usr/local/lib/python3.10/dist-packages (from python-slugify->kaggle->wildlife-datasets) (1.3)\n",
            "Requirement already satisfied: charset-normalizer<4,>=2 in /usr/local/lib/python3.10/dist-packages (from requests[socks]->gdown->wildlife-datasets) (3.3.2)\n",
            "Requirement already satisfied: idna<4,>=2.5 in /usr/local/lib/python3.10/dist-packages (from requests[socks]->gdown->wildlife-datasets) (3.7)\n",
            "Requirement already satisfied: PySocks!=1.5.7,>=1.5.6 in /usr/local/lib/python3.10/dist-packages (from requests[socks]->gdown->wildlife-datasets) (1.7.1)\n",
            "Installing collected packages: wildlife-datasets\n",
            "Successfully installed wildlife-datasets-1.0.3\n"
          ]
        }
      ]
    },
    {
      "cell_type": "code",
      "source": [
        "pip install wildlife-tools"
      ],
      "metadata": {
        "colab": {
          "base_uri": "https://localhost:8080/"
        },
        "id": "qXR8tckRYjWR",
        "outputId": "2c24171e-3f87-498f-a7c5-0ffb0fa538c9"
      },
      "execution_count": 3,
      "outputs": [
        {
          "output_type": "stream",
          "name": "stdout",
          "text": [
            "Collecting wildlife-tools\n",
            "  Downloading wildlife_tools-0.0.9-py3-none-any.whl (25 kB)\n",
            "Requirement already satisfied: torch>=2.0.1 in /usr/local/lib/python3.10/dist-packages (from wildlife-tools) (2.2.1+cu121)\n",
            "Requirement already satisfied: timm>=0.9.2 in /usr/local/lib/python3.10/dist-packages (from wildlife-tools) (0.9.16)\n",
            "Requirement already satisfied: numpy>=1.19.4 in /usr/local/lib/python3.10/dist-packages (from wildlife-tools) (1.25.2)\n",
            "Requirement already satisfied: pandas>=1.1.4 in /usr/local/lib/python3.10/dist-packages (from wildlife-tools) (2.0.3)\n",
            "Requirement already satisfied: tqdm>=4.62.3 in /usr/local/lib/python3.10/dist-packages (from wildlife-tools) (4.66.4)\n",
            "Requirement already satisfied: opencv-python>=4.5.5.62 in /usr/local/lib/python3.10/dist-packages (from wildlife-tools) (4.8.0.76)\n",
            "Requirement already satisfied: Pillow>=7.1.2 in /usr/local/lib/python3.10/dist-packages (from wildlife-tools) (9.4.0)\n",
            "Requirement already satisfied: scikit-learn>=1.0.1 in /usr/local/lib/python3.10/dist-packages (from wildlife-tools) (1.2.2)\n",
            "Requirement already satisfied: pycocotools in /usr/local/lib/python3.10/dist-packages (from wildlife-tools) (2.0.7)\n",
            "Requirement already satisfied: tensorboard in /usr/local/lib/python3.10/dist-packages (from wildlife-tools) (2.15.2)\n",
            "Collecting pytorch-metric-learning (from wildlife-tools)\n",
            "  Downloading pytorch_metric_learning-2.5.0-py3-none-any.whl (119 kB)\n",
            "\u001b[2K     \u001b[90m━━━━━━━━━━━━━━━━━━━━━━━━━━━━━━━━━━━━━━━━\u001b[0m \u001b[32m119.1/119.1 kB\u001b[0m \u001b[31m3.0 MB/s\u001b[0m eta \u001b[36m0:00:00\u001b[0m\n",
            "\u001b[?25hRequirement already satisfied: transformers>=4.30.2 in /usr/local/lib/python3.10/dist-packages (from wildlife-tools) (4.40.2)\n",
            "Requirement already satisfied: wildlife-datasets>=0.3.4 in /usr/local/lib/python3.10/dist-packages (from wildlife-tools) (1.0.3)\n",
            "Collecting kornia>=0.6.12 (from wildlife-tools)\n",
            "  Downloading kornia-0.7.2-py2.py3-none-any.whl (825 kB)\n",
            "\u001b[2K     \u001b[90m━━━━━━━━━━━━━━━━━━━━━━━━━━━━━━━━━━━━━━━━\u001b[0m \u001b[32m825.4/825.4 kB\u001b[0m \u001b[31m30.4 MB/s\u001b[0m eta \u001b[36m0:00:00\u001b[0m\n",
            "\u001b[?25hCollecting faiss-gpu (from wildlife-tools)\n",
            "  Downloading faiss_gpu-1.7.2-cp310-cp310-manylinux_2_17_x86_64.manylinux2014_x86_64.whl (85.5 MB)\n",
            "\u001b[2K     \u001b[90m━━━━━━━━━━━━━━━━━━━━━━━━━━━━━━━━━━━━━━━━\u001b[0m \u001b[32m85.5/85.5 MB\u001b[0m \u001b[31m9.1 MB/s\u001b[0m eta \u001b[36m0:00:00\u001b[0m\n",
            "\u001b[?25hCollecting kornia-rs>=0.1.0 (from kornia>=0.6.12->wildlife-tools)\n",
            "  Downloading kornia_rs-0.1.3-cp310-cp310-manylinux_2_17_x86_64.manylinux2014_x86_64.whl (2.4 MB)\n",
            "\u001b[2K     \u001b[90m━━━━━━━━━━━━━━━━━━━━━━━━━━━━━━━━━━━━━━━━\u001b[0m \u001b[32m2.4/2.4 MB\u001b[0m \u001b[31m63.5 MB/s\u001b[0m eta \u001b[36m0:00:00\u001b[0m\n",
            "\u001b[?25hRequirement already satisfied: packaging in /usr/local/lib/python3.10/dist-packages (from kornia>=0.6.12->wildlife-tools) (24.0)\n",
            "Requirement already satisfied: python-dateutil>=2.8.2 in /usr/local/lib/python3.10/dist-packages (from pandas>=1.1.4->wildlife-tools) (2.8.2)\n",
            "Requirement already satisfied: pytz>=2020.1 in /usr/local/lib/python3.10/dist-packages (from pandas>=1.1.4->wildlife-tools) (2023.4)\n",
            "Requirement already satisfied: tzdata>=2022.1 in /usr/local/lib/python3.10/dist-packages (from pandas>=1.1.4->wildlife-tools) (2024.1)\n",
            "Requirement already satisfied: scipy>=1.3.2 in /usr/local/lib/python3.10/dist-packages (from scikit-learn>=1.0.1->wildlife-tools) (1.11.4)\n",
            "Requirement already satisfied: joblib>=1.1.1 in /usr/local/lib/python3.10/dist-packages (from scikit-learn>=1.0.1->wildlife-tools) (1.4.2)\n",
            "Requirement already satisfied: threadpoolctl>=2.0.0 in /usr/local/lib/python3.10/dist-packages (from scikit-learn>=1.0.1->wildlife-tools) (3.5.0)\n",
            "Requirement already satisfied: torchvision in /usr/local/lib/python3.10/dist-packages (from timm>=0.9.2->wildlife-tools) (0.17.1+cu121)\n",
            "Requirement already satisfied: pyyaml in /usr/local/lib/python3.10/dist-packages (from timm>=0.9.2->wildlife-tools) (6.0.1)\n",
            "Requirement already satisfied: huggingface_hub in /usr/local/lib/python3.10/dist-packages (from timm>=0.9.2->wildlife-tools) (0.20.3)\n",
            "Requirement already satisfied: safetensors in /usr/local/lib/python3.10/dist-packages (from timm>=0.9.2->wildlife-tools) (0.4.3)\n",
            "Requirement already satisfied: filelock in /usr/local/lib/python3.10/dist-packages (from torch>=2.0.1->wildlife-tools) (3.14.0)\n",
            "Requirement already satisfied: typing-extensions>=4.8.0 in /usr/local/lib/python3.10/dist-packages (from torch>=2.0.1->wildlife-tools) (4.11.0)\n",
            "Requirement already satisfied: sympy in /usr/local/lib/python3.10/dist-packages (from torch>=2.0.1->wildlife-tools) (1.12)\n",
            "Requirement already satisfied: networkx in /usr/local/lib/python3.10/dist-packages (from torch>=2.0.1->wildlife-tools) (3.3)\n",
            "Requirement already satisfied: jinja2 in /usr/local/lib/python3.10/dist-packages (from torch>=2.0.1->wildlife-tools) (3.1.4)\n",
            "Requirement already satisfied: fsspec in /usr/local/lib/python3.10/dist-packages (from torch>=2.0.1->wildlife-tools) (2023.6.0)\n",
            "Requirement already satisfied: nvidia-cuda-nvrtc-cu12==12.1.105 in /usr/local/lib/python3.10/dist-packages (from torch>=2.0.1->wildlife-tools) (12.1.105)\n",
            "Requirement already satisfied: nvidia-cuda-runtime-cu12==12.1.105 in /usr/local/lib/python3.10/dist-packages (from torch>=2.0.1->wildlife-tools) (12.1.105)\n",
            "Requirement already satisfied: nvidia-cuda-cupti-cu12==12.1.105 in /usr/local/lib/python3.10/dist-packages (from torch>=2.0.1->wildlife-tools) (12.1.105)\n",
            "Requirement already satisfied: nvidia-cudnn-cu12==8.9.2.26 in /usr/local/lib/python3.10/dist-packages (from torch>=2.0.1->wildlife-tools) (8.9.2.26)\n",
            "Requirement already satisfied: nvidia-cublas-cu12==12.1.3.1 in /usr/local/lib/python3.10/dist-packages (from torch>=2.0.1->wildlife-tools) (12.1.3.1)\n",
            "Requirement already satisfied: nvidia-cufft-cu12==11.0.2.54 in /usr/local/lib/python3.10/dist-packages (from torch>=2.0.1->wildlife-tools) (11.0.2.54)\n",
            "Requirement already satisfied: nvidia-curand-cu12==10.3.2.106 in /usr/local/lib/python3.10/dist-packages (from torch>=2.0.1->wildlife-tools) (10.3.2.106)\n",
            "Requirement already satisfied: nvidia-cusolver-cu12==11.4.5.107 in /usr/local/lib/python3.10/dist-packages (from torch>=2.0.1->wildlife-tools) (11.4.5.107)\n",
            "Requirement already satisfied: nvidia-cusparse-cu12==12.1.0.106 in /usr/local/lib/python3.10/dist-packages (from torch>=2.0.1->wildlife-tools) (12.1.0.106)\n",
            "Requirement already satisfied: nvidia-nccl-cu12==2.19.3 in /usr/local/lib/python3.10/dist-packages (from torch>=2.0.1->wildlife-tools) (2.19.3)\n",
            "Requirement already satisfied: nvidia-nvtx-cu12==12.1.105 in /usr/local/lib/python3.10/dist-packages (from torch>=2.0.1->wildlife-tools) (12.1.105)\n",
            "Requirement already satisfied: triton==2.2.0 in /usr/local/lib/python3.10/dist-packages (from torch>=2.0.1->wildlife-tools) (2.2.0)\n",
            "Requirement already satisfied: nvidia-nvjitlink-cu12 in /usr/local/lib/python3.10/dist-packages (from nvidia-cusolver-cu12==11.4.5.107->torch>=2.0.1->wildlife-tools) (12.4.127)\n",
            "Requirement already satisfied: regex!=2019.12.17 in /usr/local/lib/python3.10/dist-packages (from transformers>=4.30.2->wildlife-tools) (2023.12.25)\n",
            "Requirement already satisfied: requests in /usr/local/lib/python3.10/dist-packages (from transformers>=4.30.2->wildlife-tools) (2.31.0)\n",
            "Requirement already satisfied: tokenizers<0.20,>=0.19 in /usr/local/lib/python3.10/dist-packages (from transformers>=4.30.2->wildlife-tools) (0.19.1)\n",
            "Requirement already satisfied: matplotlib>=3.5.1 in /usr/local/lib/python3.10/dist-packages (from wildlife-datasets>=0.3.4->wildlife-tools) (3.7.1)\n",
            "Requirement already satisfied: gdown in /usr/local/lib/python3.10/dist-packages (from wildlife-datasets>=0.3.4->wildlife-tools) (5.1.0)\n",
            "Requirement already satisfied: kaggle in /usr/local/lib/python3.10/dist-packages (from wildlife-datasets>=0.3.4->wildlife-tools) (1.6.12)\n",
            "Requirement already satisfied: absl-py>=0.4 in /usr/local/lib/python3.10/dist-packages (from tensorboard->wildlife-tools) (1.4.0)\n",
            "Requirement already satisfied: grpcio>=1.48.2 in /usr/local/lib/python3.10/dist-packages (from tensorboard->wildlife-tools) (1.63.0)\n",
            "Requirement already satisfied: google-auth<3,>=1.6.3 in /usr/local/lib/python3.10/dist-packages (from tensorboard->wildlife-tools) (2.27.0)\n",
            "Requirement already satisfied: google-auth-oauthlib<2,>=0.5 in /usr/local/lib/python3.10/dist-packages (from tensorboard->wildlife-tools) (1.2.0)\n",
            "Requirement already satisfied: markdown>=2.6.8 in /usr/local/lib/python3.10/dist-packages (from tensorboard->wildlife-tools) (3.6)\n",
            "Requirement already satisfied: protobuf!=4.24.0,>=3.19.6 in /usr/local/lib/python3.10/dist-packages (from tensorboard->wildlife-tools) (3.20.3)\n",
            "Requirement already satisfied: setuptools>=41.0.0 in /usr/local/lib/python3.10/dist-packages (from tensorboard->wildlife-tools) (67.7.2)\n",
            "Requirement already satisfied: six>1.9 in /usr/local/lib/python3.10/dist-packages (from tensorboard->wildlife-tools) (1.16.0)\n",
            "Requirement already satisfied: tensorboard-data-server<0.8.0,>=0.7.0 in /usr/local/lib/python3.10/dist-packages (from tensorboard->wildlife-tools) (0.7.2)\n",
            "Requirement already satisfied: werkzeug>=1.0.1 in /usr/local/lib/python3.10/dist-packages (from tensorboard->wildlife-tools) (3.0.3)\n",
            "Requirement already satisfied: cachetools<6.0,>=2.0.0 in /usr/local/lib/python3.10/dist-packages (from google-auth<3,>=1.6.3->tensorboard->wildlife-tools) (5.3.3)\n",
            "Requirement already satisfied: pyasn1-modules>=0.2.1 in /usr/local/lib/python3.10/dist-packages (from google-auth<3,>=1.6.3->tensorboard->wildlife-tools) (0.4.0)\n",
            "Requirement already satisfied: rsa<5,>=3.1.4 in /usr/local/lib/python3.10/dist-packages (from google-auth<3,>=1.6.3->tensorboard->wildlife-tools) (4.9)\n",
            "Requirement already satisfied: requests-oauthlib>=0.7.0 in /usr/local/lib/python3.10/dist-packages (from google-auth-oauthlib<2,>=0.5->tensorboard->wildlife-tools) (1.3.1)\n",
            "Requirement already satisfied: contourpy>=1.0.1 in /usr/local/lib/python3.10/dist-packages (from matplotlib>=3.5.1->wildlife-datasets>=0.3.4->wildlife-tools) (1.2.1)\n",
            "Requirement already satisfied: cycler>=0.10 in /usr/local/lib/python3.10/dist-packages (from matplotlib>=3.5.1->wildlife-datasets>=0.3.4->wildlife-tools) (0.12.1)\n",
            "Requirement already satisfied: fonttools>=4.22.0 in /usr/local/lib/python3.10/dist-packages (from matplotlib>=3.5.1->wildlife-datasets>=0.3.4->wildlife-tools) (4.51.0)\n",
            "Requirement already satisfied: kiwisolver>=1.0.1 in /usr/local/lib/python3.10/dist-packages (from matplotlib>=3.5.1->wildlife-datasets>=0.3.4->wildlife-tools) (1.4.5)\n",
            "Requirement already satisfied: pyparsing>=2.3.1 in /usr/local/lib/python3.10/dist-packages (from matplotlib>=3.5.1->wildlife-datasets>=0.3.4->wildlife-tools) (3.1.2)\n",
            "Requirement already satisfied: charset-normalizer<4,>=2 in /usr/local/lib/python3.10/dist-packages (from requests->transformers>=4.30.2->wildlife-tools) (3.3.2)\n",
            "Requirement already satisfied: idna<4,>=2.5 in /usr/local/lib/python3.10/dist-packages (from requests->transformers>=4.30.2->wildlife-tools) (3.7)\n",
            "Requirement already satisfied: urllib3<3,>=1.21.1 in /usr/local/lib/python3.10/dist-packages (from requests->transformers>=4.30.2->wildlife-tools) (2.0.7)\n",
            "Requirement already satisfied: certifi>=2017.4.17 in /usr/local/lib/python3.10/dist-packages (from requests->transformers>=4.30.2->wildlife-tools) (2024.2.2)\n",
            "Requirement already satisfied: MarkupSafe>=2.1.1 in /usr/local/lib/python3.10/dist-packages (from werkzeug>=1.0.1->tensorboard->wildlife-tools) (2.1.5)\n",
            "Requirement already satisfied: beautifulsoup4 in /usr/local/lib/python3.10/dist-packages (from gdown->wildlife-datasets>=0.3.4->wildlife-tools) (4.12.3)\n",
            "Requirement already satisfied: python-slugify in /usr/local/lib/python3.10/dist-packages (from kaggle->wildlife-datasets>=0.3.4->wildlife-tools) (8.0.4)\n",
            "Requirement already satisfied: bleach in /usr/local/lib/python3.10/dist-packages (from kaggle->wildlife-datasets>=0.3.4->wildlife-tools) (6.1.0)\n",
            "Requirement already satisfied: mpmath>=0.19 in /usr/local/lib/python3.10/dist-packages (from sympy->torch>=2.0.1->wildlife-tools) (1.3.0)\n",
            "Requirement already satisfied: pyasn1<0.7.0,>=0.4.6 in /usr/local/lib/python3.10/dist-packages (from pyasn1-modules>=0.2.1->google-auth<3,>=1.6.3->tensorboard->wildlife-tools) (0.6.0)\n",
            "Requirement already satisfied: oauthlib>=3.0.0 in /usr/local/lib/python3.10/dist-packages (from requests-oauthlib>=0.7.0->google-auth-oauthlib<2,>=0.5->tensorboard->wildlife-tools) (3.2.2)\n",
            "Requirement already satisfied: soupsieve>1.2 in /usr/local/lib/python3.10/dist-packages (from beautifulsoup4->gdown->wildlife-datasets>=0.3.4->wildlife-tools) (2.5)\n",
            "Requirement already satisfied: webencodings in /usr/local/lib/python3.10/dist-packages (from bleach->kaggle->wildlife-datasets>=0.3.4->wildlife-tools) (0.5.1)\n",
            "Requirement already satisfied: text-unidecode>=1.3 in /usr/local/lib/python3.10/dist-packages (from python-slugify->kaggle->wildlife-datasets>=0.3.4->wildlife-tools) (1.3)\n",
            "Requirement already satisfied: PySocks!=1.5.7,>=1.5.6 in /usr/local/lib/python3.10/dist-packages (from requests->transformers>=4.30.2->wildlife-tools) (1.7.1)\n",
            "Installing collected packages: faiss-gpu, kornia-rs, pytorch-metric-learning, kornia, wildlife-tools\n",
            "Successfully installed faiss-gpu-1.7.2 kornia-0.7.2 kornia-rs-0.1.3 pytorch-metric-learning-2.5.0 wildlife-tools-0.0.9\n"
          ]
        }
      ]
    },
    {
      "cell_type": "code",
      "source": [
        "import timm\n",
        "import numpy as np\n",
        "from wildlife_datasets.datasets import MacaqueFaces\n",
        "from wildlife_tools.data import WildlifeDataset\n",
        "import torchvision.transforms as T\n",
        "from wildlife_datasets import datasets, splits\n",
        "from wildlife_tools.features import DeepFeatures\n",
        "from wildlife_tools.similarity import CosineSimilarity\n",
        "from wildlife_tools.inference import KnnClassifier\n",
        "from sklearn.metrics import precision_score, recall_score, f1_score"
      ],
      "metadata": {
        "id": "PHRR_DmkVL2S"
      },
      "execution_count": 4,
      "outputs": []
    },
    {
      "cell_type": "code",
      "source": [
        "from wildlife_tools.features import SIFTFeatures"
      ],
      "metadata": {
        "id": "SPYZGgm8WUZF"
      },
      "execution_count": null,
      "outputs": []
    },
    {
      "cell_type": "code",
      "source": [
        "\n",
        "# Download dataset (if not already downloaded)\n",
        "datasets.CowDataset.get_data('../data/CowDataset')\n",
        "\n",
        "# Load dataset metadata\n",
        "metadata_CZoo = datasets.CowDataset('../data/CowDataset')\n",
        "transform = T.Compose([T.Resize([224, 224]), T.ToTensor(), T.Normalize(mean=(0.485, 0.456, 0.406), std=(0.229, 0.224, 0.225))])\n",
        "dataset = WildlifeDataset(metadata_CZoo.df, metadata_CZoo.root, transform=transform)"
      ],
      "metadata": {
        "colab": {
          "base_uri": "https://localhost:8080/"
        },
        "id": "0CE2ZsWYVPTl",
        "outputId": "30967413-9abd-489f-9b5c-1fc5267c9d25"
      },
      "execution_count": null,
      "outputs": [
        {
          "output_type": "stream",
          "name": "stdout",
          "text": [
            "DATASET CowDataset: DOWNLOADING STARTED.\n"
          ]
        },
        {
          "output_type": "stream",
          "name": "stderr",
          "text": [
            "31210192: 4.45GB [02:41, 27.6MB/s]                            \n"
          ]
        },
        {
          "output_type": "stream",
          "name": "stdout",
          "text": [
            "DATASET CowDataset: EXTRACTING STARTED.\n",
            "DATASET CowDataset: FINISHED.\n",
            "\n"
          ]
        }
      ]
    },
    {
      "cell_type": "code",
      "source": [],
      "metadata": {
        "id": "4ZAMdyyTfosV"
      },
      "execution_count": null,
      "outputs": []
    },
    {
      "cell_type": "code",
      "source": [],
      "metadata": {
        "id": "GohxUMARfov7"
      },
      "execution_count": null,
      "outputs": []
    },
    {
      "cell_type": "code",
      "source": [
        "import numpy as np\n",
        "from PIL import Image\n",
        "import torchvision.transforms as T\n",
        "from wildlife_datasets import datasets\n",
        "from wildlife_tools.data import WildlifeDataset\n",
        "from wildlife_tools.features import SIFTFeatures\n",
        "import cv2  # Import OpenCV for SIFT\n",
        "\n",
        "# Download dataset (if not already downloaded)\n",
        "datasets.CowDataset.get_data('../data/CowDataset')\n",
        "\n",
        "# Load dataset metadata\n",
        "metadata_CZoo = datasets.CowDataset('../data/CowDataset')\n",
        "\n",
        "# Define transformations: resize, convert to PIL Image, convert to grayscale, and convert to numpy array\n",
        "transform = T.Compose([\n",
        "    T.Resize([224, 224]),  # Resize the image\n",
        "    # T.ToPILImage(),  # Convert tensor to PIL Image\n",
        "    T.Grayscale(),  # Convert to grayscale\n",
        "    # T.ToTensor(),  # Convert PIL Image to numpy array\n",
        "    # lambda x: (x * 255).astype(np.uint8)  # Convert to 8-bit integer format\n",
        "])\n",
        "\n",
        "# Create datasets with transformations\n",
        "dataset = WildlifeDataset(metadata_CZoo.df, metadata_CZoo.root, transform=transform)\n",
        "dataset_database_CZoo = WildlifeDataset(metadata_CZoo.df.iloc[100:], metadata_CZoo.root, transform=transform)\n",
        "dataset_query_CZoo = WildlifeDataset(metadata_CZoo.df.iloc[:100], metadata_CZoo.root, transform=transform)\n",
        "\n",
        "# Initialize SIFT extractor\n",
        "sift = cv2.SIFT_create()\n",
        "extractor_CZoo = SIFTFeatures()"
      ],
      "metadata": {
        "colab": {
          "base_uri": "https://localhost:8080/"
        },
        "id": "2rFHMUYifpRX",
        "outputId": "90613ef3-574d-419f-e992-8f097290920f"
      },
      "execution_count": null,
      "outputs": [
        {
          "output_type": "stream",
          "name": "stdout",
          "text": [
            "DATASET CowDataset: DOWNLOADING STARTED.\n",
            "You are trying to download an already downloaded dataset.\n",
            "        This message may have happened to due interrupted download or extract.\n",
            "        To force the download use the `force=True` keyword such as\n",
            "        get_data(..., force=True) or download(..., force=True).\n",
            "        \n"
          ]
        }
      ]
    },
    {
      "cell_type": "code",
      "source": [
        "query_CZoo, database_CZoo = extractor_CZoo(dataset_query_CZoo), extractor_CZoo(dataset_database_CZoo)"
      ],
      "metadata": {
        "colab": {
          "base_uri": "https://localhost:8080/"
        },
        "id": "_8X6Vz5kfsnJ",
        "outputId": "5941cda4-d978-4a8a-8a09-81d027193e5c"
      },
      "execution_count": null,
      "outputs": [
        {
          "output_type": "stream",
          "name": "stderr",
          "text": [
            "100%|█████████████████████████████████████████████████████████████| 100/100 [00:24<00:00,  4.07it/s]\n",
            "100%|███████████████████████████████████████████████████████████| 1385/1385 [06:44<00:00,  3.42it/s]\n"
          ]
        }
      ]
    },
    {
      "cell_type": "code",
      "source": [
        "print(f'First 5 query features shape: {[i.shape for i in query_CZoo[:5]]}')\n",
        "print(f'First 5 database features shape: {[i.shape for i in database_CZoo[:5]]}')"
      ],
      "metadata": {
        "colab": {
          "base_uri": "https://localhost:8080/"
        },
        "id": "qdlapQR2iX84",
        "outputId": "4f3eb557-151d-4ad8-c38f-6ce82f4d28a3"
      },
      "execution_count": null,
      "outputs": [
        {
          "output_type": "stream",
          "name": "stdout",
          "text": [
            "First 5 query features shape: [(633, 128), (535, 128), (363, 128), (445, 128), (704, 128)]\n",
            "First 5 database features shape: [(667, 128), (610, 128), (527, 128), (647, 128), (697, 128)]\n"
          ]
        }
      ]
    },
    {
      "cell_type": "code",
      "source": [
        "import timm\n",
        "import pandas as pd\n",
        "import torchvision.transforms as T\n",
        "\n",
        "from wildlife_tools.data import WildlifeDataset, SplitMetadata\n",
        "from wildlife_tools.features import SIFTFeatures\n",
        "from wildlife_tools.similarity import MatchDescriptors\n",
        "from wildlife_tools.inference import KnnClassifier"
      ],
      "metadata": {
        "id": "GNIRERxukJeJ"
      },
      "execution_count": null,
      "outputs": []
    },
    {
      "cell_type": "code",
      "source": [
        "similarity = MatchDescriptors(descriptor_dim=128, thresholds=[0.8])\n",
        "sim = similarity(query_CZoo, database_CZoo)[0.8]\n",
        "\n",
        "print(\"Number of SIFT correspondences after 0.8 ratio test threshold: \\n\", sim)"
      ],
      "metadata": {
        "colab": {
          "base_uri": "https://localhost:8080/"
        },
        "id": "EyoJ5VxKj9Ql",
        "outputId": "206493c6-bfcf-406c-80ed-bdc30a929696"
      },
      "execution_count": null,
      "outputs": [
        {
          "output_type": "stream",
          "name": "stderr",
          "text": [
            "100%|██████████████████████████████████████████████████████| 138500/138500 [06:00<00:00, 383.68it/s]"
          ]
        },
        {
          "output_type": "stream",
          "name": "stdout",
          "text": [
            "Number of SIFT correspondences after 0.8 ratio test threshold: \n",
            " [[120.  93.  88. ...  69.  94.  82.]\n",
            " [110. 101.  95. ...  76.  98.  93.]\n",
            " [107. 101.  87. ...  66.  93.  99.]\n",
            " ...\n",
            " [126. 108. 101. ...  75. 106.  86.]\n",
            " [106.  99.  71. ...  72.  93.  86.]\n",
            " [120.  86.  95. ...  81. 109. 128.]]\n"
          ]
        },
        {
          "output_type": "stream",
          "name": "stderr",
          "text": [
            "\n"
          ]
        }
      ]
    },
    {
      "cell_type": "code",
      "source": [
        "classifier_CZoo = KnnClassifier(k=1, database_labels=dataset_database_CZoo.labels_string)\n",
        "predictions_CZoo = classifier_CZoo(sim)\n",
        "\n",
        "print(\"Predictions for 100 test Images:-\\n\",predictions_CZoo)\n",
        "accuracy_CZoo = np.mean(dataset_query_CZoo.labels_string == predictions_CZoo)\n",
        "print(\"Accuracy on MacaqueFaces data: {:.2f}%\".format(accuracy_CZoo * 100))\n",
        "\n"
      ],
      "metadata": {
        "colab": {
          "base_uri": "https://localhost:8080/"
        },
        "id": "kXKlLcCQkwVJ",
        "outputId": "bf26862e-851c-4d04-a7bf-d76f0181a676"
      },
      "execution_count": null,
      "outputs": [
        {
          "output_type": "stream",
          "name": "stdout",
          "text": [
            "Predictions for 100 test Images:-\n",
            " ['2' '9' '2' '13' '1' '6' '4' '7' '1' '4' '10' '9' '13' '3' '6' '10' '6'\n",
            " '4' '2' '13' '6' '2' '2' '9' '8' '8' '4' '7' '2' '12' '6' '6' '2' '4' '5'\n",
            " '2' '7' '9' '4' '13' '9' '11' '1' '8' '8' '1' '9' '4' '3' '7' '12' '1'\n",
            " '2' '2' '5' '9' '13' '1' '10' '3' '11' '12' '5' '3' '6' '5' '13' '2' '7'\n",
            " '6' '8' '5' '3' '9' '8' '7' '2' '1' '11' '1' '6' '3' '12' '6' '3' '8'\n",
            " '10' '1' '7' '6' '1' '8' '6' '3' '11' '10' '10' '2' '3' '13']\n",
            "Accuracy on MacaqueFaces data: 94.00%\n"
          ]
        }
      ]
    },
    {
      "cell_type": "code",
      "source": [
        "# Nearest neigbour classifier using the similarity\n",
        "classifier = KnnClassifier(k=1, database_labels=dataset_database_CZoo.labels_string)\n",
        "preds = classifier(sim)\n",
        "print(\"Prediction \\t\", preds)\n",
        "print(\"Ground truth \\t\", dataset_query_CZoo.labels_string)\n",
        "\n",
        "acc = sum(preds == dataset_query_CZoo.labels_string) / len(dataset_query_CZoo.labels_string)\n",
        "print('\\n Accuracy: ', acc*100,\"%\")"
      ],
      "metadata": {
        "colab": {
          "base_uri": "https://localhost:8080/"
        },
        "id": "Kfcbeb0skRcj",
        "outputId": "abc7f724-ebb0-4515-d9ed-a308ee71842a"
      },
      "execution_count": null,
      "outputs": [
        {
          "output_type": "stream",
          "name": "stdout",
          "text": [
            "Prediction \t ['2' '9' '2' '13' '1' '6' '4' '7' '1' '4' '10' '9' '13' '3' '6' '10' '6'\n",
            " '4' '2' '13' '6' '2' '2' '9' '8' '8' '4' '7' '2' '12' '6' '6' '2' '4' '5'\n",
            " '2' '7' '9' '4' '13' '9' '11' '1' '8' '8' '1' '9' '4' '3' '7' '12' '1'\n",
            " '2' '2' '5' '9' '13' '1' '10' '3' '11' '12' '5' '3' '6' '5' '13' '2' '7'\n",
            " '6' '8' '5' '3' '9' '8' '7' '2' '1' '11' '1' '6' '3' '12' '6' '3' '8'\n",
            " '10' '1' '7' '6' '1' '8' '6' '3' '11' '10' '10' '2' '3' '13']\n",
            "Ground truth \t ['2' '9' '2' '13' '1' '6' '4' '7' '1' '4' '10' '9' '13' '3' '6' '10' '6'\n",
            " '4' '2' '13' '6' '2' '2' '9' '8' '8' '4' '7' '2' '12' '6' '6' '2' '4' '5'\n",
            " '2' '7' '9' '4' '5' '9' '11' '1' '8' '8' '1' '9' '4' '3' '7' '12' '1' '2'\n",
            " '5' '5' '9' '4' '1' '10' '3' '11' '12' '5' '3' '6' '5' '5' '2' '7' '11'\n",
            " '8' '5' '3' '9' '8' '7' '2' '1' '11' '1' '6' '3' '12' '6' '3' '8' '10'\n",
            " '11' '7' '6' '1' '8' '6' '3' '11' '10' '10' '2' '3' '13']\n",
            "\n",
            " Accuracy:  94.0 %\n"
          ]
        }
      ]
    },
    {
      "cell_type": "code",
      "source": [],
      "metadata": {
        "id": "yIxYHVrMtCp4"
      },
      "execution_count": null,
      "outputs": []
    },
    {
      "cell_type": "code",
      "source": [],
      "metadata": {
        "id": "lngQLlCqvWTt"
      },
      "execution_count": null,
      "outputs": []
    },
    {
      "cell_type": "markdown",
      "source": [],
      "metadata": {
        "id": "j6NHY0JwvWrL"
      }
    },
    {
      "cell_type": "code",
      "source": [
        "import numpy as np\n",
        "from PIL import Image\n",
        "import torchvision.transforms as T\n",
        "from wildlife_datasets import datasets\n",
        "from wildlife_tools.data import WildlifeDataset\n",
        "from wildlife_tools.features import SIFTFeatures\n",
        "import cv2  # Import OpenCV for SIFT\n",
        "\n",
        "# Download dataset (if not already downloaded)\n",
        "datasets.CZoo.get_data('../data/CZoo')\n",
        "\n",
        "# Load dataset metadata\n",
        "metadata_CZoo = datasets.CZoo('../data/CZoo')\n",
        "\n",
        "# Define transformations: resize, convert to PIL Image, convert to grayscale, and convert to numpy array\n",
        "transform = T.Compose([\n",
        "    T.Resize([224, 224]),  # Resize the image\n",
        "    # T.ToPILImage(),  # Convert tensor to PIL Image\n",
        "    T.Grayscale(),  # Convert to grayscale\n",
        "    # T.ToTensor(),  # Convert PIL Image to numpy array\n",
        "    # lambda x: (x * 255).astype(np.uint8)  # Convert to 8-bit integer format\n",
        "])\n",
        "\n",
        "# Create datasets with transformations\n",
        "dataset = WildlifeDataset(metadata_CZoo.df, metadata_CZoo.root, transform=transform)\n",
        "dataset_database_CZoo = WildlifeDataset(metadata_CZoo.df.iloc[100:], metadata_CZoo.root, transform=transform)\n",
        "dataset_query_CZoo = WildlifeDataset(metadata_CZoo.df.iloc[:100], metadata_CZoo.root, transform=transform)\n",
        "\n",
        "# Initialize SIFT extractor\n",
        "sift = cv2.SIFT_create()\n",
        "extractor_CZoo = SIFTFeatures()\n",
        "\n",
        "query_CZoo, database_CZoo = extractor_CZoo(dataset_query_CZoo), extractor_CZoo(dataset_database_CZoo)\n",
        "\n",
        "print(f'First 5 query features shape: {[i.shape for i in query_CZoo[:5]]}')\n",
        "print(f'First 5 database features shape: {[i.shape for i in database_CZoo[:5]]}')\n",
        "\n",
        "import timm\n",
        "import pandas as pd\n",
        "import torchvision.transforms as T\n",
        "\n",
        "from wildlife_tools.data import WildlifeDataset, SplitMetadata\n",
        "from wildlife_tools.features import SIFTFeatures\n",
        "from wildlife_tools.similarity import MatchDescriptors\n",
        "from wildlife_tools.inference import KnnClassifier\n",
        "\n",
        "similarity = MatchDescriptors(descriptor_dim=128, thresholds=[0.8])\n",
        "sim = similarity(query_CZoo, database_CZoo)[0.8]\n",
        "\n",
        "print(\"Number of SIFT correspondences after 0.8 ratio test threshold: \\n\", sim)\n",
        "\n",
        "\n",
        "classifier_CZoo = KnnClassifier(k=1, database_labels=dataset_database_CZoo.labels_string)\n",
        "predictions_CZoo = classifier_CZoo(sim)\n",
        "\n",
        "print(\"Predictions for 100 test Images:-\\n\",predictions_CZoo)\n",
        "accuracy_CZoo = np.mean(dataset_query_CZoo.labels_string == predictions_CZoo)\n",
        "print(\"Accuracy on CZoo data: {:.2f}%\".format(accuracy_CZoo * 100))\n",
        "\n",
        "\n",
        "\n",
        "# Nearest neigbour classifier using the similarity\n",
        "classifier = KnnClassifier(k=1, database_labels=dataset_database_CZoo.labels_string)\n",
        "preds = classifier(sim)\n",
        "print(\"Prediction \\t\", preds)\n",
        "print(\"Ground truth \\t\", dataset_query_CZoo.labels_string)\n",
        "\n",
        "acc = sum(preds == dataset_query_CZoo.labels_string) / len(dataset_query_CZoo.labels_string)\n",
        "print('\\n Accuracy: ', acc*100,\"%\")\n",
        "\n"
      ],
      "metadata": {
        "colab": {
          "base_uri": "https://localhost:8080/"
        },
        "id": "aSutCxmovXGN",
        "outputId": "00f0f3bd-cf37-4a72-a29a-30ad3df7ac06"
      },
      "execution_count": null,
      "outputs": [
        {
          "output_type": "stream",
          "name": "stdout",
          "text": [
            "DATASET CZoo: DOWNLOADING STARTED.\n",
            "You are trying to download an already downloaded dataset.\n",
            "        This message may have happened to due interrupted download or extract.\n",
            "        To force the download use the `force=True` keyword such as\n",
            "        get_data(..., force=True) or download(..., force=True).\n",
            "        \n"
          ]
        },
        {
          "output_type": "stream",
          "name": "stderr",
          "text": [
            "100%|█████████████████████████████████████████████████████████████| 100/100 [00:05<00:00, 17.59it/s]\n",
            "100%|███████████████████████████████████████████████████████████| 2009/2009 [00:55<00:00, 36.42it/s]\n"
          ]
        },
        {
          "output_type": "stream",
          "name": "stdout",
          "text": [
            "First 5 query features shape: [(218, 128), (177, 128), (192, 128), (185, 128), (140, 128)]\n",
            "First 5 database features shape: [(529, 128), (752, 128), (792, 128), (257, 128), (403, 128)]\n"
          ]
        },
        {
          "output_type": "stream",
          "name": "stderr",
          "text": [
            "100%|█████████████████████████████████████████████████████| 200900/200900 [02:18<00:00, 1454.03it/s]"
          ]
        },
        {
          "output_type": "stream",
          "name": "stdout",
          "text": [
            "Number of SIFT correspondences after 0.8 ratio test threshold: \n",
            " [[ 79. 118.  79. ...  63.  32.  62.]\n",
            " [ 85. 108. 108. ...  65.  31.  68.]\n",
            " [ 66. 122. 115. ...  77.  44.  62.]\n",
            " ...\n",
            " [ 59. 125.  98. ...  85.  34.  51.]\n",
            " [ 73. 114. 104. ...  50.  42.  58.]\n",
            " [ 87. 127. 128. ...  66.  44.  50.]]\n",
            "Predictions for 100 test Images:-\n",
            " ['Alex' 'Jahaga' 'Riet' 'Jahaga' 'Gertrudia' 'Jahaga' 'Fraukje' 'Riet'\n",
            " 'Alex' 'Alex' 'Riet' 'Riet' 'Alex' 'Fraukje' 'Jahaga' 'Alex' 'Alex'\n",
            " 'Fraukje' 'Alex' 'Jahaga' 'Alex' 'Jahaga' 'Annett' 'Jahaga' 'Gertrudia'\n",
            " 'Gertrudia' 'Alex' 'Jahaga' 'Alex' 'Fraukje' 'Fraukje' 'Riet' 'Gertrudia'\n",
            " 'Riet' 'Gertrudia' 'Alex' 'Fraukje' 'Annett' 'Annett' 'Jahaga' 'Jahaga'\n",
            " 'Jahaga' 'Alex' 'Riet' 'Alex' 'Jahaga' 'Gertrudia' 'Riet' 'Gertrudia'\n",
            " 'Jahaga' 'Fraukje' 'Gertrudia' 'Riet' 'Riet' 'Gertrudia' 'Gertrudia'\n",
            " 'Gertrudia' 'Annett' 'Jahaga' 'Jahaga' 'Annett' 'Riet' 'Fraukje' 'Jahaga'\n",
            " 'Gertrudia' 'Annett' 'Annett' 'Gertrudia' 'Annett' 'Jahaga' 'Alex'\n",
            " 'Gertrudia' 'Jahaga' 'Jahaga' 'Alex' 'Alex' 'Jahaga' 'Riet' 'Alex'\n",
            " 'Jahaga' 'Jahaga' 'Jahaga' 'Gertrudia' 'Jahaga' 'Annett' 'Jahaga'\n",
            " 'Gertrudia' 'Fraukje' 'Jahaga' 'Jahaga' 'Jahaga' 'Fraukje' 'Jahaga'\n",
            " 'Gertrudia' 'Fraukje' 'Jahaga' 'Alex' 'Alex' 'Alex' 'Alex']\n",
            "Accuracy on CZoo data: 13.00%\n",
            "Prediction \t ['Alex' 'Jahaga' 'Riet' 'Jahaga' 'Gertrudia' 'Jahaga' 'Fraukje' 'Riet'\n",
            " 'Alex' 'Alex' 'Riet' 'Riet' 'Alex' 'Fraukje' 'Jahaga' 'Alex' 'Alex'\n",
            " 'Fraukje' 'Alex' 'Jahaga' 'Alex' 'Jahaga' 'Annett' 'Jahaga' 'Gertrudia'\n",
            " 'Gertrudia' 'Alex' 'Jahaga' 'Alex' 'Fraukje' 'Fraukje' 'Riet' 'Gertrudia'\n",
            " 'Riet' 'Gertrudia' 'Alex' 'Fraukje' 'Annett' 'Annett' 'Jahaga' 'Jahaga'\n",
            " 'Jahaga' 'Alex' 'Riet' 'Alex' 'Jahaga' 'Gertrudia' 'Riet' 'Gertrudia'\n",
            " 'Jahaga' 'Fraukje' 'Gertrudia' 'Riet' 'Riet' 'Gertrudia' 'Gertrudia'\n",
            " 'Gertrudia' 'Annett' 'Jahaga' 'Jahaga' 'Annett' 'Riet' 'Fraukje' 'Jahaga'\n",
            " 'Gertrudia' 'Annett' 'Annett' 'Gertrudia' 'Annett' 'Jahaga' 'Alex'\n",
            " 'Gertrudia' 'Jahaga' 'Jahaga' 'Alex' 'Alex' 'Jahaga' 'Riet' 'Alex'\n",
            " 'Jahaga' 'Jahaga' 'Jahaga' 'Gertrudia' 'Jahaga' 'Annett' 'Jahaga'\n",
            " 'Gertrudia' 'Fraukje' 'Jahaga' 'Jahaga' 'Jahaga' 'Fraukje' 'Jahaga'\n",
            " 'Gertrudia' 'Fraukje' 'Jahaga' 'Alex' 'Alex' 'Alex' 'Alex']\n",
            "Ground truth \t ['Alex' 'Alex' 'Alex' 'Jahaga' 'Jahaga' 'Alex' 'Alex' 'Jahaga' 'Alex'\n",
            " 'Jahaga' 'Alex' 'Alex' 'Alex' 'Alex' 'Alex' 'Alex' 'Alex' 'Alex' 'Alex'\n",
            " 'Alex' 'Alex' 'Alex' 'Alexandra' 'Alexandra' 'Alexandra' 'Alexandra'\n",
            " 'Alexandra' 'Alexandra' 'Alexandra' 'Alexandra' 'Alexandra' 'Alexandra'\n",
            " 'Alexandra' 'Gertrudia' 'Gertrudia' 'Gertrudia' 'Alexandra' 'Alexandra'\n",
            " 'Alexandra' 'Alexandra' 'Alexandra' 'Alexandra' 'Alexandra' 'Alexandra'\n",
            " 'Alexandra' 'Annett' 'Annett' 'Alexandra' 'Alexandra' 'Alexandra'\n",
            " 'Alexandra' 'Alexandra' 'Alexandra' 'Alexandra' 'Alexandra' 'Alexandra'\n",
            " 'Alexandra' 'Alexandra' 'Alexandra' 'Alexandra' 'Alexandra' 'Alexandra'\n",
            " 'Alexandra' 'Alexandra' 'Alexandra' 'Alexandra' 'Alexandra' 'Alexandra'\n",
            " 'Alexandra' 'Alexandra' 'Alexandra' 'Alexandra' 'Alexandra' 'Alexandra'\n",
            " 'Alexandra' 'Alexandra' 'Alexandra' 'Alexandra' 'Alexandra' 'Alexandra'\n",
            " 'Alexandra' 'Alexandra' 'Alexandra' 'Alexandra' 'Alexandra' 'Alexandra'\n",
            " 'Alexandra' 'Alexandra' 'Alexandra' 'Alexandra' 'Alexandra' 'Alexandra'\n",
            " 'Alexandra' 'Alexandra' 'Alex' 'Alex' 'Alex' 'Alex' 'Alex' 'Alex']\n",
            "\n",
            " Accuracy:  13.0 %\n"
          ]
        },
        {
          "output_type": "stream",
          "name": "stderr",
          "text": [
            "\n"
          ]
        }
      ]
    },
    {
      "cell_type": "markdown",
      "source": [],
      "metadata": {
        "id": "XKT8TMQV1_aI"
      }
    },
    {
      "cell_type": "code",
      "source": [
        "# Download dataset (if not already downloaded)\n",
        "datasets.IPanda50.get_data('../data/IPanda50')\n",
        "# Load dataset metadata\n",
        "metadata = datasets.IPanda50('../data/IPanda50')\n",
        "transform = T.Compose([T.Resize([224, 224]), T.ToTensor(), T.Normalize(mean=(0.485, 0.456, 0.406), std=(0.229, 0.224, 0.225))])\n",
        "dataset = WildlifeDataset(metadata.df, metadata.root, transform=transform)"
      ],
      "metadata": {
        "colab": {
          "base_uri": "https://localhost:8080/"
        },
        "id": "7YUpeUJY1_DJ",
        "outputId": "606861a7-fc2d-4110-f201-a42e2ff53881"
      },
      "execution_count": null,
      "outputs": [
        {
          "output_type": "stream",
          "name": "stdout",
          "text": [
            "DATASET IPanda50: DOWNLOADING STARTED.\n"
          ]
        },
        {
          "output_type": "stream",
          "name": "stderr",
          "text": [
            "Downloading...\n",
            "From (original): https://drive.google.com/uc?id=1nkh-g6a8JvWy-XsMaZqrN2AXoPlaXuFg\n",
            "From (redirected): https://drive.google.com/uc?id=1nkh-g6a8JvWy-XsMaZqrN2AXoPlaXuFg&confirm=t&uuid=389a70d9-7ff1-4463-a2cf-be3751456328\n",
            "To: /data/IPanda50/iPanda50-images.zip\n",
            "100%|██████████| 926M/926M [00:16<00:00, 56.0MB/s]\n",
            "Downloading...\n",
            "From: https://drive.google.com/uc?id=1gVREtFWkNec4xwqOyKkpuIQIyWU_Y_Ob\n",
            "To: /data/IPanda50/iPanda50-split.zip\n",
            "100%|██████████| 140k/140k [00:00<00:00, 4.51MB/s]\n",
            "Downloading...\n",
            "From: https://drive.google.com/uc?id=1jdACN98uOxedZDT-6X3rpbooLAAUEbNY\n",
            "To: /data/IPanda50/iPanda50-eyes-labels.zip\n",
            "100%|██████████| 2.55M/2.55M [00:00<00:00, 21.3MB/s]\n"
          ]
        },
        {
          "output_type": "stream",
          "name": "stdout",
          "text": [
            "DATASET IPanda50: EXTRACTING STARTED.\n",
            "DATASET IPanda50: FINISHED.\n",
            "\n"
          ]
        }
      ]
    },
    {
      "cell_type": "code",
      "source": [
        "import numpy as np\n",
        "from PIL import Image\n",
        "import torchvision.transforms as T\n",
        "from wildlife_datasets import datasets\n",
        "from wildlife_tools.data import WildlifeDataset\n",
        "from wildlife_tools.features import SIFTFeatures\n",
        "import cv2  # Import OpenCV for SIFT\n",
        "\n",
        "# Download dataset (if not already downloaded)\n",
        "datasets.IPanda50.get_data('../data/Ipanda50')\n",
        "\n",
        "# Load dataset metadata\n",
        "metadata_Ipanda50 = datasets.IPanda50('../data/Ipanda50')\n",
        "\n",
        "# Define transformations: resize, convert to PIL Image, convert to grayscale, and convert to numpy array\n",
        "transform = T.Compose([\n",
        "    T.Resize([224, 224]),  # Resize the image\n",
        "    # T.ToPILImage(),  # Convert tensor to PIL Image\n",
        "    T.Grayscale(),  # Convert to grayscale\n",
        "    # T.ToTensor(),  # Convert PIL Image to numpy array\n",
        "    # lambda x: (x * 255).astype(np.uint8)  # Convert to 8-bit integer format\n",
        "])\n",
        "\n",
        "# Create datasets with transformations\n",
        "dataset = WildlifeDataset(metadata_Ipanda50.df, metadata_Ipanda50.root, transform=transform)\n",
        "dataset_database_Ipanda50 = WildlifeDataset(metadata_Ipanda50.df.iloc[100:], metadata_Ipanda50.root, transform=transform)\n",
        "dataset_query_Ipanda50 = WildlifeDataset(metadata_Ipanda50.df.iloc[:100], metadata_Ipanda50.root, transform=transform)\n",
        "\n",
        "# Initialize SIFT extractor\n",
        "sift = cv2.SIFT_create()\n",
        "extractor_Ipanda50 = SIFTFeatures()\n",
        "\n",
        "query_Ipanda50, database_Ipanda50 = extractor_Ipanda50(dataset_query_Ipanda50), extractor_Ipanda50(dataset_database_Ipanda50)\n",
        "\n",
        "print(f'First 5 query features shape: {[i.shape for i in query_Ipanda50[:5]]}')\n",
        "print(f'First 5 database features shape: {[i.shape for i in database_Ipanda50[:5]]}')\n",
        "\n",
        "import timm\n",
        "import pandas as pd\n",
        "import torchvision.transforms as T\n",
        "\n",
        "from wildlife_tools.data import WildlifeDataset, SplitMetadata\n",
        "from wildlife_tools.features import SIFTFeatures\n",
        "from wildlife_tools.similarity import MatchDescriptors\n",
        "from wildlife_tools.inference import KnnClassifier\n",
        "\n",
        "similarity = MatchDescriptors(descriptor_dim=128, thresholds=[0.8])\n",
        "sim = similarity(query_Ipanda50, database_Ipanda50)[0.8]\n",
        "\n",
        "print(\"Number of SIFT correspondences after 0.8 ratio test threshold: \\n\", sim)\n",
        "\n",
        "\n",
        "classifier_Ipanda50 = KnnClassifier(k=1, database_labels=dataset_database_Ipanda50.labels_string)\n",
        "predictions_Ipanda50 = classifier_Ipanda50(sim)\n",
        "\n",
        "print(\"Predictions for 100 test Images:-\\n\",predictions_Ipanda50)\n",
        "accuracy_Ipanda50 = np.mean(dataset_query_Ipanda50.labels_string == predictions_Ipanda50)\n",
        "print(\"Accuracy on Ipanda50 data: {:.2f}%\".format(accuracy_Ipanda50 * 100))\n",
        "\n",
        "\n",
        "\n",
        "# Nearest neigbour classifier using the similarity\n",
        "classifier = KnnClassifier(k=1, database_labels=dataset_database_Ipanda50.labels_string)\n",
        "preds = classifier(sim)\n",
        "print(\"Prediction \\t\", preds)\n",
        "print(\"Ground truth \\t\", dataset_query_Ipanda50.labels_string)\n",
        "\n",
        "acc = sum(preds == dataset_query_Ipanda50.labels_string) / len(dataset_query_Ipanda50.labels_string)\n",
        "print('\\n Accuracy: ', acc*100,\"%\")\n",
        "\n"
      ],
      "metadata": {
        "colab": {
          "base_uri": "https://localhost:8080/"
        },
        "id": "4mNZD8Nw1S6z",
        "outputId": "3c39a646-934d-4c29-fc94-283af93143ee"
      },
      "execution_count": null,
      "outputs": [
        {
          "output_type": "stream",
          "name": "stdout",
          "text": [
            "DATASET IPanda50: DOWNLOADING STARTED.\n"
          ]
        },
        {
          "output_type": "stream",
          "name": "stderr",
          "text": [
            "Downloading...\n",
            "From (original): https://drive.google.com/uc?id=1nkh-g6a8JvWy-XsMaZqrN2AXoPlaXuFg\n",
            "From (redirected): https://drive.google.com/uc?id=1nkh-g6a8JvWy-XsMaZqrN2AXoPlaXuFg&confirm=t&uuid=1c9ceb20-4ebd-40ab-9cc3-6b3f79c4e4ba\n",
            "To: /data/Ipanda50/iPanda50-images.zip\n",
            "100%|██████████| 926M/926M [00:07<00:00, 116MB/s]\n",
            "Downloading...\n",
            "From: https://drive.google.com/uc?id=1gVREtFWkNec4xwqOyKkpuIQIyWU_Y_Ob\n",
            "To: /data/Ipanda50/iPanda50-split.zip\n",
            "100%|██████████| 140k/140k [00:00<00:00, 4.59MB/s]\n",
            "Downloading...\n",
            "From: https://drive.google.com/uc?id=1jdACN98uOxedZDT-6X3rpbooLAAUEbNY\n",
            "To: /data/Ipanda50/iPanda50-eyes-labels.zip\n",
            "100%|██████████| 2.55M/2.55M [00:00<00:00, 21.7MB/s]\n"
          ]
        },
        {
          "output_type": "stream",
          "name": "stdout",
          "text": [
            "DATASET IPanda50: EXTRACTING STARTED.\n",
            "DATASET IPanda50: FINISHED.\n",
            "\n"
          ]
        },
        {
          "output_type": "stream",
          "name": "stderr",
          "text": [
            "100%|█████████████████████████████████████████████████████████████| 100/100 [00:04<00:00, 21.78it/s]\n",
            "100%|███████████████████████████████████████████████████████████| 6774/6774 [04:13<00:00, 26.68it/s]\n"
          ]
        },
        {
          "output_type": "stream",
          "name": "stdout",
          "text": [
            "First 5 query features shape: [(179, 128), (320, 128), (431, 128), (410, 128), (272, 128)]\n",
            "First 5 database features shape: [(302, 128), (171, 128), (533, 128), (312, 128), (159, 128)]\n"
          ]
        },
        {
          "output_type": "stream",
          "name": "stderr",
          "text": [
            "100%|██████████████████████████████████████████████████████| 677400/677400 [12:07<00:00, 931.15it/s]"
          ]
        },
        {
          "output_type": "stream",
          "name": "stdout",
          "text": [
            "Number of SIFT correspondences after 0.8 ratio test threshold: \n",
            " [[ 46.  43.  95. ...  89.  53.  64.]\n",
            " [ 62.  34. 103. ...  86.  50.  70.]\n",
            " [ 55.  23.  86. ...  80.  41.  72.]\n",
            " ...\n",
            " [ 45.  32.  91. ...  79.  54.  75.]\n",
            " [ 49.  26.  62. ...  85.  40.  63.]\n",
            " [ 48.  33.  76. ... 103.  55.  66.]]\n",
            "Predictions for 100 test Images:-\n",
            " ['22_nini' '35_xilan' '35_xilan' '35_xilan' '35_xilan' '22_nini'\n",
            " '09_fushun' '35_xilan' '46_yazhu' '22_nini' '08_fulai' '35_xilan'\n",
            " '35_xilan' '39_xinghui' '35_xilan' '35_xilan' '14_maodou' '45_yayun'\n",
            " '35_xilan' '35_xilan' '35_xilan' '35_xilan' '35_xilan' '00_aibang'\n",
            " '35_xilan' '15_maosun' '16_maotao' '00_aibang' '35_xilan' '02_baolan'\n",
            " '35_xilan' '22_nini' '35_xilan' '35_xilan' '00_aibang' '35_xilan'\n",
            " '35_xilan' '02_baolan' '00_aibang' '26_qiyuan' '35_xilan' '35_xilan'\n",
            " '08_fulai' '35_xilan' '35_xilan' '00_aibang' '35_xilan' '35_xilan'\n",
            " '14_maodou' '22_nini' '35_xilan' '46_yazhu' '35_xilan' '23_qiubang'\n",
            " '35_xilan' '35_xilan' '02_baolan' '35_xilan' '35_xilan' '35_xilan'\n",
            " '15_maosun' '35_xilan' '35_xilan' '36_xingda' '16_maotao' '35_xilan'\n",
            " '35_xilan' '35_xilan' '22_nini' '30_shuqing' '00_aibang' '35_xilan'\n",
            " '14_maodou' '15_maosun' '35_xilan' '35_xilan' '27_rourou' '30_shuqing'\n",
            " '18_miaomiao' '35_xilan' '35_xilan' '16_maotao' '22_nini' '35_xilan'\n",
            " '45_yayun' '35_xilan' '22_nini' '40_xingrong' '35_xilan' '35_xilan'\n",
            " '22_nini' '00_aibang' '35_xilan' '22_nini' '28_sa' '00_aibang'\n",
            " '39_xinghui' '35_xilan' '35_xilan' '30_shuqing']\n",
            "Accuracy on Ipanda50 data: 25.00%\n",
            "Prediction \t ['22_nini' '35_xilan' '35_xilan' '35_xilan' '35_xilan' '22_nini'\n",
            " '09_fushun' '35_xilan' '46_yazhu' '22_nini' '08_fulai' '35_xilan'\n",
            " '35_xilan' '39_xinghui' '35_xilan' '35_xilan' '14_maodou' '45_yayun'\n",
            " '35_xilan' '35_xilan' '35_xilan' '35_xilan' '35_xilan' '00_aibang'\n",
            " '35_xilan' '15_maosun' '16_maotao' '00_aibang' '35_xilan' '02_baolan'\n",
            " '35_xilan' '22_nini' '35_xilan' '35_xilan' '00_aibang' '35_xilan'\n",
            " '35_xilan' '02_baolan' '00_aibang' '26_qiyuan' '35_xilan' '35_xilan'\n",
            " '08_fulai' '35_xilan' '35_xilan' '00_aibang' '35_xilan' '35_xilan'\n",
            " '14_maodou' '22_nini' '35_xilan' '46_yazhu' '35_xilan' '23_qiubang'\n",
            " '35_xilan' '35_xilan' '02_baolan' '35_xilan' '35_xilan' '35_xilan'\n",
            " '15_maosun' '35_xilan' '35_xilan' '36_xingda' '16_maotao' '35_xilan'\n",
            " '35_xilan' '35_xilan' '22_nini' '30_shuqing' '00_aibang' '35_xilan'\n",
            " '14_maodou' '15_maosun' '35_xilan' '35_xilan' '27_rourou' '30_shuqing'\n",
            " '18_miaomiao' '35_xilan' '35_xilan' '16_maotao' '22_nini' '35_xilan'\n",
            " '45_yayun' '35_xilan' '22_nini' '40_xingrong' '35_xilan' '35_xilan'\n",
            " '22_nini' '00_aibang' '35_xilan' '22_nini' '28_sa' '00_aibang'\n",
            " '39_xinghui' '35_xilan' '35_xilan' '30_shuqing']\n",
            "Ground truth \t ['36_xingda' '37_xinger' '01_aoliao' '33_wuyi' '47_yingying' '15_maosun'\n",
            " '09_fushun' '10_hexing' '36_xingda' '19_nannan' '08_fulai' '31_shurong'\n",
            " '44_yayi' '39_xinghui' '28_sa' '14_maodou' '14_maodou' '00_aibang'\n",
            " '21_nina' '35_xilan' '19_nannan' '33_wuyi' '47_yingying' '49_yuanrun'\n",
            " '36_xingda' '34_xiaoqiao' '16_maotao' '48_yongbang' '11_jiaoao'\n",
            " '49_yuanrun' '36_xingda' '28_sa' '35_xilan' '35_xilan' '02_baolan'\n",
            " '31_shurong' '31_shurong' '02_baolan' '23_qiubang' '26_qiyuan'\n",
            " '04_chengdui' '35_xilan' '08_fulai' '00_aibang' '28_sa' '29_shuangxiong'\n",
            " '46_yazhu' '44_yayi' '14_maodou' '30_shuqing' '36_xingda' '39_xinghui'\n",
            " '33_wuyi' '10_hexing' '10_hexing' '00_aibang' '49_yuanrun' '35_xilan'\n",
            " '04_chengdui' '10_hexing' '39_xinghui' '36_xingda' '37_xinger'\n",
            " '36_xingda' '16_maotao' '22_nini' '00_aibang' '39_xinghui' '10_hexing'\n",
            " '17_meibang' '00_aibang' '28_sa' '14_maodou' '15_maosun' '32_susu'\n",
            " '26_qiyuan' '27_rourou' '23_qiubang' '18_miaomiao' '48_yongbang'\n",
            " '46_yazhu' '16_maotao' '33_wuyi' '13_jingliang' '37_xinger' '08_fulai'\n",
            " '09_fushun' '40_xingrong' '22_nini' '49_yuanrun' '09_fushun' '28_sa'\n",
            " '48_yongbang' '47_yingying' '28_sa' '15_maosun' '39_xinghui' '20_nike'\n",
            " '43_yaxing' '47_yingying']\n",
            "\n",
            " Accuracy:  25.0 %\n"
          ]
        },
        {
          "output_type": "stream",
          "name": "stderr",
          "text": [
            "\n"
          ]
        }
      ]
    },
    {
      "cell_type": "code",
      "source": [],
      "metadata": {
        "id": "FqWw6_B6yVsq"
      },
      "execution_count": null,
      "outputs": []
    },
    {
      "cell_type": "code",
      "source": [],
      "metadata": {
        "id": "b7uN3BdFGRei"
      },
      "execution_count": null,
      "outputs": []
    },
    {
      "cell_type": "markdown",
      "source": [
        "Liondata"
      ],
      "metadata": {
        "id": "r1acC952GSHB"
      }
    },
    {
      "cell_type": "code",
      "source": [
        "import numpy as np\n",
        "from PIL import Image\n",
        "import torchvision.transforms as T\n",
        "from wildlife_datasets import datasets\n",
        "from wildlife_tools.data import WildlifeDataset\n",
        "from wildlife_tools.features import SIFTFeatures\n",
        "import cv2  # Import OpenCV for SIFT\n",
        "\n",
        "# Download dataset (if not already downloaded)\n",
        "datasets.LionData.get_data('../data/LionData')\n",
        "\n",
        "# Load dataset metadata\n",
        "metadata_LionData = datasets.LionData('../data/LionData')\n",
        "\n",
        "# Define transformations: resize, convert to PIL Image, convert to grayscale, and convert to numpy array\n",
        "transform = T.Compose([\n",
        "    T.Resize([224, 224]),  # Resize the image\n",
        "    # T.ToPILImage(),  # Convert tensor to PIL Image\n",
        "    T.Grayscale(),  # Convert to grayscale\n",
        "    # T.ToTensor(),  # Convert PIL Image to numpy array\n",
        "    # lambda x: (x * 255).astype(np.uint8)  # Convert to 8-bit integer format\n",
        "])\n",
        "\n",
        "# Create datasets with transformations\n",
        "dataset = WildlifeDataset(metadata_LionData.df, metadata_LionData.root, transform=transform)\n",
        "dataset_database_LionData = WildlifeDataset(metadata_LionData.df.iloc[100:], metadata_LionData.root, transform=transform)\n",
        "dataset_query_LionData = WildlifeDataset(metadata_LionData.df.iloc[:100], metadata_LionData.root, transform=transform)\n",
        "\n",
        "# Initialize SIFT extractor\n",
        "sift = cv2.SIFT_create()\n",
        "extractor_LionData = SIFTFeatures()\n",
        "\n",
        "query_LionData, database_LionData = extractor_LionData(dataset_query_LionData), extractor_LionData(dataset_database_LionData)\n",
        "\n",
        "print(f'First 5 query features shape: {[i.shape for i in query_LionData[:5]]}')\n",
        "print(f'First 5 database features shape: {[i.shape for i in database_LionData[:5]]}')\n",
        "\n",
        "import timm\n",
        "import pandas as pd\n",
        "import torchvision.transforms as T\n",
        "\n",
        "from wildlife_tools.data import WildlifeDataset, SplitMetadata\n",
        "from wildlife_tools.features import SIFTFeatures\n",
        "from wildlife_tools.similarity import MatchDescriptors\n",
        "from wildlife_tools.inference import KnnClassifier\n",
        "\n",
        "similarity = MatchDescriptors(descriptor_dim=128, thresholds=[0.6])\n",
        "sim = similarity(query_LionData, database_LionData)[0.6]\n",
        "\n",
        "print(\"Number of SIFT correspondences after 0.8 ratio test threshold: \\n\", sim)\n",
        "\n",
        "\n",
        "classifier_LionData = KnnClassifier(k=1, database_labels=dataset_database_LionData.labels_string)\n",
        "predictions_LionData = classifier_LionData(sim)\n",
        "\n",
        "print(\"Predictions for 100 test Images:-\\n\",predictions_LionData)\n",
        "accuracy_LionData = np.mean(dataset_query_LionData.labels_string == predictions_LionData)\n",
        "print(\"Accuracy on LionData data: {:.2f}%\".format(accuracy_LionData * 100))\n",
        "\n",
        "\n",
        "\n",
        "# Nearest neigbour classifier using the similarity\n",
        "classifier = KnnClassifier(k=1, database_labels=dataset_database_LionData.labels_string)\n",
        "preds = classifier(sim)\n",
        "print(\"Prediction \\t\", preds)\n",
        "print(\"Ground truth \\t\", dataset_query_LionData.labels_string)\n",
        "\n",
        "acc = sum(preds == dataset_query_LionData.labels_string) / len(dataset_query_LionData.labels_string)\n",
        "print('\\n Accuracy: ', acc*100,\"%\")\n",
        "\n"
      ],
      "metadata": {
        "colab": {
          "base_uri": "https://localhost:8080/"
        },
        "id": "WUY1BsLJGTw-",
        "outputId": "888ab873-867b-4f1f-912d-e17b84040c38"
      },
      "execution_count": 7,
      "outputs": [
        {
          "output_type": "stream",
          "name": "stdout",
          "text": [
            "DATASET LionData: DOWNLOADING STARTED.\n",
            "You are trying to download an already downloaded dataset.\n",
            "        This message may have happened to due interrupted download or extract.\n",
            "        To force the download use the `force=True` keyword such as\n",
            "        get_data(..., force=True) or download(..., force=True).\n",
            "        \n"
          ]
        },
        {
          "output_type": "stream",
          "name": "stderr",
          "text": [
            "100%|█████████████████████████████████████████████████████████████| 100/100 [00:01<00:00, 57.61it/s]\n",
            "100%|█████████████████████████████████████████████████████████████| 640/640 [00:13<00:00, 46.12it/s]\n"
          ]
        },
        {
          "output_type": "stream",
          "name": "stdout",
          "text": [
            "First 5 query features shape: [(262, 128), (132, 128), (285, 128), (236, 128), (135, 128)]\n",
            "First 5 database features shape: [(297, 128), (217, 128), (175, 128), (173, 128), (160, 128)]\n"
          ]
        },
        {
          "output_type": "stream",
          "name": "stderr",
          "text": [
            "100%|███████████████████████████████████████████████████████| 64000/64000 [00:39<00:00, 1625.03it/s]"
          ]
        },
        {
          "output_type": "stream",
          "name": "stdout",
          "text": [
            "Number of SIFT correspondences after 0.8 ratio test threshold: \n",
            " [[1. 1. 2. ... 2. 2. 2.]\n",
            " [4. 3. 0. ... 1. 3. 4.]\n",
            " [5. 4. 1. ... 2. 2. 3.]\n",
            " ...\n",
            " [5. 5. 1. ... 3. 2. 5.]\n",
            " [5. 2. 4. ... 2. 5. 7.]\n",
            " [1. 7. 1. ... 5. 6. 2.]]\n",
            "Predictions for 100 test Images:-\n",
            " ['Saruni' 'Arria' 'Amber' 'Opi' 'Jamal' 'Moswen' 'Empurra' 'Enkume' 'Supu'\n",
            " 'Yieyio' 'Mama-Kali' 'Sangiki' 'Sero' 'Chaimu' 'Simaloi' 'Lolparpit'\n",
            " 'Chaimu' 'Naape' 'Empurra' 'Opi' 'Romeo' 'Chaimu' 'Naini' 'Nguro'\n",
            " 'Esiriwua' 'Nguro' 'Ayo' 'Enderoni' 'Spring' 'Sero' 'Opi' 'Enadalut'\n",
            " 'Bibi' 'Tikki' 'Chaimu' 'Opi' 'Dada' 'Saruni' 'Safi' 'Saruni' 'Spring'\n",
            " 'Samir' 'Lolparpit' 'Saba' 'Kinna' 'Senteu' 'Namunyak' 'Sero' 'Naibor'\n",
            " 'Naini' 'Opi' 'Ayo' 'Nariku-Inkgera' 'Olonyori' 'Ngare' 'Lemayian'\n",
            " 'Chaimu' 'Sangiki' 'Dada' 'Naini' 'Moswen' 'Tikki' 'Joshua' 'Tikki'\n",
            " 'Spring' 'Siti' 'Nakepari' 'Moswen' 'Kaka' 'Chaimu' 'Spot' 'Opi' 'Nuru'\n",
            " 'Esiriwua' 'Opi' 'Nashipai' 'Winter' 'Esiriwua' 'Sangiki'\n",
            " 'Nariku-Inkgera' 'Lilly' 'Yieyio' 'Nariku-Inkgera' 'Lolparpit' 'Romeo'\n",
            " 'Simaloi' 'Opi' 'Naibor' 'Empurra' 'Tigisi' 'Esiriwua' 'Lilly' 'Joy'\n",
            " 'Selenkay' 'Naini' 'Naape' 'Chaimu' 'Enkume' 'Yieyio' 'Opi']\n",
            "Accuracy on LionData data: 21.00%\n",
            "Prediction \t ['Saruni' 'Arria' 'Amber' 'Opi' 'Jamal' 'Moswen' 'Empurra' 'Enkume' 'Supu'\n",
            " 'Yieyio' 'Mama-Kali' 'Sangiki' 'Sero' 'Chaimu' 'Simaloi' 'Lolparpit'\n",
            " 'Chaimu' 'Naape' 'Empurra' 'Opi' 'Romeo' 'Chaimu' 'Naini' 'Nguro'\n",
            " 'Esiriwua' 'Nguro' 'Ayo' 'Enderoni' 'Spring' 'Sero' 'Opi' 'Enadalut'\n",
            " 'Bibi' 'Tikki' 'Chaimu' 'Opi' 'Dada' 'Saruni' 'Safi' 'Saruni' 'Spring'\n",
            " 'Samir' 'Lolparpit' 'Saba' 'Kinna' 'Senteu' 'Namunyak' 'Sero' 'Naibor'\n",
            " 'Naini' 'Opi' 'Ayo' 'Nariku-Inkgera' 'Olonyori' 'Ngare' 'Lemayian'\n",
            " 'Chaimu' 'Sangiki' 'Dada' 'Naini' 'Moswen' 'Tikki' 'Joshua' 'Tikki'\n",
            " 'Spring' 'Siti' 'Nakepari' 'Moswen' 'Kaka' 'Chaimu' 'Spot' 'Opi' 'Nuru'\n",
            " 'Esiriwua' 'Opi' 'Nashipai' 'Winter' 'Esiriwua' 'Sangiki'\n",
            " 'Nariku-Inkgera' 'Lilly' 'Yieyio' 'Nariku-Inkgera' 'Lolparpit' 'Romeo'\n",
            " 'Simaloi' 'Opi' 'Naibor' 'Empurra' 'Tigisi' 'Esiriwua' 'Lilly' 'Joy'\n",
            " 'Selenkay' 'Naini' 'Naape' 'Chaimu' 'Enkume' 'Yieyio' 'Opi']\n",
            "Ground truth \t ['Maskio' 'Arria' 'Blackie' 'Naini' 'Moswen' 'Moswen' 'Empurra' 'Simaloi'\n",
            " 'Supu' 'Sadala' 'Manzy' 'Engiyaa' 'Yieyio' 'Maskio' 'Olchore' 'Matajo'\n",
            " 'Kibibi' 'Naape' 'Enderoni' 'Moswen' 'Sadala' 'Kaka' 'Namunyak'\n",
            " 'Olbarnoti' 'Tikki' 'Romeo' 'Maskio' 'Naibor' 'Sadala' 'Etana'\n",
            " 'Sebastian' 'Enadalut' 'Mama-Kali' 'Lemuanik' 'Enadalut' 'Mama-Kali'\n",
            " 'Olchore' 'Nakato' 'Safi' 'Summer' 'Blackie' 'Shambe' 'Arria' 'Saba'\n",
            " 'White-Eye' 'Senteu' 'Naisiae' 'Samir' 'Safi' 'Naini' 'Naape' 'Mashavu'\n",
            " 'Kinna' 'Dada' 'Orkiti' 'Etana' 'Selenkay' 'Nguro' 'Dada' 'Olonyori'\n",
            " 'Kibibi' 'Orkiti' 'Lilly' 'Orkiti' 'Spring' 'Napi' 'Nakepari' 'Samir'\n",
            " 'Lemayian' 'Ayo' 'Dada' 'Autumn' 'Yieyio' 'Esiriwua' 'Saimutie' 'Nasieku'\n",
            " 'Winter' 'Kaka' 'Sangiki' 'Nasieku' 'Lilly' 'Mashavu' 'Charm' 'Lolparpit'\n",
            " 'Romeo' 'Naini' 'Manzy' 'Jamal' 'Empurra' 'Leia' 'Blackie' 'Siti'\n",
            " 'Lucinda' 'White-Eye' 'Lemuanik' 'Doto' 'Ayo' 'Enkume' 'Lemuanik' 'Etana']\n",
            "\n",
            " Accuracy:  21.0 %\n"
          ]
        },
        {
          "output_type": "stream",
          "name": "stderr",
          "text": [
            "\n"
          ]
        }
      ]
    },
    {
      "cell_type": "code",
      "source": [],
      "metadata": {
        "id": "T17xzUQfHoDL"
      },
      "execution_count": null,
      "outputs": []
    },
    {
      "cell_type": "markdown",
      "source": [
        "\n",
        "MacaqueFaces\n",
        "\n"
      ],
      "metadata": {
        "id": "IwuE2YQmH7qH"
      }
    },
    {
      "cell_type": "code",
      "source": [
        "import numpy as np\n",
        "from PIL import Image\n",
        "import torchvision.transforms as T\n",
        "from wildlife_datasets import datasets\n",
        "from wildlife_tools.data import WildlifeDataset\n",
        "from wildlife_tools.features import SIFTFeatures\n",
        "import cv2  # Import OpenCV for SIFT\n",
        "\n",
        "# Download dataset (if not already downloaded)\n",
        "datasets.MacaqueFaces.get_data('../data/MacaqueFaces')\n",
        "\n",
        "# Load dataset metadata\n",
        "metadata_MacaqueFaces = datasets.MacaqueFaces('../data/MacaqueFaces')\n",
        "\n",
        "# Define transformations: resize, convert to PIL Image, convert to grayscale, and convert to numpy array\n",
        "transform = T.Compose([\n",
        "    T.Resize([224, 224]),  # Resize the image\n",
        "    # T.ToPILImage(),  # Convert tensor to PIL Image\n",
        "    T.Grayscale(),  # Convert to grayscale\n",
        "    # T.ToTensor(),  # Convert PIL Image to numpy array\n",
        "    # lambda x: (x * 255).astype(np.uint8)  # Convert to 8-bit integer format\n",
        "])\n",
        "\n",
        "# Create datasets with transformations\n",
        "dataset = WildlifeDataset(metadata_MacaqueFaces.df, metadata_MacaqueFaces.root, transform=transform)\n",
        "\n",
        "dataset_database_MacaqueFaces = WildlifeDataset(metadata_MacaqueFaces.df.iloc[100:], metadata_MacaqueFaces.root, transform=transform)\n",
        "dataset_query_MacaqueFaces = WildlifeDataset(metadata_MacaqueFaces.df.iloc[:100], metadata_MacaqueFaces.root, transform=transform)\n",
        "\n",
        "# Initialize SIFT extractor\n",
        "sift = cv2.SIFT_create()\n",
        "extractor_MacaqueFaces = SIFTFeatures()\n",
        "\n",
        "query_MacaqueFaces, database_MacaqueFaces = extractor_MacaqueFaces(dataset_query_MacaqueFaces), extractor_MacaqueFaces(dataset_database_MacaqueFaces)\n",
        "\n"
      ],
      "metadata": {
        "colab": {
          "base_uri": "https://localhost:8080/"
        },
        "id": "qI3lJFxaHXHD",
        "outputId": "2a117fb7-f8f0-49e8-cfac-07d2a64cfd12"
      },
      "execution_count": 10,
      "outputs": [
        {
          "output_type": "stream",
          "name": "stdout",
          "text": [
            "DATASET MacaqueFaces: DOWNLOADING STARTED.\n",
            "You are trying to download an already downloaded dataset.\n",
            "        This message may have happened to due interrupted download or extract.\n",
            "        To force the download use the `force=True` keyword such as\n",
            "        get_data(..., force=True) or download(..., force=True).\n",
            "        \n"
          ]
        },
        {
          "output_type": "stream",
          "name": "stderr",
          "text": [
            "100%|████████████████████████████████████████████████████████████| 100/100 [00:00<00:00, 103.20it/s]\n",
            "100%|███████████████████████████████████████████████████████████| 6180/6180 [01:20<00:00, 76.90it/s]\n"
          ]
        }
      ]
    },
    {
      "cell_type": "code",
      "source": [
        "print(f'First 5 query features shape: {[i.shape for i in query_MacaqueFaces[:5]]}')\n",
        "print(f'First 5 database features shape: {[i.shape for i in database_MacaqueFaces[:5]]}')"
      ],
      "metadata": {
        "colab": {
          "base_uri": "https://localhost:8080/",
          "height": 245
        },
        "id": "VhyMf9i3JrJX",
        "outputId": "bd51185a-889b-4ad3-a14f-028171bb2367"
      },
      "execution_count": 11,
      "outputs": [
        {
          "output_type": "stream",
          "name": "stdout",
          "text": [
            "First 5 query features shape: [(24, 128), (37, 128), (23, 128), (38, 128), (20, 128)]\n"
          ]
        },
        {
          "output_type": "error",
          "ename": "AttributeError",
          "evalue": "'NoneType' object has no attribute 'shape'",
          "traceback": [
            "\u001b[0;31m---------------------------------------------------------------------------\u001b[0m",
            "\u001b[0;31mAttributeError\u001b[0m                            Traceback (most recent call last)",
            "\u001b[0;32m<ipython-input-11-c760befb20b3>\u001b[0m in \u001b[0;36m<cell line: 2>\u001b[0;34m()\u001b[0m\n\u001b[1;32m      1\u001b[0m \u001b[0mprint\u001b[0m\u001b[0;34m(\u001b[0m\u001b[0;34mf'First 5 query features shape: {[i.shape for i in query_MacaqueFaces[:5]]}'\u001b[0m\u001b[0;34m)\u001b[0m\u001b[0;34m\u001b[0m\u001b[0;34m\u001b[0m\u001b[0m\n\u001b[0;32m----> 2\u001b[0;31m \u001b[0mprint\u001b[0m\u001b[0;34m(\u001b[0m\u001b[0;34mf'First 5 database features shape: {[i.shape for i in database_MacaqueFaces[:5]]}'\u001b[0m\u001b[0;34m)\u001b[0m\u001b[0;34m\u001b[0m\u001b[0;34m\u001b[0m\u001b[0m\n\u001b[0m",
            "\u001b[0;32m<ipython-input-11-c760befb20b3>\u001b[0m in \u001b[0;36m<listcomp>\u001b[0;34m(.0)\u001b[0m\n\u001b[1;32m      1\u001b[0m \u001b[0mprint\u001b[0m\u001b[0;34m(\u001b[0m\u001b[0;34mf'First 5 query features shape: {[i.shape for i in query_MacaqueFaces[:5]]}'\u001b[0m\u001b[0;34m)\u001b[0m\u001b[0;34m\u001b[0m\u001b[0;34m\u001b[0m\u001b[0m\n\u001b[0;32m----> 2\u001b[0;31m \u001b[0mprint\u001b[0m\u001b[0;34m(\u001b[0m\u001b[0;34mf'First 5 database features shape: {[i.shape for i in database_MacaqueFaces[:5]]}'\u001b[0m\u001b[0;34m)\u001b[0m\u001b[0;34m\u001b[0m\u001b[0;34m\u001b[0m\u001b[0m\n\u001b[0m",
            "\u001b[0;31mAttributeError\u001b[0m: 'NoneType' object has no attribute 'shape'"
          ]
        }
      ]
    },
    {
      "cell_type": "code",
      "source": [
        "import timm\n",
        "import pandas as pd\n",
        "import torchvision.transforms as T\n",
        "\n",
        "from wildlife_tools.data import WildlifeDataset, SplitMetadata\n",
        "from wildlife_tools.features import SIFTFeatures\n",
        "from wildlife_tools.similarity import MatchDescriptors\n",
        "from wildlife_tools.inference import KnnClassifier\n",
        "\n",
        "similarity = MatchDescriptors(descriptor_dim=128, thresholds=[0.7])\n",
        "sim = similarity(query_MacaqueFaces, database_MacaqueFaces)[0.7]\n",
        "\n",
        "print(\"Number of SIFT correspondences after 0.8 ratio test threshold: \\n\", sim)\n",
        "\n",
        "\n",
        "classifier_MacaqueFaces = KnnClassifier(k=1, database_labels=dataset_database_MacaqueFaces.labels_string)\n",
        "predictions_MacaqueFaces = classifier_MacaqueFaces(sim)\n",
        "\n",
        "print(\"Predictions for 100 test Images:-\\n\",predictions_MacaqueFaces)\n",
        "accuracy_MacaqueFaces = np.mean(dataset_query_MacaqueFaces.labels_string == predictions_MacaqueFaces)\n",
        "print(\"Accuracy on MacaqueFaces data: {:.2f}%\".format(accuracy_MacaqueFaces * 100))\n",
        "\n",
        "\n",
        "\n",
        "# Nearest neigbour classifier using the similarity\n",
        "classifier = KnnClassifier(k=1, database_labels=dataset_database_MacaqueFaces.labels_string)\n",
        "preds = classifier(sim)\n",
        "print(\"Prediction \\t\", preds)\n",
        "print(\"Ground truth \\t\", dataset_query_MacaqueFaces.labels_string)\n",
        "\n",
        "acc = sum(preds == dataset_query_MacaqueFaces.labels_string) / len(dataset_query_MacaqueFaces.labels_string)\n",
        "print('\\n Accuracy: ', acc*100,\"%\")\n"
      ],
      "metadata": {
        "colab": {
          "base_uri": "https://localhost:8080/"
        },
        "id": "HwSAUgctJkeY",
        "outputId": "9e45425c-e520-4b46-db67-1c309c4f8cf3"
      },
      "execution_count": 14,
      "outputs": [
        {
          "output_type": "stream",
          "name": "stderr",
          "text": [
            "100%|████████████████████████████████████████████████████| 618000/618000 [00:41<00:00, 14990.50it/s]"
          ]
        },
        {
          "output_type": "stream",
          "name": "stdout",
          "text": [
            "Number of SIFT correspondences after 0.8 ratio test threshold: \n",
            " [[ 0.  2.  6. ...  0.  3.  1.]\n",
            " [ 0.  1.  2. ...  1.  1.  0.]\n",
            " [ 0.  4.  4. ...  0.  2.  0.]\n",
            " ...\n",
            " [ 0.  9.  4. ...  0.  2.  1.]\n",
            " [ 0.  4. 11. ...  1.  0.  0.]\n",
            " [ 0.  6.  9. ...  1.  1.  0.]]\n",
            "Predictions for 100 test Images:-\n",
            " ['Thyme' 'Dan' 'Dan' 'Dan' 'Dan' 'Dan' 'Dan' 'Dan' 'Tamara' 'Saphy' 'Dan'\n",
            " 'Dan' 'Dan' 'Saphy' 'Dan' 'Teal' 'Saphy' 'Dan' 'Dan' 'Dan' 'Sonja' 'Dan'\n",
            " 'Dan' 'Dan' 'Dan' 'Dan' 'Dan' 'Dan' 'Serena' 'Dan' 'Dan' 'Saphy' 'Serena'\n",
            " 'Rupee' 'Dan' 'Dan' 'Rupee' 'Dan' 'Dan' 'Dan' 'Dan' 'Dan' 'Dan' 'Dan'\n",
            " 'Dan' 'Dan' 'Tamara' 'Tea' 'Judd' 'Dan' 'Dan' 'Dan' 'Dan' 'Dan' 'Dan'\n",
            " 'Dan' 'Dan' 'Dan' 'Dan' 'Dan' 'Dan' 'Dan' 'Rupee' 'Lydia' 'Dan' 'Dan'\n",
            " 'Dan' 'Dan' 'Dan' 'Dan' 'Dan' 'Saphy' 'Dan' 'Thyme' 'Dan' 'Meg' 'Rupee'\n",
            " 'Rupee' 'Judd' 'Dan' 'Rupee' 'Dan' 'Dan' 'Serena' 'Dan' 'Dan' 'Dan'\n",
            " 'Judd' 'Dan' 'Serena' 'Judd' 'Serena' 'Serena' 'Dan' 'Tamara' 'Dan'\n",
            " 'Saphy' 'Serena' 'Judd' 'Dan']\n",
            "Accuracy on MacaqueFaces data: 66.00%\n",
            "Prediction \t ['Thyme' 'Dan' 'Dan' 'Dan' 'Dan' 'Dan' 'Dan' 'Dan' 'Tamara' 'Saphy' 'Dan'\n",
            " 'Dan' 'Dan' 'Saphy' 'Dan' 'Teal' 'Saphy' 'Dan' 'Dan' 'Dan' 'Sonja' 'Dan'\n",
            " 'Dan' 'Dan' 'Dan' 'Dan' 'Dan' 'Dan' 'Serena' 'Dan' 'Dan' 'Saphy' 'Serena'\n",
            " 'Rupee' 'Dan' 'Dan' 'Rupee' 'Dan' 'Dan' 'Dan' 'Dan' 'Dan' 'Dan' 'Dan'\n",
            " 'Dan' 'Dan' 'Tamara' 'Tea' 'Judd' 'Dan' 'Dan' 'Dan' 'Dan' 'Dan' 'Dan'\n",
            " 'Dan' 'Dan' 'Dan' 'Dan' 'Dan' 'Dan' 'Dan' 'Rupee' 'Lydia' 'Dan' 'Dan'\n",
            " 'Dan' 'Dan' 'Dan' 'Dan' 'Dan' 'Saphy' 'Dan' 'Thyme' 'Dan' 'Meg' 'Rupee'\n",
            " 'Rupee' 'Judd' 'Dan' 'Rupee' 'Dan' 'Dan' 'Serena' 'Dan' 'Dan' 'Dan'\n",
            " 'Judd' 'Dan' 'Serena' 'Judd' 'Serena' 'Serena' 'Dan' 'Tamara' 'Dan'\n",
            " 'Saphy' 'Serena' 'Judd' 'Dan']\n",
            "Ground truth \t ['Dan' 'Dan' 'Dan' 'Dan' 'Dan' 'Dan' 'Dan' 'Dan' 'Dan' 'Dan' 'Dan' 'Dan'\n",
            " 'Dan' 'Dan' 'Dan' 'Dan' 'Dan' 'Dan' 'Dan' 'Dan' 'Dan' 'Dan' 'Dan' 'Dan'\n",
            " 'Dan' 'Dan' 'Dan' 'Dan' 'Dan' 'Dan' 'Dan' 'Dan' 'Dan' 'Dan' 'Dan' 'Dan'\n",
            " 'Dan' 'Dan' 'Dan' 'Dan' 'Dan' 'Dan' 'Dan' 'Dan' 'Dan' 'Dan' 'Dan' 'Dan'\n",
            " 'Dan' 'Dan' 'Dan' 'Dan' 'Dan' 'Dan' 'Dan' 'Dan' 'Dan' 'Dan' 'Dan' 'Dan'\n",
            " 'Dan' 'Dan' 'Dan' 'Dan' 'Dan' 'Dan' 'Dan' 'Dan' 'Dan' 'Dan' 'Dan' 'Dan'\n",
            " 'Dan' 'Dan' 'Dan' 'Dan' 'Dan' 'Dan' 'Dan' 'Dan' 'Dan' 'Dan' 'Dan' 'Dan'\n",
            " 'Dan' 'Dan' 'Dan' 'Dan' 'Dan' 'Dan' 'Dan' 'Dan' 'Dan' 'Dan' 'Dan' 'Dan'\n",
            " 'Dan' 'Dan' 'Dan' 'Dan']\n",
            "\n",
            " Accuracy:  66.0 %\n"
          ]
        },
        {
          "output_type": "stream",
          "name": "stderr",
          "text": [
            "\n"
          ]
        }
      ]
    },
    {
      "cell_type": "code",
      "source": [],
      "metadata": {
        "id": "4LSsZMoFHXbn"
      },
      "execution_count": null,
      "outputs": []
    },
    {
      "cell_type": "markdown",
      "source": [
        "NyalaDataSet"
      ],
      "metadata": {
        "id": "mWoZ2IXBJvxS"
      }
    },
    {
      "cell_type": "code",
      "source": [
        "import numpy as np\n",
        "from PIL import Image\n",
        "import torchvision.transforms as T\n",
        "from wildlife_datasets import datasets\n",
        "from wildlife_tools.data import WildlifeDataset\n",
        "from wildlife_tools.features import SIFTFeatures\n",
        "import cv2  # Import OpenCV for SIFT\n",
        "\n",
        "# Download dataset (if not already downloaded)\n",
        "datasets.NyalaData.get_data('../data/NyalaData')\n",
        "\n",
        "# Load dataset metadata\n",
        "metadata_NyalaData = datasets.NyalaData('../data/NyalaData')\n",
        "\n",
        "# Define transformations: resize, convert to PIL Image, convert to grayscale, and convert to numpy array\n",
        "transform = T.Compose([\n",
        "    T.Resize([224, 224]),  # Resize the image\n",
        "    # T.ToPILImage(),  # Convert tensor to PIL Image\n",
        "    T.Grayscale(),  # Convert to grayscale\n",
        "    # T.ToTensor(),  # Convert PIL Image to numpy array\n",
        "    # lambda x: (x * 255).astype(np.uint8)  # Convert to 8-bit integer format\n",
        "])\n",
        "\n",
        "# Create datasets with transformations\n",
        "dataset = WildlifeDataset(metadata_NyalaData.df, metadata_NyalaData.root, transform=transform)\n",
        "dataset_database_NyalaData = WildlifeDataset(metadata_NyalaData.df.iloc[100:], metadata_NyalaData.root, transform=transform)\n",
        "dataset_query_NyalaData = WildlifeDataset(metadata_NyalaData.df.iloc[:100], metadata_NyalaData.root, transform=transform)\n",
        "\n",
        "# Initialize SIFT extractor\n",
        "sift = cv2.SIFT_create()\n",
        "extractor_NyalaData = SIFTFeatures()\n",
        "\n",
        "query_NyalaData, database_NyalaData = extractor_NyalaData(dataset_query_NyalaData), extractor_NyalaData(dataset_database_NyalaData)\n",
        "\n",
        "print(f'First 5 query features shape: {[i.shape for i in query_NyalaData[:5]]}')\n",
        "print(f'First 5 database features shape: {[i.shape for i in database_NyalaData[:5]]}')\n",
        "\n",
        "import timm\n",
        "import pandas as pd\n",
        "import torchvision.transforms as T\n",
        "\n",
        "from wildlife_tools.data import WildlifeDataset, SplitMetadata\n",
        "from wildlife_tools.features import SIFTFeatures\n",
        "from wildlife_tools.similarity import MatchDescriptors\n",
        "from wildlife_tools.inference import KnnClassifier\n",
        "\n",
        "similarity = MatchDescriptors(descriptor_dim=128, thresholds=[0.7])\n",
        "sim = similarity(query_NyalaData, database_NyalaData)[0.7]\n",
        "\n",
        "print(\"Number of SIFT correspondences after 0.8 ratio test threshold: \\n\", sim)\n",
        "\n",
        "\n",
        "classifier_NyalaData = KnnClassifier(k=1, database_labels=dataset_database_NyalaData.labels_string)\n",
        "predictions_NyalaData = classifier_NyalaData(sim)\n",
        "\n",
        "print(\"Predictions for 100 test Images:-\\n\",predictions_NyalaData)\n",
        "accuracy_NyalaData = np.mean(dataset_query_NyalaData.labels_string == predictions_NyalaData)\n",
        "print(\"Accuracy on NyalaData data: {:.2f}%\".format(accuracy_NyalaData * 100))\n",
        "\n",
        "\n",
        "\n",
        "# Nearest neigbour classifier using the similarity\n",
        "classifier = KnnClassifier(k=1, database_labels=dataset_database_NyalaData.labels_string)\n",
        "preds = classifier(sim)\n",
        "print(\"Prediction \\t\", preds)\n",
        "print(\"Ground truth \\t\", dataset_query_NyalaData.labels_string)\n",
        "\n",
        "acc = sum(preds == dataset_query_NyalaData.labels_string) / len(dataset_query_NyalaData.labels_string)\n",
        "print('\\n Accuracy: ', acc*100,\"%\")\n",
        "\n"
      ],
      "metadata": {
        "colab": {
          "base_uri": "https://localhost:8080/"
        },
        "id": "tqTB1knGHXfM",
        "outputId": "ca269aba-a260-4535-a80e-d8fcd484737a"
      },
      "execution_count": 5,
      "outputs": [
        {
          "output_type": "stream",
          "name": "stdout",
          "text": [
            "DATASET NyalaData: DOWNLOADING STARTED.\n"
          ]
        },
        {
          "output_type": "stream",
          "name": "stderr",
          "text": [
            "main.zip: 495MB [00:19, 25.5MB/s]\n"
          ]
        },
        {
          "output_type": "stream",
          "name": "stdout",
          "text": [
            "DATASET NyalaData: EXTRACTING STARTED.\n",
            "DATASET NyalaData: FINISHED.\n",
            "\n"
          ]
        },
        {
          "output_type": "stream",
          "name": "stderr",
          "text": [
            "100%|█████████████████████████████████████████████████████████████| 100/100 [00:11<00:00,  8.94it/s]\n",
            "100%|███████████████████████████████████████████████████████████| 1842/1842 [02:53<00:00, 10.59it/s]\n"
          ]
        },
        {
          "output_type": "stream",
          "name": "stdout",
          "text": [
            "First 5 query features shape: [(738, 128), (857, 128), (720, 128), (756, 128), (621, 128)]\n",
            "First 5 database features shape: [(727, 128), (829, 128), (679, 128), (613, 128), (651, 128)]\n"
          ]
        },
        {
          "output_type": "stream",
          "name": "stderr",
          "text": [
            "100%|██████████████████████████████████████████████████████| 184200/184200 [13:36<00:00, 225.57it/s]\n"
          ]
        },
        {
          "output_type": "stream",
          "name": "stdout",
          "text": [
            "Number of SIFT correspondences after 0.8 ratio test threshold: \n",
            " [[20. 34. 37. ... 21. 35. 26.]\n",
            " [26. 28. 24. ... 23. 25. 22.]\n",
            " [22. 38. 45. ... 27. 38. 25.]\n",
            " ...\n",
            " [20. 27. 26. ... 14. 30. 21.]\n",
            " [27. 39. 32. ... 17. 34. 28.]\n",
            " [34. 33. 41. ... 30. 40. 15.]]\n",
            "Predictions for 100 test Images:-\n",
            " ['30' '24' '22' '22' '79' '155' '149' '193' '21' '30' '140' '22' '34'\n",
            " '164' '30' '21' '30' '120' '30' '246' '87' '34' '140' '43' '140' '21'\n",
            " '89' '246' '239' '30' '246' '246' '34' '140' '23' '140' '120' '140' '209'\n",
            " '140' '272' '30' '24' '30' '51' '8' '21' '25' '140' '267' '34' '122' '30'\n",
            " '140' '22' '140' '246' '246' '120' '34' '50' '140' '140' '79' '74' '246'\n",
            " '24' '243' '10' '140' '246' '246' '246' '30' '246' '20' '34' '14' '125'\n",
            " '30' '246' '188' '246' '172' '120' '140' '34' '71' '34' '246' '158' '82'\n",
            " '33' '55' '94' '196' '190' '91' '31' '34']\n",
            "Accuracy on NyalaData data: 5.00%\n",
            "Prediction \t ['30' '24' '22' '22' '79' '155' '149' '193' '21' '30' '140' '22' '34'\n",
            " '164' '30' '21' '30' '120' '30' '246' '87' '34' '140' '43' '140' '21'\n",
            " '89' '246' '239' '30' '246' '246' '34' '140' '23' '140' '120' '140' '209'\n",
            " '140' '272' '30' '24' '30' '51' '8' '21' '25' '140' '267' '34' '122' '30'\n",
            " '140' '22' '140' '246' '246' '120' '34' '50' '140' '140' '79' '74' '246'\n",
            " '24' '243' '10' '140' '246' '246' '246' '30' '246' '20' '34' '14' '125'\n",
            " '30' '246' '188' '246' '172' '120' '140' '34' '71' '34' '246' '158' '82'\n",
            " '33' '55' '94' '196' '190' '91' '31' '34']\n",
            "Ground truth \t ['19' '10' '57' '149' '58' '102' '147' '202' '114' '100' '149' '111' '33'\n",
            " '21' '65' '32' '36' '30' '131' '68' '85' '68' '19' '45' '10' '88' '111'\n",
            " '67' '242' '46' '145' '143' '30' '166' '23' '149' '37' '32' '209' '19'\n",
            " '23' '166' '30' '46' '51' '89' '114' '69' '242' '274' '181' '147' '51'\n",
            " '50' '223' '181' '47' '10' '7' '150' '46' '153' '40' '85' '94' '252'\n",
            " '230' '239' '11' '169' '113' '140' '60' '240' '102' '106' '30' '13' '51'\n",
            " '36' '47' '149' '42' '85' '8' '32' '242' '71' '6' '36' '127' '27' '6'\n",
            " '21' '33' '196' '175' '85' '40' '143']\n",
            "\n",
            " Accuracy:  5.0 %\n"
          ]
        }
      ]
    },
    {
      "cell_type": "markdown",
      "source": [
        "StripeSpotter Dataset"
      ],
      "metadata": {
        "id": "XPMYEgM3J4DO"
      }
    },
    {
      "cell_type": "code",
      "source": [
        "import numpy as np\n",
        "from PIL import Image\n",
        "import torchvision.transforms as T\n",
        "from wildlife_datasets import datasets\n",
        "from wildlife_tools.data import WildlifeDataset\n",
        "from wildlife_tools.features import SIFTFeatures\n",
        "import cv2  # Import OpenCV for SIFT\n",
        "\n",
        "# Download dataset (if not already downloaded)\n",
        "datasets.StripeSpotter.get_data('../data/StripeSpotter')\n",
        "\n",
        "# Load dataset metadata\n",
        "metadata_StripeSpotter = datasets.StripeSpotter('../data/StripeSpotter')\n",
        "\n",
        "# Define transformations: resize, convert to PIL Image, convert to grayscale, and convert to numpy array\n",
        "transform = T.Compose([\n",
        "    T.Resize([224, 224]),  # Resize the image\n",
        "    # T.ToPILImage(),  # Convert tensor to PIL Image\n",
        "    T.Grayscale(),  # Convert to grayscale\n",
        "    # T.ToTensor(),  # Convert PIL Image to numpy array\n",
        "    # lambda x: (x * 255).astype(np.uint8)  # Convert to 8-bit integer format\n",
        "])\n",
        "\n",
        "# Create datasets with transformations\n",
        "dataset = WildlifeDataset(metadata_StripeSpotter.df, metadata_StripeSpotter.root, transform=transform)\n",
        "dataset_database_StripeSpotter = WildlifeDataset(metadata_StripeSpotter.df.iloc[100:], metadata_StripeSpotter.root, transform=transform)\n",
        "dataset_query_StripeSpotter = WildlifeDataset(metadata_StripeSpotter.df.iloc[:100], metadata_StripeSpotter.root, transform=transform)\n",
        "\n",
        "# Initialize SIFT extractor\n",
        "sift = cv2.SIFT_create()\n",
        "extractor_StripeSpotter = SIFTFeatures()\n",
        "\n",
        "query_StripeSpotter, database_StripeSpotter = extractor_StripeSpotter(dataset_query_StripeSpotter), extractor_StripeSpotter(dataset_database_StripeSpotter)\n",
        "\n",
        "print(f'First 5 query features shape: {[i.shape for i in query_StripeSpotter[:5]]}')\n",
        "print(f'First 5 database features shape: {[i.shape for i in database_StripeSpotter[:5]]}')\n",
        "\n",
        "import timm\n",
        "import pandas as pd\n",
        "import torchvision.transforms as T\n",
        "\n",
        "from wildlife_tools.data import WildlifeDataset, SplitMetadata\n",
        "from wildlife_tools.features import SIFTFeatures\n",
        "from wildlife_tools.similarity import MatchDescriptors\n",
        "from wildlife_tools.inference import KnnClassifier\n",
        "\n",
        "similarity = MatchDescriptors(descriptor_dim=128, thresholds=[0.7])\n",
        "sim = similarity(query_StripeSpotter, database_StripeSpotter)[0.7]\n",
        "\n",
        "print(\"Number of SIFT correspondences after 0.8 ratio test threshold: \\n\", sim)\n",
        "\n",
        "\n",
        "classifier_StripeSpotter = KnnClassifier(k=1, database_labels=dataset_database_StripeSpotter.labels_string)\n",
        "predictions_StripeSpotter = classifier_StripeSpotter(sim)\n",
        "\n",
        "print(\"Predictions for 100 test Images:-\\n\",predictions_StripeSpotter)\n",
        "accuracy_StripeSpotter = np.mean(dataset_query_StripeSpotter.labels_string == predictions_StripeSpotter)\n",
        "print(\"Accuracy on StripeSpotter data: {:.2f}%\".format(accuracy_StripeSpotter * 100))\n",
        "\n",
        "\n",
        "\n",
        "# Nearest neigbour classifier using the similarity\n",
        "classifier = KnnClassifier(k=1, database_labels=dataset_database_StripeSpotter.labels_string)\n",
        "preds = classifier(sim)\n",
        "print(\"Prediction \\t\", preds)\n",
        "print(\"Ground truth \\t\", dataset_query_StripeSpotter.labels_string)\n",
        "\n",
        "acc = sum(preds == dataset_query_StripeSpotter.labels_string) / len(dataset_query_StripeSpotter.labels_string)\n",
        "print('\\n Accuracy: ', acc*100,\"%\")\n",
        "\n"
      ],
      "metadata": {
        "colab": {
          "base_uri": "https://localhost:8080/"
        },
        "id": "04rGUCEoHYI3",
        "outputId": "154637de-55a6-4b2f-e6c9-17f1775dd6d2"
      },
      "execution_count": 4,
      "outputs": [
        {
          "output_type": "stream",
          "name": "stdout",
          "text": [
            "DATASET StripeSpotter: DOWNLOADING STARTED.\n"
          ]
        },
        {
          "output_type": "stream",
          "name": "stderr",
          "text": [
            "data-20110718.zip: 71.7MB [00:01, 50.4MB/s]                            \n",
            "data-20110718.z02: 100%|██████████| 78.6M/78.6M [00:01<00:00, 45.9MB/s]\n",
            "data-20110718.z01: 100%|██████████| 78.6M/78.6M [00:01<00:00, 68.5MB/s]\n"
          ]
        },
        {
          "output_type": "stream",
          "name": "stdout",
          "text": [
            "DATASET StripeSpotter: EXTRACTING STARTED.\n",
            "DATASET StripeSpotter: FINISHED.\n",
            "\n"
          ]
        },
        {
          "output_type": "stream",
          "name": "stderr",
          "text": [
            "100%|█████████████████████████████████████████████████████████████| 100/100 [00:14<00:00,  7.09it/s]\n",
            "100%|█████████████████████████████████████████████████████████████| 724/724 [01:04<00:00, 11.24it/s]\n"
          ]
        },
        {
          "output_type": "stream",
          "name": "stdout",
          "text": [
            "First 5 query features shape: [(414, 128), (610, 128), (704, 128), (295, 128), (396, 128)]\n",
            "First 5 database features shape: [(410, 128), (556, 128), (548, 128), (216, 128), (571, 128)]\n"
          ]
        },
        {
          "output_type": "stream",
          "name": "stderr",
          "text": [
            "100%|████████████████████████████████████████████████████████| 72400/72400 [02:29<00:00, 485.11it/s]"
          ]
        },
        {
          "output_type": "stream",
          "name": "stdout",
          "text": [
            "Number of SIFT correspondences after 0.8 ratio test threshold: \n",
            " [[45. 22. 23. ... 11. 31. 39.]\n",
            " [29. 26. 26. ... 46. 23. 25.]\n",
            " [52. 38. 36. ...  8. 30. 30.]\n",
            " ...\n",
            " [53. 32. 34. ... 13. 46. 34.]\n",
            " [38. 25. 45. ... 12. 48. 40.]\n",
            " [45. 38. 43. ... 14. 47. 45.]]\n",
            "Predictions for 100 test Images:-\n",
            " ['09_212' 'S09_161' '04_008' '08_100' '09_200' 'OP05_625' '09_212'\n",
            " '02_149' '01_579' '08_034' '01_679' '08_078' '01_460' '10_002' '01_136'\n",
            " '09_212' '09_200' 'S09_111' '02_149' 'S09_069' '08_100' '01_363' '01_363'\n",
            " '08_078' '08_034' '01_805' '09_355' '08_085' 'OP05_546' '09_212' '08_100'\n",
            " 'S09_088' '09_182' 'S09_215' '02_162' '01_230' '08_085' '01_661'\n",
            " '02_1026' '09_185' '01_136' '01_661' '01_661' '02_161' '01_165' '02_161'\n",
            " 'S09_174' '02_162' '08_100' 'OP04_225' '02_149' 'S09_067' '09_200'\n",
            " '04_008' '01_661' '09_182' '01_805' '02_161' '10_002' '01_036' '02_149'\n",
            " '01_165' '09_212' 'S09_211' 'S09_215' '03_045' '01_579' 'OP04_225'\n",
            " '08_100' '08_100' '04_008' '01_661' 'OP05_625' 'OP05_625' '02_149'\n",
            " '01_230' '09_200' 'OP05_625' '01_661' 'OP04_225' '01_661' '08_078'\n",
            " 'S09_174' '01_679' '01_661' 'S09_067' 'S09_111' 'S09_112' '09_212'\n",
            " '01_230' '02_161' '09_185' '04_008' '08_100' '01_460' '01_679' 'S09_111'\n",
            " '01_679' '01_036' 'S09_067']\n",
            "Accuracy on StripeSpotter data: 95.00%\n",
            "Prediction \t ['09_212' 'S09_161' '04_008' '08_100' '09_200' 'OP05_625' '09_212'\n",
            " '02_149' '01_579' '08_034' '01_679' '08_078' '01_460' '10_002' '01_136'\n",
            " '09_212' '09_200' 'S09_111' '02_149' 'S09_069' '08_100' '01_363' '01_363'\n",
            " '08_078' '08_034' '01_805' '09_355' '08_085' 'OP05_546' '09_212' '08_100'\n",
            " 'S09_088' '09_182' 'S09_215' '02_162' '01_230' '08_085' '01_661'\n",
            " '02_1026' '09_185' '01_136' '01_661' '01_661' '02_161' '01_165' '02_161'\n",
            " 'S09_174' '02_162' '08_100' 'OP04_225' '02_149' 'S09_067' '09_200'\n",
            " '04_008' '01_661' '09_182' '01_805' '02_161' '10_002' '01_036' '02_149'\n",
            " '01_165' '09_212' 'S09_211' 'S09_215' '03_045' '01_579' 'OP04_225'\n",
            " '08_100' '08_100' '04_008' '01_661' 'OP05_625' 'OP05_625' '02_149'\n",
            " '01_230' '09_200' 'OP05_625' '01_661' 'OP04_225' '01_661' '08_078'\n",
            " 'S09_174' '01_679' '01_661' 'S09_067' 'S09_111' 'S09_112' '09_212'\n",
            " '01_230' '02_161' '09_185' '04_008' '08_100' '01_460' '01_679' 'S09_111'\n",
            " '01_679' '01_036' 'S09_067']\n",
            "Ground truth \t ['09_212' 'S09_161' '08_085' '08_100' '09_200' 'OP05_625' '09_212'\n",
            " '02_149' '01_579' '08_034' '01_679' '08_078' '01_460' '10_002' '01_136'\n",
            " '09_212' '09_200' 'S09_111' '02_149' 'S09_069' '08_100' '01_363' '01_363'\n",
            " '08_078' '08_034' '01_805' '09_355' '08_085' 'OP05_546' '09_212' '08_100'\n",
            " 'S09_088' '09_182' 'S09_215' '02_162' '01_230' '08_085' '01_661'\n",
            " '02_1026' '09_185' '01_136' '01_661' '01_661' '02_161' '01_165' '02_161'\n",
            " 'S09_174' 'S09_067' '08_100' 'OP04_225' '02_149' 'S09_067' '09_200'\n",
            " '04_008' '01_661' '09_182' '01_805' '02_161' '10_002' '01_036' '02_149'\n",
            " '01_165' '09_212' 'S09_211' 'S09_215' '03_045' '01_579' 'OP04_225'\n",
            " '08_100' '08_100' '04_008' '09_212' 'OP05_625' 'OP05_625' '02_149'\n",
            " '01_230' '09_200' 'OP05_625' '01_661' 'OP04_225' '01_661' '09_212'\n",
            " 'S09_174' '01_679' '01_661' 'S09_067' 'S09_111' 'S09_112' '09_212'\n",
            " '08_031' '02_161' '09_185' '04_008' '08_100' '01_460' '01_679' 'S09_111'\n",
            " '01_679' '01_036' 'S09_067']\n",
            "\n",
            " Accuracy:  95.0 %\n"
          ]
        },
        {
          "output_type": "stream",
          "name": "stderr",
          "text": [
            "\n"
          ]
        }
      ]
    },
    {
      "cell_type": "markdown",
      "source": [
        "# ***SuperPoint***"
      ],
      "metadata": {
        "id": "DT72iAEkyV7x"
      }
    },
    {
      "cell_type": "code",
      "source": [
        "import wildlife_tools.features\n",
        "help(wildlife_tools.features)"
      ],
      "metadata": {
        "colab": {
          "base_uri": "https://localhost:8080/"
        },
        "id": "Z4D1gdVIz6vS",
        "outputId": "5876516c-034b-44f3-9bdb-953a62fdd05e"
      },
      "execution_count": null,
      "outputs": [
        {
          "output_type": "stream",
          "name": "stdout",
          "text": [
            "Help on package wildlife_tools.features in wildlife_tools:\n",
            "\n",
            "NAME\n",
            "    wildlife_tools.features\n",
            "\n",
            "PACKAGE CONTENTS\n",
            "    base\n",
            "    deep\n",
            "    memory\n",
            "    sift\n",
            "    superpoint\n",
            "\n",
            "FILE\n",
            "    /usr/local/lib/python3.10/dist-packages/wildlife_tools/features/__init__.py\n",
            "\n",
            "\n"
          ]
        }
      ]
    },
    {
      "cell_type": "code",
      "source": [
        "from wildlife_tools.features import  SuperPointFeatures"
      ],
      "metadata": {
        "colab": {
          "base_uri": "https://localhost:8080/",
          "height": 314
        },
        "id": "jjZEGO7Sydbt",
        "outputId": "7d454a78-aa03-4783-e190-4e4d356cd3a6"
      },
      "execution_count": null,
      "outputs": [
        {
          "output_type": "error",
          "ename": "ImportError",
          "evalue": "cannot import name 'SuperPointFeatures' from 'wildlife_tools.features' (/usr/local/lib/python3.10/dist-packages/wildlife_tools/features/__init__.py)",
          "traceback": [
            "\u001b[0;31m---------------------------------------------------------------------------\u001b[0m",
            "\u001b[0;31mImportError\u001b[0m                               Traceback (most recent call last)",
            "\u001b[0;32m<ipython-input-24-c223878a87b8>\u001b[0m in \u001b[0;36m<cell line: 1>\u001b[0;34m()\u001b[0m\n\u001b[0;32m----> 1\u001b[0;31m \u001b[0;32mfrom\u001b[0m \u001b[0mwildlife_tools\u001b[0m\u001b[0;34m.\u001b[0m\u001b[0mfeatures\u001b[0m \u001b[0;32mimport\u001b[0m  \u001b[0mSuperPointFeatures\u001b[0m\u001b[0;34m\u001b[0m\u001b[0;34m\u001b[0m\u001b[0m\n\u001b[0m",
            "\u001b[0;31mImportError\u001b[0m: cannot import name 'SuperPointFeatures' from 'wildlife_tools.features' (/usr/local/lib/python3.10/dist-packages/wildlife_tools/features/__init__.py)",
            "",
            "\u001b[0;31m---------------------------------------------------------------------------\u001b[0;32m\nNOTE: If your import is failing due to a missing package, you can\nmanually install dependencies using either !pip or !apt.\n\nTo view examples of installing some common dependencies, click the\n\"Open Examples\" button below.\n\u001b[0;31m---------------------------------------------------------------------------\u001b[0m\n"
          ],
          "errorDetails": {
            "actions": [
              {
                "action": "open_url",
                "actionText": "Open Examples",
                "url": "/notebooks/snippets/importing_libraries.ipynb"
              }
            ]
          }
        }
      ]
    },
    {
      "cell_type": "code",
      "source": [],
      "metadata": {
        "id": "f1QikzaR06tU"
      },
      "execution_count": null,
      "outputs": []
    },
    {
      "cell_type": "code",
      "source": [],
      "metadata": {
        "id": "vi9J99nI0eO5"
      },
      "execution_count": null,
      "outputs": []
    },
    {
      "cell_type": "code",
      "source": [
        "import numpy as np\n",
        "from PIL import Image\n",
        "import torchvision.transforms as T\n",
        "from wildlife_datasets import datasets\n",
        "from wildlife_tools.data import WildlifeDataset\n",
        "from wildlife_tools.features import SIFTFeatures\n",
        "import cv2  # Import OpenCV for SIFT\n",
        "\n",
        "# Download dataset (if not already downloaded)\n",
        "datasets.CZoo.get_data('../data/CZoo')\n",
        "\n",
        "# Load dataset metadata\n",
        "metadata_CZoo = datasets.CZoo('../data/CZoo')\n",
        "\n",
        "# Define transformations: resize, convert to PIL Image, convert to grayscale, and convert to numpy array\n",
        "transform = T.Compose([\n",
        "    T.Resize([224, 224]),  # Resize the image\n",
        "    # T.ToPILImage(),  # Convert tensor to PIL Image\n",
        "    T.Grayscale(),  # Convert to grayscale\n",
        "    # T.ToTensor(),  # Convert PIL Image to numpy array\n",
        "    # lambda x: (x * 255).astype(np.uint8)  # Convert to 8-bit integer format\n",
        "])\n",
        "\n",
        "# Create datasets with transformations\n",
        "dataset = WildlifeDataset(metadata_CZoo.df, metadata_CZoo.root, transform=transform)\n",
        "dataset_database_CZoo = WildlifeDataset(metadata_CZoo.df.iloc[100:], metadata_CZoo.root, transform=transform)\n",
        "dataset_query_CZoo = WildlifeDataset(metadata_CZoo.df.iloc[:100], metadata_CZoo.root, transform=transform)\n",
        "\n",
        "# Initialize SIFT extractor\n",
        "sift = cv2.SIFT_create()\n",
        "extractor_CZoo =  SuperPointFeatures()\n",
        "\n",
        "query_CZoo, database_CZoo = extractor_CZoo(dataset_query_CZoo), extractor_CZoo(dataset_database_CZoo)\n",
        "\n",
        "print(f'First 5 query features shape: {[i.shape for i in query_CZoo[:5]]}')\n",
        "print(f'First 5 database features shape: {[i.shape for i in database_CZoo[:5]]}')\n",
        "\n",
        "import timm\n",
        "import pandas as pd\n",
        "import torchvision.transforms as T\n",
        "\n",
        "from wildlife_tools.data import WildlifeDataset, SplitMetadata\n",
        "from wildlife_tools.features import SIFTFeatures\n",
        "from wildlife_tools.similarity import MatchDescriptors\n",
        "from wildlife_tools.inference import KnnClassifier\n",
        "\n",
        "similarity = MatchDescriptors(descriptor_dim=128, thresholds=[0.8])\n",
        "sim = similarity(query_CZoo, database_CZoo)[0.8]\n",
        "\n",
        "print(\"Number of SIFT correspondences after 0.8 ratio test threshold: \\n\", sim)\n",
        "\n",
        "\n",
        "classifier_CZoo = KnnClassifier(k=1, database_labels=dataset_database_CZoo.labels_string)\n",
        "predictions_CZoo = classifier_CZoo(sim)\n",
        "\n",
        "print(\"Predictions for 100 test Images:-\\n\",predictions_CZoo)\n",
        "accuracy_CZoo = np.mean(dataset_query_CZoo.labels_string == predictions_CZoo)\n",
        "print(\"Accuracy on CZoo data: {:.2f}%\".format(accuracy_CZoo * 100))\n",
        "\n",
        "\n",
        "\n",
        "# Nearest neigbour classifier using the similarity\n",
        "classifier = KnnClassifier(k=1, database_labels=dataset_database_CZoo.labels_string)\n",
        "preds = classifier(sim)\n",
        "print(\"Prediction \\t\", preds)\n",
        "print(\"Ground truth \\t\", dataset_query_CZoo.labels_string)\n",
        "\n",
        "acc = sum(preds == dataset_query_CZoo.labels_string) / len(dataset_query_CZoo.labels_string)\n",
        "print('\\n Accuracy: ', acc*100,\"%\")\n",
        "\n"
      ],
      "metadata": {
        "colab": {
          "base_uri": "https://localhost:8080/",
          "height": 460
        },
        "id": "frnF0F5aya7P",
        "outputId": "63fdbe9e-cf29-412a-f7d0-3d39f075327e"
      },
      "execution_count": null,
      "outputs": [
        {
          "output_type": "stream",
          "name": "stdout",
          "text": [
            "DATASET CZoo: DOWNLOADING STARTED.\n",
            "You are trying to download an already downloaded dataset.\n",
            "        This message may have happened to due interrupted download or extract.\n",
            "        To force the download use the `force=True` keyword such as\n",
            "        get_data(..., force=True) or download(..., force=True).\n",
            "        \n"
          ]
        },
        {
          "output_type": "error",
          "ename": "NameError",
          "evalue": "name '__file__' is not defined",
          "traceback": [
            "\u001b[0;31m---------------------------------------------------------------------------\u001b[0m",
            "\u001b[0;31mNameError\u001b[0m                                 Traceback (most recent call last)",
            "\u001b[0;32m<ipython-input-25-0f509fb341c3>\u001b[0m in \u001b[0;36m<cell line: 33>\u001b[0;34m()\u001b[0m\n\u001b[1;32m     31\u001b[0m \u001b[0mextractor_CZoo\u001b[0m \u001b[0;34m=\u001b[0m  \u001b[0mSuperPointFeatures\u001b[0m\u001b[0;34m(\u001b[0m\u001b[0;34m)\u001b[0m\u001b[0;34m\u001b[0m\u001b[0;34m\u001b[0m\u001b[0m\n\u001b[1;32m     32\u001b[0m \u001b[0;34m\u001b[0m\u001b[0m\n\u001b[0;32m---> 33\u001b[0;31m \u001b[0mquery_CZoo\u001b[0m\u001b[0;34m,\u001b[0m \u001b[0mdatabase_CZoo\u001b[0m \u001b[0;34m=\u001b[0m \u001b[0mextractor_CZoo\u001b[0m\u001b[0;34m(\u001b[0m\u001b[0mdataset_query_CZoo\u001b[0m\u001b[0;34m)\u001b[0m\u001b[0;34m,\u001b[0m \u001b[0mextractor_CZoo\u001b[0m\u001b[0;34m(\u001b[0m\u001b[0mdataset_database_CZoo\u001b[0m\u001b[0;34m)\u001b[0m\u001b[0;34m\u001b[0m\u001b[0;34m\u001b[0m\u001b[0m\n\u001b[0m\u001b[1;32m     34\u001b[0m \u001b[0;34m\u001b[0m\u001b[0m\n\u001b[1;32m     35\u001b[0m \u001b[0mprint\u001b[0m\u001b[0;34m(\u001b[0m\u001b[0;34mf'First 5 query features shape: {[i.shape for i in query_CZoo[:5]]}'\u001b[0m\u001b[0;34m)\u001b[0m\u001b[0;34m\u001b[0m\u001b[0;34m\u001b[0m\u001b[0m\n",
            "\u001b[0;32m<ipython-input-22-dfe52180260d>\u001b[0m in \u001b[0;36m__call__\u001b[0;34m(self, dataset)\u001b[0m\n\u001b[1;32m     33\u001b[0m             \u001b[0mmax_keypoints\u001b[0m \u001b[0;34m=\u001b[0m \u001b[0mself\u001b[0m\u001b[0;34m.\u001b[0m\u001b[0mmax_keypoints\u001b[0m\u001b[0;34m\u001b[0m\u001b[0;34m\u001b[0m\u001b[0m\n\u001b[1;32m     34\u001b[0m \u001b[0;34m\u001b[0m\u001b[0m\n\u001b[0;32m---> 35\u001b[0;31m         model = SuperPoint(\n\u001b[0m\u001b[1;32m     36\u001b[0m             config={\n\u001b[1;32m     37\u001b[0m                 \u001b[0;34m\"descriptor_dim\"\u001b[0m\u001b[0;34m:\u001b[0m \u001b[0mself\u001b[0m\u001b[0;34m.\u001b[0m\u001b[0mdescriptor_dim\u001b[0m\u001b[0;34m,\u001b[0m\u001b[0;34m\u001b[0m\u001b[0;34m\u001b[0m\u001b[0m\n",
            "\u001b[0;32m<ipython-input-21-65f2d6e73d3c>\u001b[0m in \u001b[0;36m__init__\u001b[0;34m(self, config)\u001b[0m\n\u001b[1;32m    141\u001b[0m         )\n\u001b[1;32m    142\u001b[0m \u001b[0;34m\u001b[0m\u001b[0m\n\u001b[0;32m--> 143\u001b[0;31m         \u001b[0mpath\u001b[0m \u001b[0;34m=\u001b[0m \u001b[0mPath\u001b[0m\u001b[0;34m(\u001b[0m\u001b[0m__file__\u001b[0m\u001b[0;34m)\u001b[0m\u001b[0;34m.\u001b[0m\u001b[0mparent\u001b[0m \u001b[0;34m/\u001b[0m \u001b[0;34m\"weights/superpoint_v1.pth\"\u001b[0m\u001b[0;34m\u001b[0m\u001b[0;34m\u001b[0m\u001b[0m\n\u001b[0m\u001b[1;32m    144\u001b[0m         \u001b[0mself\u001b[0m\u001b[0;34m.\u001b[0m\u001b[0mload_state_dict\u001b[0m\u001b[0;34m(\u001b[0m\u001b[0mtorch\u001b[0m\u001b[0;34m.\u001b[0m\u001b[0mload\u001b[0m\u001b[0;34m(\u001b[0m\u001b[0mstr\u001b[0m\u001b[0;34m(\u001b[0m\u001b[0mpath\u001b[0m\u001b[0;34m)\u001b[0m\u001b[0;34m)\u001b[0m\u001b[0;34m)\u001b[0m\u001b[0;34m\u001b[0m\u001b[0;34m\u001b[0m\u001b[0m\n\u001b[1;32m    145\u001b[0m \u001b[0;34m\u001b[0m\u001b[0m\n",
            "\u001b[0;31mNameError\u001b[0m: name '__file__' is not defined"
          ]
        }
      ]
    },
    {
      "cell_type": "code",
      "source": [],
      "metadata": {
        "id": "2Xse57Cq5Tf8"
      },
      "execution_count": null,
      "outputs": []
    },
    {
      "cell_type": "markdown",
      "source": [
        "# ***ArcFaceLoss***"
      ],
      "metadata": {
        "id": "PdDm7o0G5WAx"
      }
    },
    {
      "cell_type": "code",
      "source": [
        "from itertools import chain\n",
        "import timm\n",
        "import pandas as pd\n",
        "import torchvision.transforms as T\n",
        "from torch.optim import SGD\n",
        "\n",
        "from wildlife_tools.data import WildlifeDataset, SplitMetadata\n",
        "from wildlife_tools.train import ArcFaceLoss, BasicTrainer\n",
        "\n",
        "import timm\n",
        "import numpy as np\n",
        "from wildlife_datasets.datasets import MacaqueFaces\n",
        "from wildlife_tools.data import WildlifeDataset\n",
        "import torchvision.transforms as T\n",
        "from wildlife_datasets import datasets, splits\n",
        "from wildlife_tools.features import DeepFeatures\n",
        "from wildlife_tools.similarity import CosineSimilarity\n",
        "from wildlife_tools.inference import KnnClassifier\n",
        "from sklearn.metrics import precision_score, recall_score, f1_score"
      ],
      "metadata": {
        "id": "tGzEjdZ06Y9S"
      },
      "execution_count": null,
      "outputs": []
    },
    {
      "cell_type": "code",
      "source": [],
      "metadata": {
        "id": "TKpAvZwT68GB"
      },
      "execution_count": null,
      "outputs": []
    },
    {
      "cell_type": "code",
      "source": [
        "import timm\n",
        "import itertools\n",
        "from torch.optim import SGD\n",
        "from wildlife_tools.train import ArcFaceLoss, BasicTrainer\n",
        "\n",
        "# Download dataset (if not already downloaded)\n",
        "datasets.IPanda50.get_data('../data/IPanda50')\n",
        "# Load dataset metadata\n",
        "metadata = datasets.IPanda50('../data/IPanda50')\n",
        "transform = T.Compose([T.Resize([224, 224]), T.ToTensor(), T.Normalize(mean=(0.485, 0.456, 0.406), std=(0.229, 0.224, 0.225))])\n",
        "dataset = WildlifeDataset(metadata.df, metadata.root, transform=transform)\n",
        "\n",
        "\n",
        "# Download MegaDescriptor-T backbone from HuggingFace Hub\n",
        "backbone = timm.create_model('hf-hub:BVRA/MegaDescriptor-T-224', num_classes=0, pretrained=True)\n",
        "\n",
        "# Arcface loss - needs backbone output size and number of classes.\n",
        "objective = ArcFaceLoss(\n",
        "    num_classes=dataset.num_classes,\n",
        "    embedding_size=768,\n",
        "    margin=0.5,\n",
        "    scale=64\n",
        "    )\n",
        "\n",
        "# Optimize parameters in backbone and in objective using single optimizer.\n",
        "params = itertools.chain(backbone.parameters(), objective.parameters())\n",
        "optimizer = SGD(params=params, lr=0.001, momentum=0.9)\n",
        "\n",
        "def print_epoch_loss(trainer, epoch_data):\n",
        "    # This function will print the average loss at the end of each epoch\n",
        "    print(f\"Epoch {trainer.epoch}: Average Loss = {epoch_data['train_loss_epoch_avg']}\")\n",
        "\n",
        "\n",
        "trainer = BasicTrainer(\n",
        "    dataset=dataset,\n",
        "    model=backbone,\n",
        "    objective=objective,\n",
        "    optimizer=optimizer,\n",
        "    epochs=10,\n",
        "    device='cpu',\n",
        "    epoch_callback=print_epoch_loss\n",
        ")\n",
        "\n",
        "trainer.train()\n"
      ],
      "metadata": {
        "colab": {
          "base_uri": "https://localhost:8080/"
        },
        "id": "TSsKmZdN6eHc",
        "outputId": "8842646b-37f3-4a87-9445-3cf931969ae3"
      },
      "execution_count": null,
      "outputs": [
        {
          "output_type": "stream",
          "name": "stdout",
          "text": [
            "DATASET IPanda50: DOWNLOADING STARTED.\n",
            "You are trying to download an already downloaded dataset.\n",
            "        This message may have happened to due interrupted download or extract.\n",
            "        To force the download use the `force=True` keyword such as\n",
            "        get_data(..., force=True) or download(..., force=True).\n",
            "        \n"
          ]
        },
        {
          "output_type": "stream",
          "name": "stderr",
          "text": [
            "/usr/local/lib/python3.10/dist-packages/huggingface_hub/utils/_token.py:88: UserWarning: \n",
            "The secret `HF_TOKEN` does not exist in your Colab secrets.\n",
            "To authenticate with the Hugging Face Hub, create a token in your settings tab (https://huggingface.co/settings/tokens), set it as secret in your Google Colab and restart your session.\n",
            "You will be able to reuse this secret in all of your notebooks.\n",
            "Please note that authentication is recommended but still optional to access public models or datasets.\n",
            "  warnings.warn(\n",
            "Epoch 0:   0%|                                                               | 0/54 [00:00<?, ?it/s]/usr/lib/python3.10/multiprocessing/popen_fork.py:66: RuntimeWarning: os.fork() was called. os.fork() is incompatible with multithreaded code, and JAX is multithreaded, so this will likely lead to a deadlock.\n",
            "  self.pid = os.fork()\n"
          ]
        }
      ]
    },
    {
      "cell_type": "code",
      "source": [],
      "metadata": {
        "id": "HhK0OtsE_led"
      },
      "execution_count": null,
      "outputs": []
    },
    {
      "cell_type": "markdown",
      "source": [
        "# ***TripletLoss***"
      ],
      "metadata": {
        "id": "Tx_JiGEe_lva"
      }
    },
    {
      "cell_type": "code",
      "source": [
        "import timm\n",
        "import itertools\n",
        "from torch.optim import SGD\n",
        "from wildlife_tools.train import ArcFaceLoss, BasicTrainer, TripletLoss\n",
        "\n",
        "\n",
        "\n",
        "# Download dataset (if not already downloaded)\n",
        "datasets.IPanda50.get_data('../data/IPanda50')\n",
        "# Load dataset metadata\n",
        "metadata = datasets.IPanda50('../data/IPanda50')\n",
        "transform = T.Compose([T.Resize([224, 224]), T.ToTensor(), T.Normalize(mean=(0.485, 0.456, 0.406), std=(0.229, 0.224, 0.225))])\n",
        "dataset = WildlifeDataset(metadata.df, metadata.root, transform=transform)\n",
        "\n",
        "# Download MegaDescriptor-T backbone from HuggingFace Hub\n",
        "backbone = timm.create_model('hf-hub:BVRA/MegaDescriptor-T-224', num_classes=0, pretrained=True)\n",
        "\n",
        "# Arcface loss - needs backbone output size and number of classes.\n",
        "objective = ArcFaceLoss(\n",
        "    num_classes=dataset.num_classes,\n",
        "    embedding_size=768,\n",
        "    margin=0.5,\n",
        "    scale=64\n",
        "    )\n",
        "\n",
        "# Optimize parameters in backbone and in objective using single optimizer.\n",
        "params = itertools.chain(backbone.parameters(), objective.parameters())\n",
        "optimizer = SGD(params=params, lr=0.001, momentum=0.9)\n",
        "\n",
        "\n",
        "# Download MegaDescriptor-T backbone from HuggingFace Hub\n",
        "backbone = timm.create_model('hf-hub:BVRA/MegaDescriptor-T-224',objective=objective, optimizer = optimizer ,num_classes=0, pretrained=True)"
      ],
      "metadata": {
        "colab": {
          "base_uri": "https://localhost:8080/"
        },
        "id": "rU_B1LUuvnlt",
        "outputId": "4c62700e-d1f0-4f1b-8fce-e7dad932dc43"
      },
      "execution_count": null,
      "outputs": [
        {
          "output_type": "stream",
          "name": "stdout",
          "text": [
            "DATASET IPanda50: DOWNLOADING STARTED.\n",
            "You are trying to download an already downloaded dataset.\n",
            "        This message may have happened to due interrupted download or extract.\n",
            "        To force the download use the `force=True` keyword such as\n",
            "        get_data(..., force=True) or download(..., force=True).\n",
            "        \n"
          ]
        }
      ]
    },
    {
      "cell_type": "code",
      "source": [
        "dataset_database_P = WildlifeDataset(metadata.df.iloc[100:,:], metadata.root, transform=transform)\n",
        "dataset_query_P = WildlifeDataset(metadata.df.iloc[:100,:], metadata.root, transform=transform)"
      ],
      "metadata": {
        "id": "U7TnlMJSwKYt"
      },
      "execution_count": null,
      "outputs": []
    },
    {
      "cell_type": "code",
      "source": [
        "# name = 'hf-hub:BVRA/MegaDescriptor-T-224'\n",
        "extractor_P = DeepFeatures(backbone)\n",
        "query_P, database_P = extractor_P(dataset_query_P), extractor_P(dataset_database_P)"
      ],
      "metadata": {
        "colab": {
          "base_uri": "https://localhost:8080/"
        },
        "id": "Tg23Og6DwKiJ",
        "outputId": "01fdc336-1e53-4083-8ac4-647fc2e0fe5c"
      },
      "execution_count": null,
      "outputs": [
        {
          "output_type": "stream",
          "name": "stderr",
          "text": [
            "\r  0%|                                                                         | 0/1 [00:00<?, ?it/s]/usr/lib/python3.10/multiprocessing/popen_fork.py:66: RuntimeWarning: os.fork() was called. os.fork() is incompatible with multithreaded code, and JAX is multithreaded, so this will likely lead to a deadlock.\n",
            "  self.pid = os.fork()\n",
            "100%|█████████████████████████████████████████████████████████████████| 1/1 [00:31<00:00, 31.57s/it]\n",
            "100%|███████████████████████████████████████████████████████████████| 53/53 [35:45<00:00, 40.47s/it]\n"
          ]
        }
      ]
    },
    {
      "cell_type": "code",
      "source": [
        "similarity_function = CosineSimilarity()\n",
        "similarity_P = similarity_function(query_P, database_P)\n",
        "print(similarity_P)"
      ],
      "metadata": {
        "id": "fqCaftyrwKsA",
        "colab": {
          "base_uri": "https://localhost:8080/"
        },
        "outputId": "4853158f-8711-4cda-98cc-a434c83adf0a"
      },
      "execution_count": null,
      "outputs": [
        {
          "output_type": "stream",
          "name": "stdout",
          "text": [
            "{'cosine': array([[ 0.02714637,  0.53501487,  0.14056858, ...,  0.38829625,\n",
            "         0.43481827, -0.07561179],\n",
            "       [ 0.08373775,  0.5616951 ,  0.03785922, ...,  0.3602667 ,\n",
            "         0.6493416 , -0.1295084 ],\n",
            "       [ 0.01190435,  0.4141855 ,  0.23542283, ...,  0.45754877,\n",
            "         0.5449476 , -0.1335805 ],\n",
            "       ...,\n",
            "       [ 0.0320384 ,  0.12872331, -0.14140168, ...,  0.02448   ,\n",
            "         0.22118227, -0.17661369],\n",
            "       [-0.08624166,  0.16572046,  0.07199848, ...,  0.14675027,\n",
            "         0.23473434, -0.02312863],\n",
            "       [ 0.01022829,  0.06892081,  0.7597883 , ...,  0.4224525 ,\n",
            "         0.10611828, -0.04714176]], dtype=float32)}\n"
          ]
        }
      ]
    },
    {
      "cell_type": "code",
      "source": [
        "classifier_P = KnnClassifier(k=1, database_labels=dataset_database_P.labels_string)\n",
        "predictions_P = classifier_P(similarity_P['cosine'])\n",
        "print(\"Predictions for 100 test Images:-\\n\",predictions_P)\n",
        "accuracy_P = np.mean(dataset_query_P.labels_string == predictions_P)\n",
        "print(\"Accuracy on IPanda50 data: {:.2f}%\".format(accuracy_P * 100))\n",
        "precision_P = precision_score(dataset_query_P.labels_string, predictions_P, average='weighted',zero_division=1)\n",
        "recall_P = recall_score(dataset_query_P.labels_string, predictions_P, average='weighted',zero_division=1)\n",
        "f1_P = f1_score(dataset_query_P.labels_string, predictions_P, average='weighted',zero_division=1)\n",
        "print(\"Precision:\", precision_P)\n",
        "print(\"Recall:\", recall_P)\n",
        "print(\"F1 Score:\", f1_P)"
      ],
      "metadata": {
        "id": "i2W4s8TiwKwp",
        "colab": {
          "base_uri": "https://localhost:8080/"
        },
        "outputId": "5f2f07dc-ed90-408d-b7ba-ba56b5e69c51"
      },
      "execution_count": null,
      "outputs": [
        {
          "output_type": "stream",
          "name": "stdout",
          "text": [
            "Predictions for 100 test Images:-\n",
            " ['10_hexing' '37_xinger' '01_aoliao' '33_wuyi' '47_yingying' '15_maosun'\n",
            " '09_fushun' '10_hexing' '36_xingda' '19_nannan' '08_fulai' '31_shurong'\n",
            " '44_yayi' '39_xinghui' '37_xinger' '14_maodou' '14_maodou' '00_aibang'\n",
            " '21_nina' '35_xilan' '19_nannan' '33_wuyi' '47_yingying' '49_yuanrun'\n",
            " '38_xingfan' '04_chengdui' '16_maotao' '48_yongbang' '11_jiaoao'\n",
            " '49_yuanrun' '24_qixi' '10_hexing' '35_xilan' '35_xilan' '02_baolan'\n",
            " '31_shurong' '31_shurong' '02_baolan' '23_qiubang' '26_qiyuan'\n",
            " '04_chengdui' '35_xilan' '08_fulai' '00_aibang' '10_hexing'\n",
            " '29_shuangxiong' '11_jiaoao' '44_yayi' '14_maodou' '30_shuqing'\n",
            " '36_xingda' '39_xinghui' '33_wuyi' '10_hexing' '10_hexing' '00_aibang'\n",
            " '49_yuanrun' '35_xilan' '04_chengdui' '10_hexing' '39_xinghui' '44_yayi'\n",
            " '10_hexing' '36_xingda' '16_maotao' '22_nini' '00_aibang' '39_xinghui'\n",
            " '10_hexing' '17_meibang' '00_aibang' '46_yazhu' '14_maodou' '15_maosun'\n",
            " '32_susu' '26_qiyuan' '27_rourou' '23_qiubang' '18_miaomiao'\n",
            " '48_yongbang' '45_yayun' '16_maotao' '33_wuyi' '13_jingliang'\n",
            " '41_xingxiao' '39_xinghui' '09_fushun' '46_yazhu' '22_nini' '49_yuanrun'\n",
            " '09_fushun' '28_sa' '48_yongbang' '47_yingying' '28_sa' '15_maosun'\n",
            " '39_xinghui' '20_nike' '43_yaxing' '47_yingying']\n",
            "Accuracy on IPanda50 data: 85.00%\n",
            "Precision: 0.9161111111111111\n",
            "Recall: 0.85\n",
            "F1 Score: 0.8478354978354978\n"
          ]
        }
      ]
    },
    {
      "cell_type": "code",
      "source": [],
      "metadata": {
        "id": "dcTXODJHwK05"
      },
      "execution_count": null,
      "outputs": []
    },
    {
      "cell_type": "markdown",
      "source": [
        "REAL CODE FORM HeRE"
      ],
      "metadata": {
        "id": "lzkmMcAmGihe"
      }
    },
    {
      "cell_type": "code",
      "source": [
        "import timm\n",
        "import itertools\n",
        "from torch.optim import SGD\n",
        "from wildlife_tools.train import ArcFaceLoss, BasicTrainer, TripletLoss\n",
        "\n",
        "\n",
        "\n",
        "# Download dataset (if not already downloaded)\n",
        "datasets.IPanda50.get_data('../data/IPanda50')\n",
        "# Load dataset metadata\n",
        "metadata = datasets.IPanda50('../data/IPanda50')\n",
        "transform = T.Compose([T.Resize([224, 224]), T.ToTensor(), T.Normalize(mean=(0.485, 0.456, 0.406), std=(0.229, 0.224, 0.225))])\n",
        "dataset = WildlifeDataset(metadata.df, metadata.root, transform=transform)\n",
        "\n",
        "\n",
        "# Download MegaDescriptor-T backbone from HuggingFace Hub\n",
        "backbone = timm.create_model('hf-hub:BVRA/MegaDescriptor-T-224',objective=ArcFaceLoss(), num_classes=0, pretrained=True)\n",
        "\n",
        "# Arcface loss - needs backbone output size and number of classes.\n",
        "objective = TripletLoss()\n",
        "\n",
        "# Optimize parameters in backbone and in objective using single optimizer.\n",
        "params = itertools.chain(backbone.parameters(), objective.parameters())\n",
        "optimizer = SGD(params=params, lr=0.001, momentum=0.9)\n",
        "\n",
        "def print_epoch_loss(trainer, epoch_data):\n",
        "    # This function will print the average loss at the end of each epoch\n",
        "    print(f\"Epoch {trainer.epoch}: Average Loss = {epoch_data['train_loss_epoch_avg']}\")\n",
        "\n",
        "\n",
        "trainer = BasicTrainer(\n",
        "    dataset=dataset,\n",
        "    model=backbone,\n",
        "    objective=objective,\n",
        "    optimizer=optimizer,\n",
        "    epochs=1,\n",
        "    device='cuda',\n",
        "    epoch_callback=print_epoch_loss\n",
        ")\n",
        "\n",
        "\n",
        "\n",
        "trainer.train()\n",
        "\n"
      ],
      "metadata": {
        "colab": {
          "base_uri": "https://localhost:8080/"
        },
        "id": "BHw9V8bZ_wng",
        "outputId": "edddb6a3-a615-4885-c299-75bf659a4944"
      },
      "execution_count": null,
      "outputs": [
        {
          "output_type": "stream",
          "name": "stdout",
          "text": [
            "DATASET IPanda50: DOWNLOADING STARTED.\n",
            "You are trying to download an already downloaded dataset.\n",
            "        This message may have happened to due interrupted download or extract.\n",
            "        To force the download use the `force=True` keyword such as\n",
            "        get_data(..., force=True) or download(..., force=True).\n",
            "        \n"
          ]
        },
        {
          "output_type": "stream",
          "name": "stderr",
          "text": [
            "\rEpoch 0:   0%|                                                               | 0/54 [00:00<?, ?it/s]/usr/lib/python3.10/multiprocessing/popen_fork.py:66: RuntimeWarning: os.fork() was called. os.fork() is incompatible with multithreaded code, and JAX is multithreaded, so this will likely lead to a deadlock.\n",
            "  self.pid = os.fork()\n",
            "Epoch 0: 100%|██████████████████████████████████████████████████████| 54/54 [02:06<00:00,  2.05s/it]/usr/lib/python3.10/multiprocessing/popen_fork.py:66: RuntimeWarning: os.fork() was called. os.fork() is incompatible with multithreaded code, and JAX is multithreaded, so this will likely lead to a deadlock.\n",
            "  self.pid = os.fork()\n",
            "Epoch 0: 100%|██████████████████████████████████████████████████████| 54/54 [02:06<00:00,  2.34s/it]"
          ]
        },
        {
          "output_type": "stream",
          "name": "stdout",
          "text": [
            "Epoch 1: Average Loss = 0.2463686764240265\n"
          ]
        },
        {
          "output_type": "stream",
          "name": "stderr",
          "text": [
            "\n"
          ]
        }
      ]
    },
    {
      "cell_type": "code",
      "source": [],
      "metadata": {
        "id": "pVsyQ5Z6CQ3z"
      },
      "execution_count": null,
      "outputs": []
    },
    {
      "cell_type": "code",
      "source": [],
      "metadata": {
        "id": "tQ8hA5MG8jD2"
      },
      "execution_count": null,
      "outputs": []
    },
    {
      "cell_type": "code",
      "source": [],
      "metadata": {
        "id": "nAHFjWIO8jHp"
      },
      "execution_count": null,
      "outputs": []
    },
    {
      "cell_type": "code",
      "source": [],
      "metadata": {
        "id": "2E8nyni28jLD"
      },
      "execution_count": null,
      "outputs": []
    },
    {
      "cell_type": "code",
      "source": [],
      "metadata": {
        "id": "DzUI7U9A8jOQ"
      },
      "execution_count": null,
      "outputs": []
    },
    {
      "cell_type": "code",
      "source": [],
      "metadata": {
        "id": "LJpCzAF78jRS"
      },
      "execution_count": null,
      "outputs": []
    },
    {
      "cell_type": "code",
      "source": [],
      "metadata": {
        "id": "tSLlj88G8jUb"
      },
      "execution_count": null,
      "outputs": []
    },
    {
      "cell_type": "markdown",
      "source": [],
      "metadata": {
        "id": "DHABb5b_8jzc"
      }
    },
    {
      "cell_type": "markdown",
      "source": [],
      "metadata": {
        "id": "Q1iFN38t8j6g"
      }
    },
    {
      "cell_type": "markdown",
      "source": [
        "# ***DogFaceNet ***"
      ],
      "metadata": {
        "id": "fL3CJZRV8j-Y"
      }
    },
    {
      "cell_type": "markdown",
      "source": [
        "TripletLoss"
      ],
      "metadata": {
        "id": "am6sDWj18o0W"
      }
    },
    {
      "cell_type": "code",
      "source": [
        "\n",
        "# %%\n",
        "from itertools import chain\n",
        "import timm\n",
        "import pandas as pd\n",
        "import torchvision.transforms as T\n",
        "from torch.optim import SGD\n",
        "\n",
        "from wildlife_tools.data import WildlifeDataset, SplitMetadata\n",
        "from wildlife_tools.train import ArcFaceLoss, BasicTrainer\n",
        "\n",
        "import timm\n",
        "import numpy as np\n",
        "from wildlife_datasets.datasets import MacaqueFaces\n",
        "from wildlife_tools.data import WildlifeDataset\n",
        "import torchvision.transforms as T\n",
        "from wildlife_datasets import datasets, splits\n",
        "from wildlife_tools.features import DeepFeatures\n",
        "from wildlife_tools.similarity import CosineSimilarity\n",
        "from wildlife_tools.inference import KnnClassifier\n",
        "from sklearn.metrics import precision_score, recall_score, f1_score\n",
        "\n",
        "import timm\n",
        "import itertools\n",
        "from torch.optim import SGD\n",
        "from wildlife_tools.train import ArcFaceLoss, BasicTrainer , TripletLoss\n",
        "\n",
        "\n",
        "# Download dataset (if not already downloaded)\n",
        "datasets.DogFaceNet.get_data('../data/DogFaceNet')\n",
        "\n",
        "# Load dataset metadata\n",
        "metadata = datasets.DogFaceNet('../data/DogFaceNet')\n",
        "transform = T.Compose([T.Resize([224, 224]), T.ToTensor(), T.Normalize(mean=(0.485, 0.456, 0.406), std=(0.229, 0.224, 0.225))])\n",
        "dataset = WildlifeDataset(metadata.df, metadata.root, transform=transform)\n",
        "\n",
        "\n",
        "# Download MegaDescriptor-T backbone from HuggingFace Hub\n",
        "backbone = timm.create_model('hf-hub:BVRA/MegaDescriptor-T-224', num_classes=0, pretrained=True)\n",
        "\n",
        "# Arcface loss - needs backbone output size and number of classes.\n",
        "objective = TripletLoss()\n",
        "\n",
        "# Optimize parameters in backbone and in objective using single optimizer.\n",
        "params = itertools.chain(backbone.parameters(), objective.parameters())\n",
        "optimizer = SGD(params=params, lr=0.001, momentum=0.9)\n",
        "\n",
        "def print_epoch_loss(trainer, epoch_data):\n",
        "    # This function will print the average loss at the end of each epoch\n",
        "    print(f\"Epoch {trainer.epoch}: Average Loss = {epoch_data['train_loss_epoch_avg']}\")\n",
        "\n",
        "\n",
        "trainer = BasicTrainer(\n",
        "    dataset=dataset,\n",
        "    model=backbone,\n",
        "    objective=objective,\n",
        "    optimizer=optimizer,\n",
        "    epochs=2,\n",
        "    device='cuda',\n",
        "    epoch_callback=print_epoch_loss\n",
        ")\n",
        "\n",
        "trainer.train()\n",
        "\n",
        "\n",
        "\n",
        "# # %%\n",
        "# import torch\n",
        "\n",
        "# trainer.save(\"retrained_chks\", file_name=\"tripletloss_IPanda50_retrained_checkpoint.pth\")\n",
        "\n",
        "\n",
        "\n",
        "\n",
        "# %%\n",
        "dataset_database_P = WildlifeDataset(metadata.df.iloc[100:,:], metadata.root, transform=transform)\n",
        "dataset_query_P = WildlifeDataset(metadata.df.iloc[:100,:], metadata.root, transform=transform)\n",
        "\n",
        "# name = 'hf-hub:BVRA/MegaDescriptor-T-224'\n",
        "extractor_P = DeepFeatures(trainer.model , device = 'cuda')\n",
        "\n",
        "query_P, database_P = extractor_P(dataset_query_P), extractor_P(dataset_database_P)\n",
        "\n",
        "\n",
        "\n",
        "\n",
        "\n",
        "# %%\n",
        "similarity_function = CosineSimilarity()\n",
        "similarity_P = similarity_function(query_P, database_P)\n",
        "print(similarity_P)\n",
        "\n",
        "\n",
        "# %%\n",
        "classifier_P = KnnClassifier(k=1, database_labels=dataset_database_P.labels_string)\n",
        "predictions_P = classifier_P(similarity_P['cosine'])\n",
        "print(\"Predictions for 100 test Images:-\\n\",predictions_P)\n",
        "accuracy_P = np.mean(dataset_query_P.labels_string == predictions_P)\n",
        "print(\"Accuracy on DogFaceNet data: {:.2f}%\".format(accuracy_P * 100))\n",
        "precision_P = precision_score(dataset_query_P.labels_string, predictions_P, average='weighted',zero_division=1)\n",
        "recall_P = recall_score(dataset_query_P.labels_string, predictions_P, average='weighted',zero_division=1)\n",
        "f1_P = f1_score(dataset_query_P.labels_string, predictions_P, average='weighted',zero_division=1)\n",
        "print(\"Precision:\", precision_P)\n",
        "print(\"Recall:\", recall_P)\n",
        "print(\"F1 Score:\", f1_P)\n",
        "\n",
        "\n"
      ],
      "metadata": {
        "colab": {
          "base_uri": "https://localhost:8080/",
          "height": 900,
          "referenced_widgets": [
            "73bf52d4ac394a58abb7537d74320d5f",
            "dbc43e87f0684293aab556cee467f6ed",
            "5673c0d16b1342dcbd9d0dc912efee9c",
            "81c3a323d7f84a11b5d48ad03ee73287",
            "138ec97589f44c95b4d337786e803b56",
            "3618675f157e4776801a613bda2e7aff",
            "844df1f9c21e4ec18e2d6ad27117fb06",
            "659f1558d5de4232990c70998aa919a1",
            "1497ec95030b4324b8e0421bcad78aa8",
            "944ed31ad65746bbbd458c6c4d122a1a",
            "134dd732efa543fc87017014aa63f30b",
            "cce748833e584e76b2350742ff5a4ebe",
            "f02158ab28d54b2b8436121d5db35a95",
            "a35a2aa255594a90a4ceef1dc729f51b",
            "54e2ebc9ca9f4f3c9f2d3d55e9747f5d",
            "dc13476c75b2483aba8fc6d77c49e8e6",
            "1f603db906d64dc696b341213358d468",
            "8ad13424518c485ab81c8b2761905a29",
            "bfdeb658c4a34d5db8da4fb838ce2c7a",
            "a88dd0ce1e314da2be76c6496e2512ec",
            "0279bdac13fe48e4842403379bb6dddf",
            "b2ce65b4e49241239d96fc50848b1674"
          ]
        },
        "id": "hTl8I_jv8rEa",
        "outputId": "fb866acd-c92f-47f7-99d6-4dd56d5c13c3"
      },
      "execution_count": 4,
      "outputs": [
        {
          "output_type": "stream",
          "name": "stdout",
          "text": [
            "DATASET DogFaceNet: DOWNLOADING STARTED.\n"
          ]
        },
        {
          "output_type": "stream",
          "name": "stderr",
          "text": [
            "DogFaceNet_Dataset_224_1.zip: 75.6MB [00:03, 25.1MB/s]                            \n"
          ]
        },
        {
          "output_type": "stream",
          "name": "stdout",
          "text": [
            "DATASET DogFaceNet: EXTRACTING STARTED.\n",
            "DATASET DogFaceNet: FINISHED.\n",
            "\n"
          ]
        },
        {
          "output_type": "stream",
          "name": "stderr",
          "text": [
            "/usr/local/lib/python3.10/dist-packages/huggingface_hub/utils/_token.py:88: UserWarning: \n",
            "The secret `HF_TOKEN` does not exist in your Colab secrets.\n",
            "To authenticate with the Hugging Face Hub, create a token in your settings tab (https://huggingface.co/settings/tokens), set it as secret in your Google Colab and restart your session.\n",
            "You will be able to reuse this secret in all of your notebooks.\n",
            "Please note that authentication is recommended but still optional to access public models or datasets.\n",
            "  warnings.warn(\n"
          ]
        },
        {
          "output_type": "display_data",
          "data": {
            "text/plain": [
              "config.json:   0%|          | 0.00/609 [00:00<?, ?B/s]"
            ],
            "application/vnd.jupyter.widget-view+json": {
              "version_major": 2,
              "version_minor": 0,
              "model_id": "73bf52d4ac394a58abb7537d74320d5f"
            }
          },
          "metadata": {}
        },
        {
          "output_type": "display_data",
          "data": {
            "text/plain": [
              "pytorch_model.bin:   0%|          | 0.00/204M [00:00<?, ?B/s]"
            ],
            "application/vnd.jupyter.widget-view+json": {
              "version_major": 2,
              "version_minor": 0,
              "model_id": "cce748833e584e76b2350742ff5a4ebe"
            }
          },
          "metadata": {}
        },
        {
          "output_type": "stream",
          "name": "stderr",
          "text": [
            "\rEpoch 0:   0%|                                                               | 0/66 [00:00<?, ?it/s]/usr/lib/python3.10/multiprocessing/popen_fork.py:66: RuntimeWarning: os.fork() was called. os.fork() is incompatible with multithreaded code, and JAX is multithreaded, so this will likely lead to a deadlock.\n",
            "  self.pid = os.fork()\n",
            "Epoch 0: 100%|██████████████████████████████████████████████████████| 66/66 [01:37<00:00,  1.47s/it]\n"
          ]
        },
        {
          "output_type": "stream",
          "name": "stdout",
          "text": [
            "Epoch 1: Average Loss = 0.16545015573501587\n"
          ]
        },
        {
          "output_type": "stream",
          "name": "stderr",
          "text": [
            "Epoch 1: 100%|██████████████████████████████████████████████████████| 66/66 [01:40<00:00,  1.52s/it]\n"
          ]
        },
        {
          "output_type": "stream",
          "name": "stdout",
          "text": [
            "Epoch 2: Average Loss = 0.1578773409128189\n"
          ]
        },
        {
          "output_type": "stream",
          "name": "stderr",
          "text": [
            "100%|█████████████████████████████████████████████████████████████████| 1/1 [00:00<00:00,  1.30it/s]\n",
            "100%|███████████████████████████████████████████████████████████████| 65/65 [00:39<00:00,  1.66it/s]"
          ]
        },
        {
          "output_type": "stream",
          "name": "stdout",
          "text": [
            "{'cosine': array([[ 0.03972328,  0.20781924,  0.14740594, ...,  0.12605846,\n",
            "         0.30586195, -0.02830541],\n",
            "       [-0.0353424 ,  0.22803351,  0.06092985, ...,  0.07184955,\n",
            "         0.23896131, -0.05035808],\n",
            "       [ 0.25620338, -0.03554427,  0.09088042, ...,  0.05417535,\n",
            "         0.05545497,  0.172644  ],\n",
            "       ...,\n",
            "       [ 0.4888112 , -0.02861565,  0.35003257, ...,  0.11940275,\n",
            "        -0.04592966,  0.30399358],\n",
            "       [-0.05110976,  0.42297965, -0.06133378, ...,  0.14550635,\n",
            "         0.24097437, -0.13004112],\n",
            "       [-0.01853296,  0.30375302, -0.08097982, ...,  0.30746043,\n",
            "         0.27140635, -0.13072297]], dtype=float32)}\n",
            "Predictions for 100 test Images:-\n",
            " ['262' '182' '919' '1122' '428' '378' '1063' '923' '470' '405' '764' '143'\n",
            " '635' '1339' '432' '627' '1075' '274' '296' '234' '529' '991' '247' '425'\n",
            " '280' '407' '1268' '1248' '446' '538' '739' '448' '1336' '251' '448'\n",
            " '459' '563' '210' '345' '1383' '499' '1324' '158' '127' '1398' '1254'\n",
            " '1139' '208' '626' '424' '293' '415' '99' '1270' '373' '192' '333' '333'\n",
            " '1314' '955' '329' '566' '189' '985' '122' '631' '491' '646' '26' '1368'\n",
            " '656' '673' '174' '1377' '1169' '458' '473' '149' '373' '622' '817' '919'\n",
            " '589' '1201' '782' '1357' '470' '462' '1324' '567' '183' '200' '299'\n",
            " '191' '397' '187' '270' '563' '1020' '466']\n",
            "Accuracy on DogFaceNet data: 67.00%\n",
            "Precision: 0.99\n",
            "Recall: 0.67\n",
            "F1 Score: 0.6733333333333333\n"
          ]
        },
        {
          "output_type": "stream",
          "name": "stderr",
          "text": [
            "\n"
          ]
        }
      ]
    },
    {
      "cell_type": "code",
      "source": [],
      "metadata": {
        "id": "41pwXMYMAZkc"
      },
      "execution_count": null,
      "outputs": []
    },
    {
      "cell_type": "code",
      "source": [],
      "metadata": {
        "id": "fNMasYirAZ26"
      },
      "execution_count": null,
      "outputs": []
    },
    {
      "cell_type": "markdown",
      "source": [
        "DogFaceNet SIFT"
      ],
      "metadata": {
        "id": "-sdk62ieAagx"
      }
    },
    {
      "cell_type": "code",
      "source": [
        "import numpy as np\n",
        "from PIL import Image\n",
        "import torchvision.transforms as T\n",
        "from wildlife_datasets import datasets\n",
        "from wildlife_tools.data import WildlifeDataset\n",
        "from wildlife_tools.features import SIFTFeatures\n",
        "import cv2  # Import OpenCV for SIFT\n",
        "\n",
        "\n",
        "\n",
        "# Download dataset (if not already downloaded)\n",
        "datasets.DogFaceNet.get_data('../data/DogFaceNet')\n",
        "\n",
        "# Load dataset metadata\n",
        "metadata_DogFaceNet = datasets.DogFaceNet('../data/DogFaceNet')\n",
        "\n",
        "\n",
        "# Define transformations: resize, convert to PIL Image, convert to grayscale, and convert to numpy array\n",
        "transform = T.Compose([\n",
        "    T.Resize([224, 224]),  # Resize the image\n",
        "    # T.ToPILImage(),  # Convert tensor to PIL Image\n",
        "    T.Grayscale(),  # Convert to grayscale\n",
        "    # T.ToTensor(),  # Convert PIL Image to numpy array\n",
        "    # lambda x: (x * 255).astype(np.uint8)  # Convert to 8-bit integer format\n",
        "])\n",
        "\n",
        "# Create datasets with transformations\n",
        "dataset = WildlifeDataset(metadata_DogFaceNet.df, metadata_DogFaceNet.root, transform=transform)\n",
        "dataset_database_DogFaceNet = WildlifeDataset(metadata_DogFaceNet.df.iloc[100:], metadata_DogFaceNet.root, transform=transform)\n",
        "dataset_query_DogFaceNet = WildlifeDataset(metadata_DogFaceNet.df.iloc[:100], metadata_DogFaceNet.root, transform=transform)\n",
        "\n",
        "# Initialize SIFT extractor\n",
        "sift = cv2.SIFT_create()\n",
        "extractor_DogFaceNet = SIFTFeatures()\n",
        "\n",
        "query_DogFaceNet, database_DogFaceNet = extractor_DogFaceNet(dataset_query_DogFaceNet), extractor_DogFaceNet(dataset_database_DogFaceNet)\n",
        "\n",
        "print(f'First 5 query features shape: {[i.shape for i in query_DogFaceNet[:5]]}')\n",
        "print(f'First 5 database features shape: {[i.shape for i in database_DogFaceNet[:5]]}')\n",
        "\n",
        "import timm\n",
        "import pandas as pd\n",
        "import torchvision.transforms as T\n",
        "\n",
        "from wildlife_tools.data import WildlifeDataset, SplitMetadata\n",
        "from wildlife_tools.features import SIFTFeatures\n",
        "from wildlife_tools.similarity import MatchDescriptors\n",
        "from wildlife_tools.inference import KnnClassifier\n",
        "\n",
        "similarity = MatchDescriptors(descriptor_dim=128, thresholds=[0.7])\n",
        "sim = similarity(query_DogFaceNet, database_DogFaceNet)[0.7]\n",
        "\n",
        "print(\"Number of SIFT correspondences after 0.8 ratio test threshold: \\n\", sim)\n",
        "\n",
        "\n",
        "classifier_DogFaceNet = KnnClassifier(k=1, database_labels=dataset_database_DogFaceNet.labels_string)\n",
        "predictions_DogFaceNet = classifier_DogFaceNet(sim)\n",
        "\n",
        "print(\"Predictions for 100 test Images:-\\n\",predictions_DogFaceNet)\n",
        "accuracy_DogFaceNet = np.mean(dataset_query_DogFaceNet.labels_string == predictions_DogFaceNet)\n",
        "print(\"Accuracy on DogFaceNet data: {:.2f}%\".format(accuracy_DogFaceNet * 100))\n",
        "\n",
        "\n",
        "\n",
        "# Nearest neigbour classifier using the similarity\n",
        "classifier = KnnClassifier(k=1, database_labels=dataset_database_DogFaceNet.labels_string)\n",
        "preds = classifier(sim)\n",
        "print(\"Prediction \\t\", preds)\n",
        "print(\"Ground truth \\t\", dataset_query_DogFaceNet.labels_string)\n",
        "\n",
        "acc = sum(preds == dataset_query_DogFaceNet.labels_string) / len(dataset_query_DogFaceNet.labels_string)\n",
        "print('\\n Accuracy: ', acc*100,\"%\")\n",
        "\n"
      ],
      "metadata": {
        "colab": {
          "base_uri": "https://localhost:8080/"
        },
        "id": "aTTAdA-VAdUy",
        "outputId": "7795fcba-801a-40a5-cf3d-f8cd0b3aae33"
      },
      "execution_count": 6,
      "outputs": [
        {
          "output_type": "stream",
          "name": "stdout",
          "text": [
            "DATASET DogFaceNet: DOWNLOADING STARTED.\n",
            "You are trying to download an already downloaded dataset.\n",
            "        This message may have happened to due interrupted download or extract.\n",
            "        To force the download use the `force=True` keyword such as\n",
            "        get_data(..., force=True) or download(..., force=True).\n",
            "        \n"
          ]
        },
        {
          "output_type": "stream",
          "name": "stderr",
          "text": [
            "100%|█████████████████████████████████████████████████████████████| 100/100 [00:07<00:00, 13.89it/s]\n",
            "100%|███████████████████████████████████████████████████████████| 8263/8263 [04:34<00:00, 30.14it/s]\n"
          ]
        },
        {
          "output_type": "stream",
          "name": "stdout",
          "text": [
            "First 5 query features shape: [(174, 128), (250, 128), (157, 128), (339, 128), (513, 128)]\n",
            "First 5 database features shape: [(267, 128), (169, 128), (341, 128), (432, 128), (177, 128)]\n"
          ]
        },
        {
          "output_type": "stream",
          "name": "stderr",
          "text": [
            "100%|██████████████████████████████████████████████████████| 826300/826300 [18:06<00:00, 760.54it/s]"
          ]
        },
        {
          "output_type": "stream",
          "name": "stdout",
          "text": [
            "Number of SIFT correspondences after 0.8 ratio test threshold: \n",
            " [[19. 14. 13. ... 18. 11. 11.]\n",
            " [15. 10. 23. ... 20. 12. 24.]\n",
            " [15. 19. 19. ... 13.  8. 17.]\n",
            " ...\n",
            " [14.  9. 24. ... 18.  7. 18.]\n",
            " [ 7. 14. 22. ...  9. 13. 20.]\n",
            " [16.  8. 18. ... 18.  9. 19.]]\n",
            "Predictions for 100 test Images:-\n",
            " ['300' '1319' '1296' '223' '428' '1296' '943' '385' '974' '223' '1125'\n",
            " '300' '1296' '223' '300' '385' '1296' '385' '1125' '174' '1296' '1296'\n",
            " '151' '385' '1125' '1296' '1125' '300' '223' '385' '385' '385' '1296'\n",
            " '1296' '274' '96' '1296' '1296' '223' '1296' '751' '300' '300' '127'\n",
            " '961' '1296' '1296' '174' '1296' '424' '274' '943' '1296' '300' '1296'\n",
            " '300' '1125' '223' '1296' '11' '223' '1296' '96' '814' '1308' '631'\n",
            " '1296' '646' '1238' '223' '1296' '1296' '1125' '300' '1169' '458' '223'\n",
            " '149' '1296' '622' '167' '1125' '1296' '223' '1296' '1357' '1296' '223'\n",
            " '1296' '385' '1296' '943' '1296' '1296' '1125' '1296' '1296' '943' '1020'\n",
            " '1296']\n",
            "Accuracy on DogFaceNet data: 11.00%\n",
            "Prediction \t ['300' '1319' '1296' '223' '428' '1296' '943' '385' '974' '223' '1125'\n",
            " '300' '1296' '223' '300' '385' '1296' '385' '1125' '174' '1296' '1296'\n",
            " '151' '385' '1125' '1296' '1125' '300' '223' '385' '385' '385' '1296'\n",
            " '1296' '274' '96' '1296' '1296' '223' '1296' '751' '300' '300' '127'\n",
            " '961' '1296' '1296' '174' '1296' '424' '274' '943' '1296' '300' '1296'\n",
            " '300' '1125' '223' '1296' '11' '223' '1296' '96' '814' '1308' '631'\n",
            " '1296' '646' '1238' '223' '1296' '1296' '1125' '300' '1169' '458' '223'\n",
            " '149' '1296' '622' '167' '1125' '1296' '223' '1296' '1357' '1296' '223'\n",
            " '1296' '385' '1296' '943' '1296' '1296' '1125' '1296' '1296' '943' '1020'\n",
            " '1296']\n",
            "Ground truth \t ['144' '182' '919' '1122' '428' '378' '1063' '426' '470' '405' '764'\n",
            " '1069' '3' '1339' '432' '673' '1075' '274' '296' '234' '1039' '991' '485'\n",
            " '425' '280' '407' '324' '1248' '1232' '896' '892' '448' '240' '251' '448'\n",
            " '930' '223' '210' '345' '763' '622' '1324' '158' '127' '313' '1254'\n",
            " '1139' '208' '193' '424' '293' '415' '589' '147' '373' '192' '333' '333'\n",
            " '1314' '957' '329' '89' '189' '152' '122' '631' '367' '646' '26' '903'\n",
            " '878' '673' '174' '474' '1169' '458' '473' '149' '373' '622' '540' '919'\n",
            " '589' '913' '782' '1357' '361' '266' '1324' '953' '183' '200' '299' '191'\n",
            " '397' '187' '270' '563' '1020' '1074']\n",
            "\n",
            " Accuracy:  11.0 %\n"
          ]
        },
        {
          "output_type": "stream",
          "name": "stderr",
          "text": [
            "\n"
          ]
        }
      ]
    }
  ],
  "metadata": {
    "colab": {
      "provenance": []
    },
    "kernelspec": {
      "display_name": "Python 3",
      "name": "python3"
    },
    "language_info": {
      "name": "python"
    },
    "widgets": {
      "application/vnd.jupyter.widget-state+json": {
        "7bb4d1c6b7904e9cbf50f5ebbae81147": {
          "model_module": "@jupyter-widgets/controls",
          "model_name": "HBoxModel",
          "model_module_version": "1.5.0",
          "state": {
            "_dom_classes": [],
            "_model_module": "@jupyter-widgets/controls",
            "_model_module_version": "1.5.0",
            "_model_name": "HBoxModel",
            "_view_count": null,
            "_view_module": "@jupyter-widgets/controls",
            "_view_module_version": "1.5.0",
            "_view_name": "HBoxView",
            "box_style": "",
            "children": [
              "IPY_MODEL_060a237164cd4212815ba4a1ab8a1957",
              "IPY_MODEL_e7439600dec34a8292734b2b9defd8ba",
              "IPY_MODEL_b62cf52205ee440cb1b720b3ca850e74"
            ],
            "layout": "IPY_MODEL_c302ae2cff1b434c8b4a37210bc4867e"
          }
        },
        "060a237164cd4212815ba4a1ab8a1957": {
          "model_module": "@jupyter-widgets/controls",
          "model_name": "HTMLModel",
          "model_module_version": "1.5.0",
          "state": {
            "_dom_classes": [],
            "_model_module": "@jupyter-widgets/controls",
            "_model_module_version": "1.5.0",
            "_model_name": "HTMLModel",
            "_view_count": null,
            "_view_module": "@jupyter-widgets/controls",
            "_view_module_version": "1.5.0",
            "_view_name": "HTMLView",
            "description": "",
            "description_tooltip": null,
            "layout": "IPY_MODEL_dd484c5723864cc6ac84cd5bb7de82a2",
            "placeholder": "​",
            "style": "IPY_MODEL_05b00a44abf54494bcc0133b15c6c14e",
            "value": "config.json: 100%"
          }
        },
        "e7439600dec34a8292734b2b9defd8ba": {
          "model_module": "@jupyter-widgets/controls",
          "model_name": "FloatProgressModel",
          "model_module_version": "1.5.0",
          "state": {
            "_dom_classes": [],
            "_model_module": "@jupyter-widgets/controls",
            "_model_module_version": "1.5.0",
            "_model_name": "FloatProgressModel",
            "_view_count": null,
            "_view_module": "@jupyter-widgets/controls",
            "_view_module_version": "1.5.0",
            "_view_name": "ProgressView",
            "bar_style": "success",
            "description": "",
            "description_tooltip": null,
            "layout": "IPY_MODEL_1758726103354555afeb83a7ac7380a7",
            "max": 609,
            "min": 0,
            "orientation": "horizontal",
            "style": "IPY_MODEL_a481ae0617694f7c9b2b95830ada18bf",
            "value": 609
          }
        },
        "b62cf52205ee440cb1b720b3ca850e74": {
          "model_module": "@jupyter-widgets/controls",
          "model_name": "HTMLModel",
          "model_module_version": "1.5.0",
          "state": {
            "_dom_classes": [],
            "_model_module": "@jupyter-widgets/controls",
            "_model_module_version": "1.5.0",
            "_model_name": "HTMLModel",
            "_view_count": null,
            "_view_module": "@jupyter-widgets/controls",
            "_view_module_version": "1.5.0",
            "_view_name": "HTMLView",
            "description": "",
            "description_tooltip": null,
            "layout": "IPY_MODEL_1402fa59c8c24db699227602f03ee3ca",
            "placeholder": "​",
            "style": "IPY_MODEL_fb3845646d7b4c57aa5a25aa3307012a",
            "value": " 609/609 [00:00&lt;00:00, 18.4kB/s]"
          }
        },
        "c302ae2cff1b434c8b4a37210bc4867e": {
          "model_module": "@jupyter-widgets/base",
          "model_name": "LayoutModel",
          "model_module_version": "1.2.0",
          "state": {
            "_model_module": "@jupyter-widgets/base",
            "_model_module_version": "1.2.0",
            "_model_name": "LayoutModel",
            "_view_count": null,
            "_view_module": "@jupyter-widgets/base",
            "_view_module_version": "1.2.0",
            "_view_name": "LayoutView",
            "align_content": null,
            "align_items": null,
            "align_self": null,
            "border": null,
            "bottom": null,
            "display": null,
            "flex": null,
            "flex_flow": null,
            "grid_area": null,
            "grid_auto_columns": null,
            "grid_auto_flow": null,
            "grid_auto_rows": null,
            "grid_column": null,
            "grid_gap": null,
            "grid_row": null,
            "grid_template_areas": null,
            "grid_template_columns": null,
            "grid_template_rows": null,
            "height": null,
            "justify_content": null,
            "justify_items": null,
            "left": null,
            "margin": null,
            "max_height": null,
            "max_width": null,
            "min_height": null,
            "min_width": null,
            "object_fit": null,
            "object_position": null,
            "order": null,
            "overflow": null,
            "overflow_x": null,
            "overflow_y": null,
            "padding": null,
            "right": null,
            "top": null,
            "visibility": null,
            "width": null
          }
        },
        "dd484c5723864cc6ac84cd5bb7de82a2": {
          "model_module": "@jupyter-widgets/base",
          "model_name": "LayoutModel",
          "model_module_version": "1.2.0",
          "state": {
            "_model_module": "@jupyter-widgets/base",
            "_model_module_version": "1.2.0",
            "_model_name": "LayoutModel",
            "_view_count": null,
            "_view_module": "@jupyter-widgets/base",
            "_view_module_version": "1.2.0",
            "_view_name": "LayoutView",
            "align_content": null,
            "align_items": null,
            "align_self": null,
            "border": null,
            "bottom": null,
            "display": null,
            "flex": null,
            "flex_flow": null,
            "grid_area": null,
            "grid_auto_columns": null,
            "grid_auto_flow": null,
            "grid_auto_rows": null,
            "grid_column": null,
            "grid_gap": null,
            "grid_row": null,
            "grid_template_areas": null,
            "grid_template_columns": null,
            "grid_template_rows": null,
            "height": null,
            "justify_content": null,
            "justify_items": null,
            "left": null,
            "margin": null,
            "max_height": null,
            "max_width": null,
            "min_height": null,
            "min_width": null,
            "object_fit": null,
            "object_position": null,
            "order": null,
            "overflow": null,
            "overflow_x": null,
            "overflow_y": null,
            "padding": null,
            "right": null,
            "top": null,
            "visibility": null,
            "width": null
          }
        },
        "05b00a44abf54494bcc0133b15c6c14e": {
          "model_module": "@jupyter-widgets/controls",
          "model_name": "DescriptionStyleModel",
          "model_module_version": "1.5.0",
          "state": {
            "_model_module": "@jupyter-widgets/controls",
            "_model_module_version": "1.5.0",
            "_model_name": "DescriptionStyleModel",
            "_view_count": null,
            "_view_module": "@jupyter-widgets/base",
            "_view_module_version": "1.2.0",
            "_view_name": "StyleView",
            "description_width": ""
          }
        },
        "1758726103354555afeb83a7ac7380a7": {
          "model_module": "@jupyter-widgets/base",
          "model_name": "LayoutModel",
          "model_module_version": "1.2.0",
          "state": {
            "_model_module": "@jupyter-widgets/base",
            "_model_module_version": "1.2.0",
            "_model_name": "LayoutModel",
            "_view_count": null,
            "_view_module": "@jupyter-widgets/base",
            "_view_module_version": "1.2.0",
            "_view_name": "LayoutView",
            "align_content": null,
            "align_items": null,
            "align_self": null,
            "border": null,
            "bottom": null,
            "display": null,
            "flex": null,
            "flex_flow": null,
            "grid_area": null,
            "grid_auto_columns": null,
            "grid_auto_flow": null,
            "grid_auto_rows": null,
            "grid_column": null,
            "grid_gap": null,
            "grid_row": null,
            "grid_template_areas": null,
            "grid_template_columns": null,
            "grid_template_rows": null,
            "height": null,
            "justify_content": null,
            "justify_items": null,
            "left": null,
            "margin": null,
            "max_height": null,
            "max_width": null,
            "min_height": null,
            "min_width": null,
            "object_fit": null,
            "object_position": null,
            "order": null,
            "overflow": null,
            "overflow_x": null,
            "overflow_y": null,
            "padding": null,
            "right": null,
            "top": null,
            "visibility": null,
            "width": null
          }
        },
        "a481ae0617694f7c9b2b95830ada18bf": {
          "model_module": "@jupyter-widgets/controls",
          "model_name": "ProgressStyleModel",
          "model_module_version": "1.5.0",
          "state": {
            "_model_module": "@jupyter-widgets/controls",
            "_model_module_version": "1.5.0",
            "_model_name": "ProgressStyleModel",
            "_view_count": null,
            "_view_module": "@jupyter-widgets/base",
            "_view_module_version": "1.2.0",
            "_view_name": "StyleView",
            "bar_color": null,
            "description_width": ""
          }
        },
        "1402fa59c8c24db699227602f03ee3ca": {
          "model_module": "@jupyter-widgets/base",
          "model_name": "LayoutModel",
          "model_module_version": "1.2.0",
          "state": {
            "_model_module": "@jupyter-widgets/base",
            "_model_module_version": "1.2.0",
            "_model_name": "LayoutModel",
            "_view_count": null,
            "_view_module": "@jupyter-widgets/base",
            "_view_module_version": "1.2.0",
            "_view_name": "LayoutView",
            "align_content": null,
            "align_items": null,
            "align_self": null,
            "border": null,
            "bottom": null,
            "display": null,
            "flex": null,
            "flex_flow": null,
            "grid_area": null,
            "grid_auto_columns": null,
            "grid_auto_flow": null,
            "grid_auto_rows": null,
            "grid_column": null,
            "grid_gap": null,
            "grid_row": null,
            "grid_template_areas": null,
            "grid_template_columns": null,
            "grid_template_rows": null,
            "height": null,
            "justify_content": null,
            "justify_items": null,
            "left": null,
            "margin": null,
            "max_height": null,
            "max_width": null,
            "min_height": null,
            "min_width": null,
            "object_fit": null,
            "object_position": null,
            "order": null,
            "overflow": null,
            "overflow_x": null,
            "overflow_y": null,
            "padding": null,
            "right": null,
            "top": null,
            "visibility": null,
            "width": null
          }
        },
        "fb3845646d7b4c57aa5a25aa3307012a": {
          "model_module": "@jupyter-widgets/controls",
          "model_name": "DescriptionStyleModel",
          "model_module_version": "1.5.0",
          "state": {
            "_model_module": "@jupyter-widgets/controls",
            "_model_module_version": "1.5.0",
            "_model_name": "DescriptionStyleModel",
            "_view_count": null,
            "_view_module": "@jupyter-widgets/base",
            "_view_module_version": "1.2.0",
            "_view_name": "StyleView",
            "description_width": ""
          }
        },
        "3ab965ec35a844009a036337ecb5e3c8": {
          "model_module": "@jupyter-widgets/controls",
          "model_name": "HBoxModel",
          "model_module_version": "1.5.0",
          "state": {
            "_dom_classes": [],
            "_model_module": "@jupyter-widgets/controls",
            "_model_module_version": "1.5.0",
            "_model_name": "HBoxModel",
            "_view_count": null,
            "_view_module": "@jupyter-widgets/controls",
            "_view_module_version": "1.5.0",
            "_view_name": "HBoxView",
            "box_style": "",
            "children": [
              "IPY_MODEL_39c60bbe979d4ae5847f11a0d16d0194",
              "IPY_MODEL_033246e211e94ea2b27d64639556ce19",
              "IPY_MODEL_a87edb45ca644810a8f905b567b93a74"
            ],
            "layout": "IPY_MODEL_6e6864ef881a49b88c3a94c74c57a80b"
          }
        },
        "39c60bbe979d4ae5847f11a0d16d0194": {
          "model_module": "@jupyter-widgets/controls",
          "model_name": "HTMLModel",
          "model_module_version": "1.5.0",
          "state": {
            "_dom_classes": [],
            "_model_module": "@jupyter-widgets/controls",
            "_model_module_version": "1.5.0",
            "_model_name": "HTMLModel",
            "_view_count": null,
            "_view_module": "@jupyter-widgets/controls",
            "_view_module_version": "1.5.0",
            "_view_name": "HTMLView",
            "description": "",
            "description_tooltip": null,
            "layout": "IPY_MODEL_c436c98065604768b0643bcd4da7f577",
            "placeholder": "​",
            "style": "IPY_MODEL_dc608a3dfa974b549f1657f0b154af31",
            "value": "pytorch_model.bin: 100%"
          }
        },
        "033246e211e94ea2b27d64639556ce19": {
          "model_module": "@jupyter-widgets/controls",
          "model_name": "FloatProgressModel",
          "model_module_version": "1.5.0",
          "state": {
            "_dom_classes": [],
            "_model_module": "@jupyter-widgets/controls",
            "_model_module_version": "1.5.0",
            "_model_name": "FloatProgressModel",
            "_view_count": null,
            "_view_module": "@jupyter-widgets/controls",
            "_view_module_version": "1.5.0",
            "_view_name": "ProgressView",
            "bar_style": "success",
            "description": "",
            "description_tooltip": null,
            "layout": "IPY_MODEL_b5b9a3b5e9e649db9f0519a349dcb44f",
            "max": 204267588,
            "min": 0,
            "orientation": "horizontal",
            "style": "IPY_MODEL_22615ba557904ef1bf0948f939a52c9f",
            "value": 204267588
          }
        },
        "a87edb45ca644810a8f905b567b93a74": {
          "model_module": "@jupyter-widgets/controls",
          "model_name": "HTMLModel",
          "model_module_version": "1.5.0",
          "state": {
            "_dom_classes": [],
            "_model_module": "@jupyter-widgets/controls",
            "_model_module_version": "1.5.0",
            "_model_name": "HTMLModel",
            "_view_count": null,
            "_view_module": "@jupyter-widgets/controls",
            "_view_module_version": "1.5.0",
            "_view_name": "HTMLView",
            "description": "",
            "description_tooltip": null,
            "layout": "IPY_MODEL_83f4843ebcd744fbbb74291a830c637f",
            "placeholder": "​",
            "style": "IPY_MODEL_722fe5c7625142478f57337678c835a9",
            "value": " 204M/204M [00:02&lt;00:00, 99.1MB/s]"
          }
        },
        "6e6864ef881a49b88c3a94c74c57a80b": {
          "model_module": "@jupyter-widgets/base",
          "model_name": "LayoutModel",
          "model_module_version": "1.2.0",
          "state": {
            "_model_module": "@jupyter-widgets/base",
            "_model_module_version": "1.2.0",
            "_model_name": "LayoutModel",
            "_view_count": null,
            "_view_module": "@jupyter-widgets/base",
            "_view_module_version": "1.2.0",
            "_view_name": "LayoutView",
            "align_content": null,
            "align_items": null,
            "align_self": null,
            "border": null,
            "bottom": null,
            "display": null,
            "flex": null,
            "flex_flow": null,
            "grid_area": null,
            "grid_auto_columns": null,
            "grid_auto_flow": null,
            "grid_auto_rows": null,
            "grid_column": null,
            "grid_gap": null,
            "grid_row": null,
            "grid_template_areas": null,
            "grid_template_columns": null,
            "grid_template_rows": null,
            "height": null,
            "justify_content": null,
            "justify_items": null,
            "left": null,
            "margin": null,
            "max_height": null,
            "max_width": null,
            "min_height": null,
            "min_width": null,
            "object_fit": null,
            "object_position": null,
            "order": null,
            "overflow": null,
            "overflow_x": null,
            "overflow_y": null,
            "padding": null,
            "right": null,
            "top": null,
            "visibility": null,
            "width": null
          }
        },
        "c436c98065604768b0643bcd4da7f577": {
          "model_module": "@jupyter-widgets/base",
          "model_name": "LayoutModel",
          "model_module_version": "1.2.0",
          "state": {
            "_model_module": "@jupyter-widgets/base",
            "_model_module_version": "1.2.0",
            "_model_name": "LayoutModel",
            "_view_count": null,
            "_view_module": "@jupyter-widgets/base",
            "_view_module_version": "1.2.0",
            "_view_name": "LayoutView",
            "align_content": null,
            "align_items": null,
            "align_self": null,
            "border": null,
            "bottom": null,
            "display": null,
            "flex": null,
            "flex_flow": null,
            "grid_area": null,
            "grid_auto_columns": null,
            "grid_auto_flow": null,
            "grid_auto_rows": null,
            "grid_column": null,
            "grid_gap": null,
            "grid_row": null,
            "grid_template_areas": null,
            "grid_template_columns": null,
            "grid_template_rows": null,
            "height": null,
            "justify_content": null,
            "justify_items": null,
            "left": null,
            "margin": null,
            "max_height": null,
            "max_width": null,
            "min_height": null,
            "min_width": null,
            "object_fit": null,
            "object_position": null,
            "order": null,
            "overflow": null,
            "overflow_x": null,
            "overflow_y": null,
            "padding": null,
            "right": null,
            "top": null,
            "visibility": null,
            "width": null
          }
        },
        "dc608a3dfa974b549f1657f0b154af31": {
          "model_module": "@jupyter-widgets/controls",
          "model_name": "DescriptionStyleModel",
          "model_module_version": "1.5.0",
          "state": {
            "_model_module": "@jupyter-widgets/controls",
            "_model_module_version": "1.5.0",
            "_model_name": "DescriptionStyleModel",
            "_view_count": null,
            "_view_module": "@jupyter-widgets/base",
            "_view_module_version": "1.2.0",
            "_view_name": "StyleView",
            "description_width": ""
          }
        },
        "b5b9a3b5e9e649db9f0519a349dcb44f": {
          "model_module": "@jupyter-widgets/base",
          "model_name": "LayoutModel",
          "model_module_version": "1.2.0",
          "state": {
            "_model_module": "@jupyter-widgets/base",
            "_model_module_version": "1.2.0",
            "_model_name": "LayoutModel",
            "_view_count": null,
            "_view_module": "@jupyter-widgets/base",
            "_view_module_version": "1.2.0",
            "_view_name": "LayoutView",
            "align_content": null,
            "align_items": null,
            "align_self": null,
            "border": null,
            "bottom": null,
            "display": null,
            "flex": null,
            "flex_flow": null,
            "grid_area": null,
            "grid_auto_columns": null,
            "grid_auto_flow": null,
            "grid_auto_rows": null,
            "grid_column": null,
            "grid_gap": null,
            "grid_row": null,
            "grid_template_areas": null,
            "grid_template_columns": null,
            "grid_template_rows": null,
            "height": null,
            "justify_content": null,
            "justify_items": null,
            "left": null,
            "margin": null,
            "max_height": null,
            "max_width": null,
            "min_height": null,
            "min_width": null,
            "object_fit": null,
            "object_position": null,
            "order": null,
            "overflow": null,
            "overflow_x": null,
            "overflow_y": null,
            "padding": null,
            "right": null,
            "top": null,
            "visibility": null,
            "width": null
          }
        },
        "22615ba557904ef1bf0948f939a52c9f": {
          "model_module": "@jupyter-widgets/controls",
          "model_name": "ProgressStyleModel",
          "model_module_version": "1.5.0",
          "state": {
            "_model_module": "@jupyter-widgets/controls",
            "_model_module_version": "1.5.0",
            "_model_name": "ProgressStyleModel",
            "_view_count": null,
            "_view_module": "@jupyter-widgets/base",
            "_view_module_version": "1.2.0",
            "_view_name": "StyleView",
            "bar_color": null,
            "description_width": ""
          }
        },
        "83f4843ebcd744fbbb74291a830c637f": {
          "model_module": "@jupyter-widgets/base",
          "model_name": "LayoutModel",
          "model_module_version": "1.2.0",
          "state": {
            "_model_module": "@jupyter-widgets/base",
            "_model_module_version": "1.2.0",
            "_model_name": "LayoutModel",
            "_view_count": null,
            "_view_module": "@jupyter-widgets/base",
            "_view_module_version": "1.2.0",
            "_view_name": "LayoutView",
            "align_content": null,
            "align_items": null,
            "align_self": null,
            "border": null,
            "bottom": null,
            "display": null,
            "flex": null,
            "flex_flow": null,
            "grid_area": null,
            "grid_auto_columns": null,
            "grid_auto_flow": null,
            "grid_auto_rows": null,
            "grid_column": null,
            "grid_gap": null,
            "grid_row": null,
            "grid_template_areas": null,
            "grid_template_columns": null,
            "grid_template_rows": null,
            "height": null,
            "justify_content": null,
            "justify_items": null,
            "left": null,
            "margin": null,
            "max_height": null,
            "max_width": null,
            "min_height": null,
            "min_width": null,
            "object_fit": null,
            "object_position": null,
            "order": null,
            "overflow": null,
            "overflow_x": null,
            "overflow_y": null,
            "padding": null,
            "right": null,
            "top": null,
            "visibility": null,
            "width": null
          }
        },
        "722fe5c7625142478f57337678c835a9": {
          "model_module": "@jupyter-widgets/controls",
          "model_name": "DescriptionStyleModel",
          "model_module_version": "1.5.0",
          "state": {
            "_model_module": "@jupyter-widgets/controls",
            "_model_module_version": "1.5.0",
            "_model_name": "DescriptionStyleModel",
            "_view_count": null,
            "_view_module": "@jupyter-widgets/base",
            "_view_module_version": "1.2.0",
            "_view_name": "StyleView",
            "description_width": ""
          }
        },
        "73bf52d4ac394a58abb7537d74320d5f": {
          "model_module": "@jupyter-widgets/controls",
          "model_name": "HBoxModel",
          "model_module_version": "1.5.0",
          "state": {
            "_dom_classes": [],
            "_model_module": "@jupyter-widgets/controls",
            "_model_module_version": "1.5.0",
            "_model_name": "HBoxModel",
            "_view_count": null,
            "_view_module": "@jupyter-widgets/controls",
            "_view_module_version": "1.5.0",
            "_view_name": "HBoxView",
            "box_style": "",
            "children": [
              "IPY_MODEL_dbc43e87f0684293aab556cee467f6ed",
              "IPY_MODEL_5673c0d16b1342dcbd9d0dc912efee9c",
              "IPY_MODEL_81c3a323d7f84a11b5d48ad03ee73287"
            ],
            "layout": "IPY_MODEL_138ec97589f44c95b4d337786e803b56"
          }
        },
        "dbc43e87f0684293aab556cee467f6ed": {
          "model_module": "@jupyter-widgets/controls",
          "model_name": "HTMLModel",
          "model_module_version": "1.5.0",
          "state": {
            "_dom_classes": [],
            "_model_module": "@jupyter-widgets/controls",
            "_model_module_version": "1.5.0",
            "_model_name": "HTMLModel",
            "_view_count": null,
            "_view_module": "@jupyter-widgets/controls",
            "_view_module_version": "1.5.0",
            "_view_name": "HTMLView",
            "description": "",
            "description_tooltip": null,
            "layout": "IPY_MODEL_3618675f157e4776801a613bda2e7aff",
            "placeholder": "​",
            "style": "IPY_MODEL_844df1f9c21e4ec18e2d6ad27117fb06",
            "value": "config.json: 100%"
          }
        },
        "5673c0d16b1342dcbd9d0dc912efee9c": {
          "model_module": "@jupyter-widgets/controls",
          "model_name": "FloatProgressModel",
          "model_module_version": "1.5.0",
          "state": {
            "_dom_classes": [],
            "_model_module": "@jupyter-widgets/controls",
            "_model_module_version": "1.5.0",
            "_model_name": "FloatProgressModel",
            "_view_count": null,
            "_view_module": "@jupyter-widgets/controls",
            "_view_module_version": "1.5.0",
            "_view_name": "ProgressView",
            "bar_style": "success",
            "description": "",
            "description_tooltip": null,
            "layout": "IPY_MODEL_659f1558d5de4232990c70998aa919a1",
            "max": 609,
            "min": 0,
            "orientation": "horizontal",
            "style": "IPY_MODEL_1497ec95030b4324b8e0421bcad78aa8",
            "value": 609
          }
        },
        "81c3a323d7f84a11b5d48ad03ee73287": {
          "model_module": "@jupyter-widgets/controls",
          "model_name": "HTMLModel",
          "model_module_version": "1.5.0",
          "state": {
            "_dom_classes": [],
            "_model_module": "@jupyter-widgets/controls",
            "_model_module_version": "1.5.0",
            "_model_name": "HTMLModel",
            "_view_count": null,
            "_view_module": "@jupyter-widgets/controls",
            "_view_module_version": "1.5.0",
            "_view_name": "HTMLView",
            "description": "",
            "description_tooltip": null,
            "layout": "IPY_MODEL_944ed31ad65746bbbd458c6c4d122a1a",
            "placeholder": "​",
            "style": "IPY_MODEL_134dd732efa543fc87017014aa63f30b",
            "value": " 609/609 [00:00&lt;00:00, 25.3kB/s]"
          }
        },
        "138ec97589f44c95b4d337786e803b56": {
          "model_module": "@jupyter-widgets/base",
          "model_name": "LayoutModel",
          "model_module_version": "1.2.0",
          "state": {
            "_model_module": "@jupyter-widgets/base",
            "_model_module_version": "1.2.0",
            "_model_name": "LayoutModel",
            "_view_count": null,
            "_view_module": "@jupyter-widgets/base",
            "_view_module_version": "1.2.0",
            "_view_name": "LayoutView",
            "align_content": null,
            "align_items": null,
            "align_self": null,
            "border": null,
            "bottom": null,
            "display": null,
            "flex": null,
            "flex_flow": null,
            "grid_area": null,
            "grid_auto_columns": null,
            "grid_auto_flow": null,
            "grid_auto_rows": null,
            "grid_column": null,
            "grid_gap": null,
            "grid_row": null,
            "grid_template_areas": null,
            "grid_template_columns": null,
            "grid_template_rows": null,
            "height": null,
            "justify_content": null,
            "justify_items": null,
            "left": null,
            "margin": null,
            "max_height": null,
            "max_width": null,
            "min_height": null,
            "min_width": null,
            "object_fit": null,
            "object_position": null,
            "order": null,
            "overflow": null,
            "overflow_x": null,
            "overflow_y": null,
            "padding": null,
            "right": null,
            "top": null,
            "visibility": null,
            "width": null
          }
        },
        "3618675f157e4776801a613bda2e7aff": {
          "model_module": "@jupyter-widgets/base",
          "model_name": "LayoutModel",
          "model_module_version": "1.2.0",
          "state": {
            "_model_module": "@jupyter-widgets/base",
            "_model_module_version": "1.2.0",
            "_model_name": "LayoutModel",
            "_view_count": null,
            "_view_module": "@jupyter-widgets/base",
            "_view_module_version": "1.2.0",
            "_view_name": "LayoutView",
            "align_content": null,
            "align_items": null,
            "align_self": null,
            "border": null,
            "bottom": null,
            "display": null,
            "flex": null,
            "flex_flow": null,
            "grid_area": null,
            "grid_auto_columns": null,
            "grid_auto_flow": null,
            "grid_auto_rows": null,
            "grid_column": null,
            "grid_gap": null,
            "grid_row": null,
            "grid_template_areas": null,
            "grid_template_columns": null,
            "grid_template_rows": null,
            "height": null,
            "justify_content": null,
            "justify_items": null,
            "left": null,
            "margin": null,
            "max_height": null,
            "max_width": null,
            "min_height": null,
            "min_width": null,
            "object_fit": null,
            "object_position": null,
            "order": null,
            "overflow": null,
            "overflow_x": null,
            "overflow_y": null,
            "padding": null,
            "right": null,
            "top": null,
            "visibility": null,
            "width": null
          }
        },
        "844df1f9c21e4ec18e2d6ad27117fb06": {
          "model_module": "@jupyter-widgets/controls",
          "model_name": "DescriptionStyleModel",
          "model_module_version": "1.5.0",
          "state": {
            "_model_module": "@jupyter-widgets/controls",
            "_model_module_version": "1.5.0",
            "_model_name": "DescriptionStyleModel",
            "_view_count": null,
            "_view_module": "@jupyter-widgets/base",
            "_view_module_version": "1.2.0",
            "_view_name": "StyleView",
            "description_width": ""
          }
        },
        "659f1558d5de4232990c70998aa919a1": {
          "model_module": "@jupyter-widgets/base",
          "model_name": "LayoutModel",
          "model_module_version": "1.2.0",
          "state": {
            "_model_module": "@jupyter-widgets/base",
            "_model_module_version": "1.2.0",
            "_model_name": "LayoutModel",
            "_view_count": null,
            "_view_module": "@jupyter-widgets/base",
            "_view_module_version": "1.2.0",
            "_view_name": "LayoutView",
            "align_content": null,
            "align_items": null,
            "align_self": null,
            "border": null,
            "bottom": null,
            "display": null,
            "flex": null,
            "flex_flow": null,
            "grid_area": null,
            "grid_auto_columns": null,
            "grid_auto_flow": null,
            "grid_auto_rows": null,
            "grid_column": null,
            "grid_gap": null,
            "grid_row": null,
            "grid_template_areas": null,
            "grid_template_columns": null,
            "grid_template_rows": null,
            "height": null,
            "justify_content": null,
            "justify_items": null,
            "left": null,
            "margin": null,
            "max_height": null,
            "max_width": null,
            "min_height": null,
            "min_width": null,
            "object_fit": null,
            "object_position": null,
            "order": null,
            "overflow": null,
            "overflow_x": null,
            "overflow_y": null,
            "padding": null,
            "right": null,
            "top": null,
            "visibility": null,
            "width": null
          }
        },
        "1497ec95030b4324b8e0421bcad78aa8": {
          "model_module": "@jupyter-widgets/controls",
          "model_name": "ProgressStyleModel",
          "model_module_version": "1.5.0",
          "state": {
            "_model_module": "@jupyter-widgets/controls",
            "_model_module_version": "1.5.0",
            "_model_name": "ProgressStyleModel",
            "_view_count": null,
            "_view_module": "@jupyter-widgets/base",
            "_view_module_version": "1.2.0",
            "_view_name": "StyleView",
            "bar_color": null,
            "description_width": ""
          }
        },
        "944ed31ad65746bbbd458c6c4d122a1a": {
          "model_module": "@jupyter-widgets/base",
          "model_name": "LayoutModel",
          "model_module_version": "1.2.0",
          "state": {
            "_model_module": "@jupyter-widgets/base",
            "_model_module_version": "1.2.0",
            "_model_name": "LayoutModel",
            "_view_count": null,
            "_view_module": "@jupyter-widgets/base",
            "_view_module_version": "1.2.0",
            "_view_name": "LayoutView",
            "align_content": null,
            "align_items": null,
            "align_self": null,
            "border": null,
            "bottom": null,
            "display": null,
            "flex": null,
            "flex_flow": null,
            "grid_area": null,
            "grid_auto_columns": null,
            "grid_auto_flow": null,
            "grid_auto_rows": null,
            "grid_column": null,
            "grid_gap": null,
            "grid_row": null,
            "grid_template_areas": null,
            "grid_template_columns": null,
            "grid_template_rows": null,
            "height": null,
            "justify_content": null,
            "justify_items": null,
            "left": null,
            "margin": null,
            "max_height": null,
            "max_width": null,
            "min_height": null,
            "min_width": null,
            "object_fit": null,
            "object_position": null,
            "order": null,
            "overflow": null,
            "overflow_x": null,
            "overflow_y": null,
            "padding": null,
            "right": null,
            "top": null,
            "visibility": null,
            "width": null
          }
        },
        "134dd732efa543fc87017014aa63f30b": {
          "model_module": "@jupyter-widgets/controls",
          "model_name": "DescriptionStyleModel",
          "model_module_version": "1.5.0",
          "state": {
            "_model_module": "@jupyter-widgets/controls",
            "_model_module_version": "1.5.0",
            "_model_name": "DescriptionStyleModel",
            "_view_count": null,
            "_view_module": "@jupyter-widgets/base",
            "_view_module_version": "1.2.0",
            "_view_name": "StyleView",
            "description_width": ""
          }
        },
        "cce748833e584e76b2350742ff5a4ebe": {
          "model_module": "@jupyter-widgets/controls",
          "model_name": "HBoxModel",
          "model_module_version": "1.5.0",
          "state": {
            "_dom_classes": [],
            "_model_module": "@jupyter-widgets/controls",
            "_model_module_version": "1.5.0",
            "_model_name": "HBoxModel",
            "_view_count": null,
            "_view_module": "@jupyter-widgets/controls",
            "_view_module_version": "1.5.0",
            "_view_name": "HBoxView",
            "box_style": "",
            "children": [
              "IPY_MODEL_f02158ab28d54b2b8436121d5db35a95",
              "IPY_MODEL_a35a2aa255594a90a4ceef1dc729f51b",
              "IPY_MODEL_54e2ebc9ca9f4f3c9f2d3d55e9747f5d"
            ],
            "layout": "IPY_MODEL_dc13476c75b2483aba8fc6d77c49e8e6"
          }
        },
        "f02158ab28d54b2b8436121d5db35a95": {
          "model_module": "@jupyter-widgets/controls",
          "model_name": "HTMLModel",
          "model_module_version": "1.5.0",
          "state": {
            "_dom_classes": [],
            "_model_module": "@jupyter-widgets/controls",
            "_model_module_version": "1.5.0",
            "_model_name": "HTMLModel",
            "_view_count": null,
            "_view_module": "@jupyter-widgets/controls",
            "_view_module_version": "1.5.0",
            "_view_name": "HTMLView",
            "description": "",
            "description_tooltip": null,
            "layout": "IPY_MODEL_1f603db906d64dc696b341213358d468",
            "placeholder": "​",
            "style": "IPY_MODEL_8ad13424518c485ab81c8b2761905a29",
            "value": "pytorch_model.bin: 100%"
          }
        },
        "a35a2aa255594a90a4ceef1dc729f51b": {
          "model_module": "@jupyter-widgets/controls",
          "model_name": "FloatProgressModel",
          "model_module_version": "1.5.0",
          "state": {
            "_dom_classes": [],
            "_model_module": "@jupyter-widgets/controls",
            "_model_module_version": "1.5.0",
            "_model_name": "FloatProgressModel",
            "_view_count": null,
            "_view_module": "@jupyter-widgets/controls",
            "_view_module_version": "1.5.0",
            "_view_name": "ProgressView",
            "bar_style": "success",
            "description": "",
            "description_tooltip": null,
            "layout": "IPY_MODEL_bfdeb658c4a34d5db8da4fb838ce2c7a",
            "max": 204267588,
            "min": 0,
            "orientation": "horizontal",
            "style": "IPY_MODEL_a88dd0ce1e314da2be76c6496e2512ec",
            "value": 204267588
          }
        },
        "54e2ebc9ca9f4f3c9f2d3d55e9747f5d": {
          "model_module": "@jupyter-widgets/controls",
          "model_name": "HTMLModel",
          "model_module_version": "1.5.0",
          "state": {
            "_dom_classes": [],
            "_model_module": "@jupyter-widgets/controls",
            "_model_module_version": "1.5.0",
            "_model_name": "HTMLModel",
            "_view_count": null,
            "_view_module": "@jupyter-widgets/controls",
            "_view_module_version": "1.5.0",
            "_view_name": "HTMLView",
            "description": "",
            "description_tooltip": null,
            "layout": "IPY_MODEL_0279bdac13fe48e4842403379bb6dddf",
            "placeholder": "​",
            "style": "IPY_MODEL_b2ce65b4e49241239d96fc50848b1674",
            "value": " 204M/204M [00:04&lt;00:00, 57.4MB/s]"
          }
        },
        "dc13476c75b2483aba8fc6d77c49e8e6": {
          "model_module": "@jupyter-widgets/base",
          "model_name": "LayoutModel",
          "model_module_version": "1.2.0",
          "state": {
            "_model_module": "@jupyter-widgets/base",
            "_model_module_version": "1.2.0",
            "_model_name": "LayoutModel",
            "_view_count": null,
            "_view_module": "@jupyter-widgets/base",
            "_view_module_version": "1.2.0",
            "_view_name": "LayoutView",
            "align_content": null,
            "align_items": null,
            "align_self": null,
            "border": null,
            "bottom": null,
            "display": null,
            "flex": null,
            "flex_flow": null,
            "grid_area": null,
            "grid_auto_columns": null,
            "grid_auto_flow": null,
            "grid_auto_rows": null,
            "grid_column": null,
            "grid_gap": null,
            "grid_row": null,
            "grid_template_areas": null,
            "grid_template_columns": null,
            "grid_template_rows": null,
            "height": null,
            "justify_content": null,
            "justify_items": null,
            "left": null,
            "margin": null,
            "max_height": null,
            "max_width": null,
            "min_height": null,
            "min_width": null,
            "object_fit": null,
            "object_position": null,
            "order": null,
            "overflow": null,
            "overflow_x": null,
            "overflow_y": null,
            "padding": null,
            "right": null,
            "top": null,
            "visibility": null,
            "width": null
          }
        },
        "1f603db906d64dc696b341213358d468": {
          "model_module": "@jupyter-widgets/base",
          "model_name": "LayoutModel",
          "model_module_version": "1.2.0",
          "state": {
            "_model_module": "@jupyter-widgets/base",
            "_model_module_version": "1.2.0",
            "_model_name": "LayoutModel",
            "_view_count": null,
            "_view_module": "@jupyter-widgets/base",
            "_view_module_version": "1.2.0",
            "_view_name": "LayoutView",
            "align_content": null,
            "align_items": null,
            "align_self": null,
            "border": null,
            "bottom": null,
            "display": null,
            "flex": null,
            "flex_flow": null,
            "grid_area": null,
            "grid_auto_columns": null,
            "grid_auto_flow": null,
            "grid_auto_rows": null,
            "grid_column": null,
            "grid_gap": null,
            "grid_row": null,
            "grid_template_areas": null,
            "grid_template_columns": null,
            "grid_template_rows": null,
            "height": null,
            "justify_content": null,
            "justify_items": null,
            "left": null,
            "margin": null,
            "max_height": null,
            "max_width": null,
            "min_height": null,
            "min_width": null,
            "object_fit": null,
            "object_position": null,
            "order": null,
            "overflow": null,
            "overflow_x": null,
            "overflow_y": null,
            "padding": null,
            "right": null,
            "top": null,
            "visibility": null,
            "width": null
          }
        },
        "8ad13424518c485ab81c8b2761905a29": {
          "model_module": "@jupyter-widgets/controls",
          "model_name": "DescriptionStyleModel",
          "model_module_version": "1.5.0",
          "state": {
            "_model_module": "@jupyter-widgets/controls",
            "_model_module_version": "1.5.0",
            "_model_name": "DescriptionStyleModel",
            "_view_count": null,
            "_view_module": "@jupyter-widgets/base",
            "_view_module_version": "1.2.0",
            "_view_name": "StyleView",
            "description_width": ""
          }
        },
        "bfdeb658c4a34d5db8da4fb838ce2c7a": {
          "model_module": "@jupyter-widgets/base",
          "model_name": "LayoutModel",
          "model_module_version": "1.2.0",
          "state": {
            "_model_module": "@jupyter-widgets/base",
            "_model_module_version": "1.2.0",
            "_model_name": "LayoutModel",
            "_view_count": null,
            "_view_module": "@jupyter-widgets/base",
            "_view_module_version": "1.2.0",
            "_view_name": "LayoutView",
            "align_content": null,
            "align_items": null,
            "align_self": null,
            "border": null,
            "bottom": null,
            "display": null,
            "flex": null,
            "flex_flow": null,
            "grid_area": null,
            "grid_auto_columns": null,
            "grid_auto_flow": null,
            "grid_auto_rows": null,
            "grid_column": null,
            "grid_gap": null,
            "grid_row": null,
            "grid_template_areas": null,
            "grid_template_columns": null,
            "grid_template_rows": null,
            "height": null,
            "justify_content": null,
            "justify_items": null,
            "left": null,
            "margin": null,
            "max_height": null,
            "max_width": null,
            "min_height": null,
            "min_width": null,
            "object_fit": null,
            "object_position": null,
            "order": null,
            "overflow": null,
            "overflow_x": null,
            "overflow_y": null,
            "padding": null,
            "right": null,
            "top": null,
            "visibility": null,
            "width": null
          }
        },
        "a88dd0ce1e314da2be76c6496e2512ec": {
          "model_module": "@jupyter-widgets/controls",
          "model_name": "ProgressStyleModel",
          "model_module_version": "1.5.0",
          "state": {
            "_model_module": "@jupyter-widgets/controls",
            "_model_module_version": "1.5.0",
            "_model_name": "ProgressStyleModel",
            "_view_count": null,
            "_view_module": "@jupyter-widgets/base",
            "_view_module_version": "1.2.0",
            "_view_name": "StyleView",
            "bar_color": null,
            "description_width": ""
          }
        },
        "0279bdac13fe48e4842403379bb6dddf": {
          "model_module": "@jupyter-widgets/base",
          "model_name": "LayoutModel",
          "model_module_version": "1.2.0",
          "state": {
            "_model_module": "@jupyter-widgets/base",
            "_model_module_version": "1.2.0",
            "_model_name": "LayoutModel",
            "_view_count": null,
            "_view_module": "@jupyter-widgets/base",
            "_view_module_version": "1.2.0",
            "_view_name": "LayoutView",
            "align_content": null,
            "align_items": null,
            "align_self": null,
            "border": null,
            "bottom": null,
            "display": null,
            "flex": null,
            "flex_flow": null,
            "grid_area": null,
            "grid_auto_columns": null,
            "grid_auto_flow": null,
            "grid_auto_rows": null,
            "grid_column": null,
            "grid_gap": null,
            "grid_row": null,
            "grid_template_areas": null,
            "grid_template_columns": null,
            "grid_template_rows": null,
            "height": null,
            "justify_content": null,
            "justify_items": null,
            "left": null,
            "margin": null,
            "max_height": null,
            "max_width": null,
            "min_height": null,
            "min_width": null,
            "object_fit": null,
            "object_position": null,
            "order": null,
            "overflow": null,
            "overflow_x": null,
            "overflow_y": null,
            "padding": null,
            "right": null,
            "top": null,
            "visibility": null,
            "width": null
          }
        },
        "b2ce65b4e49241239d96fc50848b1674": {
          "model_module": "@jupyter-widgets/controls",
          "model_name": "DescriptionStyleModel",
          "model_module_version": "1.5.0",
          "state": {
            "_model_module": "@jupyter-widgets/controls",
            "_model_module_version": "1.5.0",
            "_model_name": "DescriptionStyleModel",
            "_view_count": null,
            "_view_module": "@jupyter-widgets/base",
            "_view_module_version": "1.2.0",
            "_view_name": "StyleView",
            "description_width": ""
          }
        }
      }
    }
  },
  "nbformat": 4,
  "nbformat_minor": 0
}