{
  "cells": [
    {
      "cell_type": "code",
      "execution_count": null,
      "metadata": {
        "colab": {
          "base_uri": "https://localhost:8080/"
        },
        "id": "xnpxqIVkxhgy",
        "outputId": "1bf9c152-6d82-48c5-cc5a-e3ca6c1da8ec"
      },
      "outputs": [
        {
          "output_type": "stream",
          "name": "stdout",
          "text": [
            "Collecting wildlife-datasets\n",
            "  Downloading wildlife_datasets-1.0.3-py3-none-any.whl (43 kB)\n",
            "\u001b[?25l     \u001b[90m━━━━━━━━━━━━━━━━━━━━━━━━━━━━━━━━━━━━━━━━\u001b[0m \u001b[32m0.0/43.3 kB\u001b[0m \u001b[31m?\u001b[0m eta \u001b[36m-:--:--\u001b[0m\r\u001b[2K     \u001b[90m━━━━━━━━━━━━━━━━━━━━━━━━━━━━━━━━━━━━━━━━\u001b[0m \u001b[32m43.3/43.3 kB\u001b[0m \u001b[31m1.5 MB/s\u001b[0m eta \u001b[36m0:00:00\u001b[0m\n",
            "\u001b[?25hRequirement already satisfied: numpy>=1.19.4 in /usr/local/lib/python3.10/dist-packages (from wildlife-datasets) (1.25.2)\n",
            "Requirement already satisfied: pandas>=1.1.4 in /usr/local/lib/python3.10/dist-packages (from wildlife-datasets) (2.0.3)\n",
            "Requirement already satisfied: tqdm>=4.62.3 in /usr/local/lib/python3.10/dist-packages (from wildlife-datasets) (4.66.4)\n",
            "Requirement already satisfied: opencv-python>=4.5.5.62 in /usr/local/lib/python3.10/dist-packages (from wildlife-datasets) (4.8.0.76)\n",
            "Requirement already satisfied: Pillow>=7.1.2 in /usr/local/lib/python3.10/dist-packages (from wildlife-datasets) (9.4.0)\n",
            "Requirement already satisfied: scikit-learn>=1.0.1 in /usr/local/lib/python3.10/dist-packages (from wildlife-datasets) (1.2.2)\n",
            "Requirement already satisfied: matplotlib>=3.5.1 in /usr/local/lib/python3.10/dist-packages (from wildlife-datasets) (3.7.1)\n",
            "Requirement already satisfied: gdown in /usr/local/lib/python3.10/dist-packages (from wildlife-datasets) (5.1.0)\n",
            "Requirement already satisfied: kaggle in /usr/local/lib/python3.10/dist-packages (from wildlife-datasets) (1.6.12)\n",
            "Requirement already satisfied: contourpy>=1.0.1 in /usr/local/lib/python3.10/dist-packages (from matplotlib>=3.5.1->wildlife-datasets) (1.2.1)\n",
            "Requirement already satisfied: cycler>=0.10 in /usr/local/lib/python3.10/dist-packages (from matplotlib>=3.5.1->wildlife-datasets) (0.12.1)\n",
            "Requirement already satisfied: fonttools>=4.22.0 in /usr/local/lib/python3.10/dist-packages (from matplotlib>=3.5.1->wildlife-datasets) (4.51.0)\n",
            "Requirement already satisfied: kiwisolver>=1.0.1 in /usr/local/lib/python3.10/dist-packages (from matplotlib>=3.5.1->wildlife-datasets) (1.4.5)\n",
            "Requirement already satisfied: packaging>=20.0 in /usr/local/lib/python3.10/dist-packages (from matplotlib>=3.5.1->wildlife-datasets) (24.0)\n",
            "Requirement already satisfied: pyparsing>=2.3.1 in /usr/local/lib/python3.10/dist-packages (from matplotlib>=3.5.1->wildlife-datasets) (3.1.2)\n",
            "Requirement already satisfied: python-dateutil>=2.7 in /usr/local/lib/python3.10/dist-packages (from matplotlib>=3.5.1->wildlife-datasets) (2.8.2)\n",
            "Requirement already satisfied: pytz>=2020.1 in /usr/local/lib/python3.10/dist-packages (from pandas>=1.1.4->wildlife-datasets) (2023.4)\n",
            "Requirement already satisfied: tzdata>=2022.1 in /usr/local/lib/python3.10/dist-packages (from pandas>=1.1.4->wildlife-datasets) (2024.1)\n",
            "Requirement already satisfied: scipy>=1.3.2 in /usr/local/lib/python3.10/dist-packages (from scikit-learn>=1.0.1->wildlife-datasets) (1.11.4)\n",
            "Requirement already satisfied: joblib>=1.1.1 in /usr/local/lib/python3.10/dist-packages (from scikit-learn>=1.0.1->wildlife-datasets) (1.4.2)\n",
            "Requirement already satisfied: threadpoolctl>=2.0.0 in /usr/local/lib/python3.10/dist-packages (from scikit-learn>=1.0.1->wildlife-datasets) (3.5.0)\n",
            "Requirement already satisfied: beautifulsoup4 in /usr/local/lib/python3.10/dist-packages (from gdown->wildlife-datasets) (4.12.3)\n",
            "Requirement already satisfied: filelock in /usr/local/lib/python3.10/dist-packages (from gdown->wildlife-datasets) (3.14.0)\n",
            "Requirement already satisfied: requests[socks] in /usr/local/lib/python3.10/dist-packages (from gdown->wildlife-datasets) (2.31.0)\n",
            "Requirement already satisfied: six>=1.10 in /usr/local/lib/python3.10/dist-packages (from kaggle->wildlife-datasets) (1.16.0)\n",
            "Requirement already satisfied: certifi>=2023.7.22 in /usr/local/lib/python3.10/dist-packages (from kaggle->wildlife-datasets) (2024.2.2)\n",
            "Requirement already satisfied: python-slugify in /usr/local/lib/python3.10/dist-packages (from kaggle->wildlife-datasets) (8.0.4)\n",
            "Requirement already satisfied: urllib3 in /usr/local/lib/python3.10/dist-packages (from kaggle->wildlife-datasets) (2.0.7)\n",
            "Requirement already satisfied: bleach in /usr/local/lib/python3.10/dist-packages (from kaggle->wildlife-datasets) (6.1.0)\n",
            "Requirement already satisfied: soupsieve>1.2 in /usr/local/lib/python3.10/dist-packages (from beautifulsoup4->gdown->wildlife-datasets) (2.5)\n",
            "Requirement already satisfied: webencodings in /usr/local/lib/python3.10/dist-packages (from bleach->kaggle->wildlife-datasets) (0.5.1)\n",
            "Requirement already satisfied: text-unidecode>=1.3 in /usr/local/lib/python3.10/dist-packages (from python-slugify->kaggle->wildlife-datasets) (1.3)\n",
            "Requirement already satisfied: charset-normalizer<4,>=2 in /usr/local/lib/python3.10/dist-packages (from requests[socks]->gdown->wildlife-datasets) (3.3.2)\n",
            "Requirement already satisfied: idna<4,>=2.5 in /usr/local/lib/python3.10/dist-packages (from requests[socks]->gdown->wildlife-datasets) (3.7)\n",
            "Requirement already satisfied: PySocks!=1.5.7,>=1.5.6 in /usr/local/lib/python3.10/dist-packages (from requests[socks]->gdown->wildlife-datasets) (1.7.1)\n",
            "Installing collected packages: wildlife-datasets\n",
            "Successfully installed wildlife-datasets-1.0.3\n"
          ]
        }
      ],
      "source": [
        "pip install wildlife-datasets"
      ]
    },
    {
      "cell_type": "code",
      "source": [
        "pip install wildlife-tools"
      ],
      "metadata": {
        "colab": {
          "base_uri": "https://localhost:8080/"
        },
        "id": "ymOorYH2XpQB",
        "outputId": "6a4961d0-db2f-4fff-af26-483afcee9971"
      },
      "execution_count": null,
      "outputs": [
        {
          "output_type": "stream",
          "name": "stdout",
          "text": [
            "Collecting wildlife-tools\n",
            "  Downloading wildlife_tools-0.0.9-py3-none-any.whl (25 kB)\n",
            "Requirement already satisfied: torch>=2.0.1 in /usr/local/lib/python3.10/dist-packages (from wildlife-tools) (2.2.1+cu121)\n",
            "Collecting timm>=0.9.2 (from wildlife-tools)\n",
            "  Downloading timm-0.9.16-py3-none-any.whl (2.2 MB)\n",
            "\u001b[2K     \u001b[90m━━━━━━━━━━━━━━━━━━━━━━━━━━━━━━━━━━━━━━━━\u001b[0m \u001b[32m2.2/2.2 MB\u001b[0m \u001b[31m9.5 MB/s\u001b[0m eta \u001b[36m0:00:00\u001b[0m\n",
            "\u001b[?25hRequirement already satisfied: numpy>=1.19.4 in /usr/local/lib/python3.10/dist-packages (from wildlife-tools) (1.25.2)\n",
            "Requirement already satisfied: pandas>=1.1.4 in /usr/local/lib/python3.10/dist-packages (from wildlife-tools) (2.0.3)\n",
            "Requirement already satisfied: tqdm>=4.62.3 in /usr/local/lib/python3.10/dist-packages (from wildlife-tools) (4.66.4)\n",
            "Requirement already satisfied: opencv-python>=4.5.5.62 in /usr/local/lib/python3.10/dist-packages (from wildlife-tools) (4.8.0.76)\n",
            "Requirement already satisfied: Pillow>=7.1.2 in /usr/local/lib/python3.10/dist-packages (from wildlife-tools) (9.4.0)\n",
            "Requirement already satisfied: scikit-learn>=1.0.1 in /usr/local/lib/python3.10/dist-packages (from wildlife-tools) (1.2.2)\n",
            "Requirement already satisfied: pycocotools in /usr/local/lib/python3.10/dist-packages (from wildlife-tools) (2.0.7)\n",
            "Requirement already satisfied: tensorboard in /usr/local/lib/python3.10/dist-packages (from wildlife-tools) (2.15.2)\n",
            "Collecting pytorch-metric-learning (from wildlife-tools)\n",
            "  Downloading pytorch_metric_learning-2.5.0-py3-none-any.whl (119 kB)\n",
            "\u001b[2K     \u001b[90m━━━━━━━━━━━━━━━━━━━━━━━━━━━━━━━━━━━━━━━━\u001b[0m \u001b[32m119.1/119.1 kB\u001b[0m \u001b[31m14.5 MB/s\u001b[0m eta \u001b[36m0:00:00\u001b[0m\n",
            "\u001b[?25hRequirement already satisfied: transformers>=4.30.2 in /usr/local/lib/python3.10/dist-packages (from wildlife-tools) (4.40.2)\n",
            "Requirement already satisfied: wildlife-datasets>=0.3.4 in /usr/local/lib/python3.10/dist-packages (from wildlife-tools) (1.0.3)\n",
            "Collecting kornia>=0.6.12 (from wildlife-tools)\n",
            "  Downloading kornia-0.7.2-py2.py3-none-any.whl (825 kB)\n",
            "\u001b[2K     \u001b[90m━━━━━━━━━━━━━━━━━━━━━━━━━━━━━━━━━━━━━━━━\u001b[0m \u001b[32m825.4/825.4 kB\u001b[0m \u001b[31m14.0 MB/s\u001b[0m eta \u001b[36m0:00:00\u001b[0m\n",
            "\u001b[?25hCollecting faiss-gpu (from wildlife-tools)\n",
            "  Downloading faiss_gpu-1.7.2-cp310-cp310-manylinux_2_17_x86_64.manylinux2014_x86_64.whl (85.5 MB)\n",
            "\u001b[2K     \u001b[90m━━━━━━━━━━━━━━━━━━━━━━━━━━━━━━━━━━━━━━━━\u001b[0m \u001b[32m85.5/85.5 MB\u001b[0m \u001b[31m6.4 MB/s\u001b[0m eta \u001b[36m0:00:00\u001b[0m\n",
            "\u001b[?25hCollecting kornia-rs>=0.1.0 (from kornia>=0.6.12->wildlife-tools)\n",
            "  Downloading kornia_rs-0.1.3-cp310-cp310-manylinux_2_17_x86_64.manylinux2014_x86_64.whl (2.4 MB)\n",
            "\u001b[2K     \u001b[90m━━━━━━━━━━━━━━━━━━━━━━━━━━━━━━━━━━━━━━━━\u001b[0m \u001b[32m2.4/2.4 MB\u001b[0m \u001b[31m48.3 MB/s\u001b[0m eta \u001b[36m0:00:00\u001b[0m\n",
            "\u001b[?25hRequirement already satisfied: packaging in /usr/local/lib/python3.10/dist-packages (from kornia>=0.6.12->wildlife-tools) (24.0)\n",
            "Requirement already satisfied: python-dateutil>=2.8.2 in /usr/local/lib/python3.10/dist-packages (from pandas>=1.1.4->wildlife-tools) (2.8.2)\n",
            "Requirement already satisfied: pytz>=2020.1 in /usr/local/lib/python3.10/dist-packages (from pandas>=1.1.4->wildlife-tools) (2023.4)\n",
            "Requirement already satisfied: tzdata>=2022.1 in /usr/local/lib/python3.10/dist-packages (from pandas>=1.1.4->wildlife-tools) (2024.1)\n",
            "Requirement already satisfied: scipy>=1.3.2 in /usr/local/lib/python3.10/dist-packages (from scikit-learn>=1.0.1->wildlife-tools) (1.11.4)\n",
            "Requirement already satisfied: joblib>=1.1.1 in /usr/local/lib/python3.10/dist-packages (from scikit-learn>=1.0.1->wildlife-tools) (1.4.2)\n",
            "Requirement already satisfied: threadpoolctl>=2.0.0 in /usr/local/lib/python3.10/dist-packages (from scikit-learn>=1.0.1->wildlife-tools) (3.5.0)\n",
            "Requirement already satisfied: torchvision in /usr/local/lib/python3.10/dist-packages (from timm>=0.9.2->wildlife-tools) (0.17.1+cu121)\n",
            "Requirement already satisfied: pyyaml in /usr/local/lib/python3.10/dist-packages (from timm>=0.9.2->wildlife-tools) (6.0.1)\n",
            "Requirement already satisfied: huggingface_hub in /usr/local/lib/python3.10/dist-packages (from timm>=0.9.2->wildlife-tools) (0.20.3)\n",
            "Requirement already satisfied: safetensors in /usr/local/lib/python3.10/dist-packages (from timm>=0.9.2->wildlife-tools) (0.4.3)\n",
            "Requirement already satisfied: filelock in /usr/local/lib/python3.10/dist-packages (from torch>=2.0.1->wildlife-tools) (3.14.0)\n",
            "Requirement already satisfied: typing-extensions>=4.8.0 in /usr/local/lib/python3.10/dist-packages (from torch>=2.0.1->wildlife-tools) (4.11.0)\n",
            "Requirement already satisfied: sympy in /usr/local/lib/python3.10/dist-packages (from torch>=2.0.1->wildlife-tools) (1.12)\n",
            "Requirement already satisfied: networkx in /usr/local/lib/python3.10/dist-packages (from torch>=2.0.1->wildlife-tools) (3.3)\n",
            "Requirement already satisfied: jinja2 in /usr/local/lib/python3.10/dist-packages (from torch>=2.0.1->wildlife-tools) (3.1.4)\n",
            "Requirement already satisfied: fsspec in /usr/local/lib/python3.10/dist-packages (from torch>=2.0.1->wildlife-tools) (2023.6.0)\n",
            "Collecting nvidia-cuda-nvrtc-cu12==12.1.105 (from torch>=2.0.1->wildlife-tools)\n",
            "  Using cached nvidia_cuda_nvrtc_cu12-12.1.105-py3-none-manylinux1_x86_64.whl (23.7 MB)\n",
            "Collecting nvidia-cuda-runtime-cu12==12.1.105 (from torch>=2.0.1->wildlife-tools)\n",
            "  Using cached nvidia_cuda_runtime_cu12-12.1.105-py3-none-manylinux1_x86_64.whl (823 kB)\n",
            "Collecting nvidia-cuda-cupti-cu12==12.1.105 (from torch>=2.0.1->wildlife-tools)\n",
            "  Using cached nvidia_cuda_cupti_cu12-12.1.105-py3-none-manylinux1_x86_64.whl (14.1 MB)\n",
            "Collecting nvidia-cudnn-cu12==8.9.2.26 (from torch>=2.0.1->wildlife-tools)\n",
            "  Using cached nvidia_cudnn_cu12-8.9.2.26-py3-none-manylinux1_x86_64.whl (731.7 MB)\n",
            "Collecting nvidia-cublas-cu12==12.1.3.1 (from torch>=2.0.1->wildlife-tools)\n",
            "  Using cached nvidia_cublas_cu12-12.1.3.1-py3-none-manylinux1_x86_64.whl (410.6 MB)\n",
            "Collecting nvidia-cufft-cu12==11.0.2.54 (from torch>=2.0.1->wildlife-tools)\n",
            "  Using cached nvidia_cufft_cu12-11.0.2.54-py3-none-manylinux1_x86_64.whl (121.6 MB)\n",
            "Collecting nvidia-curand-cu12==10.3.2.106 (from torch>=2.0.1->wildlife-tools)\n",
            "  Using cached nvidia_curand_cu12-10.3.2.106-py3-none-manylinux1_x86_64.whl (56.5 MB)\n",
            "Collecting nvidia-cusolver-cu12==11.4.5.107 (from torch>=2.0.1->wildlife-tools)\n",
            "  Using cached nvidia_cusolver_cu12-11.4.5.107-py3-none-manylinux1_x86_64.whl (124.2 MB)\n",
            "Collecting nvidia-cusparse-cu12==12.1.0.106 (from torch>=2.0.1->wildlife-tools)\n",
            "  Using cached nvidia_cusparse_cu12-12.1.0.106-py3-none-manylinux1_x86_64.whl (196.0 MB)\n",
            "Collecting nvidia-nccl-cu12==2.19.3 (from torch>=2.0.1->wildlife-tools)\n",
            "  Using cached nvidia_nccl_cu12-2.19.3-py3-none-manylinux1_x86_64.whl (166.0 MB)\n",
            "Collecting nvidia-nvtx-cu12==12.1.105 (from torch>=2.0.1->wildlife-tools)\n",
            "  Using cached nvidia_nvtx_cu12-12.1.105-py3-none-manylinux1_x86_64.whl (99 kB)\n",
            "Requirement already satisfied: triton==2.2.0 in /usr/local/lib/python3.10/dist-packages (from torch>=2.0.1->wildlife-tools) (2.2.0)\n",
            "Collecting nvidia-nvjitlink-cu12 (from nvidia-cusolver-cu12==11.4.5.107->torch>=2.0.1->wildlife-tools)\n",
            "  Using cached nvidia_nvjitlink_cu12-12.4.127-py3-none-manylinux2014_x86_64.whl (21.1 MB)\n",
            "Requirement already satisfied: regex!=2019.12.17 in /usr/local/lib/python3.10/dist-packages (from transformers>=4.30.2->wildlife-tools) (2023.12.25)\n",
            "Requirement already satisfied: requests in /usr/local/lib/python3.10/dist-packages (from transformers>=4.30.2->wildlife-tools) (2.31.0)\n",
            "Requirement already satisfied: tokenizers<0.20,>=0.19 in /usr/local/lib/python3.10/dist-packages (from transformers>=4.30.2->wildlife-tools) (0.19.1)\n",
            "Requirement already satisfied: matplotlib>=3.5.1 in /usr/local/lib/python3.10/dist-packages (from wildlife-datasets>=0.3.4->wildlife-tools) (3.7.1)\n",
            "Requirement already satisfied: gdown in /usr/local/lib/python3.10/dist-packages (from wildlife-datasets>=0.3.4->wildlife-tools) (5.1.0)\n",
            "Requirement already satisfied: kaggle in /usr/local/lib/python3.10/dist-packages (from wildlife-datasets>=0.3.4->wildlife-tools) (1.6.12)\n",
            "Requirement already satisfied: absl-py>=0.4 in /usr/local/lib/python3.10/dist-packages (from tensorboard->wildlife-tools) (1.4.0)\n",
            "Requirement already satisfied: grpcio>=1.48.2 in /usr/local/lib/python3.10/dist-packages (from tensorboard->wildlife-tools) (1.63.0)\n",
            "Requirement already satisfied: google-auth<3,>=1.6.3 in /usr/local/lib/python3.10/dist-packages (from tensorboard->wildlife-tools) (2.27.0)\n",
            "Requirement already satisfied: google-auth-oauthlib<2,>=0.5 in /usr/local/lib/python3.10/dist-packages (from tensorboard->wildlife-tools) (1.2.0)\n",
            "Requirement already satisfied: markdown>=2.6.8 in /usr/local/lib/python3.10/dist-packages (from tensorboard->wildlife-tools) (3.6)\n",
            "Requirement already satisfied: protobuf!=4.24.0,>=3.19.6 in /usr/local/lib/python3.10/dist-packages (from tensorboard->wildlife-tools) (3.20.3)\n",
            "Requirement already satisfied: setuptools>=41.0.0 in /usr/local/lib/python3.10/dist-packages (from tensorboard->wildlife-tools) (67.7.2)\n",
            "Requirement already satisfied: six>1.9 in /usr/local/lib/python3.10/dist-packages (from tensorboard->wildlife-tools) (1.16.0)\n",
            "Requirement already satisfied: tensorboard-data-server<0.8.0,>=0.7.0 in /usr/local/lib/python3.10/dist-packages (from tensorboard->wildlife-tools) (0.7.2)\n",
            "Requirement already satisfied: werkzeug>=1.0.1 in /usr/local/lib/python3.10/dist-packages (from tensorboard->wildlife-tools) (3.0.3)\n",
            "Requirement already satisfied: cachetools<6.0,>=2.0.0 in /usr/local/lib/python3.10/dist-packages (from google-auth<3,>=1.6.3->tensorboard->wildlife-tools) (5.3.3)\n",
            "Requirement already satisfied: pyasn1-modules>=0.2.1 in /usr/local/lib/python3.10/dist-packages (from google-auth<3,>=1.6.3->tensorboard->wildlife-tools) (0.4.0)\n",
            "Requirement already satisfied: rsa<5,>=3.1.4 in /usr/local/lib/python3.10/dist-packages (from google-auth<3,>=1.6.3->tensorboard->wildlife-tools) (4.9)\n",
            "Requirement already satisfied: requests-oauthlib>=0.7.0 in /usr/local/lib/python3.10/dist-packages (from google-auth-oauthlib<2,>=0.5->tensorboard->wildlife-tools) (1.3.1)\n",
            "Requirement already satisfied: contourpy>=1.0.1 in /usr/local/lib/python3.10/dist-packages (from matplotlib>=3.5.1->wildlife-datasets>=0.3.4->wildlife-tools) (1.2.1)\n",
            "Requirement already satisfied: cycler>=0.10 in /usr/local/lib/python3.10/dist-packages (from matplotlib>=3.5.1->wildlife-datasets>=0.3.4->wildlife-tools) (0.12.1)\n",
            "Requirement already satisfied: fonttools>=4.22.0 in /usr/local/lib/python3.10/dist-packages (from matplotlib>=3.5.1->wildlife-datasets>=0.3.4->wildlife-tools) (4.51.0)\n",
            "Requirement already satisfied: kiwisolver>=1.0.1 in /usr/local/lib/python3.10/dist-packages (from matplotlib>=3.5.1->wildlife-datasets>=0.3.4->wildlife-tools) (1.4.5)\n",
            "Requirement already satisfied: pyparsing>=2.3.1 in /usr/local/lib/python3.10/dist-packages (from matplotlib>=3.5.1->wildlife-datasets>=0.3.4->wildlife-tools) (3.1.2)\n",
            "Requirement already satisfied: charset-normalizer<4,>=2 in /usr/local/lib/python3.10/dist-packages (from requests->transformers>=4.30.2->wildlife-tools) (3.3.2)\n",
            "Requirement already satisfied: idna<4,>=2.5 in /usr/local/lib/python3.10/dist-packages (from requests->transformers>=4.30.2->wildlife-tools) (3.7)\n",
            "Requirement already satisfied: urllib3<3,>=1.21.1 in /usr/local/lib/python3.10/dist-packages (from requests->transformers>=4.30.2->wildlife-tools) (2.0.7)\n",
            "Requirement already satisfied: certifi>=2017.4.17 in /usr/local/lib/python3.10/dist-packages (from requests->transformers>=4.30.2->wildlife-tools) (2024.2.2)\n",
            "Requirement already satisfied: MarkupSafe>=2.1.1 in /usr/local/lib/python3.10/dist-packages (from werkzeug>=1.0.1->tensorboard->wildlife-tools) (2.1.5)\n",
            "Requirement already satisfied: beautifulsoup4 in /usr/local/lib/python3.10/dist-packages (from gdown->wildlife-datasets>=0.3.4->wildlife-tools) (4.12.3)\n",
            "Requirement already satisfied: python-slugify in /usr/local/lib/python3.10/dist-packages (from kaggle->wildlife-datasets>=0.3.4->wildlife-tools) (8.0.4)\n",
            "Requirement already satisfied: bleach in /usr/local/lib/python3.10/dist-packages (from kaggle->wildlife-datasets>=0.3.4->wildlife-tools) (6.1.0)\n",
            "Requirement already satisfied: mpmath>=0.19 in /usr/local/lib/python3.10/dist-packages (from sympy->torch>=2.0.1->wildlife-tools) (1.3.0)\n",
            "Requirement already satisfied: pyasn1<0.7.0,>=0.4.6 in /usr/local/lib/python3.10/dist-packages (from pyasn1-modules>=0.2.1->google-auth<3,>=1.6.3->tensorboard->wildlife-tools) (0.6.0)\n",
            "Requirement already satisfied: oauthlib>=3.0.0 in /usr/local/lib/python3.10/dist-packages (from requests-oauthlib>=0.7.0->google-auth-oauthlib<2,>=0.5->tensorboard->wildlife-tools) (3.2.2)\n",
            "Requirement already satisfied: soupsieve>1.2 in /usr/local/lib/python3.10/dist-packages (from beautifulsoup4->gdown->wildlife-datasets>=0.3.4->wildlife-tools) (2.5)\n",
            "Requirement already satisfied: webencodings in /usr/local/lib/python3.10/dist-packages (from bleach->kaggle->wildlife-datasets>=0.3.4->wildlife-tools) (0.5.1)\n",
            "Requirement already satisfied: text-unidecode>=1.3 in /usr/local/lib/python3.10/dist-packages (from python-slugify->kaggle->wildlife-datasets>=0.3.4->wildlife-tools) (1.3)\n",
            "Requirement already satisfied: PySocks!=1.5.7,>=1.5.6 in /usr/local/lib/python3.10/dist-packages (from requests->transformers>=4.30.2->wildlife-tools) (1.7.1)\n",
            "Installing collected packages: faiss-gpu, nvidia-nvtx-cu12, nvidia-nvjitlink-cu12, nvidia-nccl-cu12, nvidia-curand-cu12, nvidia-cufft-cu12, nvidia-cuda-runtime-cu12, nvidia-cuda-nvrtc-cu12, nvidia-cuda-cupti-cu12, nvidia-cublas-cu12, kornia-rs, nvidia-cusparse-cu12, nvidia-cudnn-cu12, nvidia-cusolver-cu12, pytorch-metric-learning, kornia, timm, wildlife-tools\n",
            "Successfully installed faiss-gpu-1.7.2 kornia-0.7.2 kornia-rs-0.1.3 nvidia-cublas-cu12-12.1.3.1 nvidia-cuda-cupti-cu12-12.1.105 nvidia-cuda-nvrtc-cu12-12.1.105 nvidia-cuda-runtime-cu12-12.1.105 nvidia-cudnn-cu12-8.9.2.26 nvidia-cufft-cu12-11.0.2.54 nvidia-curand-cu12-10.3.2.106 nvidia-cusolver-cu12-11.4.5.107 nvidia-cusparse-cu12-12.1.0.106 nvidia-nccl-cu12-2.19.3 nvidia-nvjitlink-cu12-12.4.127 nvidia-nvtx-cu12-12.1.105 pytorch-metric-learning-2.5.0 timm-0.9.16 wildlife-tools-0.0.9\n"
          ]
        }
      ]
    },
    {
      "cell_type": "code",
      "source": [
        "pip install timm"
      ],
      "metadata": {
        "colab": {
          "base_uri": "https://localhost:8080/"
        },
        "id": "OfItgSzpR435",
        "outputId": "eacfebcc-f708-484b-a0ad-6e2208c9f881"
      },
      "execution_count": null,
      "outputs": [
        {
          "output_type": "stream",
          "name": "stdout",
          "text": [
            "Requirement already satisfied: timm in /usr/local/lib/python3.10/dist-packages (0.9.16)\n",
            "Requirement already satisfied: torch in /usr/local/lib/python3.10/dist-packages (from timm) (2.2.1+cu121)\n",
            "Requirement already satisfied: torchvision in /usr/local/lib/python3.10/dist-packages (from timm) (0.17.1+cu121)\n",
            "Requirement already satisfied: pyyaml in /usr/local/lib/python3.10/dist-packages (from timm) (6.0.1)\n",
            "Requirement already satisfied: huggingface_hub in /usr/local/lib/python3.10/dist-packages (from timm) (0.20.3)\n",
            "Requirement already satisfied: safetensors in /usr/local/lib/python3.10/dist-packages (from timm) (0.4.3)\n",
            "Requirement already satisfied: filelock in /usr/local/lib/python3.10/dist-packages (from huggingface_hub->timm) (3.14.0)\n",
            "Requirement already satisfied: fsspec>=2023.5.0 in /usr/local/lib/python3.10/dist-packages (from huggingface_hub->timm) (2023.6.0)\n",
            "Requirement already satisfied: requests in /usr/local/lib/python3.10/dist-packages (from huggingface_hub->timm) (2.31.0)\n",
            "Requirement already satisfied: tqdm>=4.42.1 in /usr/local/lib/python3.10/dist-packages (from huggingface_hub->timm) (4.66.4)\n",
            "Requirement already satisfied: typing-extensions>=3.7.4.3 in /usr/local/lib/python3.10/dist-packages (from huggingface_hub->timm) (4.11.0)\n",
            "Requirement already satisfied: packaging>=20.9 in /usr/local/lib/python3.10/dist-packages (from huggingface_hub->timm) (24.0)\n",
            "Requirement already satisfied: sympy in /usr/local/lib/python3.10/dist-packages (from torch->timm) (1.12)\n",
            "Requirement already satisfied: networkx in /usr/local/lib/python3.10/dist-packages (from torch->timm) (3.3)\n",
            "Requirement already satisfied: jinja2 in /usr/local/lib/python3.10/dist-packages (from torch->timm) (3.1.4)\n",
            "Requirement already satisfied: nvidia-cuda-nvrtc-cu12==12.1.105 in /usr/local/lib/python3.10/dist-packages (from torch->timm) (12.1.105)\n",
            "Requirement already satisfied: nvidia-cuda-runtime-cu12==12.1.105 in /usr/local/lib/python3.10/dist-packages (from torch->timm) (12.1.105)\n",
            "Requirement already satisfied: nvidia-cuda-cupti-cu12==12.1.105 in /usr/local/lib/python3.10/dist-packages (from torch->timm) (12.1.105)\n",
            "Requirement already satisfied: nvidia-cudnn-cu12==8.9.2.26 in /usr/local/lib/python3.10/dist-packages (from torch->timm) (8.9.2.26)\n",
            "Requirement already satisfied: nvidia-cublas-cu12==12.1.3.1 in /usr/local/lib/python3.10/dist-packages (from torch->timm) (12.1.3.1)\n",
            "Requirement already satisfied: nvidia-cufft-cu12==11.0.2.54 in /usr/local/lib/python3.10/dist-packages (from torch->timm) (11.0.2.54)\n",
            "Requirement already satisfied: nvidia-curand-cu12==10.3.2.106 in /usr/local/lib/python3.10/dist-packages (from torch->timm) (10.3.2.106)\n",
            "Requirement already satisfied: nvidia-cusolver-cu12==11.4.5.107 in /usr/local/lib/python3.10/dist-packages (from torch->timm) (11.4.5.107)\n",
            "Requirement already satisfied: nvidia-cusparse-cu12==12.1.0.106 in /usr/local/lib/python3.10/dist-packages (from torch->timm) (12.1.0.106)\n",
            "Requirement already satisfied: nvidia-nccl-cu12==2.19.3 in /usr/local/lib/python3.10/dist-packages (from torch->timm) (2.19.3)\n",
            "Requirement already satisfied: nvidia-nvtx-cu12==12.1.105 in /usr/local/lib/python3.10/dist-packages (from torch->timm) (12.1.105)\n",
            "Requirement already satisfied: triton==2.2.0 in /usr/local/lib/python3.10/dist-packages (from torch->timm) (2.2.0)\n",
            "Requirement already satisfied: nvidia-nvjitlink-cu12 in /usr/local/lib/python3.10/dist-packages (from nvidia-cusolver-cu12==11.4.5.107->torch->timm) (12.4.127)\n",
            "Requirement already satisfied: numpy in /usr/local/lib/python3.10/dist-packages (from torchvision->timm) (1.25.2)\n",
            "Requirement already satisfied: pillow!=8.3.*,>=5.3.0 in /usr/local/lib/python3.10/dist-packages (from torchvision->timm) (9.4.0)\n",
            "Requirement already satisfied: MarkupSafe>=2.0 in /usr/local/lib/python3.10/dist-packages (from jinja2->torch->timm) (2.1.5)\n",
            "Requirement already satisfied: charset-normalizer<4,>=2 in /usr/local/lib/python3.10/dist-packages (from requests->huggingface_hub->timm) (3.3.2)\n",
            "Requirement already satisfied: idna<4,>=2.5 in /usr/local/lib/python3.10/dist-packages (from requests->huggingface_hub->timm) (3.7)\n",
            "Requirement already satisfied: urllib3<3,>=1.21.1 in /usr/local/lib/python3.10/dist-packages (from requests->huggingface_hub->timm) (2.0.7)\n",
            "Requirement already satisfied: certifi>=2017.4.17 in /usr/local/lib/python3.10/dist-packages (from requests->huggingface_hub->timm) (2024.2.2)\n",
            "Requirement already satisfied: mpmath>=0.19 in /usr/local/lib/python3.10/dist-packages (from sympy->torch->timm) (1.3.0)\n"
          ]
        }
      ]
    },
    {
      "cell_type": "markdown",
      "source": [
        "**Importing Wildlife data set and Wildlife tools**\n",
        "\n"
      ],
      "metadata": {
        "id": "gPGd4yapYVsT"
      }
    },
    {
      "cell_type": "code",
      "source": [
        "import timm\n",
        "import numpy as np\n",
        "from wildlife_datasets.datasets import MacaqueFaces\n",
        "from wildlife_tools.data import WildlifeDataset\n",
        "import torchvision.transforms as T\n",
        "from wildlife_datasets import datasets, splits\n",
        "from wildlife_tools.features import DeepFeatures\n",
        "from wildlife_tools.similarity import CosineSimilarity\n",
        "from wildlife_tools.inference import KnnClassifier\n",
        "from sklearn.metrics import precision_score, recall_score, f1_score"
      ],
      "metadata": {
        "id": "8XfftqyQWm58"
      },
      "execution_count": null,
      "outputs": []
    },
    {
      "cell_type": "markdown",
      "source": [
        "**Same Data set use for Fine tuning**"
      ],
      "metadata": {
        "id": "fjifj0p4D3zQ"
      }
    },
    {
      "cell_type": "markdown",
      "source": [
        "**MacaqueFaces Dataset**"
      ],
      "metadata": {
        "id": "mM_PNdZtZycu"
      }
    },
    {
      "cell_type": "code",
      "source": [
        "# Download dataset (if not already downloaded)\n",
        "datasets.MacaqueFaces.get_data('../data/MacaqueFaces')\n",
        "\n",
        "# Load dataset metadata\n",
        "metadata_MacaqueFaces = datasets.MacaqueFaces('../data/MacaqueFaces')\n",
        "transform = T.Compose([T.Resize([224, 224]), T.ToTensor(), T.Normalize(mean=(0.485, 0.456, 0.406), std=(0.229, 0.224, 0.225))])\n",
        "dataset_MacaqueFaces = WildlifeDataset(metadata_MacaqueFaces.df, metadata_MacaqueFaces.root, transform=transform)"
      ],
      "metadata": {
        "colab": {
          "base_uri": "https://localhost:8080/"
        },
        "id": "P7TwSvfxYmWg",
        "outputId": "0ecc62e3-ffd3-4d0f-8d58-91f27cbf6c61"
      },
      "execution_count": null,
      "outputs": [
        {
          "output_type": "stream",
          "name": "stdout",
          "text": [
            "DATASET MacaqueFaces: DOWNLOADING STARTED.\n",
            "You are trying to download an already downloaded dataset.\n",
            "        This message may have happened to due interrupted download or extract.\n",
            "        To force the download use the `force=True` keyword such as\n",
            "        get_data(..., force=True) or download(..., force=True).\n",
            "        \n"
          ]
        }
      ]
    },
    {
      "cell_type": "code",
      "execution_count": null,
      "metadata": {
        "id": "RGS3aZZKx7gt"
      },
      "outputs": [],
      "source": [
        "dataset_database_MacaqueFaces = WildlifeDataset(metadata_MacaqueFaces.df.iloc[100:,:], metadata_MacaqueFaces.root, transform=transform)\n",
        "dataset_query_MacaqueFaces = WildlifeDataset(metadata_MacaqueFaces.df.iloc[:100,:], metadata_MacaqueFaces.root, transform=transform)"
      ]
    },
    {
      "cell_type": "markdown",
      "source": [
        "**Importing the pretrain Model**"
      ],
      "metadata": {
        "id": "0DwHb3asXy0c"
      }
    },
    {
      "cell_type": "code",
      "source": [
        "name = 'hf-hub:BVRA/MegaDescriptor-T-224'\n",
        "extractor_MacaqueFaces = DeepFeatures(timm.create_model(name, num_classes=0, pretrained=True))\n",
        "query_MacaqueFaces, database_MacaqueFaces = extractor_MacaqueFaces(dataset_query_MacaqueFaces), extractor_MacaqueFaces(dataset_database_MacaqueFaces)"
      ],
      "metadata": {
        "colab": {
          "base_uri": "https://localhost:8080/",
          "height": 275,
          "referenced_widgets": [
            "7bb4d1c6b7904e9cbf50f5ebbae81147",
            "060a237164cd4212815ba4a1ab8a1957",
            "e7439600dec34a8292734b2b9defd8ba",
            "b62cf52205ee440cb1b720b3ca850e74",
            "c302ae2cff1b434c8b4a37210bc4867e",
            "dd484c5723864cc6ac84cd5bb7de82a2",
            "05b00a44abf54494bcc0133b15c6c14e",
            "1758726103354555afeb83a7ac7380a7",
            "a481ae0617694f7c9b2b95830ada18bf",
            "1402fa59c8c24db699227602f03ee3ca",
            "fb3845646d7b4c57aa5a25aa3307012a",
            "3ab965ec35a844009a036337ecb5e3c8",
            "39c60bbe979d4ae5847f11a0d16d0194",
            "033246e211e94ea2b27d64639556ce19",
            "a87edb45ca644810a8f905b567b93a74",
            "6e6864ef881a49b88c3a94c74c57a80b",
            "c436c98065604768b0643bcd4da7f577",
            "dc608a3dfa974b549f1657f0b154af31",
            "b5b9a3b5e9e649db9f0519a349dcb44f",
            "22615ba557904ef1bf0948f939a52c9f",
            "83f4843ebcd744fbbb74291a830c637f",
            "722fe5c7625142478f57337678c835a9"
          ]
        },
        "id": "u1t_Q09FW6Xg",
        "outputId": "079d0b01-409b-4c38-f39a-1561d5c70acb"
      },
      "execution_count": null,
      "outputs": [
        {
          "output_type": "stream",
          "name": "stderr",
          "text": [
            "/usr/local/lib/python3.10/dist-packages/huggingface_hub/utils/_token.py:88: UserWarning: \n",
            "The secret `HF_TOKEN` does not exist in your Colab secrets.\n",
            "To authenticate with the Hugging Face Hub, create a token in your settings tab (https://huggingface.co/settings/tokens), set it as secret in your Google Colab and restart your session.\n",
            "You will be able to reuse this secret in all of your notebooks.\n",
            "Please note that authentication is recommended but still optional to access public models or datasets.\n",
            "  warnings.warn(\n"
          ]
        },
        {
          "output_type": "display_data",
          "data": {
            "text/plain": [
              "config.json:   0%|          | 0.00/609 [00:00<?, ?B/s]"
            ],
            "application/vnd.jupyter.widget-view+json": {
              "version_major": 2,
              "version_minor": 0,
              "model_id": "7bb4d1c6b7904e9cbf50f5ebbae81147"
            }
          },
          "metadata": {}
        },
        {
          "output_type": "display_data",
          "data": {
            "text/plain": [
              "pytorch_model.bin:   0%|          | 0.00/204M [00:00<?, ?B/s]"
            ],
            "application/vnd.jupyter.widget-view+json": {
              "version_major": 2,
              "version_minor": 0,
              "model_id": "3ab965ec35a844009a036337ecb5e3c8"
            }
          },
          "metadata": {}
        },
        {
          "output_type": "stream",
          "name": "stderr",
          "text": [
            "\r  0%|                                                                         | 0/1 [00:00<?, ?it/s]/usr/lib/python3.10/multiprocessing/popen_fork.py:66: RuntimeWarning: os.fork() was called. os.fork() is incompatible with multithreaded code, and JAX is multithreaded, so this will likely lead to a deadlock.\n",
            "  self.pid = os.fork()\n",
            "100%|█████████████████████████████████████████████████████████████████| 1/1 [00:42<00:00, 42.02s/it]\n",
            "100%|███████████████████████████████████████████████████████████████| 49/49 [45:13<00:00, 55.37s/it]\n"
          ]
        }
      ]
    },
    {
      "cell_type": "code",
      "execution_count": null,
      "metadata": {
        "colab": {
          "base_uri": "https://localhost:8080/"
        },
        "id": "Q48ly6P-yQby",
        "outputId": "ba5b823a-0e7c-4e04-bdf4-462ee4cc1f4a"
      },
      "outputs": [
        {
          "output_type": "stream",
          "name": "stdout",
          "text": [
            "{'cosine': array([[0.93894947, 0.97903377, 0.9748248 , ..., 0.06067665, 0.0604975 ,\n",
            "        0.07648014],\n",
            "       [0.94975156, 0.9809722 , 0.9829178 , ..., 0.08857712, 0.08899386,\n",
            "        0.10716249],\n",
            "       [0.9368558 , 0.97414136, 0.9836564 , ..., 0.08185371, 0.08442868,\n",
            "        0.10064524],\n",
            "       ...,\n",
            "       [0.9431046 , 0.985183  , 0.98194647, ..., 0.08535906, 0.08368647,\n",
            "        0.10288547],\n",
            "       [0.92794454, 0.98648065, 0.97138005, ..., 0.06948385, 0.06463583,\n",
            "        0.08578961],\n",
            "       [0.958699  , 0.9781159 , 0.9700406 , ..., 0.11579873, 0.11533174,\n",
            "        0.13037327]], dtype=float32)}\n"
          ]
        }
      ],
      "source": [
        "similarity_function = CosineSimilarity()\n",
        "similarity_MacaqueFaces = similarity_function(query_MacaqueFaces, database_MacaqueFaces)\n",
        "print(similarity_MacaqueFaces)"
      ]
    },
    {
      "cell_type": "code",
      "source": [
        "classifier_MacaqueFaces = KnnClassifier(k=1, database_labels=dataset_database_MacaqueFaces.labels_string)\n",
        "predictions_MacaqueFaces = classifier_MacaqueFaces(similarity_MacaqueFaces['cosine'])\n",
        "print(\"Predictions for 100 test Images:-\\n\",predictions_MacaqueFaces)\n",
        "accuracy_MacaqueFaces = np.mean(dataset_query_MacaqueFaces.labels_string == predictions_MacaqueFaces)\n",
        "print(\"Accuracy on MacaqueFaces data: {:.2f}%\".format(accuracy_MacaqueFaces * 100))\n",
        "# precision\n",
        "precision_MacaqueFaces = precision_score(dataset_query_MacaqueFaces.labels_string, predictions_MacaqueFaces, average='weighted')\n",
        "# recall\n",
        "recall_MacaqueFaces = recall_score(dataset_query_MacaqueFaces.labels_string, predictions_MacaqueFaces, average='weighted')\n",
        "# F1 score\n",
        "f1_MacaqueFaces = f1_score(dataset_query_MacaqueFaces.labels_string, predictions_MacaqueFaces, average='weighted')\n",
        "print(\"Precision:\", precision_MacaqueFaces)\n",
        "print(\"Recall:\", recall_MacaqueFaces)\n",
        "print(\"F1 Score:\", f1_MacaqueFaces)"
      ],
      "metadata": {
        "colab": {
          "base_uri": "https://localhost:8080/"
        },
        "id": "tFRpGqxTab03",
        "outputId": "54af2093-61d9-4e05-d3f6-d001ea76be48"
      },
      "execution_count": null,
      "outputs": [
        {
          "output_type": "stream",
          "name": "stdout",
          "text": [
            "Predictions for 100 test Images:-\n",
            " ['Dan' 'Dan' 'Dan' 'Dan' 'Dan' 'Dan' 'Dan' 'Dan' 'Dan' 'Dan' 'Dan' 'Dan'\n",
            " 'Dan' 'Dan' 'Dan' 'Dan' 'Dan' 'Dan' 'Dan' 'Dan' 'Dan' 'Dan' 'Dan' 'Dan'\n",
            " 'Dan' 'Dan' 'Dan' 'Dan' 'Dan' 'Dan' 'Dan' 'Dan' 'Dan' 'Dan' 'Dan' 'Dan'\n",
            " 'Dan' 'Dan' 'Dan' 'Dan' 'Dan' 'Dan' 'Dan' 'Dan' 'Dan' 'Dan' 'Dan' 'Dan'\n",
            " 'Dan' 'Dan' 'Dan' 'Dan' 'Dan' 'Dan' 'Dan' 'Dan' 'Dan' 'Dan' 'Dan' 'Dan'\n",
            " 'Dan' 'Dan' 'Dan' 'Dan' 'Dan' 'Dan' 'Dan' 'Dan' 'Dan' 'Dan' 'Dan' 'Dan'\n",
            " 'Dan' 'Dan' 'Dan' 'Dan' 'Dan' 'Dan' 'Dan' 'Dan' 'Dan' 'Dan' 'Dan' 'Dan'\n",
            " 'Dan' 'Dan' 'Dan' 'Dan' 'Dan' 'Dan' 'Dan' 'Dan' 'Dan' 'Dan' 'Dan' 'Dan'\n",
            " 'Dan' 'Dan' 'Dan' 'Dan']\n",
            "Accuracy on MacaqueFaces data: 100.00%\n",
            "Precision: 1.0\n",
            "Recall: 1.0\n",
            "F1 Score: 1.0\n"
          ]
        }
      ]
    },
    {
      "cell_type": "markdown",
      "source": [
        "**LionData Dateset**"
      ],
      "metadata": {
        "id": "x8WIYP4jzI6y"
      }
    },
    {
      "cell_type": "code",
      "source": [
        "# Download dataset (if not already downloaded)\n",
        "datasets.LionData.get_data('../data/LionData')\n",
        "\n",
        "# Load dataset metadata\n",
        "metadata_LionData = datasets.LionData('../data/LionData')\n",
        "transform = T.Compose([T.Resize([224, 224]), T.ToTensor(), T.Normalize(mean=(0.485, 0.456, 0.406), std=(0.229, 0.224, 0.225))])\n",
        "dataset_LionData = WildlifeDataset(metadata_LionData.df, metadata_LionData.root, transform=transform)"
      ],
      "metadata": {
        "colab": {
          "base_uri": "https://localhost:8080/"
        },
        "id": "rrO6dLzDzPDa",
        "outputId": "1b980885-28a9-4571-d835-d2ccfa06047e"
      },
      "execution_count": null,
      "outputs": [
        {
          "output_type": "stream",
          "name": "stdout",
          "text": [
            "DATASET LionData: DOWNLOADING STARTED.\n"
          ]
        },
        {
          "output_type": "stream",
          "name": "stderr",
          "text": [
            "main.zip: 495MB [00:19, 25.3MB/s]\n"
          ]
        },
        {
          "output_type": "stream",
          "name": "stdout",
          "text": [
            "DATASET LionData: EXTRACTING STARTED.\n",
            "DATASET LionData: FINISHED.\n",
            "\n"
          ]
        }
      ]
    },
    {
      "cell_type": "code",
      "source": [
        "dataset_database_LionData = WildlifeDataset(metadata_LionData.df.iloc[100:,:], metadata_LionData.root, transform=transform)\n",
        "dataset_query_LionData = WildlifeDataset(metadata_LionData.df.iloc[:100,:], metadata_LionData.root, transform=transform)"
      ],
      "metadata": {
        "id": "Nj1rVBcP0quR"
      },
      "execution_count": null,
      "outputs": []
    },
    {
      "cell_type": "code",
      "source": [
        "name = 'hf-hub:BVRA/MegaDescriptor-T-224'\n",
        "extractor_LionData = DeepFeatures(timm.create_model(name, num_classes=0, pretrained=True))\n",
        "query_LionData, database_LionData = extractor_LionData(dataset_query_LionData), extractor_LionData(dataset_database_LionData)"
      ],
      "metadata": {
        "colab": {
          "base_uri": "https://localhost:8080/"
        },
        "id": "DpZt2GKa0uZ8",
        "outputId": "bad4a586-65fd-44d9-f8a0-749388feb69b"
      },
      "execution_count": null,
      "outputs": [
        {
          "output_type": "stream",
          "name": "stderr",
          "text": [
            "\r  0%|                                                                         | 0/1 [00:00<?, ?it/s]/usr/lib/python3.10/multiprocessing/popen_fork.py:66: RuntimeWarning: os.fork() was called. os.fork() is incompatible with multithreaded code, and JAX is multithreaded, so this will likely lead to a deadlock.\n",
            "  self.pid = os.fork()\n",
            "100%|█████████████████████████████████████████████████████████████████| 1/1 [00:38<00:00, 38.28s/it]/usr/lib/python3.10/multiprocessing/popen_fork.py:66: RuntimeWarning: os.fork() was called. os.fork() is incompatible with multithreaded code, and JAX is multithreaded, so this will likely lead to a deadlock.\n",
            "  self.pid = os.fork()\n",
            "100%|█████████████████████████████████████████████████████████████████| 1/1 [00:38<00:00, 38.44s/it]\n",
            "100%|█████████████████████████████████████████████████████████████████| 5/5 [03:59<00:00, 47.93s/it]\n"
          ]
        }
      ]
    },
    {
      "cell_type": "code",
      "source": [
        "similarity_function = CosineSimilarity()\n",
        "similarity_LionData = similarity_function(query_LionData, database_LionData)\n",
        "print(similarity_LionData)"
      ],
      "metadata": {
        "colab": {
          "base_uri": "https://localhost:8080/"
        },
        "id": "z73QR_5D44kw",
        "outputId": "f23fcceb-a30f-4334-f351-09812f942612"
      },
      "execution_count": null,
      "outputs": [
        {
          "output_type": "stream",
          "name": "stdout",
          "text": [
            "{'cosine': array([[0.86896247, 0.69942033, 0.8777389 , ..., 0.829781  , 0.8954884 ,\n",
            "        0.86451447],\n",
            "       [0.9500992 , 0.7055931 , 0.9380013 , ..., 0.7477597 , 0.9478767 ,\n",
            "        0.89982736],\n",
            "       [0.87242615, 0.6950849 , 0.89943147, ..., 0.75892425, 0.91286826,\n",
            "        0.9114601 ],\n",
            "       ...,\n",
            "       [0.8723602 , 0.7832219 , 0.9014683 , ..., 0.8094394 , 0.9129671 ,\n",
            "        0.9049461 ],\n",
            "       [0.8919123 , 0.73857903, 0.92439425, ..., 0.7845442 , 0.9392824 ,\n",
            "        0.9575528 ],\n",
            "       [0.89837366, 0.75758326, 0.91506803, ..., 0.80790067, 0.9342222 ,\n",
            "        0.93150544]], dtype=float32)}\n"
          ]
        }
      ]
    },
    {
      "cell_type": "code",
      "source": [
        "# Predictions\n",
        "classifier_LionData = KnnClassifier(k=1, database_labels=dataset_database_LionData.labels_string)\n",
        "predictions_LionData = classifier_LionData(similarity_LionData['cosine'])\n",
        "print(\"Predictions for 100 test Images:-\\n\",predictions_LionData)\n",
        "# Accuracy\n",
        "accuracy_LionData = np.mean(dataset_query_LionData.labels_string == predictions_LionData)\n",
        "print(\"Accuracy on Lion data: {:.2f}%\".format(accuracy_LionData * 100))\n",
        "# F1 score,recall and precision\n",
        "precision = precision_score(dataset_query_LionData.labels_string, predictions_LionData, average='weighted',zero_division=1)\n",
        "recall = recall_score(dataset_query_LionData.labels_string, predictions_LionData, average='weighted',zero_division=1)\n",
        "f1 = f1_score(dataset_query_LionData.labels_string, predictions_LionData, average='weighted',zero_division=1)\n",
        "print(\"Precision:\", precision)\n",
        "print(\"Recall:\", recall)\n",
        "print(\"F1 Score:\", f1)"
      ],
      "metadata": {
        "colab": {
          "base_uri": "https://localhost:8080/"
        },
        "id": "pqHIJW025EOL",
        "outputId": "a95743d8-1ae9-4633-fb76-59a09166f02c"
      },
      "execution_count": null,
      "outputs": [
        {
          "output_type": "stream",
          "name": "stdout",
          "text": [
            "Predictions for 100 test Images:-\n",
            " ['Sebastian' 'Saba' 'Etana' 'Tigisi' 'Sebastian' 'Moswen' 'Naape'\n",
            " 'Simaloi' 'Autumn' 'Lolparpit' 'Maskio' 'Chaimu' 'Naape' 'Saba' 'Saitoti'\n",
            " 'Esiriwua' 'Sadala' 'Etana' 'Enderoni' 'Kinna' 'Lucinda' 'Enkume' 'Joy'\n",
            " 'Lemuanik' 'Naibor' 'Shambe' 'Siti' 'Selenkay' 'Sadala' 'Manzy' 'Moswen'\n",
            " 'Napi' 'Ngare' 'Naimina' 'Napi' 'Cleopatra' 'Moswen' 'Kioni' 'Chaimu'\n",
            " 'Engiyaa' 'Enderoni' 'Jamal' 'Leia' 'Sebastian' 'Nuru' 'Maskio' 'Mooza'\n",
            " 'Moswen' 'Kibibi' 'Tigisi' 'Enderoni' 'Lucinda' 'Moswen' 'Kioni'\n",
            " 'Sebastian' 'Mashavu' 'Mickey' 'Mama-Kali' 'Kioni' 'Ngare' 'Nashipai'\n",
            " 'Sikio-Kali' 'Ngare' 'Amber' 'Olonyori' 'Lemuanik' 'Kibibi' 'Ngare'\n",
            " 'Saimutie' 'Amber' 'Shemsa' 'Olonyori' 'Mickey' 'Esiriwua' 'Nashipai'\n",
            " 'Enderoni' 'Summer' 'Nuru' 'Mickey' 'Joy' 'Cleopatra' 'Tigisi' 'Mooza'\n",
            " 'Saitoti' 'Kioni' 'Naini' 'Rescue' 'Sikio-Kali' 'Empurra' 'Enadalut'\n",
            " 'Lemayian' 'Rescue' 'Enadalut' 'Esiriwua' 'Enkume' 'Senteu' 'Doto'\n",
            " 'Enkume' 'Nakato' 'Enderoni']\n",
            "Accuracy on Lion data: 8.00%\n",
            "Precision: 0.5196666666666667\n",
            "Recall: 0.08\n",
            "F1 Score: 0.07116666666666667\n"
          ]
        }
      ]
    },
    {
      "cell_type": "markdown",
      "source": [
        "**NyalaDataSet**"
      ],
      "metadata": {
        "id": "8BVColWW5peR"
      }
    },
    {
      "cell_type": "code",
      "source": [
        "# Download dataset (if not already downloaded)\n",
        "datasets.NyalaData.get_data('../data/NyalaData')\n",
        "\n",
        "# Load dataset metadata\n",
        "metadata_N = datasets.NyalaData('../data/NyalaData')\n",
        "transform = T.Compose([T.Resize([224, 224]), T.ToTensor(), T.Normalize(mean=(0.485, 0.456, 0.406), std=(0.229, 0.224, 0.225))])\n",
        "dataset_N = WildlifeDataset(metadata_N.df, metadata_N.root, transform=transform)"
      ],
      "metadata": {
        "colab": {
          "base_uri": "https://localhost:8080/"
        },
        "id": "lrsdGDje5obt",
        "outputId": "b913dd29-f8d4-4306-baf7-bed8802d9939"
      },
      "execution_count": null,
      "outputs": [
        {
          "output_type": "stream",
          "name": "stdout",
          "text": [
            "DATASET NyalaData: DOWNLOADING STARTED.\n"
          ]
        },
        {
          "output_type": "stream",
          "name": "stderr",
          "text": [
            "main.zip: 495MB [00:20, 23.9MB/s]\n"
          ]
        },
        {
          "output_type": "stream",
          "name": "stdout",
          "text": [
            "DATASET NyalaData: EXTRACTING STARTED.\n",
            "DATASET NyalaData: FINISHED.\n",
            "\n"
          ]
        }
      ]
    },
    {
      "cell_type": "code",
      "source": [
        "dataset_database_N = WildlifeDataset(metadata_N.df.iloc[100:,:], metadata_N.root, transform=transform)\n",
        "dataset_query_N = WildlifeDataset(metadata_N.df.iloc[:100,:], metadata_N.root, transform=transform)"
      ],
      "metadata": {
        "id": "Gt-66g7v6MsJ"
      },
      "execution_count": null,
      "outputs": []
    },
    {
      "cell_type": "code",
      "source": [
        "name = 'hf-hub:BVRA/MegaDescriptor-T-224'\n",
        "extractor_N = DeepFeatures(timm.create_model(name, num_classes=0, pretrained=True))\n",
        "query_N, database_N = extractor_N(dataset_query_N), extractor_N(dataset_database_N)"
      ],
      "metadata": {
        "colab": {
          "base_uri": "https://localhost:8080/"
        },
        "id": "1hmLnsoN6Oey",
        "outputId": "c6c456d0-bd28-4083-9b1d-55783e37d1dc"
      },
      "execution_count": null,
      "outputs": [
        {
          "output_type": "stream",
          "name": "stderr",
          "text": [
            "\r  0%|                                                                         | 0/1 [00:00<?, ?it/s]/usr/lib/python3.10/multiprocessing/popen_fork.py:66: RuntimeWarning: os.fork() was called. os.fork() is incompatible with multithreaded code, and JAX is multithreaded, so this will likely lead to a deadlock.\n",
            "  self.pid = os.fork()\n",
            "100%|█████████████████████████████████████████████████████████████████| 1/1 [00:44<00:00, 44.43s/it]\n",
            "100%|███████████████████████████████████████████████████████████████| 15/15 [14:08<00:00, 56.59s/it]\n"
          ]
        }
      ]
    },
    {
      "cell_type": "code",
      "source": [
        "similarity_function = CosineSimilarity()\n",
        "similarity_N = similarity_function(query_N, database_N)\n",
        "print(similarity_N)"
      ],
      "metadata": {
        "colab": {
          "base_uri": "https://localhost:8080/"
        },
        "id": "rzYBhZBM9MH0",
        "outputId": "431b1ea1-9939-47b6-b62a-815268146da6"
      },
      "execution_count": null,
      "outputs": [
        {
          "output_type": "stream",
          "name": "stdout",
          "text": [
            "{'cosine': array([[0.8619583 , 0.01217471, 0.05642469, ..., 0.6895717 , 0.03031028,\n",
            "        0.898418  ],\n",
            "       [0.25952083, 0.918558  , 0.785017  , ..., 0.5010886 , 0.82998675,\n",
            "        0.1797384 ],\n",
            "       [0.71705055, 0.4680481 , 0.5621629 , ..., 0.962554  , 0.5190879 ,\n",
            "        0.7367308 ],\n",
            "       ...,\n",
            "       [0.2627344 , 0.9283303 , 0.7531287 , ..., 0.4816041 , 0.80183464,\n",
            "        0.17906114],\n",
            "       [0.84421116, 0.0514888 , 0.10151841, ..., 0.7681327 , 0.0811858 ,\n",
            "        0.9342401 ],\n",
            "       [0.07699895, 0.7878246 , 0.9208322 , ..., 0.38661018, 0.9427093 ,\n",
            "        0.07355451]], dtype=float32)}\n"
          ]
        }
      ]
    },
    {
      "cell_type": "code",
      "source": [
        "# Predictions\n",
        "classifier_N = KnnClassifier(k=1, database_labels=dataset_database_N.labels_string)\n",
        "predictions_N = classifier_N(similarity_N['cosine'])\n",
        "print(\"Predictions for 100 test Images:-\\n\",predictions_N)\n",
        "# Accuracy\n",
        "accuracy_N = np.mean(dataset_query_N.labels_string == predictions_N)\n",
        "print(\"Accuracy on NyalaData data: {:.2f}%\".format(accuracy_N * 100))\n",
        "# precision,recall and F1 score\n",
        "precision_N = precision_score(dataset_query_N.labels_string, predictions_N, average='weighted',zero_division=1)\n",
        "recall_N = recall_score(dataset_query_N.labels_string, predictions_N, average='weighted',zero_division=1)\n",
        "f1_N = f1_score(dataset_query_N.labels_string, predictions_N, average='weighted',zero_division=1)\n",
        "print(\"Precision:\", precision_N)\n",
        "print(\"Recall:\", recall_N)\n",
        "print(\"F1 Score:\", f1_N)"
      ],
      "metadata": {
        "colab": {
          "base_uri": "https://localhost:8080/"
        },
        "id": "SjsH9Edm9RI-",
        "outputId": "46876461-0651-4797-e8c4-df998feeb9d3"
      },
      "execution_count": null,
      "outputs": [
        {
          "output_type": "stream",
          "name": "stdout",
          "text": [
            "Predictions for 100 test Images:-\n",
            " ['166' '10' '57' '89' '58' '179' '55' '58' '149' '71' '87' '125' '56'\n",
            " '144' '131' '8' '36' '150' '131' '11' '116' '19' '20' '86' '260' '165'\n",
            " '140' '11' '246' '41' '140' '197' '9' '131' '24' '48' '41' '11' '48'\n",
            " '131' '272' '47' '21' '46' '8' '241' '114' '62' '21' '48' '252' '151'\n",
            " '27' '108' '82' '51' '101' '85' '32' '58' '46' '139' '63' '85' '9' '181'\n",
            " '65' '242' '43' '144' '142' '12' '60' '5' '127' '166' '56' '21' '27' '36'\n",
            " '20' '188' '51' '51' '42' '20' '111' '62' '165' '68' '104' '174' '48'\n",
            " '217' '144' '6' '50' '91' '105' '140']\n",
            "Accuracy on NyalaData data: 11.00%\n",
            "Precision: 0.5458333333333333\n",
            "Recall: 0.11\n",
            "F1 Score: 0.11866666666666667\n"
          ]
        }
      ]
    },
    {
      "cell_type": "markdown",
      "source": [
        "**StripeSpotter Dataset**"
      ],
      "metadata": {
        "id": "TggFYlC7-Q7Y"
      }
    },
    {
      "cell_type": "code",
      "source": [
        "# Download dataset (if not already downloaded)\n",
        "datasets.StripeSpotter.get_data('../data/StripeSpotter')\n",
        "# Load dataset metadata\n",
        "metadata_S = datasets.StripeSpotter('../data/StripeSpotter')\n",
        "transform = T.Compose([T.Resize([224, 224]), T.ToTensor(), T.Normalize(mean=(0.485, 0.456, 0.406), std=(0.229, 0.224, 0.225))])\n",
        "dataset_S = WildlifeDataset(metadata_S.df, metadata_S.root, transform=transform)"
      ],
      "metadata": {
        "colab": {
          "base_uri": "https://localhost:8080/"
        },
        "id": "37C8D2y9-WIy",
        "outputId": "405b8981-6ab0-4c63-cec8-9d9728b72807"
      },
      "execution_count": null,
      "outputs": [
        {
          "output_type": "stream",
          "name": "stdout",
          "text": [
            "DATASET StripeSpotter: DOWNLOADING STARTED.\n"
          ]
        },
        {
          "output_type": "stream",
          "name": "stderr",
          "text": [
            "data-20110718.zip: 71.7MB [00:00, 81.2MB/s]                           \n",
            "data-20110718.z02: 100%|██████████| 78.6M/78.6M [00:01<00:00, 64.6MB/s]\n",
            "data-20110718.z01: 100%|██████████| 78.6M/78.6M [00:00<00:00, 87.7MB/s]\n"
          ]
        },
        {
          "output_type": "stream",
          "name": "stdout",
          "text": [
            "DATASET StripeSpotter: EXTRACTING STARTED.\n",
            "DATASET StripeSpotter: FINISHED.\n",
            "\n"
          ]
        }
      ]
    },
    {
      "cell_type": "code",
      "source": [
        "dataset_database_S = WildlifeDataset(metadata_S.df.iloc[100:,:], metadata_S.root, transform=transform)\n",
        "dataset_query_S = WildlifeDataset(metadata_S.df.iloc[:100,:], metadata_S.root, transform=transform)"
      ],
      "metadata": {
        "id": "hddjZQpyGSZC"
      },
      "execution_count": null,
      "outputs": []
    },
    {
      "cell_type": "code",
      "source": [
        "name = 'hf-hub:BVRA/MegaDescriptor-T-224'\n",
        "extractor_S = DeepFeatures(timm.create_model(name, num_classes=0, pretrained=True))\n",
        "query_S, database_S = extractor_S(dataset_query_S), extractor_S(dataset_database_S)"
      ],
      "metadata": {
        "colab": {
          "base_uri": "https://localhost:8080/"
        },
        "id": "GLTVw6LtGeDr",
        "outputId": "fe9c94ff-ab91-451a-89f8-b45cc9828a29"
      },
      "execution_count": null,
      "outputs": [
        {
          "output_type": "stream",
          "name": "stderr",
          "text": [
            "\r  0%|                                                                         | 0/1 [00:00<?, ?it/s]/usr/lib/python3.10/multiprocessing/popen_fork.py:66: RuntimeWarning: os.fork() was called. os.fork() is incompatible with multithreaded code, and JAX is multithreaded, so this will likely lead to a deadlock.\n",
            "  self.pid = os.fork()\n",
            "100%|█████████████████████████████████████████████████████████████████| 1/1 [00:39<00:00, 39.83s/it]\n",
            "100%|█████████████████████████████████████████████████████████████████| 6/6 [06:18<00:00, 63.09s/it]\n"
          ]
        }
      ]
    },
    {
      "cell_type": "code",
      "source": [
        "similarity_function = CosineSimilarity()\n",
        "similarity_S = similarity_function(query_S, database_S)\n",
        "print(similarity_S)"
      ],
      "metadata": {
        "colab": {
          "base_uri": "https://localhost:8080/"
        },
        "id": "_E_O6trCIY_p",
        "outputId": "dc29be6e-6634-4a31-979d-1c6876405477"
      },
      "execution_count": null,
      "outputs": [
        {
          "output_type": "stream",
          "name": "stdout",
          "text": [
            "{'cosine': array([[0.2130194 , 0.588757  , 0.65936303, ..., 0.4394258 , 0.44544154,\n",
            "        0.621335  ],\n",
            "       [0.17780262, 0.38624054, 0.40102234, ..., 0.7090034 , 0.20244715,\n",
            "        0.2846234 ],\n",
            "       [0.6676848 , 0.43850845, 0.34033626, ..., 0.2868997 , 0.39746365,\n",
            "        0.36011013],\n",
            "       ...,\n",
            "       [0.60642976, 0.23701996, 0.21666232, ..., 0.41781956, 0.32831538,\n",
            "        0.35214955],\n",
            "       [0.51512223, 0.2798951 , 0.32729602, ..., 0.53868353, 0.39507398,\n",
            "        0.28750026],\n",
            "       [0.17924337, 0.24542159, 0.3013066 , ..., 0.58145046, 0.2895743 ,\n",
            "        0.35858634]], dtype=float32)}\n"
          ]
        }
      ]
    },
    {
      "cell_type": "code",
      "source": [
        "classifier_S = KnnClassifier(k=1, database_labels=dataset_database_S.labels_string)\n",
        "predictions_S = classifier_S(similarity_S['cosine'])\n",
        "print(\"Predictions for 100 test Images:-\\n\",predictions_S)\n",
        "accuracy_S = np.mean(dataset_query_S.labels_string == predictions_S)\n",
        "print(\"Accuracy on StripeSpotter data: {:.2f}%\".format(accuracy_S * 100))\n",
        "# precision\n",
        "precision_S = precision_score(dataset_query_S.labels_string, predictions_S, average='weighted',zero_division=1)\n",
        "# recall\n",
        "recall_S = recall_score(dataset_query_S.labels_string, predictions_S, average='weighted',zero_division=1)\n",
        "# F1 score\n",
        "f1_S = f1_score(dataset_query_S.labels_string, predictions_S, average='weighted',zero_division=1)\n",
        "\n",
        "print(\"Precision:\", precision_S)\n",
        "print(\"Recall:\", recall_S)\n",
        "print(\"F1 Score:\", f1_S)"
      ],
      "metadata": {
        "colab": {
          "base_uri": "https://localhost:8080/"
        },
        "id": "rJItxeuOIhQT",
        "outputId": "494193e8-1882-47a1-c1ea-8df380ef9e5d"
      },
      "execution_count": null,
      "outputs": [
        {
          "output_type": "stream",
          "name": "stdout",
          "text": [
            "Predictions for 100 test Images:-\n",
            " ['09_212' 'S09_161' '08_085' '08_100' '09_200' 'OP05_625' '09_212'\n",
            " '02_149' '01_579' '08_034' '01_679' '08_078' '01_460' '10_002' '01_136'\n",
            " '09_212' '09_200' 'S09_111' '02_149' 'S09_069' '08_100' '01_363' '01_363'\n",
            " '08_078' '08_034' '01_805' '09_355' '08_085' 'OP05_546' '09_212' '08_100'\n",
            " 'S09_088' '09_182' 'S09_215' '02_162' '01_230' '08_085' '01_661'\n",
            " '02_1026' '09_185' '01_136' '01_661' '01_661' '02_161' '01_165' '02_161'\n",
            " 'S09_174' 'S09_067' '08_100' 'OP04_225' '02_149' 'S09_067' '09_200'\n",
            " '04_008' '01_661' '09_182' '01_805' '02_161' '10_002' '01_036' '02_149'\n",
            " '01_165' '09_212' 'S09_211' 'S09_215' '03_045' '01_579' 'OP04_225'\n",
            " '08_100' '08_100' '04_008' '09_212' 'OP05_625' 'OP05_625' '02_149'\n",
            " '01_230' '09_200' 'OP05_625' '01_661' 'OP04_225' '01_661' '01_661'\n",
            " 'S09_174' '01_679' '01_661' 'S09_067' 'S09_111' 'S09_112' '09_212'\n",
            " 'OP04_225' '02_161' '09_185' '04_008' '08_100' '01_460' '01_679'\n",
            " 'S09_111' '01_679' '01_036' 'S09_067']\n",
            "Accuracy on StripeSpotter data: 98.00%\n",
            "Precision: 0.98375\n",
            "Recall: 0.98\n",
            "F1 Score: 0.9757142857142856\n"
          ]
        }
      ]
    },
    {
      "cell_type": "markdown",
      "source": [
        "**IPanda50 Dataset**"
      ],
      "metadata": {
        "id": "ekpRAxgNIvDu"
      }
    },
    {
      "cell_type": "code",
      "source": [
        "# Download dataset (if not already downloaded)\n",
        "datasets.IPanda50.get_data('../data/IPanda50')\n",
        "# Load dataset metadata\n",
        "metadata_P = datasets.IPanda50('../data/IPanda50')\n",
        "transform = T.Compose([T.Resize([224, 224]), T.ToTensor(), T.Normalize(mean=(0.485, 0.456, 0.406), std=(0.229, 0.224, 0.225))])\n",
        "dataset_P = WildlifeDataset(metadata_P.df, metadata_P.root, transform=transform)"
      ],
      "metadata": {
        "colab": {
          "base_uri": "https://localhost:8080/"
        },
        "id": "0cmTPCjII07F",
        "outputId": "51619520-e280-4fa4-98c8-0ecfc6489701"
      },
      "execution_count": null,
      "outputs": [
        {
          "output_type": "stream",
          "name": "stdout",
          "text": [
            "DATASET IPanda50: DOWNLOADING STARTED.\n"
          ]
        },
        {
          "output_type": "stream",
          "name": "stderr",
          "text": [
            "Downloading...\n",
            "From (original): https://drive.google.com/uc?id=1nkh-g6a8JvWy-XsMaZqrN2AXoPlaXuFg\n",
            "From (redirected): https://drive.google.com/uc?id=1nkh-g6a8JvWy-XsMaZqrN2AXoPlaXuFg&confirm=t&uuid=dd2b004b-4593-424c-83dc-2614a6181d40\n",
            "To: /data/IPanda50/iPanda50-images.zip\n",
            "100%|██████████| 926M/926M [00:12<00:00, 71.3MB/s]\n",
            "Downloading...\n",
            "From: https://drive.google.com/uc?id=1gVREtFWkNec4xwqOyKkpuIQIyWU_Y_Ob\n",
            "To: /data/IPanda50/iPanda50-split.zip\n",
            "100%|██████████| 140k/140k [00:00<00:00, 37.2MB/s]\n",
            "Downloading...\n",
            "From: https://drive.google.com/uc?id=1jdACN98uOxedZDT-6X3rpbooLAAUEbNY\n",
            "To: /data/IPanda50/iPanda50-eyes-labels.zip\n",
            "100%|██████████| 2.55M/2.55M [00:00<00:00, 157MB/s]\n"
          ]
        },
        {
          "output_type": "stream",
          "name": "stdout",
          "text": [
            "DATASET IPanda50: EXTRACTING STARTED.\n",
            "DATASET IPanda50: FINISHED.\n",
            "\n"
          ]
        }
      ]
    },
    {
      "cell_type": "code",
      "source": [
        "dataset_database_P = WildlifeDataset(metadata_P.df.iloc[100:,:], metadata_P.root, transform=transform)\n",
        "dataset_query_P = WildlifeDataset(metadata_P.df.iloc[:100,:], metadata_P.root, transform=transform)"
      ],
      "metadata": {
        "id": "uI4Yr7QLLrMO"
      },
      "execution_count": null,
      "outputs": []
    },
    {
      "cell_type": "code",
      "source": [
        "name = 'hf-hub:BVRA/MegaDescriptor-T-224'\n",
        "extractor_P = DeepFeatures(timm.create_model(name, num_classes=0, pretrained=True))\n",
        "query_P, database_P = extractor_P(dataset_query_P), extractor_P(dataset_database_P)"
      ],
      "metadata": {
        "colab": {
          "base_uri": "https://localhost:8080/"
        },
        "id": "E-4AJbLMLuOv",
        "outputId": "b7f52bc2-7ac6-4bc6-94a6-0ccbafbd2ba9"
      },
      "execution_count": null,
      "outputs": [
        {
          "output_type": "stream",
          "name": "stderr",
          "text": [
            "\r  0%|                                                                         | 0/1 [00:00<?, ?it/s]/usr/lib/python3.10/multiprocessing/popen_fork.py:66: RuntimeWarning: os.fork() was called. os.fork() is incompatible with multithreaded code, and JAX is multithreaded, so this will likely lead to a deadlock.\n",
            "  self.pid = os.fork()\n",
            "100%|█████████████████████████████████████████████████████████████████| 1/1 [00:39<00:00, 39.98s/it]/usr/lib/python3.10/multiprocessing/popen_fork.py:66: RuntimeWarning: os.fork() was called. os.fork() is incompatible with multithreaded code, and JAX is multithreaded, so this will likely lead to a deadlock.\n",
            "  self.pid = os.fork()\n",
            "100%|█████████████████████████████████████████████████████████████████| 1/1 [00:40<00:00, 40.19s/it]\n",
            "100%|███████████████████████████████████████████████████████████████| 53/53 [45:38<00:00, 51.67s/it]\n"
          ]
        }
      ]
    },
    {
      "cell_type": "code",
      "source": [
        "similarity_function = CosineSimilarity()\n",
        "similarity_P = similarity_function(query_P, database_P)\n",
        "print(similarity_P)"
      ],
      "metadata": {
        "colab": {
          "base_uri": "https://localhost:8080/"
        },
        "id": "Ztg2VL79WglN",
        "outputId": "d99cab6d-895f-485c-b875-9665fd6ccbed"
      },
      "execution_count": null,
      "outputs": [
        {
          "output_type": "stream",
          "name": "stdout",
          "text": [
            "{'cosine': array([[ 0.02714637,  0.53501487,  0.14056858, ...,  0.38829625,\n",
            "         0.43481827, -0.07561179],\n",
            "       [ 0.08373775,  0.5616951 ,  0.03785922, ...,  0.3602667 ,\n",
            "         0.6493416 , -0.1295084 ],\n",
            "       [ 0.01190435,  0.4141855 ,  0.23542283, ...,  0.45754877,\n",
            "         0.5449476 , -0.1335805 ],\n",
            "       ...,\n",
            "       [ 0.0320384 ,  0.12872331, -0.14140168, ...,  0.02448   ,\n",
            "         0.22118227, -0.17661369],\n",
            "       [-0.08624166,  0.16572046,  0.07199848, ...,  0.14675027,\n",
            "         0.23473434, -0.02312863],\n",
            "       [ 0.01022829,  0.06892081,  0.7597883 , ...,  0.4224525 ,\n",
            "         0.10611828, -0.04714176]], dtype=float32)}\n"
          ]
        }
      ]
    },
    {
      "cell_type": "code",
      "source": [
        "classifier_P = KnnClassifier(k=1, database_labels=dataset_database_P.labels_string)\n",
        "predictions_P = classifier_P(similarity_P['cosine'])\n",
        "print(\"Predictions for 100 test Images:-\\n\",predictions_P)\n",
        "accuracy_P = np.mean(dataset_query_P.labels_string == predictions_P)\n",
        "print(\"Accuracy on IPanda50 data: {:.2f}%\".format(accuracy_P * 100))\n",
        "precision_P = precision_score(dataset_query_P.labels_string, predictions_P, average='weighted',zero_division=1)\n",
        "recall_P = recall_score(dataset_query_P.labels_string, predictions_P, average='weighted',zero_division=1)\n",
        "f1_P = f1_score(dataset_query_P.labels_string, predictions_P, average='weighted',zero_division=1)\n",
        "print(\"Precision:\", precision_P)\n",
        "print(\"Recall:\", recall_P)\n",
        "print(\"F1 Score:\", f1_P)"
      ],
      "metadata": {
        "colab": {
          "base_uri": "https://localhost:8080/"
        },
        "id": "tyqid4CXWnJc",
        "outputId": "9af3edd0-275b-49a5-f90b-22109b1a4896"
      },
      "execution_count": null,
      "outputs": [
        {
          "output_type": "stream",
          "name": "stdout",
          "text": [
            "Predictions for 100 test Images:-\n",
            " ['10_hexing' '37_xinger' '01_aoliao' '33_wuyi' '47_yingying' '15_maosun'\n",
            " '09_fushun' '10_hexing' '36_xingda' '19_nannan' '08_fulai' '31_shurong'\n",
            " '44_yayi' '39_xinghui' '37_xinger' '14_maodou' '14_maodou' '00_aibang'\n",
            " '21_nina' '35_xilan' '19_nannan' '33_wuyi' '47_yingying' '49_yuanrun'\n",
            " '38_xingfan' '04_chengdui' '16_maotao' '48_yongbang' '11_jiaoao'\n",
            " '49_yuanrun' '24_qixi' '10_hexing' '35_xilan' '35_xilan' '02_baolan'\n",
            " '31_shurong' '31_shurong' '02_baolan' '23_qiubang' '26_qiyuan'\n",
            " '04_chengdui' '35_xilan' '08_fulai' '00_aibang' '10_hexing'\n",
            " '29_shuangxiong' '11_jiaoao' '44_yayi' '14_maodou' '30_shuqing'\n",
            " '36_xingda' '39_xinghui' '33_wuyi' '10_hexing' '10_hexing' '00_aibang'\n",
            " '49_yuanrun' '35_xilan' '04_chengdui' '10_hexing' '39_xinghui' '44_yayi'\n",
            " '10_hexing' '36_xingda' '16_maotao' '22_nini' '00_aibang' '39_xinghui'\n",
            " '10_hexing' '17_meibang' '00_aibang' '46_yazhu' '14_maodou' '15_maosun'\n",
            " '32_susu' '26_qiyuan' '27_rourou' '23_qiubang' '18_miaomiao'\n",
            " '48_yongbang' '45_yayun' '16_maotao' '33_wuyi' '13_jingliang'\n",
            " '41_xingxiao' '39_xinghui' '09_fushun' '46_yazhu' '22_nini' '49_yuanrun'\n",
            " '09_fushun' '28_sa' '48_yongbang' '47_yingying' '28_sa' '15_maosun'\n",
            " '39_xinghui' '20_nike' '43_yaxing' '47_yingying']\n",
            "Accuracy on IPanda50 data: 85.00%\n",
            "Precision: 0.9161111111111111\n",
            "Recall: 0.85\n",
            "F1 Score: 0.8478354978354978\n"
          ]
        }
      ]
    },
    {
      "cell_type": "markdown",
      "source": [
        "CZoo Dataset"
      ],
      "metadata": {
        "id": "A17qmo9_d7TE"
      }
    },
    {
      "cell_type": "code",
      "source": [
        "# Download dataset (if not already downloaded)\n",
        "datasets.CZoo.get_data('../data/CZoo')\n",
        "\n",
        "# Load dataset metadata\n",
        "metadata_C = datasets.CZoo('../data/CZoo')\n",
        "transform = T.Compose([T.Resize([224, 224]), T.ToTensor(), T.Normalize(mean=(0.485, 0.456, 0.406), std=(0.229, 0.224, 0.225))])\n",
        "dataset_C = WildlifeDataset(metadata_C.df, metadata_C.root, transform=transform)"
      ],
      "metadata": {
        "colab": {
          "base_uri": "https://localhost:8080/"
        },
        "id": "VmYHIzw4Zjv6",
        "outputId": "8b108a8f-9343-4908-d5af-598b4dae90ed"
      },
      "execution_count": null,
      "outputs": [
        {
          "output_type": "stream",
          "name": "stdout",
          "text": [
            "DATASET CZoo: DOWNLOADING STARTED.\n"
          ]
        },
        {
          "output_type": "stream",
          "name": "stderr",
          "text": [
            "master.zip: 634MB [00:19, 31.8MB/s]\n"
          ]
        },
        {
          "output_type": "stream",
          "name": "stdout",
          "text": [
            "DATASET CZoo: EXTRACTING STARTED.\n",
            "DATASET CZoo: FINISHED.\n",
            "\n"
          ]
        }
      ]
    },
    {
      "cell_type": "code",
      "source": [
        "dataset_database_C = WildlifeDataset(metadata_C.df.iloc[100:,:], metadata_C.root, transform=transform)\n",
        "dataset_query_C = WildlifeDataset(metadata_C.df.iloc[:100,:], metadata_C.root, transform=transform)"
      ],
      "metadata": {
        "id": "pyu8Ze_se5y_"
      },
      "execution_count": null,
      "outputs": []
    },
    {
      "cell_type": "code",
      "source": [
        "name = 'hf-hub:BVRA/MegaDescriptor-T-224'\n",
        "extractor_C = DeepFeatures(timm.create_model(name, num_classes=0, pretrained=True))\n",
        "query_C, database_C = extractor_C(dataset_query_C), extractor_C(dataset_database_C)"
      ],
      "metadata": {
        "colab": {
          "base_uri": "https://localhost:8080/"
        },
        "id": "iuM3AcuBfA_6",
        "outputId": "e6e57aec-687c-46c4-c37d-27373a57764d"
      },
      "execution_count": null,
      "outputs": [
        {
          "output_type": "stream",
          "name": "stderr",
          "text": [
            "\r  0%|                                                                         | 0/1 [00:00<?, ?it/s]/usr/lib/python3.10/multiprocessing/popen_fork.py:66: RuntimeWarning: os.fork() was called. os.fork() is incompatible with multithreaded code, and JAX is multithreaded, so this will likely lead to a deadlock.\n",
            "  self.pid = os.fork()\n",
            "100%|█████████████████████████████████████████████████████████████████| 1/1 [00:39<00:00, 39.60s/it]\n",
            "100%|███████████████████████████████████████████████████████████████| 16/16 [12:30<00:00, 46.90s/it]\n"
          ]
        }
      ]
    },
    {
      "cell_type": "code",
      "source": [
        "similarity_function = CosineSimilarity()\n",
        "similarity_C = similarity_function(query_C, database_C)\n",
        "print(similarity_C)"
      ],
      "metadata": {
        "colab": {
          "base_uri": "https://localhost:8080/"
        },
        "id": "y0MDSts6iG-o",
        "outputId": "deb0afe4-7ccf-4df6-f5f7-99da4972fdb6"
      },
      "execution_count": null,
      "outputs": [
        {
          "output_type": "stream",
          "name": "stdout",
          "text": [
            "{'cosine': array([[ 9.0549982e-01,  8.9250720e-01,  8.9013600e-01, ...,\n",
            "        -2.4628341e-02, -1.9136328e-02,  2.0032311e-02],\n",
            "       [ 9.1913915e-01,  9.1288275e-01,  9.0220594e-01, ...,\n",
            "        -1.2885875e-02, -3.0940475e-02, -7.5778235e-03],\n",
            "       [ 9.3326151e-01,  9.2265338e-01,  9.1522133e-01, ...,\n",
            "        -3.5657752e-02, -1.6588740e-02,  1.8029639e-02],\n",
            "       ...,\n",
            "       [ 9.4986129e-01,  9.6489835e-01,  9.4513679e-01, ...,\n",
            "        -5.2607138e-02, -3.3724420e-03, -1.1571882e-02],\n",
            "       [ 9.5598102e-01,  9.6259630e-01,  9.4699091e-01, ...,\n",
            "        -4.5473136e-02, -1.4542699e-02, -3.2175947e-03],\n",
            "       [ 9.4659024e-01,  9.6087039e-01,  9.4981194e-01, ...,\n",
            "        -4.7210053e-02, -3.1141117e-03, -8.7950751e-04]], dtype=float32)}\n"
          ]
        }
      ]
    },
    {
      "cell_type": "code",
      "source": [
        "classifier_C = KnnClassifier(k=1, database_labels=dataset_database_C.labels_string)\n",
        "predictions_C = classifier_C(similarity_C['cosine'])\n",
        "print(\"Predictions for 100 test Images:-\\n\",predictions_C)\n",
        "accuracy_C = np.mean(dataset_query_C.labels_string == predictions_C)\n",
        "print(\"Accuracy on CZoo data: {:.2f}%\".format(accuracy_C * 100))\n",
        "precision_C = precision_score(dataset_query_C.labels_string, predictions_C, average='weighted')\n",
        "recall_C = recall_score(dataset_query_C.labels_string, predictions_C, average='weighted')\n",
        "f1_C = f1_score(dataset_query_C.labels_string, predictions_C, average='weighted')\n",
        "print(\"Precision:\", precision_C)\n",
        "print(\"Recall:\", recall_C)\n",
        "print(\"F1 Score:\", f1_C)"
      ],
      "metadata": {
        "colab": {
          "base_uri": "https://localhost:8080/"
        },
        "id": "ntU0cfOIiMIJ",
        "outputId": "7da4d271-dbaa-46fd-8d4c-f628552e5e57"
      },
      "execution_count": null,
      "outputs": [
        {
          "output_type": "stream",
          "name": "stdout",
          "text": [
            "Predictions for 100 test Images:-\n",
            " ['Alex' 'Alex' 'Alex' 'Jahaga' 'Jahaga' 'Alex' 'Alex' 'Jahaga' 'Alex'\n",
            " 'Jahaga' 'Alex' 'Alex' 'Alex' 'Alex' 'Alex' 'Alex' 'Alex' 'Alex' 'Alex'\n",
            " 'Alex' 'Alex' 'Alex' 'Alexandra' 'Alexandra' 'Alexandra' 'Alexandra'\n",
            " 'Alexandra' 'Alexandra' 'Alexandra' 'Alexandra' 'Alexandra' 'Alexandra'\n",
            " 'Alexandra' 'Gertrudia' 'Gertrudia' 'Gertrudia' 'Alexandra' 'Alexandra'\n",
            " 'Alexandra' 'Alexandra' 'Alexandra' 'Alexandra' 'Alexandra' 'Alexandra'\n",
            " 'Alexandra' 'Annett' 'Annett' 'Alexandra' 'Alexandra' 'Alexandra'\n",
            " 'Alexandra' 'Alexandra' 'Alexandra' 'Alexandra' 'Alexandra' 'Alexandra'\n",
            " 'Alexandra' 'Alexandra' 'Alexandra' 'Alexandra' 'Alexandra' 'Alexandra'\n",
            " 'Alexandra' 'Alexandra' 'Alexandra' 'Alexandra' 'Alexandra' 'Alexandra'\n",
            " 'Alexandra' 'Alexandra' 'Alexandra' 'Alexandra' 'Alexandra' 'Alexandra'\n",
            " 'Alexandra' 'Alexandra' 'Alexandra' 'Alexandra' 'Alexandra' 'Alexandra'\n",
            " 'Alexandra' 'Alexandra' 'Alexandra' 'Alexandra' 'Alexandra' 'Alexandra'\n",
            " 'Alexandra' 'Alexandra' 'Alexandra' 'Alexandra' 'Alexandra' 'Alexandra'\n",
            " 'Alexandra' 'Alexandra' 'Alex' 'Alex' 'Alex' 'Alex' 'Alex' 'Alex']\n",
            "Accuracy on CZoo data: 100.00%\n",
            "Precision: 1.0\n",
            "Recall: 1.0\n",
            "F1 Score: 1.0\n"
          ]
        }
      ]
    },
    {
      "cell_type": "code",
      "source": [
        "from sklearn.metrics import confusion_matrix\n",
        "\n",
        "# Compute confusion matrix\n",
        "conf_matrix = confusion_matrix(dataset_query_C.labels_string, predictions_C)\n",
        "\n",
        "# Extract elements of confusion matrix\n",
        "true_positives = np.diag(conf_matrix)\n",
        "false_positives = np.sum(conf_matrix, axis=0) - true_positives\n",
        "false_negatives = np.sum(conf_matrix, axis=1) - true_positives\n",
        "true_negatives = np.sum(conf_matrix) - (true_positives + false_positives + false_negatives)\n",
        "\n",
        "# Print the results\n",
        "for i, label in enumerate(np.unique(dataset_query_C.labels_string)):\n",
        "    print(f\"Class: {label}\")\n",
        "    print(f\"True Positives: {true_positives[i]}\")\n",
        "    print(f\"False Positives: {false_positives[i]}\")\n",
        "    print(f\"False Negatives: {false_negatives[i]}\")\n",
        "    print(f\"True Negatives: {true_negatives[i]}\")\n"
      ],
      "metadata": {
        "colab": {
          "base_uri": "https://localhost:8080/"
        },
        "id": "Frbciewltzs_",
        "outputId": "c7247bc1-e16c-4f34-e9b6-b93c5e428327"
      },
      "execution_count": null,
      "outputs": [
        {
          "output_type": "stream",
          "name": "stdout",
          "text": [
            "Class: Alex\n",
            "True Positives: 24\n",
            "False Positives: 0\n",
            "False Negatives: 0\n",
            "True Negatives: 76\n",
            "\n",
            "Class: Alexandra\n",
            "True Positives: 67\n",
            "False Positives: 0\n",
            "False Negatives: 0\n",
            "True Negatives: 33\n",
            "\n",
            "Class: Annett\n",
            "True Positives: 2\n",
            "False Positives: 0\n",
            "False Negatives: 0\n",
            "True Negatives: 98\n",
            "\n",
            "Class: Gertrudia\n",
            "True Positives: 3\n",
            "False Positives: 0\n",
            "False Negatives: 0\n",
            "True Negatives: 97\n",
            "\n",
            "Class: Jahaga\n",
            "True Positives: 4\n",
            "False Positives: 0\n",
            "False Negatives: 0\n",
            "True Negatives: 96\n",
            "\n"
          ]
        }
      ]
    },
    {
      "cell_type": "markdown",
      "source": [
        "**Different Data set for Checking model performance that model never train for it or Unseen data**"
      ],
      "metadata": {
        "id": "dwUkSFdvkNBl"
      }
    },
    {
      "cell_type": "markdown",
      "source": [
        "**CowDataset**"
      ],
      "metadata": {
        "id": "aEovOdqLstSj"
      }
    },
    {
      "cell_type": "code",
      "source": [
        "\n",
        "# Download dataset (if not already downloaded)\n",
        "datasets.CowDataset.get_data('../data/CowDataset')\n",
        "\n",
        "# Load dataset metadata\n",
        "metadata_COW = datasets.CowDataset('../data/CowDataset')\n",
        "transform = T.Compose([T.Resize([224, 224]), T.ToTensor(), T.Normalize(mean=(0.485, 0.456, 0.406), std=(0.229, 0.224, 0.225))])\n",
        "dataset = WildlifeDataset(metadata_COW.df, metadata_COW.root, transform=transform)"
      ],
      "metadata": {
        "colab": {
          "base_uri": "https://localhost:8080/"
        },
        "id": "0zyUBQ9yEkLB",
        "outputId": "4b2a888f-6fb2-4d24-9512-b90785e723e8"
      },
      "execution_count": null,
      "outputs": [
        {
          "output_type": "stream",
          "name": "stdout",
          "text": [
            "DATASET CowDataset: DOWNLOADING STARTED.\n",
            "You are trying to download an already downloaded dataset.\n",
            "        This message may have happened to due interrupted download or extract.\n",
            "        To force the download use the `force=True` keyword such as\n",
            "        get_data(..., force=True) or download(..., force=True).\n",
            "        \n"
          ]
        }
      ]
    },
    {
      "cell_type": "code",
      "source": [
        "dataset_database_COW = WildlifeDataset(metadata_COW.df.iloc[100:,:], metadata_COW.root, transform=transform)\n",
        "dataset_query_COW = WildlifeDataset(metadata_COW.df.iloc[:100,:], metadata_COW.root, transform=transform)"
      ],
      "metadata": {
        "id": "9qg-IvCXIsAc"
      },
      "execution_count": null,
      "outputs": []
    },
    {
      "cell_type": "code",
      "source": [
        "name = 'hf-hub:BVRA/MegaDescriptor-T-224'\n",
        "extractor_COW = DeepFeatures(timm.create_model(name, num_classes=0, pretrained=True))\n",
        "query_COW, database_COW = extractor_COW(dataset_query_COW), extractor_COW(dataset_database_COW)"
      ],
      "metadata": {
        "colab": {
          "base_uri": "https://localhost:8080/"
        },
        "id": "L9HZYMSvyweh",
        "outputId": "74438177-0539-4014-e535-e51a7bf3c4f2"
      },
      "execution_count": null,
      "outputs": [
        {
          "output_type": "stream",
          "name": "stderr",
          "text": [
            "\r  0%|                                                                         | 0/1 [00:00<?, ?it/s]/usr/lib/python3.10/multiprocessing/popen_fork.py:66: RuntimeWarning: os.fork() was called. os.fork() is incompatible with multithreaded code, and JAX is multithreaded, so this will likely lead to a deadlock.\n",
            "  self.pid = os.fork()\n",
            "100%|████████████████████████████████████████████████████████████████| 1/1 [01:57<00:00, 117.64s/it]/usr/lib/python3.10/multiprocessing/popen_fork.py:66: RuntimeWarning: os.fork() was called. os.fork() is incompatible with multithreaded code, and JAX is multithreaded, so this will likely lead to a deadlock.\n",
            "  self.pid = os.fork()\n",
            "100%|████████████████████████████████████████████████████████████████| 1/1 [01:57<00:00, 117.88s/it]\n",
            "100%|███████████████████████████████████████████████████████████████| 11/11 [13:04<00:00, 71.34s/it]\n"
          ]
        }
      ]
    },
    {
      "cell_type": "code",
      "source": [
        "similarity_function = CosineSimilarity()\n",
        "similarity_COW = similarity_function(query_COW, database_COW)\n",
        "print(similarity_COW)"
      ],
      "metadata": {
        "colab": {
          "base_uri": "https://localhost:8080/"
        },
        "id": "z2RR94B6ysCP",
        "outputId": "8f9e187a-25c6-48e6-fd2b-1db7b16b77ad"
      },
      "execution_count": null,
      "outputs": [
        {
          "output_type": "stream",
          "name": "stdout",
          "text": [
            "{'cosine': array([[0.39708894, 0.4182203 , 0.5293013 , ..., 0.27663645, 0.4777836 ,\n",
            "        0.35460728],\n",
            "       [0.3587119 , 0.4944626 , 0.58756405, ..., 0.31605875, 0.5642501 ,\n",
            "        0.42149514],\n",
            "       [0.42812222, 0.4590943 , 0.4853114 , ..., 0.33510396, 0.41814676,\n",
            "        0.27614745],\n",
            "       ...,\n",
            "       [0.41292116, 0.39433795, 0.5616037 , ..., 0.23478842, 0.51470125,\n",
            "        0.33356407],\n",
            "       [0.13331117, 0.36302844, 0.23410194, ..., 0.30096102, 0.2174725 ,\n",
            "        0.347133  ],\n",
            "       [0.24392274, 0.33747607, 0.43861768, ..., 0.47360572, 0.5489086 ,\n",
            "        0.6568668 ]], dtype=float32)}\n"
          ]
        }
      ]
    },
    {
      "cell_type": "code",
      "source": [
        "classifier_COW = KnnClassifier(k=1, database_labels=dataset_database_COW.labels_string)\n",
        "predictions_COW = classifier_COW(similarity_COW['cosine'])\n",
        "print(\"Predictions for 100 test Images:-\\n\",predictions_COW)\n",
        "accuracy_COW = np.mean(dataset_query_COW.labels_string == predictions_COW)\n",
        "print(\"Accuracy on COW data: {:.2f}%\".format(accuracy_COW * 100))\n",
        "precision_COW = precision_score(dataset_query_COW.labels_string, predictions_COW, average='weighted')\n",
        "recall_COW = recall_score(dataset_query_COW.labels_string, predictions_COW, average='weighted')\n",
        "f1_COW = f1_score(dataset_query_COW.labels_string, predictions_COW, average='weighted')\n",
        "print(\"Precision:\", precision_COW)\n",
        "print(\"Recall:\", recall_COW)\n",
        "print(\"F1 Score:\", f1_COW)"
      ],
      "metadata": {
        "colab": {
          "base_uri": "https://localhost:8080/"
        },
        "id": "r88iRvtDy7Mk",
        "outputId": "17b608ee-52a3-42f3-983d-3089c12f1833"
      },
      "execution_count": null,
      "outputs": [
        {
          "output_type": "stream",
          "name": "stdout",
          "text": [
            "Predictions for 100 test Images:-\n",
            " ['2' '9' '2' '13' '1' '6' '4' '7' '1' '4' '10' '9' '13' '3' '6' '10' '6'\n",
            " '4' '2' '13' '6' '2' '2' '9' '8' '8' '4' '7' '2' '12' '6' '6' '2' '4' '5'\n",
            " '2' '7' '9' '4' '5' '9' '11' '1' '8' '8' '1' '9' '4' '3' '7' '12' '1' '2'\n",
            " '5' '5' '9' '4' '1' '10' '3' '11' '12' '5' '3' '6' '5' '5' '2' '7' '11'\n",
            " '8' '5' '3' '9' '8' '7' '2' '1' '11' '1' '6' '3' '12' '2' '3' '8' '10'\n",
            " '11' '7' '6' '1' '8' '6' '3' '11' '10' '10' '2' '3' '13']\n",
            "Accuracy on COW data: 99.00%\n",
            "Precision: 0.9907692307692308\n",
            "Recall: 0.99\n",
            "F1 Score: 0.9899619047619049\n"
          ]
        }
      ]
    },
    {
      "cell_type": "code",
      "source": [
        "from sklearn.metrics import confusion_matrix\n",
        "\n",
        "# Compute confusion matrix\n",
        "conf_matrix_COW = confusion_matrix(dataset_query_COW.labels_string, predictions_COW)\n",
        "\n",
        "# Extract elements of confusion matrix\n",
        "true_positives_COW = np.diag(conf_matrix_COW)\n",
        "false_positives_COW = np.sum(conf_matrix_COW, axis=0) - true_positives_COW\n",
        "false_negatives_COW = np.sum(conf_matrix_COW, axis=1) - true_positives_COW\n",
        "true_negatives_COW = np.sum(conf_matrix_COW) - (true_positives_COW + false_positives_COW + false_negatives_COW)\n",
        "\n",
        "# Print the results\n",
        "for i, label in enumerate(np.unique(dataset_query_COW.labels_string)):\n",
        "    print(f\"Class: {label}\")\n",
        "    print(f\"True Positives: {true_positives_COW[i]}\")\n",
        "    print(f\"False Positives: {false_positives_COW[i]}\")\n",
        "    print(f\"False Negatives: {false_negatives_COW[i]}\")\n",
        "    print(f\"True Negatives: {true_negatives_COW[i]}\")"
      ],
      "metadata": {
        "colab": {
          "base_uri": "https://localhost:8080/"
        },
        "id": "IT3aYPn-2hpe",
        "outputId": "9c114341-3a57-42b2-8046-0df390da6194"
      },
      "execution_count": null,
      "outputs": [
        {
          "output_type": "stream",
          "name": "stdout",
          "text": [
            "Class: 1\n",
            "True Positives: 9\n",
            "False Positives: 0\n",
            "False Negatives: 0\n",
            "True Negatives: 91\n",
            "Class: 10\n",
            "True Positives: 6\n",
            "False Positives: 0\n",
            "False Negatives: 0\n",
            "True Negatives: 94\n",
            "Class: 11\n",
            "True Positives: 6\n",
            "False Positives: 0\n",
            "False Negatives: 0\n",
            "True Negatives: 94\n",
            "Class: 12\n",
            "True Positives: 4\n",
            "False Positives: 0\n",
            "False Negatives: 0\n",
            "True Negatives: 96\n",
            "Class: 13\n",
            "True Positives: 4\n",
            "False Positives: 0\n",
            "False Negatives: 0\n",
            "True Negatives: 96\n",
            "Class: 2\n",
            "True Positives: 12\n",
            "False Positives: 1\n",
            "False Negatives: 0\n",
            "True Negatives: 87\n",
            "Class: 3\n",
            "True Positives: 9\n",
            "False Positives: 0\n",
            "False Negatives: 0\n",
            "True Negatives: 91\n",
            "Class: 4\n",
            "True Positives: 8\n",
            "False Positives: 0\n",
            "False Negatives: 0\n",
            "True Negatives: 92\n",
            "Class: 5\n",
            "True Positives: 8\n",
            "False Positives: 0\n",
            "False Negatives: 0\n",
            "True Negatives: 92\n",
            "Class: 6\n",
            "True Positives: 10\n",
            "False Positives: 0\n",
            "False Negatives: 1\n",
            "True Negatives: 89\n",
            "Class: 7\n",
            "True Positives: 7\n",
            "False Positives: 0\n",
            "False Negatives: 0\n",
            "True Negatives: 93\n",
            "Class: 8\n",
            "True Positives: 8\n",
            "False Positives: 0\n",
            "False Negatives: 0\n",
            "True Negatives: 92\n",
            "Class: 9\n",
            "True Positives: 8\n",
            "False Positives: 0\n",
            "False Negatives: 0\n",
            "True Negatives: 92\n"
          ]
        }
      ]
    },
    {
      "cell_type": "markdown",
      "source": [
        "**DOGFaceNet Dateset**"
      ],
      "metadata": {
        "id": "mB2H94Nr5D3M"
      }
    },
    {
      "cell_type": "code",
      "source": [
        "# Download dataset (if not already downloaded)\n",
        "datasets.DogFaceNet.get_data('../data/DogFaceNet')\n",
        "\n",
        "# Load dataset metadata\n",
        "metadata_D = datasets.DogFaceNet('../data/DogFaceNet')\n",
        "transform = T.Compose([T.Resize([224, 224]), T.ToTensor(), T.Normalize(mean=(0.485, 0.456, 0.406), std=(0.229, 0.224, 0.225))])\n",
        "dataset_D = WildlifeDataset(metadata_D.df, metadata_D.root, transform=transform)"
      ],
      "metadata": {
        "colab": {
          "base_uri": "https://localhost:8080/"
        },
        "id": "dQjO_yqV5Dfg",
        "outputId": "a9e2d366-8c53-4879-a844-effd77f71dd0"
      },
      "execution_count": null,
      "outputs": [
        {
          "output_type": "stream",
          "name": "stdout",
          "text": [
            "DATASET DogFaceNet: DOWNLOADING STARTED.\n",
            "You are trying to download an already downloaded dataset.\n",
            "        This message may have happened to due interrupted download or extract.\n",
            "        To force the download use the `force=True` keyword such as\n",
            "        get_data(..., force=True) or download(..., force=True).\n",
            "        \n"
          ]
        }
      ]
    },
    {
      "cell_type": "code",
      "source": [
        "dataset_database_D = WildlifeDataset(metadata_D.df.iloc[100:,:], metadata_D.root, transform=transform)\n",
        "dataset_query_D = WildlifeDataset(metadata_D.df.iloc[:100,:], metadata_D.root, transform=transform)"
      ],
      "metadata": {
        "id": "MUVkMNtk5c3f"
      },
      "execution_count": null,
      "outputs": []
    },
    {
      "cell_type": "code",
      "source": [
        "name = 'hf-hub:BVRA/MegaDescriptor-T-224'\n",
        "extractor_D = DeepFeatures(timm.create_model(name, num_classes=0, pretrained=True))\n",
        "query_D, database_D = extractor_D(dataset_query_D), extractor_D(dataset_database_D)"
      ],
      "metadata": {
        "colab": {
          "base_uri": "https://localhost:8080/"
        },
        "id": "YsTaeNMS5zWH",
        "outputId": "e173c356-9a0d-4da4-c4e7-2dfe94e8acb0"
      },
      "execution_count": null,
      "outputs": [
        {
          "output_type": "stream",
          "name": "stderr",
          "text": [
            "\r  0%|                                                                         | 0/1 [00:00<?, ?it/s]/usr/lib/python3.10/multiprocessing/popen_fork.py:66: RuntimeWarning: os.fork() was called. os.fork() is incompatible with multithreaded code, and JAX is multithreaded, so this will likely lead to a deadlock.\n",
            "  self.pid = os.fork()\n",
            "100%|█████████████████████████████████████████████████████████████████| 1/1 [00:48<00:00, 48.12s/it]/usr/lib/python3.10/multiprocessing/popen_fork.py:66: RuntimeWarning: os.fork() was called. os.fork() is incompatible with multithreaded code, and JAX is multithreaded, so this will likely lead to a deadlock.\n",
            "  self.pid = os.fork()\n",
            "100%|█████████████████████████████████████████████████████████████████| 1/1 [00:48<00:00, 48.34s/it]\n",
            "100%|███████████████████████████████████████████████████████████████| 65/65 [55:08<00:00, 50.89s/it]\n"
          ]
        }
      ]
    },
    {
      "cell_type": "code",
      "source": [
        "similarity_function = CosineSimilarity()\n",
        "similarity_D = similarity_function(query_D, database_D)\n",
        "print(similarity_D)"
      ],
      "metadata": {
        "colab": {
          "base_uri": "https://localhost:8080/"
        },
        "id": "Gn3hzlj16-oq",
        "outputId": "4c5c3717-76c2-4eab-bda9-14e91bc28eee"
      },
      "execution_count": null,
      "outputs": [
        {
          "output_type": "stream",
          "name": "stdout",
          "text": [
            "{'cosine': array([[ 0.10996592,  0.13771819,  0.19911267, ...,  0.06574734,\n",
            "         0.14598583,  0.10803135],\n",
            "       [ 0.3465269 ,  0.09463353,  0.31827247, ...,  0.07799231,\n",
            "         0.1425854 ,  0.27729648],\n",
            "       [ 0.4340247 , -0.02226214,  0.4344272 , ...,  0.08516064,\n",
            "         0.11263669,  0.39744568],\n",
            "       ...,\n",
            "       [ 0.7394483 ,  0.00286073,  0.7671935 , ...,  0.14160475,\n",
            "         0.113571  ,  0.64189434],\n",
            "       [ 0.21690877,  0.31127703,  0.20229404, ...,  0.14513196,\n",
            "         0.11646564,  0.20541766],\n",
            "       [ 0.04490666,  0.2672245 ,  0.00856524, ...,  0.2642802 ,\n",
            "         0.1228138 ,  0.05795524]], dtype=float32)}\n"
          ]
        }
      ]
    },
    {
      "cell_type": "code",
      "source": [
        "classifier_D = KnnClassifier(k=1, database_labels=dataset_database_D.labels_string)\n",
        "predictions_D = classifier_D(similarity_D['cosine'])\n",
        "print(\"Predictions for 100 test Images:-\\n\",predictions_D)\n",
        "\n",
        "accuracy_D = np.mean(dataset_query_D.labels_string == predictions_D)\n",
        "print(\"Accuracy on DogNet data: {:.2f}%\".format(accuracy_D * 100))\n",
        "\n",
        "precision_D = precision_score(dataset_query_D.labels_string, predictions_D, average='weighted',zero_division=1)\n",
        "recall_D = recall_score(dataset_query_D.labels_string, predictions_D, average='weighted',zero_division=1)\n",
        "f1_D = f1_score(dataset_query_D.labels_string, predictions_D, average='weighted',zero_division=1)\n",
        "print(\"Precision:\", precision_D)\n",
        "print(\"Recall:\", recall_D)\n",
        "print(\"F1 Score:\", f1_D)"
      ],
      "metadata": {
        "colab": {
          "base_uri": "https://localhost:8080/"
        },
        "id": "mXO_Nqsd7INB",
        "outputId": "54b87d72-5f58-4893-c08f-3b393d38cece"
      },
      "execution_count": null,
      "outputs": [
        {
          "output_type": "stream",
          "name": "stdout",
          "text": [
            "Predictions for 100 test Images:-\n",
            " ['311' '182' '435' '1122' '428' '378' '1063' '923' '222' '405' '764' '190'\n",
            " '570' '1339' '432' '1005' '1075' '274' '296' '234' '1104' '991' '247'\n",
            " '143' '280' '1156' '223' '1248' '1316' '538' '330' '448' '1336' '251'\n",
            " '851' '599' '1082' '210' '345' '563' '1319' '1324' '158' '127' '907'\n",
            " '880' '1139' '208' '1241' '424' '293' '172' '99' '835' '373' '192' '366'\n",
            " '333' '949' '957' '329' '89' '189' '311' '1003' '631' '490' '646' '26'\n",
            " '1368' '148' '722' '174' '1377' '1169' '458' '473' '149' '373' '622'\n",
            " '817' '756' '589' '1088' '782' '1357' '868' '462' '1324' '399' '183'\n",
            " '200' '1045' '191' '397' '187' '707' '563' '1020' '1074']\n",
            "Accuracy on DogNet data: 56.00%\n",
            "Precision: 0.985\n",
            "Recall: 0.56\n",
            "F1 Score: 0.57\n"
          ]
        }
      ]
    },
    {
      "cell_type": "code",
      "source": [
        "# Compute confusion matrix\n",
        "conf_matrix_D = confusion_matrix(dataset_query_D.labels_string, predictions_D)\n",
        "\n",
        "# Extract elements of confusion matrix\n",
        "true_positives_D = np.diag(conf_matrix_D)\n",
        "false_positives_D = np.sum(conf_matrix_D, axis=0) - true_positives_D\n",
        "false_negatives_D = np.sum(conf_matrix_D, axis=1) - true_positives_D\n",
        "true_negatives_D = np.sum(conf_matrix_D) - (true_positives_D + false_positives_D + false_negatives_D)\n",
        "\n",
        "# Print the results\n",
        "for i, label in enumerate(np.unique(dataset_query_D.labels_string)):\n",
        "    print(f\"Class: {label}\")\n",
        "    print(f\"True Positives: {true_positives_D[i]}\")\n",
        "    print(f\"False Positives: {false_positives_D[i]}\")\n",
        "    print(f\"False Negatives: {false_negatives_D[i]}\")\n",
        "    print(f\"True Negatives: {true_negatives_D[i]}\")"
      ],
      "metadata": {
        "colab": {
          "base_uri": "https://localhost:8080/"
        },
        "id": "0k8eVRUa7vI3",
        "outputId": "98cf1e9b-8308-4f3a-df5c-74cc0bea8bb0"
      },
      "execution_count": null,
      "outputs": [
        {
          "output_type": "stream",
          "name": "stdout",
          "text": [
            "Class: 1020\n",
            "True Positives: 0\n",
            "False Positives: 1\n",
            "False Negatives: 0\n",
            "True Negatives: 99\n",
            "Class: 1039\n",
            "True Positives: 0\n",
            "False Positives: 1\n",
            "False Negatives: 0\n",
            "True Negatives: 99\n",
            "Class: 1063\n",
            "True Positives: 1\n",
            "False Positives: 0\n",
            "False Negatives: 0\n",
            "True Negatives: 99\n",
            "Class: 1069\n",
            "True Positives: 0\n",
            "False Positives: 0\n",
            "False Negatives: 1\n",
            "True Negatives: 99\n",
            "Class: 1074\n",
            "True Positives: 0\n",
            "False Positives: 1\n",
            "False Negatives: 0\n",
            "True Negatives: 99\n",
            "Class: 1075\n",
            "True Positives: 1\n",
            "False Positives: 0\n",
            "False Negatives: 0\n",
            "True Negatives: 99\n",
            "Class: 1122\n",
            "True Positives: 0\n",
            "False Positives: 0\n",
            "False Negatives: 1\n",
            "True Negatives: 99\n",
            "Class: 1139\n",
            "True Positives: 1\n",
            "False Positives: 0\n",
            "False Negatives: 0\n",
            "True Negatives: 99\n",
            "Class: 1169\n",
            "True Positives: 1\n",
            "False Positives: 0\n",
            "False Negatives: 0\n",
            "True Negatives: 99\n",
            "Class: 122\n",
            "True Positives: 0\n",
            "False Positives: 1\n",
            "False Negatives: 0\n",
            "True Negatives: 99\n",
            "Class: 1232\n",
            "True Positives: 0\n",
            "False Positives: 1\n",
            "False Negatives: 0\n",
            "True Negatives: 99\n",
            "Class: 1248\n",
            "True Positives: 0\n",
            "False Positives: 1\n",
            "False Negatives: 0\n",
            "True Negatives: 99\n",
            "Class: 1254\n",
            "True Positives: 1\n",
            "False Positives: 0\n",
            "False Negatives: 0\n",
            "True Negatives: 99\n",
            "Class: 127\n",
            "True Positives: 1\n",
            "False Positives: 0\n",
            "False Negatives: 0\n",
            "True Negatives: 99\n",
            "Class: 1314\n",
            "True Positives: 0\n",
            "False Positives: 1\n",
            "False Negatives: 0\n",
            "True Negatives: 99\n",
            "Class: 1324\n",
            "True Positives: 1\n",
            "False Positives: 0\n",
            "False Negatives: 0\n",
            "True Negatives: 99\n",
            "Class: 1339\n",
            "True Positives: 0\n",
            "False Positives: 0\n",
            "False Negatives: 1\n",
            "True Negatives: 99\n",
            "Class: 1357\n",
            "True Positives: 0\n",
            "False Positives: 0\n",
            "False Negatives: 1\n",
            "True Negatives: 99\n",
            "Class: 144\n",
            "True Positives: 0\n",
            "False Positives: 1\n",
            "False Negatives: 0\n",
            "True Negatives: 99\n",
            "Class: 147\n",
            "True Positives: 1\n",
            "False Positives: 0\n",
            "False Negatives: 0\n",
            "True Negatives: 99\n",
            "Class: 149\n",
            "True Positives: 0\n",
            "False Positives: 0\n",
            "False Negatives: 1\n",
            "True Negatives: 99\n",
            "Class: 152\n",
            "True Positives: 1\n",
            "False Positives: 0\n",
            "False Negatives: 0\n",
            "True Negatives: 99\n",
            "Class: 158\n",
            "True Positives: 0\n",
            "False Positives: 0\n",
            "False Negatives: 1\n",
            "True Negatives: 99\n",
            "Class: 174\n",
            "True Positives: 0\n",
            "False Positives: 1\n",
            "False Negatives: 0\n",
            "True Negatives: 99\n",
            "Class: 182\n",
            "True Positives: 0\n",
            "False Positives: 1\n",
            "False Negatives: 0\n",
            "True Negatives: 99\n",
            "Class: 183\n",
            "True Positives: 2\n",
            "False Positives: 0\n",
            "False Negatives: 0\n",
            "True Negatives: 98\n",
            "Class: 187\n",
            "True Positives: 0\n",
            "False Positives: 1\n",
            "False Negatives: 0\n",
            "True Negatives: 99\n",
            "Class: 189\n",
            "True Positives: 1\n",
            "False Positives: 0\n",
            "False Negatives: 0\n",
            "True Negatives: 99\n",
            "Class: 191\n",
            "True Positives: 1\n",
            "False Positives: 0\n",
            "False Negatives: 0\n",
            "True Negatives: 99\n",
            "Class: 192\n",
            "True Positives: 0\n",
            "False Positives: 1\n",
            "False Negatives: 0\n",
            "True Negatives: 99\n",
            "Class: 193\n",
            "True Positives: 0\n",
            "False Positives: 1\n",
            "False Negatives: 0\n",
            "True Negatives: 99\n",
            "Class: 200\n",
            "True Positives: 0\n",
            "False Positives: 1\n",
            "False Negatives: 0\n",
            "True Negatives: 99\n",
            "Class: 208\n",
            "True Positives: 0\n",
            "False Positives: 0\n",
            "False Negatives: 1\n",
            "True Negatives: 99\n",
            "Class: 210\n",
            "True Positives: 0\n",
            "False Positives: 0\n",
            "False Negatives: 1\n",
            "True Negatives: 99\n",
            "Class: 223\n",
            "True Positives: 0\n",
            "False Positives: 1\n",
            "False Negatives: 0\n",
            "True Negatives: 99\n",
            "Class: 234\n",
            "True Positives: 1\n",
            "False Positives: 0\n",
            "False Negatives: 0\n",
            "True Negatives: 99\n",
            "Class: 240\n",
            "True Positives: 0\n",
            "False Positives: 0\n",
            "False Negatives: 1\n",
            "True Negatives: 99\n",
            "Class: 251\n",
            "True Positives: 1\n",
            "False Positives: 0\n",
            "False Negatives: 0\n",
            "True Negatives: 99\n",
            "Class: 26\n",
            "True Positives: 0\n",
            "False Positives: 1\n",
            "False Negatives: 0\n",
            "True Negatives: 99\n",
            "Class: 266\n",
            "True Positives: 1\n",
            "False Positives: 0\n",
            "False Negatives: 0\n",
            "True Negatives: 99\n",
            "Class: 270\n",
            "True Positives: 1\n",
            "False Positives: 0\n",
            "False Negatives: 0\n",
            "True Negatives: 99\n",
            "Class: 274\n",
            "True Positives: 1\n",
            "False Positives: 0\n",
            "False Negatives: 0\n",
            "True Negatives: 99\n",
            "Class: 280\n",
            "True Positives: 1\n",
            "False Positives: 0\n",
            "False Negatives: 0\n",
            "True Negatives: 99\n",
            "Class: 293\n",
            "True Positives: 1\n",
            "False Positives: 0\n",
            "False Negatives: 0\n",
            "True Negatives: 99\n",
            "Class: 296\n",
            "True Positives: 0\n",
            "False Positives: 1\n",
            "False Negatives: 0\n",
            "True Negatives: 99\n",
            "Class: 299\n",
            "True Positives: 1\n",
            "False Positives: 0\n",
            "False Negatives: 0\n",
            "True Negatives: 99\n",
            "Class: 3\n",
            "True Positives: 1\n",
            "False Positives: 0\n",
            "False Negatives: 0\n",
            "True Negatives: 99\n",
            "Class: 313\n",
            "True Positives: 0\n",
            "False Positives: 0\n",
            "False Negatives: 1\n",
            "True Negatives: 99\n",
            "Class: 324\n",
            "True Positives: 1\n",
            "False Positives: 0\n",
            "False Negatives: 0\n",
            "True Negatives: 99\n",
            "Class: 329\n",
            "True Positives: 1\n",
            "False Positives: 0\n",
            "False Negatives: 0\n",
            "True Negatives: 99\n",
            "Class: 333\n",
            "True Positives: 1\n",
            "False Positives: 0\n",
            "False Negatives: 0\n",
            "True Negatives: 99\n",
            "Class: 345\n",
            "True Positives: 0\n",
            "False Positives: 1\n",
            "False Negatives: 0\n",
            "True Negatives: 99\n",
            "Class: 361\n",
            "True Positives: 0\n",
            "False Positives: 1\n",
            "False Negatives: 1\n",
            "True Negatives: 98\n",
            "Class: 367\n",
            "True Positives: 1\n",
            "False Positives: 0\n",
            "False Negatives: 0\n",
            "True Negatives: 99\n",
            "Class: 373\n",
            "True Positives: 0\n",
            "False Positives: 0\n",
            "False Negatives: 1\n",
            "True Negatives: 99\n",
            "Class: 378\n",
            "True Positives: 0\n",
            "False Positives: 1\n",
            "False Negatives: 0\n",
            "True Negatives: 99\n",
            "Class: 397\n",
            "True Positives: 1\n",
            "False Positives: 0\n",
            "False Negatives: 0\n",
            "True Negatives: 99\n",
            "Class: 405\n",
            "True Positives: 1\n",
            "False Positives: 0\n",
            "False Negatives: 0\n",
            "True Negatives: 99\n",
            "Class: 407\n",
            "True Positives: 0\n",
            "False Positives: 0\n",
            "False Negatives: 1\n",
            "True Negatives: 99\n",
            "Class: 415\n",
            "True Positives: 0\n",
            "False Positives: 0\n",
            "False Negatives: 1\n",
            "True Negatives: 99\n",
            "Class: 424\n",
            "True Positives: 1\n",
            "False Positives: 0\n",
            "False Negatives: 0\n",
            "True Negatives: 99\n",
            "Class: 425\n",
            "True Positives: 1\n",
            "False Positives: 0\n",
            "False Negatives: 0\n",
            "True Negatives: 99\n",
            "Class: 426\n",
            "True Positives: 1\n",
            "False Positives: 0\n",
            "False Negatives: 0\n",
            "True Negatives: 99\n",
            "Class: 428\n",
            "True Positives: 1\n",
            "False Positives: 0\n",
            "False Negatives: 0\n",
            "True Negatives: 99\n",
            "Class: 432\n",
            "True Positives: 0\n",
            "False Positives: 0\n",
            "False Negatives: 1\n",
            "True Negatives: 99\n",
            "Class: 448\n",
            "True Positives: 0\n",
            "False Positives: 0\n",
            "False Negatives: 1\n",
            "True Negatives: 99\n",
            "Class: 458\n",
            "True Positives: 0\n",
            "False Positives: 2\n",
            "False Negatives: 0\n",
            "True Negatives: 98\n",
            "Class: 470\n",
            "True Positives: 0\n",
            "False Positives: 0\n",
            "False Negatives: 1\n",
            "True Negatives: 99\n",
            "Class: 473\n",
            "True Positives: 0\n",
            "False Positives: 0\n",
            "False Negatives: 1\n",
            "True Negatives: 99\n",
            "Class: 474\n",
            "True Positives: 1\n",
            "False Positives: 0\n",
            "False Negatives: 0\n",
            "True Negatives: 99\n",
            "Class: 485\n",
            "True Positives: 0\n",
            "False Positives: 1\n",
            "False Negatives: 0\n",
            "True Negatives: 99\n",
            "Class: 540\n",
            "True Positives: 1\n",
            "False Positives: 0\n",
            "False Negatives: 1\n",
            "True Negatives: 98\n",
            "Class: 563\n",
            "True Positives: 1\n",
            "False Positives: 0\n",
            "False Negatives: 0\n",
            "True Negatives: 99\n",
            "Class: 589\n",
            "True Positives: 0\n",
            "False Positives: 0\n",
            "False Negatives: 1\n",
            "True Negatives: 99\n",
            "Class: 622\n",
            "True Positives: 0\n",
            "False Positives: 1\n",
            "False Negatives: 0\n",
            "True Negatives: 99\n",
            "Class: 631\n",
            "True Positives: 0\n",
            "False Positives: 0\n",
            "False Negatives: 1\n",
            "True Negatives: 99\n",
            "Class: 646\n",
            "True Positives: 2\n",
            "False Positives: 0\n",
            "False Negatives: 0\n",
            "True Negatives: 98\n",
            "Class: 673\n",
            "True Positives: 1\n",
            "False Positives: 0\n",
            "False Negatives: 0\n",
            "True Negatives: 99\n",
            "Class: 763\n",
            "True Positives: 1\n",
            "False Positives: 0\n",
            "False Negatives: 0\n",
            "True Negatives: 99\n",
            "Class: 764\n",
            "True Positives: 0\n",
            "False Positives: 1\n",
            "False Negatives: 0\n",
            "True Negatives: 99\n",
            "Class: 782\n",
            "True Positives: 1\n",
            "False Positives: 0\n",
            "False Negatives: 0\n",
            "True Negatives: 99\n",
            "Class: 878\n",
            "True Positives: 0\n",
            "False Positives: 0\n",
            "False Negatives: 1\n",
            "True Negatives: 99\n",
            "Class: 89\n",
            "True Positives: 0\n",
            "False Positives: 0\n",
            "False Negatives: 1\n",
            "True Negatives: 99\n",
            "Class: 892\n",
            "True Positives: 1\n",
            "False Positives: 0\n",
            "False Negatives: 0\n",
            "True Negatives: 99\n",
            "Class: 896\n",
            "True Positives: 0\n",
            "False Positives: 0\n",
            "False Negatives: 1\n",
            "True Negatives: 99\n",
            "Class: 903\n",
            "True Positives: 0\n",
            "False Positives: 0\n",
            "False Negatives: 1\n",
            "True Negatives: 99\n",
            "Class: 913\n",
            "True Positives: 1\n",
            "False Positives: 0\n",
            "False Negatives: 0\n",
            "True Negatives: 99\n",
            "Class: 919\n",
            "True Positives: 1\n",
            "False Positives: 0\n",
            "False Negatives: 0\n",
            "True Negatives: 99\n",
            "Class: 930\n",
            "True Positives: 0\n",
            "False Positives: 1\n",
            "False Negatives: 0\n",
            "True Negatives: 99\n",
            "Class: 953\n",
            "True Positives: 1\n",
            "False Positives: 0\n",
            "False Negatives: 1\n",
            "True Negatives: 98\n",
            "Class: 957\n",
            "True Positives: 1\n",
            "False Positives: 0\n",
            "False Negatives: 0\n",
            "True Negatives: 99\n",
            "Class: 991\n",
            "True Positives: 0\n",
            "False Positives: 1\n",
            "False Negatives: 0\n",
            "True Negatives: 99\n"
          ]
        }
      ]
    },
    {
      "cell_type": "markdown",
      "source": [
        "**MPDD Dataset**"
      ],
      "metadata": {
        "id": "zD5pDPqPIZdN"
      }
    },
    {
      "cell_type": "code",
      "source": [
        "# Download dataset (if not already downloaded)\n",
        "datasets.MPDD.get_data('../data/MPDD')\n",
        "\n",
        "# Load dataset metadata\n",
        "metadata_M = datasets.MPDD('../data/MPDD')\n",
        "transform = T.Compose([T.Resize([224, 224]), T.ToTensor(), T.Normalize(mean=(0.485, 0.456, 0.406), std=(0.229, 0.224, 0.225))])\n",
        "dataset_M = WildlifeDataset(metadata_M.df, metadata_M.root, transform=transform)"
      ],
      "metadata": {
        "colab": {
          "base_uri": "https://localhost:8080/"
        },
        "id": "FO-7WII6H9y8",
        "outputId": "a6687d2c-3a12-4086-a998-3b7bc9ae5dbc"
      },
      "execution_count": null,
      "outputs": [
        {
          "output_type": "stream",
          "name": "stdout",
          "text": [
            "DATASET MPDD: DOWNLOADING STARTED.\n",
            "You are trying to download an already downloaded dataset.\n",
            "        This message may have happened to due interrupted download or extract.\n",
            "        To force the download use the `force=True` keyword such as\n",
            "        get_data(..., force=True) or download(..., force=True).\n",
            "        \n"
          ]
        }
      ]
    },
    {
      "cell_type": "code",
      "source": [
        "dataset_database_M = WildlifeDataset(metadata_M.df.iloc[100:,:], metadata_M.root, transform=transform)\n",
        "dataset_query_M = WildlifeDataset(metadata_M.df.iloc[:100,:], metadata_M.root, transform=transform)"
      ],
      "metadata": {
        "id": "ik7EP9dOIeO1"
      },
      "execution_count": null,
      "outputs": []
    },
    {
      "cell_type": "code",
      "source": [
        "name = 'hf-hub:BVRA/MegaDescriptor-T-224'\n",
        "extractor_M = DeepFeatures(timm.create_model(name, num_classes=0, pretrained=True))\n",
        "query_M, database_M = extractor_M(dataset_query_M), extractor_M(dataset_database_M)"
      ],
      "metadata": {
        "colab": {
          "base_uri": "https://localhost:8080/"
        },
        "id": "pkn25NBLItuH",
        "outputId": "94f03d9e-071c-433e-a6d6-258d01f2fd48"
      },
      "execution_count": null,
      "outputs": [
        {
          "output_type": "stream",
          "name": "stderr",
          "text": [
            "\r  0%|                                                                         | 0/1 [00:00<?, ?it/s]/usr/lib/python3.10/multiprocessing/popen_fork.py:66: RuntimeWarning: os.fork() was called. os.fork() is incompatible with multithreaded code, and JAX is multithreaded, so this will likely lead to a deadlock.\n",
            "  self.pid = os.fork()\n",
            "100%|█████████████████████████████████████████████████████████████████| 1/1 [00:38<00:00, 38.14s/it]\n",
            "100%|███████████████████████████████████████████████████████████████| 13/13 [09:33<00:00, 44.11s/it]\n"
          ]
        }
      ]
    },
    {
      "cell_type": "code",
      "source": [
        "similarity_function = CosineSimilarity()\n",
        "similarity_M = similarity_function(query_M, database_M)\n",
        "print(similarity_M)"
      ],
      "metadata": {
        "colab": {
          "base_uri": "https://localhost:8080/"
        },
        "id": "8gsg6aL3UKde",
        "outputId": "1f146d3b-9e8f-4ce2-9875-a4a6079f2ff9"
      },
      "execution_count": null,
      "outputs": [
        {
          "output_type": "stream",
          "name": "stdout",
          "text": [
            "{'cosine': array([[ 0.04808867,  0.03224313, -0.00447001, ...,  0.02314246,\n",
            "         0.02814947,  0.10215738],\n",
            "       [ 0.16615987,  0.12439519,  0.10770855, ...,  0.14122722,\n",
            "         0.0507631 ,  0.15300652],\n",
            "       [ 0.11262   ,  0.05769432,  0.01585272, ...,  0.01326043,\n",
            "        -0.01141336,  0.07824048],\n",
            "       ...,\n",
            "       [ 0.72252524,  0.7501484 ,  0.54229283, ...,  0.30108616,\n",
            "         0.27135333,  0.41039854],\n",
            "       [ 0.5749657 ,  0.39892876,  0.5595907 , ...,  0.22507305,\n",
            "         0.14891459,  0.3073558 ],\n",
            "       [ 0.58478856,  0.41043365,  0.54034317, ...,  0.34980482,\n",
            "         0.2591977 ,  0.44655725]], dtype=float32)}\n"
          ]
        }
      ]
    },
    {
      "cell_type": "code",
      "source": [
        "classifier_M = KnnClassifier(k=1, database_labels=dataset_database_M.labels_string)\n",
        "predictions_M = classifier_M(similarity_M['cosine'])\n",
        "print(\"Predictions for 100 test Images:-\\n\",predictions_M)\n",
        "\n",
        "accuracy_M = np.mean(dataset_query_M.labels_string == predictions_M)\n",
        "print(\"Accuracy on MPDD data: {:.2f}%\".format(accuracy_M * 100))\n",
        "\n",
        "precision_M = precision_score(dataset_query_M.labels_string, predictions_M, average='weighted',zero_division=1)\n",
        "recall_M = recall_score(dataset_query_M.labels_string, predictions_M, average='weighted',zero_division=1)\n",
        "f1_M = f1_score(dataset_query_M.labels_string, predictions_M, average='weighted',zero_division=1)\n",
        "print(\"Precision:\", precision_M)\n",
        "print(\"Recall:\", recall_M)\n",
        "print(\"F1 Score:\", f1_M)"
      ],
      "metadata": {
        "colab": {
          "base_uri": "https://localhost:8080/"
        },
        "id": "CGCl3DuQUbD-",
        "outputId": "3f263676-e9d3-49e6-833a-8d8c5ddfec95"
      },
      "execution_count": null,
      "outputs": [
        {
          "output_type": "stream",
          "name": "stdout",
          "text": [
            "Predictions for 100 test Images:-\n",
            " ['1' '1' '152' '1' '114' '1' '1' '2' '70' '152' '28' '76' '76' '76' '2'\n",
            " '76' '2' '76' '76' '76' '76' '76' '95' '10' '95' '169' '15' '50' '118'\n",
            " '50' '118' '87' '87' '87' '1' '87' '5' '35' '91' '91' '157' '91' '157'\n",
            " '5' '91' '157' '25' '145' '145' '145' '145' '145' '145' '145' '145' '145'\n",
            " '145' '145' '145' '145' '116' '145' '14' '134' '145' '145' '8' '56' '8'\n",
            " '69' '31' '8' '8' '8' '151' '151' '99' '179' '119' '170' '38' '38' '38'\n",
            " '178' '38' '38' '62' '62' '38' '38' '14' '38' '14' '117' '14' '14' '135'\n",
            " '10' '10' '10']\n",
            "Accuracy on MPDD data: 3.00%\n",
            "Precision: 0.9925\n",
            "Recall: 0.03\n",
            "F1 Score: 0.02571428571428571\n"
          ]
        }
      ]
    },
    {
      "cell_type": "code",
      "source": [
        "# Compute confusion matrix\n",
        "conf_matrix_M = confusion_matrix(dataset_query_M.labels_string, predictions_M)\n",
        "\n",
        "# Extract elements of confusion matrix\n",
        "true_positives_M = np.diag(conf_matrix_M)\n",
        "false_positives_M = np.sum(conf_matrix_M, axis=0) - true_positives_M\n",
        "false_negatives_M = np.sum(conf_matrix_M, axis=1) - true_positives_M\n",
        "true_negatives_M = np.sum(conf_matrix_M) - (true_positives_M + false_positives_M + false_negatives_M)\n",
        "\n",
        "# Print the results\n",
        "for i, label in enumerate(np.unique(dataset_query_M.labels_string)):\n",
        "    print(f\"Class: {label}\")\n",
        "    print(f\"True Positives: {true_positives_M[i]}\")\n",
        "    print(f\"False Positives: {false_positives_M[i]}\")\n",
        "    print(f\"False Negatives: {false_negatives_M[i]}\")\n",
        "    print(f\"True Negatives: {true_negatives_M[i]}\")"
      ],
      "metadata": {
        "colab": {
          "base_uri": "https://localhost:8080/"
        },
        "id": "MtD8i9EVViI1",
        "outputId": "560c0048-1bf3-4386-85e1-bfe17e78a8ae"
      },
      "execution_count": null,
      "outputs": [
        {
          "output_type": "stream",
          "name": "stdout",
          "text": [
            "Class: 0\n",
            "True Positives: 0\n",
            "False Positives: 0\n",
            "False Negatives: 10\n",
            "True Negatives: 90\n",
            "Class: 10\n",
            "True Positives: 0\n",
            "False Positives: 6\n",
            "False Negatives: 0\n",
            "True Negatives: 94\n",
            "Class: 100\n",
            "True Positives: 3\n",
            "False Positives: 1\n",
            "False Negatives: 0\n",
            "True Negatives: 96\n",
            "Class: 101\n",
            "True Positives: 0\n",
            "False Positives: 0\n",
            "False Negatives: 12\n",
            "True Negatives: 88\n",
            "Class: 102\n",
            "True Positives: 0\n",
            "False Positives: 0\n",
            "False Negatives: 9\n",
            "True Negatives: 91\n",
            "Class: 103\n",
            "True Positives: 0\n",
            "False Positives: 0\n",
            "False Negatives: 7\n",
            "True Negatives: 93\n",
            "Class: 104\n",
            "True Positives: 0\n",
            "False Positives: 0\n",
            "False Negatives: 9\n",
            "True Negatives: 91\n",
            "Class: 105\n",
            "True Positives: 0\n",
            "False Positives: 0\n",
            "False Negatives: 13\n",
            "True Negatives: 87\n",
            "Class: 106\n",
            "True Positives: 0\n",
            "False Positives: 0\n",
            "False Negatives: 6\n",
            "True Negatives: 94\n",
            "Class: 107\n",
            "True Positives: 0\n",
            "False Positives: 0\n",
            "False Negatives: 8\n",
            "True Negatives: 92\n",
            "Class: 108\n",
            "True Positives: 0\n",
            "False Positives: 0\n",
            "False Negatives: 6\n",
            "True Negatives: 94\n",
            "Class: 109\n",
            "True Positives: 0\n",
            "False Positives: 0\n",
            "False Negatives: 10\n",
            "True Negatives: 90\n"
          ]
        }
      ]
    },
    {
      "cell_type": "markdown",
      "source": [
        "**PolarBearVidID Dataset**"
      ],
      "metadata": {
        "id": "CW13kBwOV95o"
      }
    },
    {
      "cell_type": "code",
      "source": [
        "# Download dataset (if not already downloaded)\n",
        "datasets.PolarBearVidID.get_data('../data/PolarBearVidID')\n",
        "\n",
        "# Load dataset metadata\n",
        "metadata_PV = datasets.PolarBearVidID('../data/PolarBearVidID')\n",
        "transform = T.Compose([T.Resize([224, 224]), T.ToTensor(), T.Normalize(mean=(0.485, 0.456, 0.406), std=(0.229, 0.224, 0.225))])\n",
        "dataset_PV = WildlifeDataset(metadata_PV.df, metadata_PV.root, transform=transform)"
      ],
      "metadata": {
        "colab": {
          "base_uri": "https://localhost:8080/"
        },
        "id": "ropYYGX3WHOA",
        "outputId": "66315f64-2862-4800-c809-3f4701491e22"
      },
      "execution_count": null,
      "outputs": [
        {
          "output_type": "stream",
          "name": "stdout",
          "text": [
            "DATASET PolarBearVidID: DOWNLOADING STARTED.\n",
            "You are trying to download an already downloaded dataset.\n",
            "        This message may have happened to due interrupted download or extract.\n",
            "        To force the download use the `force=True` keyword such as\n",
            "        get_data(..., force=True) or download(..., force=True).\n",
            "        \n"
          ]
        }
      ]
    },
    {
      "cell_type": "code",
      "source": [
        "dataset_database_PV = WildlifeDataset(metadata_PV.df.iloc[100:100+4000], metadata_PV.root, transform=transform)\n",
        "dataset_query_PV = WildlifeDataset(metadata_PV.df.iloc[:100,:], metadata_PV.root, transform=transform)\n"
      ],
      "metadata": {
        "id": "smiYXypNWgzX"
      },
      "execution_count": null,
      "outputs": []
    },
    {
      "cell_type": "code",
      "source": [
        "name = 'hf-hub:BVRA/MegaDescriptor-T-224'\n",
        "extractor_PV = DeepFeatures(timm.create_model(name, num_classes=0, pretrained=True))\n",
        "query_PV, database_PV = extractor_PV(dataset_query_PV), extractor_PV(dataset_database_PV)"
      ],
      "metadata": {
        "colab": {
          "base_uri": "https://localhost:8080/"
        },
        "id": "q6-irB73WtWo",
        "outputId": "14ce1b4e-eb08-4f55-ddde-4a7d49ff0d69"
      },
      "execution_count": null,
      "outputs": [
        {
          "output_type": "stream",
          "name": "stderr",
          "text": [
            "100%|█████████████████████████████████████████████████████████████████| 1/1 [00:39<00:00, 39.29s/it]\n",
            "100%|███████████████████████████████████████████████████████████████| 32/32 [24:54<00:00, 46.69s/it]\n"
          ]
        }
      ]
    },
    {
      "cell_type": "code",
      "source": [
        "similarity_function = CosineSimilarity()\n",
        "similarity_PV = similarity_function(query_PV, database_PV)\n",
        "print(similarity_PV)"
      ],
      "metadata": {
        "colab": {
          "base_uri": "https://localhost:8080/"
        },
        "id": "WJxm9Yb9eiQ4",
        "outputId": "d9273482-d414-45b5-dacb-8bdf85cf0df1"
      },
      "execution_count": null,
      "outputs": [
        {
          "output_type": "stream",
          "name": "stdout",
          "text": [
            "{'cosine': array([[0.4997698 , 0.4916195 , 0.47195393, ..., 0.44279116, 0.3998226 ,\n",
            "        0.50805753],\n",
            "       [0.45085174, 0.44464216, 0.4249237 , ..., 0.4158915 , 0.3735549 ,\n",
            "        0.45537364],\n",
            "       [0.49365935, 0.48873666, 0.4689134 , ..., 0.40997854, 0.37677085,\n",
            "        0.4653929 ],\n",
            "       ...,\n",
            "       [0.49911022, 0.49371117, 0.48673368, ..., 0.4957764 , 0.5122148 ,\n",
            "        0.45701075],\n",
            "       [0.48214883, 0.47729665, 0.46636096, ..., 0.58403206, 0.59356385,\n",
            "        0.5038148 ],\n",
            "       [0.52226436, 0.52092886, 0.5076034 , ..., 0.5275426 , 0.53254277,\n",
            "        0.47872722]], dtype=float32)}\n"
          ]
        }
      ]
    },
    {
      "cell_type": "code",
      "source": [
        "classifier_PV = KnnClassifier(k=1, database_labels=dataset_database_PV.labels_string)\n",
        "predictions_PV = classifier_PV(similarity_PV['cosine'])\n",
        "print(\"Predictions for 100 test Images:-\\n\",predictions_PV)\n",
        "\n",
        "accuracy_PV = np.mean(dataset_query_PV.labels_string == predictions_PV)\n",
        "print(\"Accuracy on PolarBear data: {:.2f}%\".format(accuracy_PV * 100))\n",
        "\n",
        "precision_PV = precision_score(dataset_query_PV.labels_string, predictions_PV, average='weighted',zero_division=1)\n",
        "recall_PV = recall_score(dataset_query_PV.labels_string, predictions_PV, average='weighted',zero_division=1)\n",
        "f1_PV = f1_score(dataset_query_PV.labels_string, predictions_PV, average='weighted',zero_division=1)\n",
        "print(\"Precision:\", precision_PV)\n",
        "print(\"Recall:\", recall_PV)\n",
        "print(\"F1 Score:\", f1_PV)"
      ],
      "metadata": {
        "colab": {
          "base_uri": "https://localhost:8080/"
        },
        "id": "B7yLOnaZevia",
        "outputId": "44559edc-cb45-4e7a-9a61-ba5c70426c83"
      },
      "execution_count": null,
      "outputs": [
        {
          "output_type": "stream",
          "name": "stdout",
          "text": [
            "Predictions for 100 test Images:-\n",
            " ['Vera' 'Vera' 'Vera' 'Vera' 'Vera' 'Vera' 'Vera' 'Vera' 'Vera' 'Vera'\n",
            " 'Vera' 'Vera' 'Vera' 'Vera' 'Vera' 'Vera' 'Vera' 'Vera' 'Vera' 'Vera'\n",
            " 'Vera' 'Vera' 'Vera' 'Vera' 'Vera' 'Vera' 'Vera' 'Vera' 'Vera' 'Vera'\n",
            " 'Vera' 'Vera' 'Vera' 'Vera' 'Vera' 'Vera' 'Vera' 'Vera' 'Vera' 'Vera'\n",
            " 'Vera' 'Vera' 'Vera' 'Vera' 'Vera' 'Vera' 'Vera' 'Vera' 'Vera' 'Vera'\n",
            " 'Vera' 'Vera' 'Vera' 'Vera' 'Vera' 'Vera' 'Vera' 'Vera' 'Vera' 'Vera'\n",
            " 'Vera' 'Vera' 'Vera' 'Vera' 'Vera' 'Vera' 'Vera' 'Vera' 'Vera' 'Vera'\n",
            " 'Vera' 'Vera' 'Vera' 'Vera' 'Vera' 'Vera' 'Vera' 'Vera' 'Vera' 'Vera'\n",
            " 'Vera' 'Vera' 'Vera' 'Vera' 'Vera' 'Vera' 'Vera' 'Vera' 'Vera' 'Vera'\n",
            " 'Vera' 'Vera' 'Vera' 'Vera' 'Vera' 'Vera' 'Vera' 'Vera' 'Vera' 'Vera']\n",
            "Accuracy on PolarBear data: 100.00%\n",
            "Precision: 1.0\n",
            "Recall: 1.0\n",
            "F1 Score: 1.0\n"
          ]
        }
      ]
    },
    {
      "cell_type": "code",
      "source": [
        "# Compute confusion matrix\n",
        "conf_matrix_PV = confusion_matrix(dataset_query_PV.labels_string, predictions_PV)\n",
        "\n",
        "# Extract elements of confusion matrix\n",
        "true_positives_PV = np.diag(conf_matrix_PV)\n",
        "false_positives_PV = np.sum(conf_matrix_PV, axis=0) - true_positives_PV\n",
        "false_negatives_PV = np.sum(conf_matrix_PV, axis=1) - true_positives_PV\n",
        "true_negatives_PV = np.sum(conf_matrix_PV) - (true_positives_PV + false_positives_PV + false_negatives_PV)\n",
        "\n",
        "# Print the results\n",
        "for i, label in enumerate(np.unique(dataset_query_PV.labels_string)):\n",
        "    print(f\"Class: {label}\")\n",
        "    print(f\"True Positives: {true_positives_PV[i]}\")\n",
        "    print(f\"False Positives: {false_positives_PV[i]}\")\n",
        "    print(f\"False Negatives: {false_negatives_PV[i]}\")\n",
        "    print(f\"True Negatives: {true_negatives_PV[i]}\")"
      ],
      "metadata": {
        "colab": {
          "base_uri": "https://localhost:8080/"
        },
        "id": "RjdNv-bdfa3x",
        "outputId": "28683bf2-8c9d-4bb9-e3c0-c4a18b7dec3d"
      },
      "execution_count": null,
      "outputs": [
        {
          "output_type": "stream",
          "name": "stdout",
          "text": [
            "Class: Vera\n",
            "True Positives: 100\n",
            "False Positives: 0\n",
            "False Negatives: 0\n",
            "True Negatives: 0\n"
          ]
        }
      ]
    },
    {
      "cell_type": "markdown",
      "source": [
        "**Seen Dataset that not use for fine-tuning**"
      ],
      "metadata": {
        "id": "bcTket0uxfoo"
      }
    },
    {
      "cell_type": "markdown",
      "source": [
        "**OpenCows2020 Dataset**"
      ],
      "metadata": {
        "id": "o9VN8w8GgdL5"
      }
    },
    {
      "cell_type": "code",
      "source": [
        "# Download dataset (if not already downloaded)\n",
        "datasets.OpenCows2020.get_data('../data/OpenCows2020')\n",
        "\n",
        "# Load dataset metadata\n",
        "metadata_O = datasets.OpenCows2020('../data/OpenCows2020')\n",
        "transform = T.Compose([T.Resize([224, 224]), T.ToTensor(), T.Normalize(mean=(0.485, 0.456, 0.406), std=(0.229, 0.224, 0.225))])\n",
        "dataset_O = WildlifeDataset(metadata_O.df, metadata_O.root, transform=transform)"
      ],
      "metadata": {
        "colab": {
          "base_uri": "https://localhost:8080/"
        },
        "id": "uoOw2f4lgfox",
        "outputId": "d497dcd9-b6e5-4cf4-8e05-f144f99abc53"
      },
      "execution_count": null,
      "outputs": [
        {
          "output_type": "stream",
          "name": "stdout",
          "text": [
            "DATASET OpenCows2020: DOWNLOADING STARTED.\n"
          ]
        },
        {
          "output_type": "stream",
          "name": "stderr",
          "text": [
            "10m32xl88x2b61zlkkgz3fml17.zip: 2.27GB [54:16, 698kB/s]                            \n"
          ]
        },
        {
          "output_type": "stream",
          "name": "stdout",
          "text": [
            "DATASET OpenCows2020: EXTRACTING STARTED.\n",
            "DATASET OpenCows2020: FINISHED.\n",
            "\n"
          ]
        }
      ]
    },
    {
      "cell_type": "code",
      "source": [
        "dataset_database_O = WildlifeDataset(metadata_O.df.iloc[100:,:], metadata_O.root, transform=transform)\n",
        "dataset_query_O = WildlifeDataset(metadata_O.df.iloc[:100,:], metadata_O.root, transform=transform)"
      ],
      "metadata": {
        "id": "bjSq04BXwTqd"
      },
      "execution_count": null,
      "outputs": []
    },
    {
      "cell_type": "code",
      "source": [
        "name = 'hf-hub:BVRA/MegaDescriptor-T-224'\n",
        "extractor_O = DeepFeatures(timm.create_model(name, num_classes=0, pretrained=True))\n",
        "query_O, database_O = extractor_O(dataset_query_O), extractor_O(dataset_database_O)"
      ],
      "metadata": {
        "colab": {
          "base_uri": "https://localhost:8080/"
        },
        "id": "nTDq5tdbwscZ",
        "outputId": "fad244e9-2e21-499a-b18b-0e3349e56b6d"
      },
      "execution_count": null,
      "outputs": [
        {
          "output_type": "stream",
          "name": "stderr",
          "text": [
            "\r  0%|                                                                         | 0/1 [00:00<?, ?it/s]/usr/lib/python3.10/multiprocessing/popen_fork.py:66: RuntimeWarning: os.fork() was called. os.fork() is incompatible with multithreaded code, and JAX is multithreaded, so this will likely lead to a deadlock.\n",
            "  self.pid = os.fork()\n",
            "100%|█████████████████████████████████████████████████████████████████| 1/1 [01:00<00:00, 60.28s/it]/usr/lib/python3.10/multiprocessing/popen_fork.py:66: RuntimeWarning: os.fork() was called. os.fork() is incompatible with multithreaded code, and JAX is multithreaded, so this will likely lead to a deadlock.\n",
            "  self.pid = os.fork()\n",
            "100%|█████████████████████████████████████████████████████████████████| 1/1 [01:00<00:00, 60.67s/it]\n",
            "100%|███████████████████████████████████████████████████████████████| 37/37 [30:39<00:00, 49.71s/it]\n"
          ]
        }
      ]
    },
    {
      "cell_type": "code",
      "source": [
        "similarity_function = CosineSimilarity()\n",
        "similarity_O = similarity_function(query_O, database_O)\n",
        "print(similarity_O)"
      ],
      "metadata": {
        "colab": {
          "base_uri": "https://localhost:8080/"
        },
        "id": "pY2mJgOJxuVH",
        "outputId": "b02643cf-9ed8-4c6b-dc4a-9892600e3e2b"
      },
      "execution_count": null,
      "outputs": [
        {
          "output_type": "stream",
          "name": "stdout",
          "text": [
            "{'cosine': array([[ 3.18159945e-02, -2.34012939e-02,  4.44870442e-04, ...,\n",
            "        -7.15972260e-02, -2.19623111e-02, -1.56775936e-02],\n",
            "       [-1.56356879e-02, -2.70779822e-02, -5.03600724e-02, ...,\n",
            "         2.65440959e-02,  3.45544145e-02,  1.24943638e-02],\n",
            "       [-1.14652395e-01,  9.86650229e-01,  6.89000636e-02, ...,\n",
            "         7.33467788e-02, -9.51503217e-02,  2.93384120e-02],\n",
            "       ...,\n",
            "       [ 2.60568187e-02, -2.84487624e-02, -3.45171727e-02, ...,\n",
            "         2.58876719e-02, -2.78105009e-02,  1.63607985e-01],\n",
            "       [-1.07594673e-02, -4.82171401e-03,  9.37585346e-03, ...,\n",
            "        -5.25909811e-02, -1.98942348e-02,  4.91162855e-03],\n",
            "       [-6.81277225e-03, -5.32521307e-03, -4.07319739e-02, ...,\n",
            "         2.37085149e-02, -3.19451094e-02,  1.54073745e-01]], dtype=float32)}\n"
          ]
        }
      ]
    },
    {
      "cell_type": "code",
      "source": [
        "classifier_O = KnnClassifier(k=1, database_labels=dataset_database_O.labels_string)\n",
        "predictions_O = classifier_O(similarity_O['cosine'])\n",
        "print(\"Predictions for 100 test Images:-\\n\",predictions_O)\n",
        "\n",
        "accuracy_O = np.mean(dataset_query_O.labels_string == predictions_O)\n",
        "print(\"Accuracy on PolarBear data: {:.2f}%\".format(accuracy_O * 100))\n",
        "\n",
        "precision_O = precision_score(dataset_query_O.labels_string, predictions_O, average='weighted',zero_division=1)\n",
        "recall_O = recall_score(dataset_query_O.labels_string, predictions_O, average='weighted',zero_division=1)\n",
        "f1_O = f1_score(dataset_query_O.labels_string, predictions_O, average='weighted',zero_division=1)\n",
        "print(\"Precision:\", precision_O)\n",
        "print(\"Recall:\", recall_O)\n",
        "print(\"F1 Score:\", f1_O)"
      ],
      "metadata": {
        "colab": {
          "base_uri": "https://localhost:8080/"
        },
        "id": "N9TWbk-Zx3Cj",
        "outputId": "91dccd97-5778-4aad-cb00-19fd1b71274d"
      },
      "execution_count": null,
      "outputs": [
        {
          "output_type": "stream",
          "name": "stdout",
          "text": [
            "Predictions for 100 test Images:-\n",
            " ['016' '013' '004' '012' '010' '010' '042' '042' '026' '011' '009' '007'\n",
            " '004' '039' '008' '013' '027' '004' '027' '016' '009' '023' '015' '014'\n",
            " '007' '015' '001' '026' '002' '018' '004' '015' '012' '018' '045' '019'\n",
            " '014' '038' '011' '004' '020' '004' '014' '012' '007' '001' '003' '018'\n",
            " '012' '010' '003' '002' '025' '007' '001' '016' '001' '045' '003' '017'\n",
            " '004' '012' '015' '005' '039' '014' '015' '006' '042' '004' '001' '015'\n",
            " '001' '008' '008' '044' '002' '041' '009' '003' '015' '008' '035' '008'\n",
            " '004' '007' '005' '025' '008' '014' '018' '041' '006' '023' '029' '038'\n",
            " '001' '006' '016' '006']\n",
            "Accuracy on PolarBear data: 100.00%\n",
            "Precision: 1.0\n",
            "Recall: 1.0\n",
            "F1 Score: 1.0\n"
          ]
        }
      ]
    },
    {
      "cell_type": "code",
      "source": [
        "# Compute confusion matrix\n",
        "conf_matrix_O = confusion_matrix(dataset_query_O.labels_string, predictions_O)\n",
        "\n",
        "# Extract elements of confusion matrix\n",
        "true_positives_O = np.diag(conf_matrix_O)\n",
        "false_positives_O = np.sum(conf_matrix_O, axis=0) - true_positives_O\n",
        "false_negatives_O = np.sum(conf_matrix_O, axis=1) - true_positives_O\n",
        "true_negatives_O = np.sum(conf_matrix_O) - (true_positives_O + false_positives_O + false_negatives_O)\n",
        "\n",
        "# Print the results\n",
        "for i, label in enumerate(np.unique(dataset_query_O.labels_string)):\n",
        "    print(f\"Class: {label}\")\n",
        "    print(f\"True Positives: {true_positives_O[i]}\")\n",
        "    print(f\"False Positives: {false_positives_O[i]}\")\n",
        "    print(f\"False Negatives: {false_negatives_O[i]}\")\n",
        "    print(f\"True Negatives: {true_negatives_O[i]}\")"
      ],
      "metadata": {
        "colab": {
          "base_uri": "https://localhost:8080/"
        },
        "id": "1rxGuRXNyUTE",
        "outputId": "24018269-237e-49fa-8a06-d9b03d97c0a6"
      },
      "execution_count": null,
      "outputs": [
        {
          "output_type": "stream",
          "name": "stdout",
          "text": [
            "Class: 001\n",
            "True Positives: 7\n",
            "False Positives: 0\n",
            "False Negatives: 0\n",
            "True Negatives: 93\n",
            "Class: 002\n",
            "True Positives: 3\n",
            "False Positives: 0\n",
            "False Negatives: 0\n",
            "True Negatives: 97\n",
            "Class: 003\n",
            "True Positives: 4\n",
            "False Positives: 0\n",
            "False Negatives: 0\n",
            "True Negatives: 96\n",
            "Class: 004\n",
            "True Positives: 9\n",
            "False Positives: 0\n",
            "False Negatives: 0\n",
            "True Negatives: 91\n",
            "Class: 005\n",
            "True Positives: 2\n",
            "False Positives: 0\n",
            "False Negatives: 0\n",
            "True Negatives: 98\n",
            "Class: 006\n",
            "True Positives: 4\n",
            "False Positives: 0\n",
            "False Negatives: 0\n",
            "True Negatives: 96\n",
            "Class: 007\n",
            "True Positives: 5\n",
            "False Positives: 0\n",
            "False Negatives: 0\n",
            "True Negatives: 95\n",
            "Class: 008\n",
            "True Positives: 6\n",
            "False Positives: 0\n",
            "False Negatives: 0\n",
            "True Negatives: 94\n",
            "Class: 009\n",
            "True Positives: 3\n",
            "False Positives: 0\n",
            "False Negatives: 0\n",
            "True Negatives: 97\n",
            "Class: 010\n",
            "True Positives: 3\n",
            "False Positives: 0\n",
            "False Negatives: 0\n",
            "True Negatives: 97\n",
            "Class: 011\n",
            "True Positives: 2\n",
            "False Positives: 0\n",
            "False Negatives: 0\n",
            "True Negatives: 98\n",
            "Class: 012\n",
            "True Positives: 5\n",
            "False Positives: 0\n",
            "False Negatives: 0\n",
            "True Negatives: 95\n",
            "Class: 013\n",
            "True Positives: 2\n",
            "False Positives: 0\n",
            "False Negatives: 0\n",
            "True Negatives: 98\n",
            "Class: 014\n",
            "True Positives: 5\n",
            "False Positives: 0\n",
            "False Negatives: 0\n",
            "True Negatives: 95\n",
            "Class: 015\n",
            "True Positives: 7\n",
            "False Positives: 0\n",
            "False Negatives: 0\n",
            "True Negatives: 93\n",
            "Class: 016\n",
            "True Positives: 4\n",
            "False Positives: 0\n",
            "False Negatives: 0\n",
            "True Negatives: 96\n",
            "Class: 017\n",
            "True Positives: 1\n",
            "False Positives: 0\n",
            "False Negatives: 0\n",
            "True Negatives: 99\n",
            "Class: 018\n",
            "True Positives: 4\n",
            "False Positives: 0\n",
            "False Negatives: 0\n",
            "True Negatives: 96\n",
            "Class: 019\n",
            "True Positives: 1\n",
            "False Positives: 0\n",
            "False Negatives: 0\n",
            "True Negatives: 99\n",
            "Class: 020\n",
            "True Positives: 1\n",
            "False Positives: 0\n",
            "False Negatives: 0\n",
            "True Negatives: 99\n",
            "Class: 023\n",
            "True Positives: 2\n",
            "False Positives: 0\n",
            "False Negatives: 0\n",
            "True Negatives: 98\n",
            "Class: 025\n",
            "True Positives: 2\n",
            "False Positives: 0\n",
            "False Negatives: 0\n",
            "True Negatives: 98\n",
            "Class: 026\n",
            "True Positives: 2\n",
            "False Positives: 0\n",
            "False Negatives: 0\n",
            "True Negatives: 98\n",
            "Class: 027\n",
            "True Positives: 2\n",
            "False Positives: 0\n",
            "False Negatives: 0\n",
            "True Negatives: 98\n",
            "Class: 029\n",
            "True Positives: 1\n",
            "False Positives: 0\n",
            "False Negatives: 0\n",
            "True Negatives: 99\n",
            "Class: 035\n",
            "True Positives: 1\n",
            "False Positives: 0\n",
            "False Negatives: 0\n",
            "True Negatives: 99\n",
            "Class: 038\n",
            "True Positives: 2\n",
            "False Positives: 0\n",
            "False Negatives: 0\n",
            "True Negatives: 98\n",
            "Class: 039\n",
            "True Positives: 2\n",
            "False Positives: 0\n",
            "False Negatives: 0\n",
            "True Negatives: 98\n",
            "Class: 041\n",
            "True Positives: 2\n",
            "False Positives: 0\n",
            "False Negatives: 0\n",
            "True Negatives: 98\n",
            "Class: 042\n",
            "True Positives: 3\n",
            "False Positives: 0\n",
            "False Negatives: 0\n",
            "True Negatives: 97\n",
            "Class: 044\n",
            "True Positives: 1\n",
            "False Positives: 0\n",
            "False Negatives: 0\n",
            "True Negatives: 99\n",
            "Class: 045\n",
            "True Positives: 2\n",
            "False Positives: 0\n",
            "False Negatives: 0\n",
            "True Negatives: 98\n"
          ]
        }
      ]
    }
  ],
  "metadata": {
    "colab": {
      "provenance": []
    },
    "kernelspec": {
      "display_name": "Python 3",
      "name": "python3"
    },
    "language_info": {
      "name": "python"
    },
    "widgets": {
      "application/vnd.jupyter.widget-state+json": {
        "7bb4d1c6b7904e9cbf50f5ebbae81147": {
          "model_module": "@jupyter-widgets/controls",
          "model_name": "HBoxModel",
          "model_module_version": "1.5.0",
          "state": {
            "_dom_classes": [],
            "_model_module": "@jupyter-widgets/controls",
            "_model_module_version": "1.5.0",
            "_model_name": "HBoxModel",
            "_view_count": null,
            "_view_module": "@jupyter-widgets/controls",
            "_view_module_version": "1.5.0",
            "_view_name": "HBoxView",
            "box_style": "",
            "children": [
              "IPY_MODEL_060a237164cd4212815ba4a1ab8a1957",
              "IPY_MODEL_e7439600dec34a8292734b2b9defd8ba",
              "IPY_MODEL_b62cf52205ee440cb1b720b3ca850e74"
            ],
            "layout": "IPY_MODEL_c302ae2cff1b434c8b4a37210bc4867e"
          }
        },
        "060a237164cd4212815ba4a1ab8a1957": {
          "model_module": "@jupyter-widgets/controls",
          "model_name": "HTMLModel",
          "model_module_version": "1.5.0",
          "state": {
            "_dom_classes": [],
            "_model_module": "@jupyter-widgets/controls",
            "_model_module_version": "1.5.0",
            "_model_name": "HTMLModel",
            "_view_count": null,
            "_view_module": "@jupyter-widgets/controls",
            "_view_module_version": "1.5.0",
            "_view_name": "HTMLView",
            "description": "",
            "description_tooltip": null,
            "layout": "IPY_MODEL_dd484c5723864cc6ac84cd5bb7de82a2",
            "placeholder": "​",
            "style": "IPY_MODEL_05b00a44abf54494bcc0133b15c6c14e",
            "value": "config.json: 100%"
          }
        },
        "e7439600dec34a8292734b2b9defd8ba": {
          "model_module": "@jupyter-widgets/controls",
          "model_name": "FloatProgressModel",
          "model_module_version": "1.5.0",
          "state": {
            "_dom_classes": [],
            "_model_module": "@jupyter-widgets/controls",
            "_model_module_version": "1.5.0",
            "_model_name": "FloatProgressModel",
            "_view_count": null,
            "_view_module": "@jupyter-widgets/controls",
            "_view_module_version": "1.5.0",
            "_view_name": "ProgressView",
            "bar_style": "success",
            "description": "",
            "description_tooltip": null,
            "layout": "IPY_MODEL_1758726103354555afeb83a7ac7380a7",
            "max": 609,
            "min": 0,
            "orientation": "horizontal",
            "style": "IPY_MODEL_a481ae0617694f7c9b2b95830ada18bf",
            "value": 609
          }
        },
        "b62cf52205ee440cb1b720b3ca850e74": {
          "model_module": "@jupyter-widgets/controls",
          "model_name": "HTMLModel",
          "model_module_version": "1.5.0",
          "state": {
            "_dom_classes": [],
            "_model_module": "@jupyter-widgets/controls",
            "_model_module_version": "1.5.0",
            "_model_name": "HTMLModel",
            "_view_count": null,
            "_view_module": "@jupyter-widgets/controls",
            "_view_module_version": "1.5.0",
            "_view_name": "HTMLView",
            "description": "",
            "description_tooltip": null,
            "layout": "IPY_MODEL_1402fa59c8c24db699227602f03ee3ca",
            "placeholder": "​",
            "style": "IPY_MODEL_fb3845646d7b4c57aa5a25aa3307012a",
            "value": " 609/609 [00:00&lt;00:00, 18.4kB/s]"
          }
        },
        "c302ae2cff1b434c8b4a37210bc4867e": {
          "model_module": "@jupyter-widgets/base",
          "model_name": "LayoutModel",
          "model_module_version": "1.2.0",
          "state": {
            "_model_module": "@jupyter-widgets/base",
            "_model_module_version": "1.2.0",
            "_model_name": "LayoutModel",
            "_view_count": null,
            "_view_module": "@jupyter-widgets/base",
            "_view_module_version": "1.2.0",
            "_view_name": "LayoutView",
            "align_content": null,
            "align_items": null,
            "align_self": null,
            "border": null,
            "bottom": null,
            "display": null,
            "flex": null,
            "flex_flow": null,
            "grid_area": null,
            "grid_auto_columns": null,
            "grid_auto_flow": null,
            "grid_auto_rows": null,
            "grid_column": null,
            "grid_gap": null,
            "grid_row": null,
            "grid_template_areas": null,
            "grid_template_columns": null,
            "grid_template_rows": null,
            "height": null,
            "justify_content": null,
            "justify_items": null,
            "left": null,
            "margin": null,
            "max_height": null,
            "max_width": null,
            "min_height": null,
            "min_width": null,
            "object_fit": null,
            "object_position": null,
            "order": null,
            "overflow": null,
            "overflow_x": null,
            "overflow_y": null,
            "padding": null,
            "right": null,
            "top": null,
            "visibility": null,
            "width": null
          }
        },
        "dd484c5723864cc6ac84cd5bb7de82a2": {
          "model_module": "@jupyter-widgets/base",
          "model_name": "LayoutModel",
          "model_module_version": "1.2.0",
          "state": {
            "_model_module": "@jupyter-widgets/base",
            "_model_module_version": "1.2.0",
            "_model_name": "LayoutModel",
            "_view_count": null,
            "_view_module": "@jupyter-widgets/base",
            "_view_module_version": "1.2.0",
            "_view_name": "LayoutView",
            "align_content": null,
            "align_items": null,
            "align_self": null,
            "border": null,
            "bottom": null,
            "display": null,
            "flex": null,
            "flex_flow": null,
            "grid_area": null,
            "grid_auto_columns": null,
            "grid_auto_flow": null,
            "grid_auto_rows": null,
            "grid_column": null,
            "grid_gap": null,
            "grid_row": null,
            "grid_template_areas": null,
            "grid_template_columns": null,
            "grid_template_rows": null,
            "height": null,
            "justify_content": null,
            "justify_items": null,
            "left": null,
            "margin": null,
            "max_height": null,
            "max_width": null,
            "min_height": null,
            "min_width": null,
            "object_fit": null,
            "object_position": null,
            "order": null,
            "overflow": null,
            "overflow_x": null,
            "overflow_y": null,
            "padding": null,
            "right": null,
            "top": null,
            "visibility": null,
            "width": null
          }
        },
        "05b00a44abf54494bcc0133b15c6c14e": {
          "model_module": "@jupyter-widgets/controls",
          "model_name": "DescriptionStyleModel",
          "model_module_version": "1.5.0",
          "state": {
            "_model_module": "@jupyter-widgets/controls",
            "_model_module_version": "1.5.0",
            "_model_name": "DescriptionStyleModel",
            "_view_count": null,
            "_view_module": "@jupyter-widgets/base",
            "_view_module_version": "1.2.0",
            "_view_name": "StyleView",
            "description_width": ""
          }
        },
        "1758726103354555afeb83a7ac7380a7": {
          "model_module": "@jupyter-widgets/base",
          "model_name": "LayoutModel",
          "model_module_version": "1.2.0",
          "state": {
            "_model_module": "@jupyter-widgets/base",
            "_model_module_version": "1.2.0",
            "_model_name": "LayoutModel",
            "_view_count": null,
            "_view_module": "@jupyter-widgets/base",
            "_view_module_version": "1.2.0",
            "_view_name": "LayoutView",
            "align_content": null,
            "align_items": null,
            "align_self": null,
            "border": null,
            "bottom": null,
            "display": null,
            "flex": null,
            "flex_flow": null,
            "grid_area": null,
            "grid_auto_columns": null,
            "grid_auto_flow": null,
            "grid_auto_rows": null,
            "grid_column": null,
            "grid_gap": null,
            "grid_row": null,
            "grid_template_areas": null,
            "grid_template_columns": null,
            "grid_template_rows": null,
            "height": null,
            "justify_content": null,
            "justify_items": null,
            "left": null,
            "margin": null,
            "max_height": null,
            "max_width": null,
            "min_height": null,
            "min_width": null,
            "object_fit": null,
            "object_position": null,
            "order": null,
            "overflow": null,
            "overflow_x": null,
            "overflow_y": null,
            "padding": null,
            "right": null,
            "top": null,
            "visibility": null,
            "width": null
          }
        },
        "a481ae0617694f7c9b2b95830ada18bf": {
          "model_module": "@jupyter-widgets/controls",
          "model_name": "ProgressStyleModel",
          "model_module_version": "1.5.0",
          "state": {
            "_model_module": "@jupyter-widgets/controls",
            "_model_module_version": "1.5.0",
            "_model_name": "ProgressStyleModel",
            "_view_count": null,
            "_view_module": "@jupyter-widgets/base",
            "_view_module_version": "1.2.0",
            "_view_name": "StyleView",
            "bar_color": null,
            "description_width": ""
          }
        },
        "1402fa59c8c24db699227602f03ee3ca": {
          "model_module": "@jupyter-widgets/base",
          "model_name": "LayoutModel",
          "model_module_version": "1.2.0",
          "state": {
            "_model_module": "@jupyter-widgets/base",
            "_model_module_version": "1.2.0",
            "_model_name": "LayoutModel",
            "_view_count": null,
            "_view_module": "@jupyter-widgets/base",
            "_view_module_version": "1.2.0",
            "_view_name": "LayoutView",
            "align_content": null,
            "align_items": null,
            "align_self": null,
            "border": null,
            "bottom": null,
            "display": null,
            "flex": null,
            "flex_flow": null,
            "grid_area": null,
            "grid_auto_columns": null,
            "grid_auto_flow": null,
            "grid_auto_rows": null,
            "grid_column": null,
            "grid_gap": null,
            "grid_row": null,
            "grid_template_areas": null,
            "grid_template_columns": null,
            "grid_template_rows": null,
            "height": null,
            "justify_content": null,
            "justify_items": null,
            "left": null,
            "margin": null,
            "max_height": null,
            "max_width": null,
            "min_height": null,
            "min_width": null,
            "object_fit": null,
            "object_position": null,
            "order": null,
            "overflow": null,
            "overflow_x": null,
            "overflow_y": null,
            "padding": null,
            "right": null,
            "top": null,
            "visibility": null,
            "width": null
          }
        },
        "fb3845646d7b4c57aa5a25aa3307012a": {
          "model_module": "@jupyter-widgets/controls",
          "model_name": "DescriptionStyleModel",
          "model_module_version": "1.5.0",
          "state": {
            "_model_module": "@jupyter-widgets/controls",
            "_model_module_version": "1.5.0",
            "_model_name": "DescriptionStyleModel",
            "_view_count": null,
            "_view_module": "@jupyter-widgets/base",
            "_view_module_version": "1.2.0",
            "_view_name": "StyleView",
            "description_width": ""
          }
        },
        "3ab965ec35a844009a036337ecb5e3c8": {
          "model_module": "@jupyter-widgets/controls",
          "model_name": "HBoxModel",
          "model_module_version": "1.5.0",
          "state": {
            "_dom_classes": [],
            "_model_module": "@jupyter-widgets/controls",
            "_model_module_version": "1.5.0",
            "_model_name": "HBoxModel",
            "_view_count": null,
            "_view_module": "@jupyter-widgets/controls",
            "_view_module_version": "1.5.0",
            "_view_name": "HBoxView",
            "box_style": "",
            "children": [
              "IPY_MODEL_39c60bbe979d4ae5847f11a0d16d0194",
              "IPY_MODEL_033246e211e94ea2b27d64639556ce19",
              "IPY_MODEL_a87edb45ca644810a8f905b567b93a74"
            ],
            "layout": "IPY_MODEL_6e6864ef881a49b88c3a94c74c57a80b"
          }
        },
        "39c60bbe979d4ae5847f11a0d16d0194": {
          "model_module": "@jupyter-widgets/controls",
          "model_name": "HTMLModel",
          "model_module_version": "1.5.0",
          "state": {
            "_dom_classes": [],
            "_model_module": "@jupyter-widgets/controls",
            "_model_module_version": "1.5.0",
            "_model_name": "HTMLModel",
            "_view_count": null,
            "_view_module": "@jupyter-widgets/controls",
            "_view_module_version": "1.5.0",
            "_view_name": "HTMLView",
            "description": "",
            "description_tooltip": null,
            "layout": "IPY_MODEL_c436c98065604768b0643bcd4da7f577",
            "placeholder": "​",
            "style": "IPY_MODEL_dc608a3dfa974b549f1657f0b154af31",
            "value": "pytorch_model.bin: 100%"
          }
        },
        "033246e211e94ea2b27d64639556ce19": {
          "model_module": "@jupyter-widgets/controls",
          "model_name": "FloatProgressModel",
          "model_module_version": "1.5.0",
          "state": {
            "_dom_classes": [],
            "_model_module": "@jupyter-widgets/controls",
            "_model_module_version": "1.5.0",
            "_model_name": "FloatProgressModel",
            "_view_count": null,
            "_view_module": "@jupyter-widgets/controls",
            "_view_module_version": "1.5.0",
            "_view_name": "ProgressView",
            "bar_style": "success",
            "description": "",
            "description_tooltip": null,
            "layout": "IPY_MODEL_b5b9a3b5e9e649db9f0519a349dcb44f",
            "max": 204267588,
            "min": 0,
            "orientation": "horizontal",
            "style": "IPY_MODEL_22615ba557904ef1bf0948f939a52c9f",
            "value": 204267588
          }
        },
        "a87edb45ca644810a8f905b567b93a74": {
          "model_module": "@jupyter-widgets/controls",
          "model_name": "HTMLModel",
          "model_module_version": "1.5.0",
          "state": {
            "_dom_classes": [],
            "_model_module": "@jupyter-widgets/controls",
            "_model_module_version": "1.5.0",
            "_model_name": "HTMLModel",
            "_view_count": null,
            "_view_module": "@jupyter-widgets/controls",
            "_view_module_version": "1.5.0",
            "_view_name": "HTMLView",
            "description": "",
            "description_tooltip": null,
            "layout": "IPY_MODEL_83f4843ebcd744fbbb74291a830c637f",
            "placeholder": "​",
            "style": "IPY_MODEL_722fe5c7625142478f57337678c835a9",
            "value": " 204M/204M [00:02&lt;00:00, 99.1MB/s]"
          }
        },
        "6e6864ef881a49b88c3a94c74c57a80b": {
          "model_module": "@jupyter-widgets/base",
          "model_name": "LayoutModel",
          "model_module_version": "1.2.0",
          "state": {
            "_model_module": "@jupyter-widgets/base",
            "_model_module_version": "1.2.0",
            "_model_name": "LayoutModel",
            "_view_count": null,
            "_view_module": "@jupyter-widgets/base",
            "_view_module_version": "1.2.0",
            "_view_name": "LayoutView",
            "align_content": null,
            "align_items": null,
            "align_self": null,
            "border": null,
            "bottom": null,
            "display": null,
            "flex": null,
            "flex_flow": null,
            "grid_area": null,
            "grid_auto_columns": null,
            "grid_auto_flow": null,
            "grid_auto_rows": null,
            "grid_column": null,
            "grid_gap": null,
            "grid_row": null,
            "grid_template_areas": null,
            "grid_template_columns": null,
            "grid_template_rows": null,
            "height": null,
            "justify_content": null,
            "justify_items": null,
            "left": null,
            "margin": null,
            "max_height": null,
            "max_width": null,
            "min_height": null,
            "min_width": null,
            "object_fit": null,
            "object_position": null,
            "order": null,
            "overflow": null,
            "overflow_x": null,
            "overflow_y": null,
            "padding": null,
            "right": null,
            "top": null,
            "visibility": null,
            "width": null
          }
        },
        "c436c98065604768b0643bcd4da7f577": {
          "model_module": "@jupyter-widgets/base",
          "model_name": "LayoutModel",
          "model_module_version": "1.2.0",
          "state": {
            "_model_module": "@jupyter-widgets/base",
            "_model_module_version": "1.2.0",
            "_model_name": "LayoutModel",
            "_view_count": null,
            "_view_module": "@jupyter-widgets/base",
            "_view_module_version": "1.2.0",
            "_view_name": "LayoutView",
            "align_content": null,
            "align_items": null,
            "align_self": null,
            "border": null,
            "bottom": null,
            "display": null,
            "flex": null,
            "flex_flow": null,
            "grid_area": null,
            "grid_auto_columns": null,
            "grid_auto_flow": null,
            "grid_auto_rows": null,
            "grid_column": null,
            "grid_gap": null,
            "grid_row": null,
            "grid_template_areas": null,
            "grid_template_columns": null,
            "grid_template_rows": null,
            "height": null,
            "justify_content": null,
            "justify_items": null,
            "left": null,
            "margin": null,
            "max_height": null,
            "max_width": null,
            "min_height": null,
            "min_width": null,
            "object_fit": null,
            "object_position": null,
            "order": null,
            "overflow": null,
            "overflow_x": null,
            "overflow_y": null,
            "padding": null,
            "right": null,
            "top": null,
            "visibility": null,
            "width": null
          }
        },
        "dc608a3dfa974b549f1657f0b154af31": {
          "model_module": "@jupyter-widgets/controls",
          "model_name": "DescriptionStyleModel",
          "model_module_version": "1.5.0",
          "state": {
            "_model_module": "@jupyter-widgets/controls",
            "_model_module_version": "1.5.0",
            "_model_name": "DescriptionStyleModel",
            "_view_count": null,
            "_view_module": "@jupyter-widgets/base",
            "_view_module_version": "1.2.0",
            "_view_name": "StyleView",
            "description_width": ""
          }
        },
        "b5b9a3b5e9e649db9f0519a349dcb44f": {
          "model_module": "@jupyter-widgets/base",
          "model_name": "LayoutModel",
          "model_module_version": "1.2.0",
          "state": {
            "_model_module": "@jupyter-widgets/base",
            "_model_module_version": "1.2.0",
            "_model_name": "LayoutModel",
            "_view_count": null,
            "_view_module": "@jupyter-widgets/base",
            "_view_module_version": "1.2.0",
            "_view_name": "LayoutView",
            "align_content": null,
            "align_items": null,
            "align_self": null,
            "border": null,
            "bottom": null,
            "display": null,
            "flex": null,
            "flex_flow": null,
            "grid_area": null,
            "grid_auto_columns": null,
            "grid_auto_flow": null,
            "grid_auto_rows": null,
            "grid_column": null,
            "grid_gap": null,
            "grid_row": null,
            "grid_template_areas": null,
            "grid_template_columns": null,
            "grid_template_rows": null,
            "height": null,
            "justify_content": null,
            "justify_items": null,
            "left": null,
            "margin": null,
            "max_height": null,
            "max_width": null,
            "min_height": null,
            "min_width": null,
            "object_fit": null,
            "object_position": null,
            "order": null,
            "overflow": null,
            "overflow_x": null,
            "overflow_y": null,
            "padding": null,
            "right": null,
            "top": null,
            "visibility": null,
            "width": null
          }
        },
        "22615ba557904ef1bf0948f939a52c9f": {
          "model_module": "@jupyter-widgets/controls",
          "model_name": "ProgressStyleModel",
          "model_module_version": "1.5.0",
          "state": {
            "_model_module": "@jupyter-widgets/controls",
            "_model_module_version": "1.5.0",
            "_model_name": "ProgressStyleModel",
            "_view_count": null,
            "_view_module": "@jupyter-widgets/base",
            "_view_module_version": "1.2.0",
            "_view_name": "StyleView",
            "bar_color": null,
            "description_width": ""
          }
        },
        "83f4843ebcd744fbbb74291a830c637f": {
          "model_module": "@jupyter-widgets/base",
          "model_name": "LayoutModel",
          "model_module_version": "1.2.0",
          "state": {
            "_model_module": "@jupyter-widgets/base",
            "_model_module_version": "1.2.0",
            "_model_name": "LayoutModel",
            "_view_count": null,
            "_view_module": "@jupyter-widgets/base",
            "_view_module_version": "1.2.0",
            "_view_name": "LayoutView",
            "align_content": null,
            "align_items": null,
            "align_self": null,
            "border": null,
            "bottom": null,
            "display": null,
            "flex": null,
            "flex_flow": null,
            "grid_area": null,
            "grid_auto_columns": null,
            "grid_auto_flow": null,
            "grid_auto_rows": null,
            "grid_column": null,
            "grid_gap": null,
            "grid_row": null,
            "grid_template_areas": null,
            "grid_template_columns": null,
            "grid_template_rows": null,
            "height": null,
            "justify_content": null,
            "justify_items": null,
            "left": null,
            "margin": null,
            "max_height": null,
            "max_width": null,
            "min_height": null,
            "min_width": null,
            "object_fit": null,
            "object_position": null,
            "order": null,
            "overflow": null,
            "overflow_x": null,
            "overflow_y": null,
            "padding": null,
            "right": null,
            "top": null,
            "visibility": null,
            "width": null
          }
        },
        "722fe5c7625142478f57337678c835a9": {
          "model_module": "@jupyter-widgets/controls",
          "model_name": "DescriptionStyleModel",
          "model_module_version": "1.5.0",
          "state": {
            "_model_module": "@jupyter-widgets/controls",
            "_model_module_version": "1.5.0",
            "_model_name": "DescriptionStyleModel",
            "_view_count": null,
            "_view_module": "@jupyter-widgets/base",
            "_view_module_version": "1.2.0",
            "_view_name": "StyleView",
            "description_width": ""
          }
        }
      }
    }
  },
  "nbformat": 4,
  "nbformat_minor": 0
}